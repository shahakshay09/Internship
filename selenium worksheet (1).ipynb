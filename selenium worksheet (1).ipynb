{
 "cells": [
  {
   "cell_type": "code",
   "execution_count": 15,
   "id": "30497d9e",
   "metadata": {},
   "outputs": [
    {
     "name": "stdout",
     "output_type": "stream",
     "text": [
      "Requirement already satisfied: selenium in c:\\users\\shaha\\anaconda3\\lib\\site-packages (4.1.0)\n",
      "Requirement already satisfied: trio-websocket~=0.9 in c:\\users\\shaha\\anaconda3\\lib\\site-packages (from selenium) (0.9.2)\n",
      "Requirement already satisfied: urllib3[secure]~=1.26 in c:\\users\\shaha\\anaconda3\\lib\\site-packages (from selenium) (1.26.4)\n",
      "Requirement already satisfied: trio~=0.17 in c:\\users\\shaha\\anaconda3\\lib\\site-packages (from selenium) (0.19.0)\n",
      "Requirement already satisfied: outcome in c:\\users\\shaha\\anaconda3\\lib\\site-packages (from trio~=0.17->selenium) (1.1.0)\n",
      "Requirement already satisfied: attrs>=19.2.0 in c:\\users\\shaha\\anaconda3\\lib\\site-packages (from trio~=0.17->selenium) (20.3.0)\n",
      "Requirement already satisfied: async-generator>=1.9 in c:\\users\\shaha\\anaconda3\\lib\\site-packages (from trio~=0.17->selenium) (1.10)\n",
      "Requirement already satisfied: cffi>=1.14 in c:\\users\\shaha\\anaconda3\\lib\\site-packages (from trio~=0.17->selenium) (1.14.5)\n",
      "Requirement already satisfied: idna in c:\\users\\shaha\\anaconda3\\lib\\site-packages (from trio~=0.17->selenium) (2.10)\n",
      "Requirement already satisfied: sniffio in c:\\users\\shaha\\anaconda3\\lib\\site-packages (from trio~=0.17->selenium) (1.2.0)\n",
      "Requirement already satisfied: sortedcontainers in c:\\users\\shaha\\anaconda3\\lib\\site-packages (from trio~=0.17->selenium) (2.3.0)\n",
      "Requirement already satisfied: pycparser in c:\\users\\shaha\\anaconda3\\lib\\site-packages (from cffi>=1.14->trio~=0.17->selenium) (2.20)\n",
      "Requirement already satisfied: wsproto>=0.14 in c:\\users\\shaha\\anaconda3\\lib\\site-packages (from trio-websocket~=0.9->selenium) (1.0.0)\n",
      "Requirement already satisfied: pyOpenSSL>=0.14 in c:\\users\\shaha\\anaconda3\\lib\\site-packages (from urllib3[secure]~=1.26->selenium) (20.0.1)\n",
      "Requirement already satisfied: cryptography>=1.3.4 in c:\\users\\shaha\\anaconda3\\lib\\site-packages (from urllib3[secure]~=1.26->selenium) (3.4.7)\n",
      "Requirement already satisfied: certifi in c:\\users\\shaha\\anaconda3\\lib\\site-packages (from urllib3[secure]~=1.26->selenium) (2020.12.5)\n",
      "Requirement already satisfied: six>=1.5.2 in c:\\users\\shaha\\anaconda3\\lib\\site-packages (from pyOpenSSL>=0.14->urllib3[secure]~=1.26->selenium) (1.15.0)\n",
      "Requirement already satisfied: h11<1,>=0.9.0 in c:\\users\\shaha\\anaconda3\\lib\\site-packages (from wsproto>=0.14->trio-websocket~=0.9->selenium) (0.12.0)\n"
     ]
    }
   ],
   "source": [
    "!pip install selenium"
   ]
  },
  {
   "cell_type": "code",
   "execution_count": 16,
   "id": "d26041bf",
   "metadata": {},
   "outputs": [],
   "source": [
    "import selenium\n",
    "from selenium import webdriver\n",
    "import pandas as pd"
   ]
  },
  {
   "cell_type": "code",
   "execution_count": 17,
   "id": "cd24dc66",
   "metadata": {},
   "outputs": [
    {
     "name": "stderr",
     "output_type": "stream",
     "text": [
      "<ipython-input-17-151ce781a031>:1: DeprecationWarning: executable_path has been deprecated, please pass in a Service object\n",
      "  driver = webdriver.Chrome(r\"C:\\Users\\shaha\\Downloads\\chromedriver_win32/chromedriver.exe\")\n"
     ]
    }
   ],
   "source": [
    "driver = webdriver.Chrome(r\"C:\\Users\\shaha\\Downloads\\chromedriver_win32/chromedriver.exe\")"
   ]
  },
  {
   "cell_type": "code",
   "execution_count": 8,
   "id": "a7acfc84",
   "metadata": {},
   "outputs": [],
   "source": [
    "#driver.close()"
   ]
  },
  {
   "cell_type": "code",
   "execution_count": 18,
   "id": "efe162ea",
   "metadata": {},
   "outputs": [],
   "source": [
    "driver.get('https://www.naukri.com/')"
   ]
  },
  {
   "cell_type": "code",
   "execution_count": 19,
   "id": "577c5e75",
   "metadata": {},
   "outputs": [
    {
     "name": "stderr",
     "output_type": "stream",
     "text": [
      "<ipython-input-19-415d2c09d79a>:2: DeprecationWarning: find_element_by_* commands are deprecated. Please use find_element() instead\n",
      "  search_job = driver.find_element_by_id('qsb-keyword-sugg')\n",
      "<ipython-input-19-415d2c09d79a>:4: DeprecationWarning: find_element_by_* commands are deprecated. Please use find_element() instead\n",
      "  search_loc = driver.find_element_by_xpath(\"//input[@id='qsb-location-sugg']\")\n"
     ]
    }
   ],
   "source": [
    "#finding elemets for job search\n",
    "search_job = driver.find_element_by_id('qsb-keyword-sugg')\n",
    "search_job.send_keys(\"Data Analyst\")\n",
    "search_loc = driver.find_element_by_xpath(\"//input[@id='qsb-location-sugg']\")\n",
    "search_loc.send_keys(\"Bangalore\")"
   ]
  },
  {
   "cell_type": "code",
   "execution_count": 20,
   "id": "f1be4e36",
   "metadata": {},
   "outputs": [
    {
     "name": "stderr",
     "output_type": "stream",
     "text": [
      "<ipython-input-20-c9b437d84350>:1: DeprecationWarning: find_element_by_* commands are deprecated. Please use find_element() instead\n",
      "  search_btn = driver.find_element_by_xpath(\"//div[@class='search-btn']/button\")\n"
     ]
    }
   ],
   "source": [
    "search_btn = driver.find_element_by_xpath(\"//div[@class='search-btn']/button\")\n",
    "search_btn.click()"
   ]
  },
  {
   "cell_type": "markdown",
   "id": "b30bce8d",
   "metadata": {},
   "source": [
    "# Now we will scarpe data from website"
   ]
  },
  {
   "cell_type": "code",
   "execution_count": 21,
   "id": "f0155e1c",
   "metadata": {},
   "outputs": [],
   "source": [
    "#making empty to store data:\n",
    "job_titles = []\n",
    "job_location = []\n",
    "company_name = []\n",
    "experience_required = []"
   ]
  },
  {
   "cell_type": "code",
   "execution_count": 22,
   "id": "7862e6dc",
   "metadata": {},
   "outputs": [
    {
     "name": "stderr",
     "output_type": "stream",
     "text": [
      "<ipython-input-22-bbe5128b7374>:1: DeprecationWarning: find_elements_by_* commands are deprecated. Please use find_elements() instead\n",
      "  title_tags = driver.find_elements_by_xpath(\"//a[@class='title fw500 ellipsis']\")\n"
     ]
    },
    {
     "data": {
      "text/plain": [
       "[<selenium.webdriver.remote.webelement.WebElement (session=\"67d74a6a0ba486d6b63edc5d38274d69\", element=\"fbaf4cab-3a05-45ae-ab2e-02e80280775a\")>,\n",
       " <selenium.webdriver.remote.webelement.WebElement (session=\"67d74a6a0ba486d6b63edc5d38274d69\", element=\"a59eef23-e51b-449f-9fe1-025166e8a9a0\")>,\n",
       " <selenium.webdriver.remote.webelement.WebElement (session=\"67d74a6a0ba486d6b63edc5d38274d69\", element=\"88b8d6b0-ef6b-4ab7-8ada-30205a39de5d\")>,\n",
       " <selenium.webdriver.remote.webelement.WebElement (session=\"67d74a6a0ba486d6b63edc5d38274d69\", element=\"27f0dda5-5455-48d7-a65c-f422b2a6ba2e\")>,\n",
       " <selenium.webdriver.remote.webelement.WebElement (session=\"67d74a6a0ba486d6b63edc5d38274d69\", element=\"9d796773-f3a9-45f7-8f91-39af73d750b4\")>,\n",
       " <selenium.webdriver.remote.webelement.WebElement (session=\"67d74a6a0ba486d6b63edc5d38274d69\", element=\"7e1fd511-3bb7-46b6-b3ee-4ae21eb48664\")>,\n",
       " <selenium.webdriver.remote.webelement.WebElement (session=\"67d74a6a0ba486d6b63edc5d38274d69\", element=\"b3fb355e-2f84-47bf-87c3-555ffc4a2aca\")>,\n",
       " <selenium.webdriver.remote.webelement.WebElement (session=\"67d74a6a0ba486d6b63edc5d38274d69\", element=\"955ebeff-52fa-4a0f-a0d4-d90902e4b875\")>,\n",
       " <selenium.webdriver.remote.webelement.WebElement (session=\"67d74a6a0ba486d6b63edc5d38274d69\", element=\"b379bc52-e974-42d9-a300-e561a1045089\")>,\n",
       " <selenium.webdriver.remote.webelement.WebElement (session=\"67d74a6a0ba486d6b63edc5d38274d69\", element=\"224063a0-161b-4056-ac03-8f40e7ac022d\")>]"
      ]
     },
     "execution_count": 22,
     "metadata": {},
     "output_type": "execute_result"
    }
   ],
   "source": [
    "title_tags = driver.find_elements_by_xpath(\"//a[@class='title fw500 ellipsis']\")\n",
    "title_tags[0:10]"
   ]
  },
  {
   "cell_type": "code",
   "execution_count": 23,
   "id": "c2893a7e",
   "metadata": {},
   "outputs": [
    {
     "data": {
      "text/plain": [
       "['Hiring -Data Analyst, Business Analyst, MIS Analyst -3rd Party Payroll',\n",
       " 'Senior Data Analyst III',\n",
       " 'Data Analyst',\n",
       " 'Business Analyst/ Data Analyst- Capital Market & SQL (Mandatory)',\n",
       " 'Customer Data Management Analyst',\n",
       " 'Assistant/deputy Manager - Geo-spatial Data Analyst',\n",
       " 'Senior Data Analyst',\n",
       " 'Senior Data Analyst',\n",
       " 'Senior Data Analyst',\n",
       " 'Openings For SQL Data Analyst']"
      ]
     },
     "execution_count": 23,
     "metadata": {},
     "output_type": "execute_result"
    }
   ],
   "source": [
    "for i in title_tags:\n",
    "    title=i.text\n",
    "    job_titles.append(title)\n",
    "job_titles[0:10]"
   ]
  },
  {
   "cell_type": "markdown",
   "id": "e240e0fc",
   "metadata": {},
   "source": [
    "now we will extract rest data:"
   ]
  },
  {
   "cell_type": "code",
   "execution_count": 24,
   "id": "51e0fa9c",
   "metadata": {},
   "outputs": [
    {
     "name": "stderr",
     "output_type": "stream",
     "text": [
      "<ipython-input-24-858b4ae14d4a>:1: DeprecationWarning: find_elements_by_* commands are deprecated. Please use find_elements() instead\n",
      "  company_tags = driver.find_elements_by_xpath(\"//a[@class='subTitle ellipsis fleft']\")\n"
     ]
    },
    {
     "data": {
      "text/plain": [
       "[<selenium.webdriver.remote.webelement.WebElement (session=\"67d74a6a0ba486d6b63edc5d38274d69\", element=\"58b51729-3660-425a-b8be-08ce333a8aa8\")>,\n",
       " <selenium.webdriver.remote.webelement.WebElement (session=\"67d74a6a0ba486d6b63edc5d38274d69\", element=\"c08d076f-197f-401d-931c-2587af45ce2d\")>,\n",
       " <selenium.webdriver.remote.webelement.WebElement (session=\"67d74a6a0ba486d6b63edc5d38274d69\", element=\"b59cda07-bdf1-48a5-8e35-f1415fa4769b\")>,\n",
       " <selenium.webdriver.remote.webelement.WebElement (session=\"67d74a6a0ba486d6b63edc5d38274d69\", element=\"aa0caef1-be93-40c1-a190-9190b7a784dd\")>,\n",
       " <selenium.webdriver.remote.webelement.WebElement (session=\"67d74a6a0ba486d6b63edc5d38274d69\", element=\"ff4ea5fd-b039-4333-a3fd-360844bb3fd6\")>,\n",
       " <selenium.webdriver.remote.webelement.WebElement (session=\"67d74a6a0ba486d6b63edc5d38274d69\", element=\"bc73d0a2-ac6a-4488-b261-bc9426c33f97\")>,\n",
       " <selenium.webdriver.remote.webelement.WebElement (session=\"67d74a6a0ba486d6b63edc5d38274d69\", element=\"5a296589-1280-487f-a4a0-a962ff598a2d\")>,\n",
       " <selenium.webdriver.remote.webelement.WebElement (session=\"67d74a6a0ba486d6b63edc5d38274d69\", element=\"907192f8-ca13-4e52-9dc3-a284b15d5523\")>,\n",
       " <selenium.webdriver.remote.webelement.WebElement (session=\"67d74a6a0ba486d6b63edc5d38274d69\", element=\"a489f39a-f221-4821-b81d-693360a44548\")>,\n",
       " <selenium.webdriver.remote.webelement.WebElement (session=\"67d74a6a0ba486d6b63edc5d38274d69\", element=\"62988c8b-e2db-4092-b644-b066b8a62d9c\")>]"
      ]
     },
     "execution_count": 24,
     "metadata": {},
     "output_type": "execute_result"
    }
   ],
   "source": [
    "company_tags = driver.find_elements_by_xpath(\"//a[@class='subTitle ellipsis fleft']\")\n",
    "company_tags[0:10]"
   ]
  },
  {
   "cell_type": "code",
   "execution_count": 25,
   "id": "e016f17f",
   "metadata": {},
   "outputs": [
    {
     "data": {
      "text/plain": [
       "['Flipkart',\n",
       " 'Flipkart',\n",
       " 'GlaxoSmithKline Pharmaceuticals Limited',\n",
       " 'Genpact',\n",
       " 'Aspect',\n",
       " 'Maruti Suzuki India',\n",
       " 'Rapido',\n",
       " 'SYREN TECHNOLOGIES PRIVATE LIMITED',\n",
       " 'Flipkart',\n",
       " 'StackNexus Technologies India Pvt. Ltd']"
      ]
     },
     "execution_count": 25,
     "metadata": {},
     "output_type": "execute_result"
    }
   ],
   "source": [
    "for i in company_tags:\n",
    "    title=i.text\n",
    "    company_name.append(title)\n",
    "company_name[0:10]"
   ]
  },
  {
   "cell_type": "code",
   "execution_count": 26,
   "id": "cf85bc11",
   "metadata": {},
   "outputs": [
    {
     "name": "stderr",
     "output_type": "stream",
     "text": [
      "<ipython-input-26-edca770a560f>:1: DeprecationWarning: find_elements_by_* commands are deprecated. Please use find_elements() instead\n",
      "  location_tags = driver.find_elements_by_xpath(\"//li[@class='fleft grey-text br2 placeHolderLi location']/span[1]\")\n"
     ]
    },
    {
     "data": {
      "text/plain": [
       "[<selenium.webdriver.remote.webelement.WebElement (session=\"67d74a6a0ba486d6b63edc5d38274d69\", element=\"079d6f14-7664-4a15-811b-465f40c959e2\")>,\n",
       " <selenium.webdriver.remote.webelement.WebElement (session=\"67d74a6a0ba486d6b63edc5d38274d69\", element=\"004ad16b-81ad-4ac3-8a69-ff57fcf9f64d\")>,\n",
       " <selenium.webdriver.remote.webelement.WebElement (session=\"67d74a6a0ba486d6b63edc5d38274d69\", element=\"4d620224-d91e-44c2-9c69-e340461d0926\")>,\n",
       " <selenium.webdriver.remote.webelement.WebElement (session=\"67d74a6a0ba486d6b63edc5d38274d69\", element=\"424b0956-cf58-472e-8a32-1989b1938053\")>,\n",
       " <selenium.webdriver.remote.webelement.WebElement (session=\"67d74a6a0ba486d6b63edc5d38274d69\", element=\"8e2c758b-5dd2-4a31-833a-89b41858babf\")>,\n",
       " <selenium.webdriver.remote.webelement.WebElement (session=\"67d74a6a0ba486d6b63edc5d38274d69\", element=\"ee3c4337-97ad-46aa-8cd9-c95c64e5ecef\")>,\n",
       " <selenium.webdriver.remote.webelement.WebElement (session=\"67d74a6a0ba486d6b63edc5d38274d69\", element=\"aea203e4-b928-4ba2-ac3e-3b7748fe5901\")>,\n",
       " <selenium.webdriver.remote.webelement.WebElement (session=\"67d74a6a0ba486d6b63edc5d38274d69\", element=\"1ce918bb-6c2e-4de8-a052-9b51925b3db4\")>,\n",
       " <selenium.webdriver.remote.webelement.WebElement (session=\"67d74a6a0ba486d6b63edc5d38274d69\", element=\"17069d93-f17b-432d-be7e-8996c8bd10ce\")>,\n",
       " <selenium.webdriver.remote.webelement.WebElement (session=\"67d74a6a0ba486d6b63edc5d38274d69\", element=\"5acfb8dc-49e6-4a01-8c60-04c8819206d2\")>]"
      ]
     },
     "execution_count": 26,
     "metadata": {},
     "output_type": "execute_result"
    }
   ],
   "source": [
    "location_tags = driver.find_elements_by_xpath(\"//li[@class='fleft grey-text br2 placeHolderLi location']/span[1]\")\n",
    "location_tags[0:10]"
   ]
  },
  {
   "cell_type": "code",
   "execution_count": 27,
   "id": "d26e61d2",
   "metadata": {},
   "outputs": [
    {
     "data": {
      "text/plain": [
       "['Bangalore/Bengaluru',\n",
       " 'Bengaluru/Bangalore',\n",
       " 'Bangalore/Bengaluru',\n",
       " 'Pune, Bangalore/Bengaluru',\n",
       " 'Bangalore/Bengaluru',\n",
       " 'Gurgaon/Gurugram, bangalore',\n",
       " 'Bangalore/Bengaluru',\n",
       " 'Kolkata, Hyderabad/Secunderabad, Pune, Ahmedabad, Chennai, Bangalore/Bengaluru, Delhi / NCR, Mumbai (All Areas)',\n",
       " 'Bengaluru/Bangalore',\n",
       " 'Hyderabad/Secunderabad, Bangalore/Bengaluru']"
      ]
     },
     "execution_count": 27,
     "metadata": {},
     "output_type": "execute_result"
    }
   ],
   "source": [
    "for i in location_tags:\n",
    "    title=i.text\n",
    "    job_location.append(title)\n",
    "job_location[0:10]"
   ]
  },
  {
   "cell_type": "code",
   "execution_count": 28,
   "id": "1a5a331e",
   "metadata": {},
   "outputs": [
    {
     "name": "stderr",
     "output_type": "stream",
     "text": [
      "<ipython-input-28-5fa767a63a3e>:1: DeprecationWarning: find_elements_by_* commands are deprecated. Please use find_elements() instead\n",
      "  experience_tags = driver.find_elements_by_xpath(\"//li[@class='fleft grey-text br2 placeHolderLi experience']/span[1]\")\n"
     ]
    },
    {
     "data": {
      "text/plain": [
       "[<selenium.webdriver.remote.webelement.WebElement (session=\"67d74a6a0ba486d6b63edc5d38274d69\", element=\"bdc24044-a259-4282-887b-290f3259935c\")>,\n",
       " <selenium.webdriver.remote.webelement.WebElement (session=\"67d74a6a0ba486d6b63edc5d38274d69\", element=\"6cdead6c-62bb-46df-b66c-3bdd162dc7df\")>,\n",
       " <selenium.webdriver.remote.webelement.WebElement (session=\"67d74a6a0ba486d6b63edc5d38274d69\", element=\"3e76c93c-f4c4-47e9-98ad-b0bec29a30f0\")>,\n",
       " <selenium.webdriver.remote.webelement.WebElement (session=\"67d74a6a0ba486d6b63edc5d38274d69\", element=\"acf51075-db7e-4b57-9d01-39cf114067a1\")>,\n",
       " <selenium.webdriver.remote.webelement.WebElement (session=\"67d74a6a0ba486d6b63edc5d38274d69\", element=\"618ab850-6612-4d75-b5a2-c2d6060301fa\")>,\n",
       " <selenium.webdriver.remote.webelement.WebElement (session=\"67d74a6a0ba486d6b63edc5d38274d69\", element=\"b2cfd63d-4299-404a-a276-2495e7df6624\")>,\n",
       " <selenium.webdriver.remote.webelement.WebElement (session=\"67d74a6a0ba486d6b63edc5d38274d69\", element=\"10a3c177-d1e1-4406-8215-c4f795733fe6\")>,\n",
       " <selenium.webdriver.remote.webelement.WebElement (session=\"67d74a6a0ba486d6b63edc5d38274d69\", element=\"dd0ba0c3-c91f-4e70-a3fe-8cdb4f83d0c2\")>,\n",
       " <selenium.webdriver.remote.webelement.WebElement (session=\"67d74a6a0ba486d6b63edc5d38274d69\", element=\"515c8480-2651-4993-9be1-a31ea27584e6\")>,\n",
       " <selenium.webdriver.remote.webelement.WebElement (session=\"67d74a6a0ba486d6b63edc5d38274d69\", element=\"deb98a56-0ed0-42fb-a675-ded5ade653bc\")>]"
      ]
     },
     "execution_count": 28,
     "metadata": {},
     "output_type": "execute_result"
    }
   ],
   "source": [
    "experience_tags = driver.find_elements_by_xpath(\"//li[@class='fleft grey-text br2 placeHolderLi experience']/span[1]\")\n",
    "experience_tags[0:10]"
   ]
  },
  {
   "cell_type": "code",
   "execution_count": 29,
   "id": "ec99ee67",
   "metadata": {},
   "outputs": [
    {
     "data": {
      "text/plain": [
       "['1-6 Yrs',\n",
       " '2-4 Yrs',\n",
       " '3-8 Yrs',\n",
       " '7-12 Yrs',\n",
       " '0-2 Yrs',\n",
       " '3-5 Yrs',\n",
       " '1-6 Yrs',\n",
       " '5-10 Yrs',\n",
       " '4-5 Yrs',\n",
       " '3-6 Yrs']"
      ]
     },
     "execution_count": 29,
     "metadata": {},
     "output_type": "execute_result"
    }
   ],
   "source": [
    "for i in experience_tags:\n",
    "    experience_required.append(i.text)\n",
    "experience_required[0:10]"
   ]
  },
  {
   "cell_type": "code",
   "execution_count": 30,
   "id": "29bb13ca",
   "metadata": {},
   "outputs": [
    {
     "name": "stdout",
     "output_type": "stream",
     "text": [
      "20 20 20 20\n"
     ]
    }
   ],
   "source": [
    "print(len(job_titles),len(company_name),len(job_location),len(experience_required))"
   ]
  },
  {
   "cell_type": "markdown",
   "id": "9d9fbabe",
   "metadata": {},
   "source": [
    "# creating Dataframe:"
   ]
  },
  {
   "cell_type": "code",
   "execution_count": 31,
   "id": "ab66ae8b",
   "metadata": {},
   "outputs": [],
   "source": [
    "nau_data =pd.DataFrame({'job_titles':job_titles,'company_name':company_name,'job_location':job_location,'experience_required':experience_required})"
   ]
  },
  {
   "cell_type": "code",
   "execution_count": 33,
   "id": "ff3add76",
   "metadata": {},
   "outputs": [
    {
     "data": {
      "text/html": [
       "<div>\n",
       "<style scoped>\n",
       "    .dataframe tbody tr th:only-of-type {\n",
       "        vertical-align: middle;\n",
       "    }\n",
       "\n",
       "    .dataframe tbody tr th {\n",
       "        vertical-align: top;\n",
       "    }\n",
       "\n",
       "    .dataframe thead th {\n",
       "        text-align: right;\n",
       "    }\n",
       "</style>\n",
       "<table border=\"1\" class=\"dataframe\">\n",
       "  <thead>\n",
       "    <tr style=\"text-align: right;\">\n",
       "      <th></th>\n",
       "      <th>job_titles</th>\n",
       "      <th>company_name</th>\n",
       "      <th>job_location</th>\n",
       "      <th>experience_required</th>\n",
       "    </tr>\n",
       "  </thead>\n",
       "  <tbody>\n",
       "    <tr>\n",
       "      <th>0</th>\n",
       "      <td>Hiring -Data Analyst, Business Analyst, MIS An...</td>\n",
       "      <td>Flipkart</td>\n",
       "      <td>Bangalore/Bengaluru</td>\n",
       "      <td>1-6 Yrs</td>\n",
       "    </tr>\n",
       "    <tr>\n",
       "      <th>1</th>\n",
       "      <td>Senior Data Analyst III</td>\n",
       "      <td>Flipkart</td>\n",
       "      <td>Bengaluru/Bangalore</td>\n",
       "      <td>2-4 Yrs</td>\n",
       "    </tr>\n",
       "    <tr>\n",
       "      <th>2</th>\n",
       "      <td>Data Analyst</td>\n",
       "      <td>GlaxoSmithKline Pharmaceuticals Limited</td>\n",
       "      <td>Bangalore/Bengaluru</td>\n",
       "      <td>3-8 Yrs</td>\n",
       "    </tr>\n",
       "    <tr>\n",
       "      <th>3</th>\n",
       "      <td>Business Analyst/ Data Analyst- Capital Market...</td>\n",
       "      <td>Genpact</td>\n",
       "      <td>Pune, Bangalore/Bengaluru</td>\n",
       "      <td>7-12 Yrs</td>\n",
       "    </tr>\n",
       "    <tr>\n",
       "      <th>4</th>\n",
       "      <td>Customer Data Management Analyst</td>\n",
       "      <td>Aspect</td>\n",
       "      <td>Bangalore/Bengaluru</td>\n",
       "      <td>0-2 Yrs</td>\n",
       "    </tr>\n",
       "    <tr>\n",
       "      <th>5</th>\n",
       "      <td>Assistant/deputy Manager - Geo-spatial Data An...</td>\n",
       "      <td>Maruti Suzuki India</td>\n",
       "      <td>Gurgaon/Gurugram, bangalore</td>\n",
       "      <td>3-5 Yrs</td>\n",
       "    </tr>\n",
       "    <tr>\n",
       "      <th>6</th>\n",
       "      <td>Senior Data Analyst</td>\n",
       "      <td>Rapido</td>\n",
       "      <td>Bangalore/Bengaluru</td>\n",
       "      <td>1-6 Yrs</td>\n",
       "    </tr>\n",
       "    <tr>\n",
       "      <th>7</th>\n",
       "      <td>Senior Data Analyst</td>\n",
       "      <td>SYREN TECHNOLOGIES PRIVATE LIMITED</td>\n",
       "      <td>Kolkata, Hyderabad/Secunderabad, Pune, Ahmedab...</td>\n",
       "      <td>5-10 Yrs</td>\n",
       "    </tr>\n",
       "    <tr>\n",
       "      <th>8</th>\n",
       "      <td>Senior Data Analyst</td>\n",
       "      <td>Flipkart</td>\n",
       "      <td>Bengaluru/Bangalore</td>\n",
       "      <td>4-5 Yrs</td>\n",
       "    </tr>\n",
       "    <tr>\n",
       "      <th>9</th>\n",
       "      <td>Openings For SQL Data Analyst</td>\n",
       "      <td>StackNexus Technologies India Pvt. Ltd</td>\n",
       "      <td>Hyderabad/Secunderabad, Bangalore/Bengaluru</td>\n",
       "      <td>3-6 Yrs</td>\n",
       "    </tr>\n",
       "  </tbody>\n",
       "</table>\n",
       "</div>"
      ],
      "text/plain": [
       "                                          job_titles  \\\n",
       "0  Hiring -Data Analyst, Business Analyst, MIS An...   \n",
       "1                            Senior Data Analyst III   \n",
       "2                                       Data Analyst   \n",
       "3  Business Analyst/ Data Analyst- Capital Market...   \n",
       "4                   Customer Data Management Analyst   \n",
       "5  Assistant/deputy Manager - Geo-spatial Data An...   \n",
       "6                                Senior Data Analyst   \n",
       "7                                Senior Data Analyst   \n",
       "8                                Senior Data Analyst   \n",
       "9                      Openings For SQL Data Analyst   \n",
       "\n",
       "                              company_name  \\\n",
       "0                                 Flipkart   \n",
       "1                                 Flipkart   \n",
       "2  GlaxoSmithKline Pharmaceuticals Limited   \n",
       "3                                  Genpact   \n",
       "4                                   Aspect   \n",
       "5                      Maruti Suzuki India   \n",
       "6                                   Rapido   \n",
       "7       SYREN TECHNOLOGIES PRIVATE LIMITED   \n",
       "8                                 Flipkart   \n",
       "9   StackNexus Technologies India Pvt. Ltd   \n",
       "\n",
       "                                        job_location experience_required  \n",
       "0                                Bangalore/Bengaluru             1-6 Yrs  \n",
       "1                                Bengaluru/Bangalore             2-4 Yrs  \n",
       "2                                Bangalore/Bengaluru             3-8 Yrs  \n",
       "3                          Pune, Bangalore/Bengaluru            7-12 Yrs  \n",
       "4                                Bangalore/Bengaluru             0-2 Yrs  \n",
       "5                        Gurgaon/Gurugram, bangalore             3-5 Yrs  \n",
       "6                                Bangalore/Bengaluru             1-6 Yrs  \n",
       "7  Kolkata, Hyderabad/Secunderabad, Pune, Ahmedab...            5-10 Yrs  \n",
       "8                                Bengaluru/Bangalore             4-5 Yrs  \n",
       "9        Hyderabad/Secunderabad, Bangalore/Bengaluru             3-6 Yrs  "
      ]
     },
     "execution_count": 33,
     "metadata": {},
     "output_type": "execute_result"
    }
   ],
   "source": [
    "nau_data.head(10)"
   ]
  },
  {
   "cell_type": "code",
   "execution_count": 44,
   "id": "fabc7f18",
   "metadata": {},
   "outputs": [],
   "source": [
    "#driver.close()"
   ]
  },
  {
   "cell_type": "markdown",
   "id": "5ddadefc",
   "metadata": {},
   "source": [
    "# Now python program to scrape data for “Data Scientist” Job position in “Bangalore” location:"
   ]
  },
  {
   "cell_type": "code",
   "execution_count": 45,
   "id": "a18f2083",
   "metadata": {},
   "outputs": [
    {
     "name": "stderr",
     "output_type": "stream",
     "text": [
      "<ipython-input-45-151ce781a031>:1: DeprecationWarning: executable_path has been deprecated, please pass in a Service object\n",
      "  driver = webdriver.Chrome(r\"C:\\Users\\shaha\\Downloads\\chromedriver_win32/chromedriver.exe\")\n"
     ]
    }
   ],
   "source": [
    "driver = webdriver.Chrome(r\"C:\\Users\\shaha\\Downloads\\chromedriver_win32/chromedriver.exe\")"
   ]
  },
  {
   "cell_type": "code",
   "execution_count": 46,
   "id": "35b56a24",
   "metadata": {},
   "outputs": [],
   "source": [
    "driver.get('https://www.naukri.com/ ')"
   ]
  },
  {
   "cell_type": "code",
   "execution_count": 47,
   "id": "26e37349",
   "metadata": {},
   "outputs": [
    {
     "name": "stderr",
     "output_type": "stream",
     "text": [
      "<ipython-input-47-6779f81292cb>:1: DeprecationWarning: find_element_by_* commands are deprecated. Please use find_element() instead\n",
      "  search_job = driver.find_element_by_id('qsb-keyword-sugg')\n",
      "<ipython-input-47-6779f81292cb>:3: DeprecationWarning: find_element_by_* commands are deprecated. Please use find_element() instead\n",
      "  search_loc = driver.find_element_by_xpath(\"//input[@id='qsb-location-sugg']\")\n"
     ]
    }
   ],
   "source": [
    "search_job = driver.find_element_by_id('qsb-keyword-sugg')\n",
    "search_job.send_keys(\"Data Scientist\")\n",
    "search_loc = driver.find_element_by_xpath(\"//input[@id='qsb-location-sugg']\")\n",
    "search_loc.send_keys(\"Bangalore\")"
   ]
  },
  {
   "cell_type": "code",
   "execution_count": 48,
   "id": "2132c293",
   "metadata": {},
   "outputs": [
    {
     "name": "stderr",
     "output_type": "stream",
     "text": [
      "<ipython-input-48-c9b437d84350>:1: DeprecationWarning: find_element_by_* commands are deprecated. Please use find_element() instead\n",
      "  search_btn = driver.find_element_by_xpath(\"//div[@class='search-btn']/button\")\n"
     ]
    }
   ],
   "source": [
    "search_btn = driver.find_element_by_xpath(\"//div[@class='search-btn']/button\")\n",
    "search_btn.click()"
   ]
  },
  {
   "cell_type": "code",
   "execution_count": 49,
   "id": "d744cb89",
   "metadata": {},
   "outputs": [],
   "source": [
    "#making empty lists to scrape data\n",
    "job_titles = []\n",
    "job_location = []\n",
    "company_name = []\n",
    "experience_required = []"
   ]
  },
  {
   "cell_type": "code",
   "execution_count": 50,
   "id": "9c002278",
   "metadata": {},
   "outputs": [
    {
     "name": "stderr",
     "output_type": "stream",
     "text": [
      "<ipython-input-50-725afb99dc3d>:2: DeprecationWarning: find_elements_by_* commands are deprecated. Please use find_elements() instead\n",
      "  title_tags = driver.find_elements_by_xpath(\"//a[@class='title fw500 ellipsis']\")\n"
     ]
    },
    {
     "data": {
      "text/plain": [
       "[<selenium.webdriver.remote.webelement.WebElement (session=\"af0a4d478e531edeb5dd4b77ad64e612\", element=\"74c0e625-3055-4a71-9936-da693db722e9\")>,\n",
       " <selenium.webdriver.remote.webelement.WebElement (session=\"af0a4d478e531edeb5dd4b77ad64e612\", element=\"4461d18c-6606-41a1-b1b5-5a4ee8b42460\")>,\n",
       " <selenium.webdriver.remote.webelement.WebElement (session=\"af0a4d478e531edeb5dd4b77ad64e612\", element=\"68f37020-e342-48fb-8ad7-94bb345a6017\")>,\n",
       " <selenium.webdriver.remote.webelement.WebElement (session=\"af0a4d478e531edeb5dd4b77ad64e612\", element=\"90228133-fa65-461d-82b2-df7488210ac7\")>,\n",
       " <selenium.webdriver.remote.webelement.WebElement (session=\"af0a4d478e531edeb5dd4b77ad64e612\", element=\"b54cda4e-7b3d-4102-9435-8d0f09e94d2e\")>,\n",
       " <selenium.webdriver.remote.webelement.WebElement (session=\"af0a4d478e531edeb5dd4b77ad64e612\", element=\"8cb847fb-9b30-4431-8ec8-0bd8cd1f6bf8\")>,\n",
       " <selenium.webdriver.remote.webelement.WebElement (session=\"af0a4d478e531edeb5dd4b77ad64e612\", element=\"11b7d605-6cb1-489b-8402-8380e7f2cb11\")>,\n",
       " <selenium.webdriver.remote.webelement.WebElement (session=\"af0a4d478e531edeb5dd4b77ad64e612\", element=\"bcab760a-4938-4fb4-9e30-b2998f30b7cc\")>,\n",
       " <selenium.webdriver.remote.webelement.WebElement (session=\"af0a4d478e531edeb5dd4b77ad64e612\", element=\"2e0b7041-00cd-4266-9edf-50421c11654a\")>,\n",
       " <selenium.webdriver.remote.webelement.WebElement (session=\"af0a4d478e531edeb5dd4b77ad64e612\", element=\"f0eea3e5-bc2a-46e9-a340-d5bf185ae213\")>]"
      ]
     },
     "execution_count": 50,
     "metadata": {},
     "output_type": "execute_result"
    }
   ],
   "source": [
    "#Now we will scarpe data for following features:\n",
    "title_tags = driver.find_elements_by_xpath(\"//a[@class='title fw500 ellipsis']\")\n",
    "title_tags[0:10]"
   ]
  },
  {
   "cell_type": "code",
   "execution_count": 51,
   "id": "82c8207a",
   "metadata": {},
   "outputs": [
    {
     "data": {
      "text/plain": [
       "['Data Scientist',\n",
       " 'Data Science - Senior Data Scientist',\n",
       " 'Lead / Principal Data Scientist',\n",
       " 'Senior Data Scientist',\n",
       " 'Senior Data Scientist',\n",
       " 'Data Scientist - Credit Risk',\n",
       " 'Lead/Senior Data Scientist (NLP)',\n",
       " 'Data Scientist',\n",
       " 'Data Scientist',\n",
       " 'Advanced Analytics Expert - Data Scientist']"
      ]
     },
     "execution_count": 51,
     "metadata": {},
     "output_type": "execute_result"
    }
   ],
   "source": [
    "for i in title_tags:\n",
    "    title=i.text\n",
    "    job_titles.append(title)\n",
    "job_titles[0:10]"
   ]
  },
  {
   "cell_type": "code",
   "execution_count": 52,
   "id": "0fa22964",
   "metadata": {},
   "outputs": [
    {
     "name": "stderr",
     "output_type": "stream",
     "text": [
      "<ipython-input-52-858b4ae14d4a>:1: DeprecationWarning: find_elements_by_* commands are deprecated. Please use find_elements() instead\n",
      "  company_tags = driver.find_elements_by_xpath(\"//a[@class='subTitle ellipsis fleft']\")\n"
     ]
    },
    {
     "data": {
      "text/plain": [
       "[<selenium.webdriver.remote.webelement.WebElement (session=\"af0a4d478e531edeb5dd4b77ad64e612\", element=\"ba132a1c-1fec-4032-9b27-3f79b7aaf802\")>,\n",
       " <selenium.webdriver.remote.webelement.WebElement (session=\"af0a4d478e531edeb5dd4b77ad64e612\", element=\"0e3145a3-e789-4c43-8686-c6105266511d\")>,\n",
       " <selenium.webdriver.remote.webelement.WebElement (session=\"af0a4d478e531edeb5dd4b77ad64e612\", element=\"3a8a263e-15ed-468d-82c7-14907938ed16\")>,\n",
       " <selenium.webdriver.remote.webelement.WebElement (session=\"af0a4d478e531edeb5dd4b77ad64e612\", element=\"e20f000a-00ba-409a-8ff3-5b71cb49f90d\")>,\n",
       " <selenium.webdriver.remote.webelement.WebElement (session=\"af0a4d478e531edeb5dd4b77ad64e612\", element=\"8ccbcbda-9963-4cce-938c-9a20704d79ea\")>,\n",
       " <selenium.webdriver.remote.webelement.WebElement (session=\"af0a4d478e531edeb5dd4b77ad64e612\", element=\"b67f74e6-cce0-4996-a8c3-781d7cbc80ff\")>,\n",
       " <selenium.webdriver.remote.webelement.WebElement (session=\"af0a4d478e531edeb5dd4b77ad64e612\", element=\"21eaed82-b896-49e0-b92d-35a0da59ffbd\")>,\n",
       " <selenium.webdriver.remote.webelement.WebElement (session=\"af0a4d478e531edeb5dd4b77ad64e612\", element=\"e0cb8905-0018-49e8-8700-034210e8d5f5\")>,\n",
       " <selenium.webdriver.remote.webelement.WebElement (session=\"af0a4d478e531edeb5dd4b77ad64e612\", element=\"d724bf0b-e115-470c-88f7-84865b38722c\")>,\n",
       " <selenium.webdriver.remote.webelement.WebElement (session=\"af0a4d478e531edeb5dd4b77ad64e612\", element=\"48a220d3-057e-4133-8250-da17cca11e0f\")>]"
      ]
     },
     "execution_count": 52,
     "metadata": {},
     "output_type": "execute_result"
    }
   ],
   "source": [
    "company_tags = driver.find_elements_by_xpath(\"//a[@class='subTitle ellipsis fleft']\")\n",
    "company_tags[0:10]"
   ]
  },
  {
   "cell_type": "code",
   "execution_count": 53,
   "id": "61d43d9a",
   "metadata": {},
   "outputs": [
    {
     "data": {
      "text/plain": [
       "['Snaphunt',\n",
       " 'Paytm',\n",
       " 'Aviso Inc',\n",
       " 'Ally-Executive',\n",
       " 'Visa',\n",
       " 'Scienaptic Systems',\n",
       " 'Samya.AI A FRACTAL Entity',\n",
       " 'Truecaller',\n",
       " 'Slice',\n",
       " 'Hewlett-Packard']"
      ]
     },
     "execution_count": 53,
     "metadata": {},
     "output_type": "execute_result"
    }
   ],
   "source": [
    "for i in company_tags:\n",
    "    title=i.text\n",
    "    company_name.append(title)\n",
    "company_name[0:10]"
   ]
  },
  {
   "cell_type": "code",
   "execution_count": 54,
   "id": "550474f7",
   "metadata": {},
   "outputs": [
    {
     "name": "stderr",
     "output_type": "stream",
     "text": [
      "<ipython-input-54-edca770a560f>:1: DeprecationWarning: find_elements_by_* commands are deprecated. Please use find_elements() instead\n",
      "  location_tags = driver.find_elements_by_xpath(\"//li[@class='fleft grey-text br2 placeHolderLi location']/span[1]\")\n"
     ]
    },
    {
     "data": {
      "text/plain": [
       "[<selenium.webdriver.remote.webelement.WebElement (session=\"af0a4d478e531edeb5dd4b77ad64e612\", element=\"9a384da5-b6a5-453a-a4a6-64e15fdf8b81\")>,\n",
       " <selenium.webdriver.remote.webelement.WebElement (session=\"af0a4d478e531edeb5dd4b77ad64e612\", element=\"c7477683-d2f8-4970-a4f8-f3b2b4314684\")>,\n",
       " <selenium.webdriver.remote.webelement.WebElement (session=\"af0a4d478e531edeb5dd4b77ad64e612\", element=\"34168c9e-65a8-49ad-9624-ccc0477ab3a2\")>,\n",
       " <selenium.webdriver.remote.webelement.WebElement (session=\"af0a4d478e531edeb5dd4b77ad64e612\", element=\"e7401780-b826-499c-9984-5a5ea9f8a623\")>,\n",
       " <selenium.webdriver.remote.webelement.WebElement (session=\"af0a4d478e531edeb5dd4b77ad64e612\", element=\"40c1a5f0-8d7e-4139-aab2-074312e7c3a9\")>,\n",
       " <selenium.webdriver.remote.webelement.WebElement (session=\"af0a4d478e531edeb5dd4b77ad64e612\", element=\"76e2b0a4-c386-4897-b638-8fd4adb73ec2\")>,\n",
       " <selenium.webdriver.remote.webelement.WebElement (session=\"af0a4d478e531edeb5dd4b77ad64e612\", element=\"86dfc084-9b69-4bd7-a63e-8bcae2bee9a3\")>,\n",
       " <selenium.webdriver.remote.webelement.WebElement (session=\"af0a4d478e531edeb5dd4b77ad64e612\", element=\"2b832aa1-84bc-4019-b12f-ee044023d92c\")>,\n",
       " <selenium.webdriver.remote.webelement.WebElement (session=\"af0a4d478e531edeb5dd4b77ad64e612\", element=\"cea08ec5-30d2-4df3-bd4c-c2d6a5aac15b\")>,\n",
       " <selenium.webdriver.remote.webelement.WebElement (session=\"af0a4d478e531edeb5dd4b77ad64e612\", element=\"9a6ddaf7-85a2-46c9-bf9d-218868cbd106\")>]"
      ]
     },
     "execution_count": 54,
     "metadata": {},
     "output_type": "execute_result"
    }
   ],
   "source": [
    "location_tags = driver.find_elements_by_xpath(\"//li[@class='fleft grey-text br2 placeHolderLi location']/span[1]\")\n",
    "location_tags[0:10]"
   ]
  },
  {
   "cell_type": "code",
   "execution_count": 55,
   "id": "63dd81e2",
   "metadata": {},
   "outputs": [
    {
     "data": {
      "text/plain": [
       "['Bangalore/Bengaluru',\n",
       " 'Noida, Bangalore/Bengaluru',\n",
       " 'Mumbai, Hyderabad/Secunderabad, Pune, Delhi / NCR, Bangalore/Bengaluru',\n",
       " 'Bangalore/Bengaluru',\n",
       " 'Bangalore/Bengaluru',\n",
       " 'Bangalore/Bengaluru',\n",
       " 'Bangalore/Bengaluru',\n",
       " 'Bangalore/Bengaluru',\n",
       " 'Bangalore/Bengaluru',\n",
       " 'Bangalore/Bengaluru, Bangalore']"
      ]
     },
     "execution_count": 55,
     "metadata": {},
     "output_type": "execute_result"
    }
   ],
   "source": [
    "for i in location_tags:\n",
    "    title=i.text\n",
    "    job_location.append(title)\n",
    "job_location[0:10]"
   ]
  },
  {
   "cell_type": "code",
   "execution_count": 56,
   "id": "b4371def",
   "metadata": {},
   "outputs": [
    {
     "name": "stderr",
     "output_type": "stream",
     "text": [
      "<ipython-input-56-5fa767a63a3e>:1: DeprecationWarning: find_elements_by_* commands are deprecated. Please use find_elements() instead\n",
      "  experience_tags = driver.find_elements_by_xpath(\"//li[@class='fleft grey-text br2 placeHolderLi experience']/span[1]\")\n"
     ]
    },
    {
     "data": {
      "text/plain": [
       "[<selenium.webdriver.remote.webelement.WebElement (session=\"af0a4d478e531edeb5dd4b77ad64e612\", element=\"a2a9ada5-95ef-46fd-8387-3984d41120c4\")>,\n",
       " <selenium.webdriver.remote.webelement.WebElement (session=\"af0a4d478e531edeb5dd4b77ad64e612\", element=\"2b8408b2-a57c-4379-be78-b62f79cd811a\")>,\n",
       " <selenium.webdriver.remote.webelement.WebElement (session=\"af0a4d478e531edeb5dd4b77ad64e612\", element=\"7b64e668-8720-4c31-93df-2baabeefaa9e\")>,\n",
       " <selenium.webdriver.remote.webelement.WebElement (session=\"af0a4d478e531edeb5dd4b77ad64e612\", element=\"82cab277-9de1-494a-9317-55111aadc80c\")>,\n",
       " <selenium.webdriver.remote.webelement.WebElement (session=\"af0a4d478e531edeb5dd4b77ad64e612\", element=\"62ff7008-75b5-447a-8354-9d426a5dbf9d\")>,\n",
       " <selenium.webdriver.remote.webelement.WebElement (session=\"af0a4d478e531edeb5dd4b77ad64e612\", element=\"568ff129-658e-4160-bc81-971cc8009e85\")>,\n",
       " <selenium.webdriver.remote.webelement.WebElement (session=\"af0a4d478e531edeb5dd4b77ad64e612\", element=\"f8d6f0e4-bf58-4446-9524-dda8ea535ad7\")>,\n",
       " <selenium.webdriver.remote.webelement.WebElement (session=\"af0a4d478e531edeb5dd4b77ad64e612\", element=\"946b3cd4-c8ce-42e5-bde6-079a205d1f23\")>,\n",
       " <selenium.webdriver.remote.webelement.WebElement (session=\"af0a4d478e531edeb5dd4b77ad64e612\", element=\"eae7d767-eea4-4752-86fa-2b7125e920d4\")>,\n",
       " <selenium.webdriver.remote.webelement.WebElement (session=\"af0a4d478e531edeb5dd4b77ad64e612\", element=\"915531b4-8806-4c4e-af40-7bf9c507b25a\")>]"
      ]
     },
     "execution_count": 56,
     "metadata": {},
     "output_type": "execute_result"
    }
   ],
   "source": [
    "experience_tags = driver.find_elements_by_xpath(\"//li[@class='fleft grey-text br2 placeHolderLi experience']/span[1]\")\n",
    "experience_tags[0:10]"
   ]
  },
  {
   "cell_type": "code",
   "execution_count": 57,
   "id": "4588a4ee",
   "metadata": {},
   "outputs": [
    {
     "data": {
      "text/plain": [
       "['0-2 Yrs',\n",
       " '2-4 Yrs',\n",
       " '8-13 Yrs',\n",
       " '5-8 Yrs',\n",
       " '4-9 Yrs',\n",
       " '3-8 Yrs',\n",
       " '3-8 Yrs',\n",
       " '4-7 Yrs',\n",
       " '1-3 Yrs',\n",
       " '8-13 Yrs']"
      ]
     },
     "execution_count": 57,
     "metadata": {},
     "output_type": "execute_result"
    }
   ],
   "source": [
    "for i in experience_tags:\n",
    "    experience_required.append(i.text)\n",
    "experience_required[0:10]"
   ]
  },
  {
   "cell_type": "code",
   "execution_count": 58,
   "id": "a8537454",
   "metadata": {},
   "outputs": [
    {
     "name": "stdout",
     "output_type": "stream",
     "text": [
      "20 20 20 20\n"
     ]
    }
   ],
   "source": [
    "print(len(job_titles),len(company_name),len(job_location),len(experience_required))"
   ]
  },
  {
   "cell_type": "code",
   "execution_count": 59,
   "id": "b927cd47",
   "metadata": {},
   "outputs": [],
   "source": [
    "data =pd.DataFrame({'job_titles':job_titles,'company_name':company_name,'job_location':job_location,'experience_required':experience_required})"
   ]
  },
  {
   "cell_type": "code",
   "execution_count": 60,
   "id": "90af6cff",
   "metadata": {},
   "outputs": [
    {
     "data": {
      "text/html": [
       "<div>\n",
       "<style scoped>\n",
       "    .dataframe tbody tr th:only-of-type {\n",
       "        vertical-align: middle;\n",
       "    }\n",
       "\n",
       "    .dataframe tbody tr th {\n",
       "        vertical-align: top;\n",
       "    }\n",
       "\n",
       "    .dataframe thead th {\n",
       "        text-align: right;\n",
       "    }\n",
       "</style>\n",
       "<table border=\"1\" class=\"dataframe\">\n",
       "  <thead>\n",
       "    <tr style=\"text-align: right;\">\n",
       "      <th></th>\n",
       "      <th>job_titles</th>\n",
       "      <th>company_name</th>\n",
       "      <th>job_location</th>\n",
       "      <th>experience_required</th>\n",
       "    </tr>\n",
       "  </thead>\n",
       "  <tbody>\n",
       "    <tr>\n",
       "      <th>0</th>\n",
       "      <td>Data Scientist</td>\n",
       "      <td>Snaphunt</td>\n",
       "      <td>Bangalore/Bengaluru</td>\n",
       "      <td>0-2 Yrs</td>\n",
       "    </tr>\n",
       "    <tr>\n",
       "      <th>1</th>\n",
       "      <td>Data Science - Senior Data Scientist</td>\n",
       "      <td>Paytm</td>\n",
       "      <td>Noida, Bangalore/Bengaluru</td>\n",
       "      <td>2-4 Yrs</td>\n",
       "    </tr>\n",
       "    <tr>\n",
       "      <th>2</th>\n",
       "      <td>Lead / Principal Data Scientist</td>\n",
       "      <td>Aviso Inc</td>\n",
       "      <td>Mumbai, Hyderabad/Secunderabad, Pune, Delhi / ...</td>\n",
       "      <td>8-13 Yrs</td>\n",
       "    </tr>\n",
       "    <tr>\n",
       "      <th>3</th>\n",
       "      <td>Senior Data Scientist</td>\n",
       "      <td>Ally-Executive</td>\n",
       "      <td>Bangalore/Bengaluru</td>\n",
       "      <td>5-8 Yrs</td>\n",
       "    </tr>\n",
       "    <tr>\n",
       "      <th>4</th>\n",
       "      <td>Senior Data Scientist</td>\n",
       "      <td>Visa</td>\n",
       "      <td>Bangalore/Bengaluru</td>\n",
       "      <td>4-9 Yrs</td>\n",
       "    </tr>\n",
       "    <tr>\n",
       "      <th>5</th>\n",
       "      <td>Data Scientist - Credit Risk</td>\n",
       "      <td>Scienaptic Systems</td>\n",
       "      <td>Bangalore/Bengaluru</td>\n",
       "      <td>3-8 Yrs</td>\n",
       "    </tr>\n",
       "    <tr>\n",
       "      <th>6</th>\n",
       "      <td>Lead/Senior Data Scientist (NLP)</td>\n",
       "      <td>Samya.AI A FRACTAL Entity</td>\n",
       "      <td>Bangalore/Bengaluru</td>\n",
       "      <td>3-8 Yrs</td>\n",
       "    </tr>\n",
       "    <tr>\n",
       "      <th>7</th>\n",
       "      <td>Data Scientist</td>\n",
       "      <td>Truecaller</td>\n",
       "      <td>Bangalore/Bengaluru</td>\n",
       "      <td>4-7 Yrs</td>\n",
       "    </tr>\n",
       "    <tr>\n",
       "      <th>8</th>\n",
       "      <td>Data Scientist</td>\n",
       "      <td>Slice</td>\n",
       "      <td>Bangalore/Bengaluru</td>\n",
       "      <td>1-3 Yrs</td>\n",
       "    </tr>\n",
       "    <tr>\n",
       "      <th>9</th>\n",
       "      <td>Advanced Analytics Expert - Data Scientist</td>\n",
       "      <td>Hewlett-Packard</td>\n",
       "      <td>Bangalore/Bengaluru, Bangalore</td>\n",
       "      <td>8-13 Yrs</td>\n",
       "    </tr>\n",
       "  </tbody>\n",
       "</table>\n",
       "</div>"
      ],
      "text/plain": [
       "                                   job_titles               company_name  \\\n",
       "0                              Data Scientist                   Snaphunt   \n",
       "1        Data Science - Senior Data Scientist                      Paytm   \n",
       "2             Lead / Principal Data Scientist                  Aviso Inc   \n",
       "3                       Senior Data Scientist             Ally-Executive   \n",
       "4                       Senior Data Scientist                       Visa   \n",
       "5                Data Scientist - Credit Risk         Scienaptic Systems   \n",
       "6            Lead/Senior Data Scientist (NLP)  Samya.AI A FRACTAL Entity   \n",
       "7                              Data Scientist                 Truecaller   \n",
       "8                              Data Scientist                      Slice   \n",
       "9  Advanced Analytics Expert - Data Scientist            Hewlett-Packard   \n",
       "\n",
       "                                        job_location experience_required  \n",
       "0                                Bangalore/Bengaluru             0-2 Yrs  \n",
       "1                         Noida, Bangalore/Bengaluru             2-4 Yrs  \n",
       "2  Mumbai, Hyderabad/Secunderabad, Pune, Delhi / ...            8-13 Yrs  \n",
       "3                                Bangalore/Bengaluru             5-8 Yrs  \n",
       "4                                Bangalore/Bengaluru             4-9 Yrs  \n",
       "5                                Bangalore/Bengaluru             3-8 Yrs  \n",
       "6                                Bangalore/Bengaluru             3-8 Yrs  \n",
       "7                                Bangalore/Bengaluru             4-7 Yrs  \n",
       "8                                Bangalore/Bengaluru             1-3 Yrs  \n",
       "9                     Bangalore/Bengaluru, Bangalore            8-13 Yrs  "
      ]
     },
     "execution_count": 60,
     "metadata": {},
     "output_type": "execute_result"
    }
   ],
   "source": [
    "data.head(10)"
   ]
  },
  {
   "cell_type": "code",
   "execution_count": 61,
   "id": "82565ae7",
   "metadata": {},
   "outputs": [],
   "source": [
    "#driver.close()"
   ]
  },
  {
   "cell_type": "markdown",
   "id": "8f637695",
   "metadata": {},
   "source": [
    "# >Now scrape data using the filters available on the webpage:"
   ]
  },
  {
   "cell_type": "code",
   "execution_count": 62,
   "id": "55b4d27f",
   "metadata": {},
   "outputs": [
    {
     "name": "stderr",
     "output_type": "stream",
     "text": [
      "<ipython-input-62-151ce781a031>:1: DeprecationWarning: executable_path has been deprecated, please pass in a Service object\n",
      "  driver = webdriver.Chrome(r\"C:\\Users\\shaha\\Downloads\\chromedriver_win32/chromedriver.exe\")\n"
     ]
    }
   ],
   "source": [
    "driver = webdriver.Chrome(r\"C:\\Users\\shaha\\Downloads\\chromedriver_win32/chromedriver.exe\")"
   ]
  },
  {
   "cell_type": "code",
   "execution_count": 63,
   "id": "b2db4586",
   "metadata": {},
   "outputs": [],
   "source": [
    "driver.get('https://www.naukri.com/')"
   ]
  },
  {
   "cell_type": "code",
   "execution_count": 64,
   "id": "eb300234",
   "metadata": {},
   "outputs": [
    {
     "name": "stderr",
     "output_type": "stream",
     "text": [
      "<ipython-input-64-1ce00eb7326a>:1: DeprecationWarning: find_element_by_* commands are deprecated. Please use find_element() instead\n",
      "  search_job = driver.find_element_by_id('qsb-keyword-sugg')\n"
     ]
    }
   ],
   "source": [
    "search_job = driver.find_element_by_id('qsb-keyword-sugg')\n",
    "search_job.send_keys(\"Data Scientist\")"
   ]
  },
  {
   "cell_type": "code",
   "execution_count": 65,
   "id": "1e329b04",
   "metadata": {},
   "outputs": [
    {
     "name": "stderr",
     "output_type": "stream",
     "text": [
      "<ipython-input-65-c9b437d84350>:1: DeprecationWarning: find_element_by_* commands are deprecated. Please use find_element() instead\n",
      "  search_btn = driver.find_element_by_xpath(\"//div[@class='search-btn']/button\")\n"
     ]
    }
   ],
   "source": [
    "search_btn = driver.find_element_by_xpath(\"//div[@class='search-btn']/button\")\n",
    "search_btn.click()"
   ]
  },
  {
   "cell_type": "markdown",
   "id": "5ab299d4",
   "metadata": {},
   "source": [
    "Applying filters now:"
   ]
  },
  {
   "cell_type": "code",
   "execution_count": 67,
   "id": "ee64d1de",
   "metadata": {},
   "outputs": [
    {
     "name": "stderr",
     "output_type": "stream",
     "text": [
      "<ipython-input-67-ca823969180e>:2: DeprecationWarning: find_element_by_* commands are deprecated. Please use find_element() instead\n",
      "  sel_loc = driver.find_element_by_xpath(\"//div[@class='filterOptns']/div[4]\")\n"
     ]
    }
   ],
   "source": [
    "#applying for location option\n",
    "sel_loc = driver.find_element_by_xpath(\"//div[@class='filterOptns']/div[4]\")\n",
    "sel_loc.click()"
   ]
  },
  {
   "cell_type": "code",
   "execution_count": 68,
   "id": "76f9f0b4",
   "metadata": {},
   "outputs": [
    {
     "name": "stderr",
     "output_type": "stream",
     "text": [
      "<ipython-input-68-9ffce5b86fe4>:2: DeprecationWarning: find_element_by_* commands are deprecated. Please use find_element() instead\n",
      "  salary = driver.find_element_by_xpath(\"//div[@data-filter-id='salaryRange']/div[2]\")\n"
     ]
    }
   ],
   "source": [
    "#appyling for salary option \n",
    "salary = driver.find_element_by_xpath(\"//div[@data-filter-id='salaryRange']/div[2]\")\n",
    "salary.click()"
   ]
  },
  {
   "cell_type": "markdown",
   "id": "442d844d",
   "metadata": {},
   "source": [
    "# now make empty lists:"
   ]
  },
  {
   "cell_type": "code",
   "execution_count": 69,
   "id": "249e3295",
   "metadata": {},
   "outputs": [],
   "source": [
    "job_list = []\n",
    "company_list = []\n",
    "location_list = []\n",
    "experience_list = []"
   ]
  },
  {
   "cell_type": "code",
   "execution_count": 70,
   "id": "9934cb67",
   "metadata": {},
   "outputs": [
    {
     "name": "stderr",
     "output_type": "stream",
     "text": [
      "<ipython-input-70-bbe5128b7374>:1: DeprecationWarning: find_elements_by_* commands are deprecated. Please use find_elements() instead\n",
      "  title_tags = driver.find_elements_by_xpath(\"//a[@class='title fw500 ellipsis']\")\n"
     ]
    },
    {
     "data": {
      "text/plain": [
       "[<selenium.webdriver.remote.webelement.WebElement (session=\"e26e00deb4c3702af1254076853373d3\", element=\"362980e7-ae0a-4ed0-ab67-be18929e1d0a\")>,\n",
       " <selenium.webdriver.remote.webelement.WebElement (session=\"e26e00deb4c3702af1254076853373d3\", element=\"f04d75b7-38dc-4647-b4f3-afb1f630b0ee\")>,\n",
       " <selenium.webdriver.remote.webelement.WebElement (session=\"e26e00deb4c3702af1254076853373d3\", element=\"6a124465-ea6a-4d70-a6bd-9c686fb2861d\")>,\n",
       " <selenium.webdriver.remote.webelement.WebElement (session=\"e26e00deb4c3702af1254076853373d3\", element=\"ae602e48-c86e-4f7b-9af7-3142385f5e19\")>,\n",
       " <selenium.webdriver.remote.webelement.WebElement (session=\"e26e00deb4c3702af1254076853373d3\", element=\"452e2c01-edcc-4687-aa71-460150aaad12\")>,\n",
       " <selenium.webdriver.remote.webelement.WebElement (session=\"e26e00deb4c3702af1254076853373d3\", element=\"b107658d-3a16-4b68-b741-d2ae930df3f7\")>,\n",
       " <selenium.webdriver.remote.webelement.WebElement (session=\"e26e00deb4c3702af1254076853373d3\", element=\"1eadabdf-d24b-4f7b-9a34-0a9f1facb866\")>,\n",
       " <selenium.webdriver.remote.webelement.WebElement (session=\"e26e00deb4c3702af1254076853373d3\", element=\"c9ade388-f41e-4362-852b-ce34107d92b2\")>,\n",
       " <selenium.webdriver.remote.webelement.WebElement (session=\"e26e00deb4c3702af1254076853373d3\", element=\"5e9a15ff-3427-42d8-a23f-c4107f835b70\")>,\n",
       " <selenium.webdriver.remote.webelement.WebElement (session=\"e26e00deb4c3702af1254076853373d3\", element=\"3af5e9bb-0fa5-4f12-99fb-e260319d571d\")>]"
      ]
     },
     "execution_count": 70,
     "metadata": {},
     "output_type": "execute_result"
    }
   ],
   "source": [
    "title_tags = driver.find_elements_by_xpath(\"//a[@class='title fw500 ellipsis']\")\n",
    "title_tags[0:10]"
   ]
  },
  {
   "cell_type": "code",
   "execution_count": 71,
   "id": "979683f8",
   "metadata": {},
   "outputs": [
    {
     "data": {
      "text/plain": [
       "['Data Scientist',\n",
       " 'Data Scientist',\n",
       " 'Hiring For Data Scientist',\n",
       " 'Immediate requirement For Data Scientist',\n",
       " 'Data Scientist/ Senior Data Scientist',\n",
       " 'Project Manager | Team Leader | Senior Data Scientist',\n",
       " 'Data Scientist',\n",
       " 'Data Scientist',\n",
       " 'Job Opportunity || Data Scientist || HCL Technologies',\n",
       " 'Data Analyst / Data Scientist / Business Analytics / Fresher - MNC']"
      ]
     },
     "execution_count": 71,
     "metadata": {},
     "output_type": "execute_result"
    }
   ],
   "source": [
    "for i in title_tags:\n",
    "    title=i.text\n",
    "    job_list.append(title)\n",
    "job_list[0:10]"
   ]
  },
  {
   "cell_type": "code",
   "execution_count": 72,
   "id": "51d92f53",
   "metadata": {},
   "outputs": [
    {
     "name": "stderr",
     "output_type": "stream",
     "text": [
      "<ipython-input-72-858b4ae14d4a>:1: DeprecationWarning: find_elements_by_* commands are deprecated. Please use find_elements() instead\n",
      "  company_tags = driver.find_elements_by_xpath(\"//a[@class='subTitle ellipsis fleft']\")\n"
     ]
    },
    {
     "data": {
      "text/plain": [
       "[<selenium.webdriver.remote.webelement.WebElement (session=\"e26e00deb4c3702af1254076853373d3\", element=\"9d8f18b7-0bad-4298-8bc8-c692df527087\")>,\n",
       " <selenium.webdriver.remote.webelement.WebElement (session=\"e26e00deb4c3702af1254076853373d3\", element=\"e62b833f-bdf5-4516-8c59-d41a84db66bb\")>,\n",
       " <selenium.webdriver.remote.webelement.WebElement (session=\"e26e00deb4c3702af1254076853373d3\", element=\"e8e31bf2-36cf-4f4e-9fed-7b79735317f0\")>,\n",
       " <selenium.webdriver.remote.webelement.WebElement (session=\"e26e00deb4c3702af1254076853373d3\", element=\"50ca1a3b-3dcc-44b4-b1c0-9e48a2724a21\")>,\n",
       " <selenium.webdriver.remote.webelement.WebElement (session=\"e26e00deb4c3702af1254076853373d3\", element=\"5d4ebf84-8a6f-47ee-8a4f-8e22cd16f194\")>,\n",
       " <selenium.webdriver.remote.webelement.WebElement (session=\"e26e00deb4c3702af1254076853373d3\", element=\"1ca0b9ac-ad7f-49b4-99ba-74bf29f8dbc5\")>,\n",
       " <selenium.webdriver.remote.webelement.WebElement (session=\"e26e00deb4c3702af1254076853373d3\", element=\"ae0dacf6-28de-4973-855a-396b2e5d96b6\")>,\n",
       " <selenium.webdriver.remote.webelement.WebElement (session=\"e26e00deb4c3702af1254076853373d3\", element=\"a5eb2e7a-5efb-42fe-b2c4-e2ceef72a4a1\")>,\n",
       " <selenium.webdriver.remote.webelement.WebElement (session=\"e26e00deb4c3702af1254076853373d3\", element=\"7e3af8c5-e557-475b-a800-e24316d9cc97\")>,\n",
       " <selenium.webdriver.remote.webelement.WebElement (session=\"e26e00deb4c3702af1254076853373d3\", element=\"f5e0a2d6-a2d8-4fa6-a930-ec33b36a2504\")>]"
      ]
     },
     "execution_count": 72,
     "metadata": {},
     "output_type": "execute_result"
    }
   ],
   "source": [
    "company_tags = driver.find_elements_by_xpath(\"//a[@class='subTitle ellipsis fleft']\")\n",
    "company_tags[0:10]"
   ]
  },
  {
   "cell_type": "code",
   "execution_count": 73,
   "id": "3417744b",
   "metadata": {},
   "outputs": [
    {
     "data": {
      "text/plain": [
       "['LG Electronics India Pvt. Ltd.',\n",
       " 'Navikenz India Pvt Ltd',\n",
       " 'Tata Consultancy Services Ltd.',\n",
       " 'CALIBEHR BUSINESS SUPPORT SERVICES PRIVATE LIMITED',\n",
       " 'Newgen Software Technologies',\n",
       " 'Tidyquant (OPC) Private Limited',\n",
       " 'Teleperformance',\n",
       " 'WEGARNER SOLUTIONS PRIVATE LIMITED',\n",
       " 'HCL Technologies',\n",
       " 'GABA Consultancy services']"
      ]
     },
     "execution_count": 73,
     "metadata": {},
     "output_type": "execute_result"
    }
   ],
   "source": [
    "for i in company_tags:\n",
    "    title=i.text\n",
    "    company_list.append(title)\n",
    "company_list[0:10]"
   ]
  },
  {
   "cell_type": "code",
   "execution_count": 74,
   "id": "2525a9a7",
   "metadata": {},
   "outputs": [
    {
     "name": "stderr",
     "output_type": "stream",
     "text": [
      "<ipython-input-74-edca770a560f>:1: DeprecationWarning: find_elements_by_* commands are deprecated. Please use find_elements() instead\n",
      "  location_tags = driver.find_elements_by_xpath(\"//li[@class='fleft grey-text br2 placeHolderLi location']/span[1]\")\n"
     ]
    },
    {
     "data": {
      "text/plain": [
       "[<selenium.webdriver.remote.webelement.WebElement (session=\"e26e00deb4c3702af1254076853373d3\", element=\"fc0874a0-c277-4c30-a494-e1eb292ecd98\")>,\n",
       " <selenium.webdriver.remote.webelement.WebElement (session=\"e26e00deb4c3702af1254076853373d3\", element=\"40a50009-6f10-4d8d-a0f8-25442bbb4981\")>,\n",
       " <selenium.webdriver.remote.webelement.WebElement (session=\"e26e00deb4c3702af1254076853373d3\", element=\"12a49fee-1076-4d08-8ace-2e29a65ed7fe\")>,\n",
       " <selenium.webdriver.remote.webelement.WebElement (session=\"e26e00deb4c3702af1254076853373d3\", element=\"da8db926-e887-41ba-b114-f9602b48822b\")>,\n",
       " <selenium.webdriver.remote.webelement.WebElement (session=\"e26e00deb4c3702af1254076853373d3\", element=\"a1324d5f-ffdf-4400-8c9a-27d2674fe309\")>,\n",
       " <selenium.webdriver.remote.webelement.WebElement (session=\"e26e00deb4c3702af1254076853373d3\", element=\"b27ec60f-3a0d-4fe1-b13e-17036be2392e\")>,\n",
       " <selenium.webdriver.remote.webelement.WebElement (session=\"e26e00deb4c3702af1254076853373d3\", element=\"614be069-7779-403f-ba37-986d1ce70434\")>,\n",
       " <selenium.webdriver.remote.webelement.WebElement (session=\"e26e00deb4c3702af1254076853373d3\", element=\"666ebc0a-e5c0-45a5-8333-e1212763f45a\")>,\n",
       " <selenium.webdriver.remote.webelement.WebElement (session=\"e26e00deb4c3702af1254076853373d3\", element=\"15b07fab-993c-465d-9198-49f678ea8da9\")>,\n",
       " <selenium.webdriver.remote.webelement.WebElement (session=\"e26e00deb4c3702af1254076853373d3\", element=\"69db01bb-819c-4d0e-8a29-ed20e7bc8c88\")>]"
      ]
     },
     "execution_count": 74,
     "metadata": {},
     "output_type": "execute_result"
    }
   ],
   "source": [
    "location_tags = driver.find_elements_by_xpath(\"//li[@class='fleft grey-text br2 placeHolderLi location']/span[1]\")\n",
    "location_tags[0:10]"
   ]
  },
  {
   "cell_type": "code",
   "execution_count": 75,
   "id": "bf094d56",
   "metadata": {},
   "outputs": [
    {
     "data": {
      "text/plain": [
       "['Noida, New Delhi, Faridabad, Gurgaon/Gurugram, Delhi / NCR',\n",
       " 'Noida, Nodia',\n",
       " 'Hyderabad/Secunderabad, Pune, Chennai, Bangalore/Bengaluru, Delhi / NCR, Mumbai (All Areas)',\n",
       " 'Mumbai, Hyderabad/Secunderabad, Pune, Chennai, Tamia, Bangalore/Bengaluru, Delhi / NCR',\n",
       " 'Noida',\n",
       " 'Remote',\n",
       " 'Gurgaon/Gurugram, Chennai',\n",
       " 'Noida, Pune, Mumbai (All Areas)',\n",
       " 'Delhi / NCR',\n",
       " 'Noida, Ghaziabad, Delhi / NCR']"
      ]
     },
     "execution_count": 75,
     "metadata": {},
     "output_type": "execute_result"
    }
   ],
   "source": [
    "for i in location_tags:\n",
    "    title=i.text\n",
    "    location_list.append(title)\n",
    "location_list[0:10]"
   ]
  },
  {
   "cell_type": "code",
   "execution_count": 76,
   "id": "deddddfd",
   "metadata": {},
   "outputs": [
    {
     "name": "stderr",
     "output_type": "stream",
     "text": [
      "<ipython-input-76-5fa767a63a3e>:1: DeprecationWarning: find_elements_by_* commands are deprecated. Please use find_elements() instead\n",
      "  experience_tags = driver.find_elements_by_xpath(\"//li[@class='fleft grey-text br2 placeHolderLi experience']/span[1]\")\n"
     ]
    },
    {
     "data": {
      "text/plain": [
       "[<selenium.webdriver.remote.webelement.WebElement (session=\"e26e00deb4c3702af1254076853373d3\", element=\"de85f775-3c77-423d-ab5a-909e769defe4\")>,\n",
       " <selenium.webdriver.remote.webelement.WebElement (session=\"e26e00deb4c3702af1254076853373d3\", element=\"c2d599e9-2f38-4ec6-8713-5bf0496278b3\")>,\n",
       " <selenium.webdriver.remote.webelement.WebElement (session=\"e26e00deb4c3702af1254076853373d3\", element=\"bae072da-d16e-4857-bf53-c92ff40ce0ee\")>,\n",
       " <selenium.webdriver.remote.webelement.WebElement (session=\"e26e00deb4c3702af1254076853373d3\", element=\"4cf045c9-a55b-4621-81ff-95510ef074cf\")>,\n",
       " <selenium.webdriver.remote.webelement.WebElement (session=\"e26e00deb4c3702af1254076853373d3\", element=\"9a7abb6d-9806-4425-ba6a-a8f113765023\")>,\n",
       " <selenium.webdriver.remote.webelement.WebElement (session=\"e26e00deb4c3702af1254076853373d3\", element=\"70a40561-f10a-47e6-b1ac-33b8b03ff62c\")>,\n",
       " <selenium.webdriver.remote.webelement.WebElement (session=\"e26e00deb4c3702af1254076853373d3\", element=\"f37931a5-f70a-475b-988d-c22bc947e47f\")>,\n",
       " <selenium.webdriver.remote.webelement.WebElement (session=\"e26e00deb4c3702af1254076853373d3\", element=\"aee1b5b7-9ff3-4d75-a04d-0051fae35233\")>,\n",
       " <selenium.webdriver.remote.webelement.WebElement (session=\"e26e00deb4c3702af1254076853373d3\", element=\"9d34e891-737a-4543-a890-c5296945c4d0\")>,\n",
       " <selenium.webdriver.remote.webelement.WebElement (session=\"e26e00deb4c3702af1254076853373d3\", element=\"e3ecab8b-e67d-4b58-abe8-f5a0c4409327\")>]"
      ]
     },
     "execution_count": 76,
     "metadata": {},
     "output_type": "execute_result"
    }
   ],
   "source": [
    "experience_tags = driver.find_elements_by_xpath(\"//li[@class='fleft grey-text br2 placeHolderLi experience']/span[1]\")\n",
    "experience_tags[0:10]"
   ]
  },
  {
   "cell_type": "code",
   "execution_count": 77,
   "id": "8eb9d93d",
   "metadata": {},
   "outputs": [
    {
     "data": {
      "text/plain": [
       "['0-2 Yrs',\n",
       " '2-7 Yrs',\n",
       " '4-9 Yrs',\n",
       " '2-7 Yrs',\n",
       " '2-5 Yrs',\n",
       " '1-5 Yrs',\n",
       " '4-9 Yrs',\n",
       " '2-6 Yrs',\n",
       " '2-6 Yrs',\n",
       " '0-0 Yrs']"
      ]
     },
     "execution_count": 77,
     "metadata": {},
     "output_type": "execute_result"
    }
   ],
   "source": [
    "for i in experience_tags:\n",
    "    experience_list.append(i.text)\n",
    "experience_list[0:10]"
   ]
  },
  {
   "cell_type": "code",
   "execution_count": 78,
   "id": "38dd0376",
   "metadata": {},
   "outputs": [
    {
     "name": "stdout",
     "output_type": "stream",
     "text": [
      "20 20 20 20\n"
     ]
    }
   ],
   "source": [
    "print(len(job_list),len(company_list),len(location_list),len(experience_list))"
   ]
  },
  {
   "cell_type": "markdown",
   "id": "e63cd995",
   "metadata": {},
   "source": [
    "making dataframe :"
   ]
  },
  {
   "cell_type": "code",
   "execution_count": 79,
   "id": "f1bc3efd",
   "metadata": {},
   "outputs": [],
   "source": [
    "filter_data = pd.DataFrame({'job_list':job_list,'company_list':company_list,'location_list':location_list,'experience_list':experience_list})"
   ]
  },
  {
   "cell_type": "code",
   "execution_count": 80,
   "id": "cc993c71",
   "metadata": {},
   "outputs": [
    {
     "data": {
      "text/html": [
       "<div>\n",
       "<style scoped>\n",
       "    .dataframe tbody tr th:only-of-type {\n",
       "        vertical-align: middle;\n",
       "    }\n",
       "\n",
       "    .dataframe tbody tr th {\n",
       "        vertical-align: top;\n",
       "    }\n",
       "\n",
       "    .dataframe thead th {\n",
       "        text-align: right;\n",
       "    }\n",
       "</style>\n",
       "<table border=\"1\" class=\"dataframe\">\n",
       "  <thead>\n",
       "    <tr style=\"text-align: right;\">\n",
       "      <th></th>\n",
       "      <th>job_list</th>\n",
       "      <th>company_list</th>\n",
       "      <th>location_list</th>\n",
       "      <th>experience_list</th>\n",
       "    </tr>\n",
       "  </thead>\n",
       "  <tbody>\n",
       "    <tr>\n",
       "      <th>0</th>\n",
       "      <td>Data Scientist</td>\n",
       "      <td>LG Electronics India Pvt. Ltd.</td>\n",
       "      <td>Noida, New Delhi, Faridabad, Gurgaon/Gurugram,...</td>\n",
       "      <td>0-2 Yrs</td>\n",
       "    </tr>\n",
       "    <tr>\n",
       "      <th>1</th>\n",
       "      <td>Data Scientist</td>\n",
       "      <td>Navikenz India Pvt Ltd</td>\n",
       "      <td>Noida, Nodia</td>\n",
       "      <td>2-7 Yrs</td>\n",
       "    </tr>\n",
       "    <tr>\n",
       "      <th>2</th>\n",
       "      <td>Hiring For Data Scientist</td>\n",
       "      <td>Tata Consultancy Services Ltd.</td>\n",
       "      <td>Hyderabad/Secunderabad, Pune, Chennai, Bangalo...</td>\n",
       "      <td>4-9 Yrs</td>\n",
       "    </tr>\n",
       "    <tr>\n",
       "      <th>3</th>\n",
       "      <td>Immediate requirement For Data Scientist</td>\n",
       "      <td>CALIBEHR BUSINESS SUPPORT SERVICES PRIVATE LIM...</td>\n",
       "      <td>Mumbai, Hyderabad/Secunderabad, Pune, Chennai,...</td>\n",
       "      <td>2-7 Yrs</td>\n",
       "    </tr>\n",
       "    <tr>\n",
       "      <th>4</th>\n",
       "      <td>Data Scientist/ Senior Data Scientist</td>\n",
       "      <td>Newgen Software Technologies</td>\n",
       "      <td>Noida</td>\n",
       "      <td>2-5 Yrs</td>\n",
       "    </tr>\n",
       "    <tr>\n",
       "      <th>5</th>\n",
       "      <td>Project Manager | Team Leader | Senior Data Sc...</td>\n",
       "      <td>Tidyquant (OPC) Private Limited</td>\n",
       "      <td>Remote</td>\n",
       "      <td>1-5 Yrs</td>\n",
       "    </tr>\n",
       "    <tr>\n",
       "      <th>6</th>\n",
       "      <td>Data Scientist</td>\n",
       "      <td>Teleperformance</td>\n",
       "      <td>Gurgaon/Gurugram, Chennai</td>\n",
       "      <td>4-9 Yrs</td>\n",
       "    </tr>\n",
       "    <tr>\n",
       "      <th>7</th>\n",
       "      <td>Data Scientist</td>\n",
       "      <td>WEGARNER SOLUTIONS PRIVATE LIMITED</td>\n",
       "      <td>Noida, Pune, Mumbai (All Areas)</td>\n",
       "      <td>2-6 Yrs</td>\n",
       "    </tr>\n",
       "    <tr>\n",
       "      <th>8</th>\n",
       "      <td>Job Opportunity || Data Scientist || HCL Techn...</td>\n",
       "      <td>HCL Technologies</td>\n",
       "      <td>Delhi / NCR</td>\n",
       "      <td>2-6 Yrs</td>\n",
       "    </tr>\n",
       "    <tr>\n",
       "      <th>9</th>\n",
       "      <td>Data Analyst / Data Scientist / Business Analy...</td>\n",
       "      <td>GABA Consultancy services</td>\n",
       "      <td>Noida, Ghaziabad, Delhi / NCR</td>\n",
       "      <td>0-0 Yrs</td>\n",
       "    </tr>\n",
       "  </tbody>\n",
       "</table>\n",
       "</div>"
      ],
      "text/plain": [
       "                                            job_list  \\\n",
       "0                                     Data Scientist   \n",
       "1                                     Data Scientist   \n",
       "2                          Hiring For Data Scientist   \n",
       "3           Immediate requirement For Data Scientist   \n",
       "4              Data Scientist/ Senior Data Scientist   \n",
       "5  Project Manager | Team Leader | Senior Data Sc...   \n",
       "6                                     Data Scientist   \n",
       "7                                     Data Scientist   \n",
       "8  Job Opportunity || Data Scientist || HCL Techn...   \n",
       "9  Data Analyst / Data Scientist / Business Analy...   \n",
       "\n",
       "                                        company_list  \\\n",
       "0                     LG Electronics India Pvt. Ltd.   \n",
       "1                             Navikenz India Pvt Ltd   \n",
       "2                     Tata Consultancy Services Ltd.   \n",
       "3  CALIBEHR BUSINESS SUPPORT SERVICES PRIVATE LIM...   \n",
       "4                       Newgen Software Technologies   \n",
       "5                    Tidyquant (OPC) Private Limited   \n",
       "6                                    Teleperformance   \n",
       "7                 WEGARNER SOLUTIONS PRIVATE LIMITED   \n",
       "8                                   HCL Technologies   \n",
       "9                          GABA Consultancy services   \n",
       "\n",
       "                                       location_list experience_list  \n",
       "0  Noida, New Delhi, Faridabad, Gurgaon/Gurugram,...         0-2 Yrs  \n",
       "1                                       Noida, Nodia         2-7 Yrs  \n",
       "2  Hyderabad/Secunderabad, Pune, Chennai, Bangalo...         4-9 Yrs  \n",
       "3  Mumbai, Hyderabad/Secunderabad, Pune, Chennai,...         2-7 Yrs  \n",
       "4                                              Noida         2-5 Yrs  \n",
       "5                                             Remote         1-5 Yrs  \n",
       "6                          Gurgaon/Gurugram, Chennai         4-9 Yrs  \n",
       "7                    Noida, Pune, Mumbai (All Areas)         2-6 Yrs  \n",
       "8                                        Delhi / NCR         2-6 Yrs  \n",
       "9                      Noida, Ghaziabad, Delhi / NCR         0-0 Yrs  "
      ]
     },
     "execution_count": 80,
     "metadata": {},
     "output_type": "execute_result"
    }
   ],
   "source": [
    "filter_data.head(10)"
   ]
  },
  {
   "cell_type": "code",
   "execution_count": 81,
   "id": "c3d97cdd",
   "metadata": {},
   "outputs": [],
   "source": [
    "#driver.close()"
   ]
  },
  {
   "cell_type": "markdown",
   "id": "4df851f9",
   "metadata": {},
   "source": [
    "#  now for Flipkart.com   #####"
   ]
  },
  {
   "cell_type": "code",
   "execution_count": 82,
   "id": "a4c95d63",
   "metadata": {},
   "outputs": [
    {
     "name": "stderr",
     "output_type": "stream",
     "text": [
      "<ipython-input-82-151ce781a031>:1: DeprecationWarning: executable_path has been deprecated, please pass in a Service object\n",
      "  driver = webdriver.Chrome(r\"C:\\Users\\shaha\\Downloads\\chromedriver_win32/chromedriver.exe\")\n"
     ]
    }
   ],
   "source": [
    "driver = webdriver.Chrome(r\"C:\\Users\\shaha\\Downloads\\chromedriver_win32/chromedriver.exe\")"
   ]
  },
  {
   "cell_type": "code",
   "execution_count": 83,
   "id": "4443f21c",
   "metadata": {},
   "outputs": [],
   "source": [
    "url=(\"https://www.flipkart.com/\")"
   ]
  },
  {
   "cell_type": "code",
   "execution_count": 84,
   "id": "02d8af73",
   "metadata": {},
   "outputs": [],
   "source": [
    "driver.get(url)"
   ]
  },
  {
   "cell_type": "code",
   "execution_count": 85,
   "id": "360a0beb",
   "metadata": {},
   "outputs": [
    {
     "name": "stderr",
     "output_type": "stream",
     "text": [
      "<ipython-input-85-bc5ee2962c60>:1: DeprecationWarning: find_element_by_* commands are deprecated. Please use find_element() instead\n",
      "  search = driver.find_element_by_xpath(\"//input[@class='_3704LK']\")\n"
     ]
    }
   ],
   "source": [
    "search = driver.find_element_by_xpath(\"//input[@class='_3704LK']\")\n",
    "search.send_keys(\"sunglasses\")"
   ]
  },
  {
   "cell_type": "code",
   "execution_count": 86,
   "id": "702d74ad",
   "metadata": {},
   "outputs": [
    {
     "name": "stderr",
     "output_type": "stream",
     "text": [
      "<ipython-input-86-856457ba8a0b>:1: DeprecationWarning: find_element_by_* commands are deprecated. Please use find_element() instead\n",
      "  search_button = driver.find_element_by_xpath(\"//button[@class='L0Z3Pu']\")\n"
     ]
    }
   ],
   "source": [
    "search_button = driver.find_element_by_xpath(\"//button[@class='L0Z3Pu']\")\n",
    "search_button.click()"
   ]
  },
  {
   "cell_type": "markdown",
   "id": "0541bf0b",
   "metadata": {},
   "source": [
    "# now make empty list:"
   ]
  },
  {
   "cell_type": "code",
   "execution_count": 87,
   "id": "c3d910a2",
   "metadata": {},
   "outputs": [],
   "source": [
    "brand_list = []\n",
    "specification_list = []\n",
    "price_list = []\n",
    "Discount_list = []"
   ]
  },
  {
   "cell_type": "code",
   "execution_count": 88,
   "id": "30dd7701",
   "metadata": {
    "scrolled": true
   },
   "outputs": [
    {
     "name": "stderr",
     "output_type": "stream",
     "text": [
      "<ipython-input-88-3e742e09359a>:1: DeprecationWarning: find_elements_by_* commands are deprecated. Please use find_elements() instead\n",
      "  brand_tags = driver.find_elements_by_xpath(\"//div[@class='_2WkVRV']\")\n"
     ]
    },
    {
     "data": {
      "text/plain": [
       "[<selenium.webdriver.remote.webelement.WebElement (session=\"5a61c0d16beb4b5411c668162f850197\", element=\"6b3bdb1b-08dc-4d72-83a7-a9559a9500cc\")>,\n",
       " <selenium.webdriver.remote.webelement.WebElement (session=\"5a61c0d16beb4b5411c668162f850197\", element=\"c7e89a8d-5e01-4b61-9dcc-e9371ebf6d24\")>,\n",
       " <selenium.webdriver.remote.webelement.WebElement (session=\"5a61c0d16beb4b5411c668162f850197\", element=\"0e0eeffa-6d89-46d3-98eb-8d027d5b8684\")>,\n",
       " <selenium.webdriver.remote.webelement.WebElement (session=\"5a61c0d16beb4b5411c668162f850197\", element=\"04a09474-17b8-4fc6-84ac-d49780e09d99\")>,\n",
       " <selenium.webdriver.remote.webelement.WebElement (session=\"5a61c0d16beb4b5411c668162f850197\", element=\"145fd054-dd91-4a23-bb80-5fa4afd64e1d\")>,\n",
       " <selenium.webdriver.remote.webelement.WebElement (session=\"5a61c0d16beb4b5411c668162f850197\", element=\"7c49ae93-c2d0-4708-ac1a-76cbe32e1ada\")>,\n",
       " <selenium.webdriver.remote.webelement.WebElement (session=\"5a61c0d16beb4b5411c668162f850197\", element=\"f1ff59fb-9ebf-4145-841b-1d7042923ac1\")>,\n",
       " <selenium.webdriver.remote.webelement.WebElement (session=\"5a61c0d16beb4b5411c668162f850197\", element=\"33b9bf2a-6f86-491c-8662-34a2a307871d\")>,\n",
       " <selenium.webdriver.remote.webelement.WebElement (session=\"5a61c0d16beb4b5411c668162f850197\", element=\"0a5775d6-f0d0-4cef-8fad-8acd41d2fc8e\")>,\n",
       " <selenium.webdriver.remote.webelement.WebElement (session=\"5a61c0d16beb4b5411c668162f850197\", element=\"ac4cea9a-4947-48fb-9e3b-3c58e4056068\")>,\n",
       " <selenium.webdriver.remote.webelement.WebElement (session=\"5a61c0d16beb4b5411c668162f850197\", element=\"72b9bc48-e20b-4386-b356-5c66a8626356\")>,\n",
       " <selenium.webdriver.remote.webelement.WebElement (session=\"5a61c0d16beb4b5411c668162f850197\", element=\"46e93b0f-b5d9-496c-8cf3-4fe298730279\")>,\n",
       " <selenium.webdriver.remote.webelement.WebElement (session=\"5a61c0d16beb4b5411c668162f850197\", element=\"556bf4f6-2038-4a70-9224-4aa4afe6ae94\")>,\n",
       " <selenium.webdriver.remote.webelement.WebElement (session=\"5a61c0d16beb4b5411c668162f850197\", element=\"b85e9e5e-d6cd-4e2f-807a-5e7d2dae7996\")>,\n",
       " <selenium.webdriver.remote.webelement.WebElement (session=\"5a61c0d16beb4b5411c668162f850197\", element=\"7c95ef79-ab4f-4ddb-86a9-215db8b514ef\")>,\n",
       " <selenium.webdriver.remote.webelement.WebElement (session=\"5a61c0d16beb4b5411c668162f850197\", element=\"fb72f28f-0698-4dfe-96ec-af4f5600a2b2\")>,\n",
       " <selenium.webdriver.remote.webelement.WebElement (session=\"5a61c0d16beb4b5411c668162f850197\", element=\"f0f919bc-03f2-4faa-8114-2b5b215f712e\")>,\n",
       " <selenium.webdriver.remote.webelement.WebElement (session=\"5a61c0d16beb4b5411c668162f850197\", element=\"2eb3ca80-8455-421c-992d-101c169ccb13\")>,\n",
       " <selenium.webdriver.remote.webelement.WebElement (session=\"5a61c0d16beb4b5411c668162f850197\", element=\"97cd1ee9-1809-4df1-8cad-009370cd774e\")>,\n",
       " <selenium.webdriver.remote.webelement.WebElement (session=\"5a61c0d16beb4b5411c668162f850197\", element=\"bf54cc36-76da-4f73-9283-1b02dad0f15d\")>,\n",
       " <selenium.webdriver.remote.webelement.WebElement (session=\"5a61c0d16beb4b5411c668162f850197\", element=\"56ad10ec-23b7-4589-b6c8-79e9cd287080\")>,\n",
       " <selenium.webdriver.remote.webelement.WebElement (session=\"5a61c0d16beb4b5411c668162f850197\", element=\"0222729b-a35d-4a49-abed-a6c6b66c826d\")>,\n",
       " <selenium.webdriver.remote.webelement.WebElement (session=\"5a61c0d16beb4b5411c668162f850197\", element=\"de6f440b-9d73-4639-8b3b-598815b63b20\")>,\n",
       " <selenium.webdriver.remote.webelement.WebElement (session=\"5a61c0d16beb4b5411c668162f850197\", element=\"0c47844d-d66d-49ad-b028-25c811f127ec\")>,\n",
       " <selenium.webdriver.remote.webelement.WebElement (session=\"5a61c0d16beb4b5411c668162f850197\", element=\"1c690b3b-9520-459c-9b38-0325c474a8b3\")>,\n",
       " <selenium.webdriver.remote.webelement.WebElement (session=\"5a61c0d16beb4b5411c668162f850197\", element=\"478d1d1e-78cd-425e-8869-e67275a48d0d\")>,\n",
       " <selenium.webdriver.remote.webelement.WebElement (session=\"5a61c0d16beb4b5411c668162f850197\", element=\"799f2398-e8db-4fea-8f93-32e4d37af614\")>,\n",
       " <selenium.webdriver.remote.webelement.WebElement (session=\"5a61c0d16beb4b5411c668162f850197\", element=\"d98048b0-e9df-4637-b394-8282fd350d5b\")>,\n",
       " <selenium.webdriver.remote.webelement.WebElement (session=\"5a61c0d16beb4b5411c668162f850197\", element=\"4580c36f-a7d2-4628-bbe9-b2a50cd7cde4\")>,\n",
       " <selenium.webdriver.remote.webelement.WebElement (session=\"5a61c0d16beb4b5411c668162f850197\", element=\"cdb27750-2d29-42ef-a4a4-92fdac8c0d7c\")>,\n",
       " <selenium.webdriver.remote.webelement.WebElement (session=\"5a61c0d16beb4b5411c668162f850197\", element=\"eef5b375-6f23-4617-ac1d-98ecfc54e5df\")>,\n",
       " <selenium.webdriver.remote.webelement.WebElement (session=\"5a61c0d16beb4b5411c668162f850197\", element=\"d5fffc0d-fa8f-4595-a66a-8cb6a61fa872\")>,\n",
       " <selenium.webdriver.remote.webelement.WebElement (session=\"5a61c0d16beb4b5411c668162f850197\", element=\"bfdbb872-96f1-48b1-8da1-f739157fb1f4\")>,\n",
       " <selenium.webdriver.remote.webelement.WebElement (session=\"5a61c0d16beb4b5411c668162f850197\", element=\"8babddb8-3188-471f-bee0-9fdb0c5f6077\")>,\n",
       " <selenium.webdriver.remote.webelement.WebElement (session=\"5a61c0d16beb4b5411c668162f850197\", element=\"fa4c3d58-7f63-4361-8400-6d747d468312\")>,\n",
       " <selenium.webdriver.remote.webelement.WebElement (session=\"5a61c0d16beb4b5411c668162f850197\", element=\"3e8f7623-0bff-4a5f-8cf9-bef11f8aa745\")>,\n",
       " <selenium.webdriver.remote.webelement.WebElement (session=\"5a61c0d16beb4b5411c668162f850197\", element=\"e2184ba8-e330-400d-9f67-00a80aba1d7c\")>,\n",
       " <selenium.webdriver.remote.webelement.WebElement (session=\"5a61c0d16beb4b5411c668162f850197\", element=\"0f0fb7d9-0d65-48ae-a418-a70a9358d354\")>,\n",
       " <selenium.webdriver.remote.webelement.WebElement (session=\"5a61c0d16beb4b5411c668162f850197\", element=\"6d39ec84-3934-484a-9973-4bc71a252d31\")>,\n",
       " <selenium.webdriver.remote.webelement.WebElement (session=\"5a61c0d16beb4b5411c668162f850197\", element=\"4198b8cc-7be5-4ccb-bd71-3863fc5cc592\")>]"
      ]
     },
     "execution_count": 88,
     "metadata": {},
     "output_type": "execute_result"
    }
   ],
   "source": [
    "brand_tags = driver.find_elements_by_xpath(\"//div[@class='_2WkVRV']\")\n",
    "brand_tags"
   ]
  },
  {
   "cell_type": "code",
   "execution_count": 89,
   "id": "00f1e384",
   "metadata": {},
   "outputs": [
    {
     "data": {
      "text/plain": [
       "['SRPM',\n",
       " 'Elligator',\n",
       " 'New Specs',\n",
       " 'PIRASO',\n",
       " 'kingsunglasses',\n",
       " 'kingsunglasses',\n",
       " 'SHAAH COLLECTIONS',\n",
       " 'ROZZETTA CRAFT',\n",
       " 'SUNBEE',\n",
       " 'Fastrack',\n",
       " 'kingsunglasses',\n",
       " 'New Specs',\n",
       " 'Singco India',\n",
       " 'ROZZETTA CRAFT',\n",
       " 'PIRASO',\n",
       " 'PHENOMENAL',\n",
       " 'Fastrack',\n",
       " 'PHENOMENAL',\n",
       " 'PIRASO',\n",
       " 'ROYAL SON',\n",
       " 'Fastrack',\n",
       " 'SHAAH COLLECTIONS',\n",
       " 'PIRASO',\n",
       " 'ROZZETTA CRAFT',\n",
       " 'PIRASO',\n",
       " 'PIRASO',\n",
       " 'PIRASO',\n",
       " 'Singco India',\n",
       " 'agera',\n",
       " 'Rich Club',\n",
       " 'ROYAL SON',\n",
       " 'PIRASO',\n",
       " 'PHENOMENAL',\n",
       " 'ROYAL SON',\n",
       " 'Elligator',\n",
       " 'ROZZETTA CRAFT',\n",
       " 'kingsunglasses',\n",
       " 'kingsunglasses',\n",
       " 'Lee Topper',\n",
       " 'SUNBEE']"
      ]
     },
     "execution_count": 89,
     "metadata": {},
     "output_type": "execute_result"
    }
   ],
   "source": [
    "for i in brand_tags:\n",
    "    title=i.text\n",
    "    brand_list.append(title)\n",
    "brand_list"
   ]
  },
  {
   "cell_type": "code",
   "execution_count": 90,
   "id": "1afedee8",
   "metadata": {},
   "outputs": [
    {
     "name": "stderr",
     "output_type": "stream",
     "text": [
      "<ipython-input-90-7dc493fd51e9>:1: DeprecationWarning: find_elements_by_* commands are deprecated. Please use find_elements() instead\n",
      "  specs_tag = driver.find_elements_by_xpath(\"//a[@class='IRpwTa']\")\n"
     ]
    },
    {
     "data": {
      "text/plain": [
       "[<selenium.webdriver.remote.webelement.WebElement (session=\"5a61c0d16beb4b5411c668162f850197\", element=\"00d789ec-cd0c-4178-aff2-6dc8186e32ca\")>,\n",
       " <selenium.webdriver.remote.webelement.WebElement (session=\"5a61c0d16beb4b5411c668162f850197\", element=\"fb2c714f-e0aa-4a19-b5f4-8aada78aa3de\")>,\n",
       " <selenium.webdriver.remote.webelement.WebElement (session=\"5a61c0d16beb4b5411c668162f850197\", element=\"706c7246-3eb3-421b-a411-574f800dbf54\")>,\n",
       " <selenium.webdriver.remote.webelement.WebElement (session=\"5a61c0d16beb4b5411c668162f850197\", element=\"96a0b894-512f-4ada-a50f-6aae30ef86d4\")>,\n",
       " <selenium.webdriver.remote.webelement.WebElement (session=\"5a61c0d16beb4b5411c668162f850197\", element=\"8ee10844-9cc9-4d3d-946a-5478c83242fe\")>,\n",
       " <selenium.webdriver.remote.webelement.WebElement (session=\"5a61c0d16beb4b5411c668162f850197\", element=\"7ad6602a-de7e-4c26-8ad5-529726d15afa\")>,\n",
       " <selenium.webdriver.remote.webelement.WebElement (session=\"5a61c0d16beb4b5411c668162f850197\", element=\"46c0df28-f373-461b-bb5a-a733b898b553\")>,\n",
       " <selenium.webdriver.remote.webelement.WebElement (session=\"5a61c0d16beb4b5411c668162f850197\", element=\"7bca7394-075c-415b-b8e0-34c62950fda5\")>,\n",
       " <selenium.webdriver.remote.webelement.WebElement (session=\"5a61c0d16beb4b5411c668162f850197\", element=\"1c08bda6-4bcd-4551-ace3-a00b8df8c67e\")>,\n",
       " <selenium.webdriver.remote.webelement.WebElement (session=\"5a61c0d16beb4b5411c668162f850197\", element=\"cff1793c-dc60-4532-bf9a-8fe817d59ce2\")>,\n",
       " <selenium.webdriver.remote.webelement.WebElement (session=\"5a61c0d16beb4b5411c668162f850197\", element=\"da3f4291-b235-4a8b-814e-c2ca44cd424e\")>,\n",
       " <selenium.webdriver.remote.webelement.WebElement (session=\"5a61c0d16beb4b5411c668162f850197\", element=\"c771f0a8-a952-4aa6-8fad-deabcc89f3cb\")>,\n",
       " <selenium.webdriver.remote.webelement.WebElement (session=\"5a61c0d16beb4b5411c668162f850197\", element=\"5504649f-dadf-41a0-b7c4-518f2d4d2fb4\")>,\n",
       " <selenium.webdriver.remote.webelement.WebElement (session=\"5a61c0d16beb4b5411c668162f850197\", element=\"3efbea06-6aad-4da7-bf51-867ac92422b5\")>,\n",
       " <selenium.webdriver.remote.webelement.WebElement (session=\"5a61c0d16beb4b5411c668162f850197\", element=\"8af55933-616f-417b-b0df-9cf1a7ed21c0\")>,\n",
       " <selenium.webdriver.remote.webelement.WebElement (session=\"5a61c0d16beb4b5411c668162f850197\", element=\"901eead5-5e7c-47a9-87ad-3b8c42ab8900\")>,\n",
       " <selenium.webdriver.remote.webelement.WebElement (session=\"5a61c0d16beb4b5411c668162f850197\", element=\"2c8d3245-b9b4-4eb6-b683-df1e4025c09a\")>,\n",
       " <selenium.webdriver.remote.webelement.WebElement (session=\"5a61c0d16beb4b5411c668162f850197\", element=\"3b0c9f61-9638-45c6-bb7f-51173d5fdc75\")>,\n",
       " <selenium.webdriver.remote.webelement.WebElement (session=\"5a61c0d16beb4b5411c668162f850197\", element=\"95cc6947-9ff3-4803-ae29-e05029aea8bd\")>,\n",
       " <selenium.webdriver.remote.webelement.WebElement (session=\"5a61c0d16beb4b5411c668162f850197\", element=\"4fe34c44-7cbe-453e-96be-e9e54c405fff\")>,\n",
       " <selenium.webdriver.remote.webelement.WebElement (session=\"5a61c0d16beb4b5411c668162f850197\", element=\"e02b57f7-0d19-4b9d-aa4f-d64c6f1fe206\")>,\n",
       " <selenium.webdriver.remote.webelement.WebElement (session=\"5a61c0d16beb4b5411c668162f850197\", element=\"c98ae3a4-4e4a-4d56-b595-fcd0440cdaf0\")>,\n",
       " <selenium.webdriver.remote.webelement.WebElement (session=\"5a61c0d16beb4b5411c668162f850197\", element=\"74e1d803-462c-46a6-aaac-2bf427d9379e\")>,\n",
       " <selenium.webdriver.remote.webelement.WebElement (session=\"5a61c0d16beb4b5411c668162f850197\", element=\"161e7d2a-3c91-4ef9-a1a8-d0b038fe07eb\")>,\n",
       " <selenium.webdriver.remote.webelement.WebElement (session=\"5a61c0d16beb4b5411c668162f850197\", element=\"e8d75225-2c45-42de-84fa-9599689246de\")>,\n",
       " <selenium.webdriver.remote.webelement.WebElement (session=\"5a61c0d16beb4b5411c668162f850197\", element=\"2a3f8408-a386-4f56-82f6-d4b6a3be1ceb\")>,\n",
       " <selenium.webdriver.remote.webelement.WebElement (session=\"5a61c0d16beb4b5411c668162f850197\", element=\"5e3a52a7-f360-4fd2-9bb7-95e94fe5e0e5\")>,\n",
       " <selenium.webdriver.remote.webelement.WebElement (session=\"5a61c0d16beb4b5411c668162f850197\", element=\"dd772303-9e62-4369-96e1-cecd3c2296a6\")>,\n",
       " <selenium.webdriver.remote.webelement.WebElement (session=\"5a61c0d16beb4b5411c668162f850197\", element=\"9eacf333-54cc-410a-acab-b5996b0c7011\")>,\n",
       " <selenium.webdriver.remote.webelement.WebElement (session=\"5a61c0d16beb4b5411c668162f850197\", element=\"c2977c68-177e-4823-a5f2-33cc0765c484\")>,\n",
       " <selenium.webdriver.remote.webelement.WebElement (session=\"5a61c0d16beb4b5411c668162f850197\", element=\"8c5baa6c-0c30-4488-ab46-3622d68c3f7d\")>,\n",
       " <selenium.webdriver.remote.webelement.WebElement (session=\"5a61c0d16beb4b5411c668162f850197\", element=\"c8de1094-931d-4502-9122-04e3452db1b6\")>,\n",
       " <selenium.webdriver.remote.webelement.WebElement (session=\"5a61c0d16beb4b5411c668162f850197\", element=\"8370c3a1-4a3e-4311-8765-e3c00fb97f65\")>,\n",
       " <selenium.webdriver.remote.webelement.WebElement (session=\"5a61c0d16beb4b5411c668162f850197\", element=\"ae7f167c-fec1-4204-90a7-64c0a31d6805\")>,\n",
       " <selenium.webdriver.remote.webelement.WebElement (session=\"5a61c0d16beb4b5411c668162f850197\", element=\"965eb43a-b1fd-4c73-998e-147881b36e0a\")>,\n",
       " <selenium.webdriver.remote.webelement.WebElement (session=\"5a61c0d16beb4b5411c668162f850197\", element=\"7c4e54b4-7ed2-4f88-947a-d7f208b09a39\")>,\n",
       " <selenium.webdriver.remote.webelement.WebElement (session=\"5a61c0d16beb4b5411c668162f850197\", element=\"d8c27419-4a8d-429f-95d5-2f5cf29fc65a\")>,\n",
       " <selenium.webdriver.remote.webelement.WebElement (session=\"5a61c0d16beb4b5411c668162f850197\", element=\"6804b74c-eecb-402f-ae1c-7b1917f89778\")>,\n",
       " <selenium.webdriver.remote.webelement.WebElement (session=\"5a61c0d16beb4b5411c668162f850197\", element=\"7a09cfc1-7086-4b30-b8f5-8b3e739262fe\")>,\n",
       " <selenium.webdriver.remote.webelement.WebElement (session=\"5a61c0d16beb4b5411c668162f850197\", element=\"531e692f-e77a-4d4d-8e32-d2f7c86164d6\")>]"
      ]
     },
     "execution_count": 90,
     "metadata": {},
     "output_type": "execute_result"
    }
   ],
   "source": [
    "specs_tag = driver.find_elements_by_xpath(\"//a[@class='IRpwTa']\")\n",
    "specs_tag"
   ]
  },
  {
   "cell_type": "code",
   "execution_count": 91,
   "id": "3fe14c74",
   "metadata": {},
   "outputs": [
    {
     "data": {
      "text/plain": [
       "['UV Protection Wayfarer Sunglasses (56)',\n",
       " 'UV Protection Round Sunglasses (54)',\n",
       " 'UV Protection Rectangular Sunglasses (Free Size)',\n",
       " 'UV Protection Aviator Sunglasses (54)',\n",
       " 'UV Protection Round Sunglasses (54)',\n",
       " 'Mirrored, UV Protection Wayfarer Sunglasses (53)',\n",
       " 'UV Protection, Polarized, Mirrored Rectangular Sunglass...',\n",
       " 'UV Protection, Gradient Rectangular Sunglasses (Free Si...',\n",
       " 'UV Protection, Polarized, Mirrored Round Sunglasses (Fr...',\n",
       " 'UV Protection Wayfarer Sunglasses (Free Size)',\n",
       " 'UV Protection, Riding Glasses, Mirrored Wayfarer Sungla...',\n",
       " 'Mirrored, UV Protection, Riding Glasses, Others Round S...',\n",
       " 'Mirrored, Riding Glasses, Others Sports Sunglasses (50)',\n",
       " 'UV Protection Retro Square Sunglasses (Free Size)',\n",
       " 'UV Protection Wayfarer Sunglasses (32)',\n",
       " 'UV Protection Retro Square Sunglasses (Free Size)',\n",
       " 'Gradient, UV Protection Wayfarer Sunglasses (Free Size)',\n",
       " 'UV Protection, Mirrored Retro Square Sunglasses (53)',\n",
       " 'UV Protection Aviator Sunglasses (54)',\n",
       " 'Mirrored Aviator Sunglasses (55)',\n",
       " 'UV Protection Rectangular Sunglasses (Free Size)',\n",
       " 'UV Protection, Polarized, Mirrored Rectangular Sunglass...',\n",
       " 'UV Protection, Polarized Aviator Sunglasses (32)',\n",
       " 'UV Protection Round Sunglasses (Free Size)',\n",
       " 'UV Protection Aviator Sunglasses (55)',\n",
       " 'UV Protection Butterfly Sunglasses (65)',\n",
       " 'UV Protection Aviator Sunglasses (58)',\n",
       " 'UV Protection, Riding Glasses, Others Aviator, Wayfarer...',\n",
       " 'Gradient Aviator Sunglasses (55)',\n",
       " 'Polarized Round Sunglasses (48)',\n",
       " 'UV Protection Rectangular Sunglasses (58)',\n",
       " 'UV Protection Aviator Sunglasses (Free Size)',\n",
       " 'UV Protection Clubmaster Sunglasses (Free Size)',\n",
       " 'Mirrored Aviator Sunglasses (55)',\n",
       " 'UV Protection Round Sunglasses (55)',\n",
       " 'UV Protection, Gradient Rectangular Sunglasses (Free Si...',\n",
       " 'UV Protection Round Sunglasses (Free Size)',\n",
       " 'UV Protection Rectangular Sunglasses (Free Size)',\n",
       " 'Riding Glasses, Night Vision Wrap-around Sunglasses (Fr...',\n",
       " 'UV Protection, Polarized Wayfarer Sunglasses (Free Size...']"
      ]
     },
     "execution_count": 91,
     "metadata": {},
     "output_type": "execute_result"
    }
   ],
   "source": [
    "for i in specs_tag:\n",
    "    title=i.text\n",
    "    specification_list.append(title)\n",
    "specification_list"
   ]
  },
  {
   "cell_type": "code",
   "execution_count": 92,
   "id": "eca1ab05",
   "metadata": {},
   "outputs": [
    {
     "name": "stderr",
     "output_type": "stream",
     "text": [
      "<ipython-input-92-6b1bdb0c1bbe>:1: DeprecationWarning: find_elements_by_* commands are deprecated. Please use find_elements() instead\n",
      "  price_tags = driver.find_elements_by_xpath(\"//div[@class='_30jeq3']\")\n"
     ]
    },
    {
     "data": {
      "text/plain": [
       "[<selenium.webdriver.remote.webelement.WebElement (session=\"5a61c0d16beb4b5411c668162f850197\", element=\"06f9447c-0af6-4153-841c-acc5d5929716\")>,\n",
       " <selenium.webdriver.remote.webelement.WebElement (session=\"5a61c0d16beb4b5411c668162f850197\", element=\"35fe71be-3e78-45d8-9ffd-700c1c2f5db9\")>,\n",
       " <selenium.webdriver.remote.webelement.WebElement (session=\"5a61c0d16beb4b5411c668162f850197\", element=\"9a3fde9e-1d4a-42b7-82db-2a4ae617ee11\")>,\n",
       " <selenium.webdriver.remote.webelement.WebElement (session=\"5a61c0d16beb4b5411c668162f850197\", element=\"00ac567d-9d5b-49d8-b51b-61c30cf935ae\")>,\n",
       " <selenium.webdriver.remote.webelement.WebElement (session=\"5a61c0d16beb4b5411c668162f850197\", element=\"9d2087f8-b77e-4a9a-b68a-f54a68ae996d\")>,\n",
       " <selenium.webdriver.remote.webelement.WebElement (session=\"5a61c0d16beb4b5411c668162f850197\", element=\"f424a7f8-f295-486d-9922-599bf68e9296\")>,\n",
       " <selenium.webdriver.remote.webelement.WebElement (session=\"5a61c0d16beb4b5411c668162f850197\", element=\"0279ce4f-c29e-4d89-bae8-00f44aca88ce\")>,\n",
       " <selenium.webdriver.remote.webelement.WebElement (session=\"5a61c0d16beb4b5411c668162f850197\", element=\"64621ac9-8e8e-4e16-9889-f2e972e4ac16\")>,\n",
       " <selenium.webdriver.remote.webelement.WebElement (session=\"5a61c0d16beb4b5411c668162f850197\", element=\"d2ac9e3e-dd14-4965-b586-75277e78e3a6\")>,\n",
       " <selenium.webdriver.remote.webelement.WebElement (session=\"5a61c0d16beb4b5411c668162f850197\", element=\"84dac45f-f98e-4986-ab8b-21a5e66cc845\")>,\n",
       " <selenium.webdriver.remote.webelement.WebElement (session=\"5a61c0d16beb4b5411c668162f850197\", element=\"6151f51a-64b0-40fc-bc33-65669a4f3ea6\")>,\n",
       " <selenium.webdriver.remote.webelement.WebElement (session=\"5a61c0d16beb4b5411c668162f850197\", element=\"f0fddd6a-c891-408a-940d-2da03fbc03fa\")>,\n",
       " <selenium.webdriver.remote.webelement.WebElement (session=\"5a61c0d16beb4b5411c668162f850197\", element=\"4dd76f00-504a-47f4-9a40-27ae800fd30a\")>,\n",
       " <selenium.webdriver.remote.webelement.WebElement (session=\"5a61c0d16beb4b5411c668162f850197\", element=\"60223505-28fa-4d87-b3ce-92b5ba888bfd\")>,\n",
       " <selenium.webdriver.remote.webelement.WebElement (session=\"5a61c0d16beb4b5411c668162f850197\", element=\"bedc2da4-284a-45f1-a48d-75d8df5f3a28\")>,\n",
       " <selenium.webdriver.remote.webelement.WebElement (session=\"5a61c0d16beb4b5411c668162f850197\", element=\"9f4eb3a9-fb1b-4f62-b80d-f1fc62e480cc\")>,\n",
       " <selenium.webdriver.remote.webelement.WebElement (session=\"5a61c0d16beb4b5411c668162f850197\", element=\"4498f6c6-5d48-4b72-b96c-1a4b28305fe9\")>,\n",
       " <selenium.webdriver.remote.webelement.WebElement (session=\"5a61c0d16beb4b5411c668162f850197\", element=\"b0218d79-53db-4617-852e-773ba6d9e711\")>,\n",
       " <selenium.webdriver.remote.webelement.WebElement (session=\"5a61c0d16beb4b5411c668162f850197\", element=\"404422be-64d5-4ad8-acd5-ef70add52cc9\")>,\n",
       " <selenium.webdriver.remote.webelement.WebElement (session=\"5a61c0d16beb4b5411c668162f850197\", element=\"1f0b1d60-bea4-47e4-aeaf-8963e0436d1d\")>,\n",
       " <selenium.webdriver.remote.webelement.WebElement (session=\"5a61c0d16beb4b5411c668162f850197\", element=\"980288b3-8122-4486-abd6-6324197eb208\")>,\n",
       " <selenium.webdriver.remote.webelement.WebElement (session=\"5a61c0d16beb4b5411c668162f850197\", element=\"63d4ba58-f5c6-41b5-be74-a4a62bc74b99\")>,\n",
       " <selenium.webdriver.remote.webelement.WebElement (session=\"5a61c0d16beb4b5411c668162f850197\", element=\"a8f4baaf-26ef-4b1b-998a-ee31027bde43\")>,\n",
       " <selenium.webdriver.remote.webelement.WebElement (session=\"5a61c0d16beb4b5411c668162f850197\", element=\"47961d77-7f7d-439e-be2e-69cce7499f10\")>,\n",
       " <selenium.webdriver.remote.webelement.WebElement (session=\"5a61c0d16beb4b5411c668162f850197\", element=\"62075e22-3bf6-4c4f-b3c8-1c0ba648ee33\")>,\n",
       " <selenium.webdriver.remote.webelement.WebElement (session=\"5a61c0d16beb4b5411c668162f850197\", element=\"d8508363-c896-4c5c-900b-9cf8d20d317a\")>,\n",
       " <selenium.webdriver.remote.webelement.WebElement (session=\"5a61c0d16beb4b5411c668162f850197\", element=\"cdb3ed95-2dd3-4cf5-812f-3592e45aed07\")>,\n",
       " <selenium.webdriver.remote.webelement.WebElement (session=\"5a61c0d16beb4b5411c668162f850197\", element=\"8eb07368-a700-4e70-ada8-b04330df725b\")>,\n",
       " <selenium.webdriver.remote.webelement.WebElement (session=\"5a61c0d16beb4b5411c668162f850197\", element=\"c787df23-206b-4bad-9ba4-0ea77c8d3946\")>,\n",
       " <selenium.webdriver.remote.webelement.WebElement (session=\"5a61c0d16beb4b5411c668162f850197\", element=\"aadf252f-c07e-4a44-b0f0-2ea73aa79170\")>,\n",
       " <selenium.webdriver.remote.webelement.WebElement (session=\"5a61c0d16beb4b5411c668162f850197\", element=\"300a5c0d-cd20-4dd4-8443-e5ce291caa0f\")>,\n",
       " <selenium.webdriver.remote.webelement.WebElement (session=\"5a61c0d16beb4b5411c668162f850197\", element=\"2b541587-7f9a-4f7b-af9d-dc3d206001c3\")>,\n",
       " <selenium.webdriver.remote.webelement.WebElement (session=\"5a61c0d16beb4b5411c668162f850197\", element=\"0802c1ea-acc8-4c11-b5d1-ba26de74310a\")>,\n",
       " <selenium.webdriver.remote.webelement.WebElement (session=\"5a61c0d16beb4b5411c668162f850197\", element=\"a6c682e8-0ef0-4d1c-a006-3d9c18baa930\")>,\n",
       " <selenium.webdriver.remote.webelement.WebElement (session=\"5a61c0d16beb4b5411c668162f850197\", element=\"c02787c0-51a6-4b69-a047-ad431fa9e65d\")>,\n",
       " <selenium.webdriver.remote.webelement.WebElement (session=\"5a61c0d16beb4b5411c668162f850197\", element=\"3e953b1e-99db-4ad5-96c8-6fd91c107b3b\")>,\n",
       " <selenium.webdriver.remote.webelement.WebElement (session=\"5a61c0d16beb4b5411c668162f850197\", element=\"07554c58-2dc3-410b-8378-0f97865fbefa\")>,\n",
       " <selenium.webdriver.remote.webelement.WebElement (session=\"5a61c0d16beb4b5411c668162f850197\", element=\"f21c4f40-aaaf-4119-9690-1b7dd23e84f3\")>,\n",
       " <selenium.webdriver.remote.webelement.WebElement (session=\"5a61c0d16beb4b5411c668162f850197\", element=\"1edb0a60-0687-4f37-9ee1-1646755feb55\")>,\n",
       " <selenium.webdriver.remote.webelement.WebElement (session=\"5a61c0d16beb4b5411c668162f850197\", element=\"0e77f350-94b1-408c-9022-d0ab1c5db1fc\")>]"
      ]
     },
     "execution_count": 92,
     "metadata": {},
     "output_type": "execute_result"
    }
   ],
   "source": [
    "price_tags = driver.find_elements_by_xpath(\"//div[@class='_30jeq3']\")\n",
    "price_tags"
   ]
  },
  {
   "cell_type": "code",
   "execution_count": 93,
   "id": "c7ae19f6",
   "metadata": {},
   "outputs": [
    {
     "data": {
      "text/plain": [
       "['₹188',\n",
       " '₹248',\n",
       " '₹259',\n",
       " '₹200',\n",
       " '₹189',\n",
       " '₹274',\n",
       " '₹170',\n",
       " '₹383',\n",
       " '₹271',\n",
       " '₹699',\n",
       " '₹187',\n",
       " '₹259',\n",
       " '₹194',\n",
       " '₹474',\n",
       " '₹187',\n",
       " '₹319',\n",
       " '₹599',\n",
       " '₹299',\n",
       " '₹187',\n",
       " '₹359',\n",
       " '₹639',\n",
       " '₹181',\n",
       " '₹164',\n",
       " '₹426',\n",
       " '₹179',\n",
       " '₹359',\n",
       " '₹299',\n",
       " '₹229',\n",
       " '₹196',\n",
       " '₹163',\n",
       " '₹449',\n",
       " '₹261',\n",
       " '₹287',\n",
       " '₹359',\n",
       " '₹239',\n",
       " '₹396',\n",
       " '₹299',\n",
       " '₹192',\n",
       " '₹276',\n",
       " '₹276']"
      ]
     },
     "execution_count": 93,
     "metadata": {},
     "output_type": "execute_result"
    }
   ],
   "source": [
    "for i in price_tags:\n",
    "    title=i.text\n",
    "    price_list.append(title)\n",
    "price_list"
   ]
  },
  {
   "cell_type": "code",
   "execution_count": 94,
   "id": "488d794e",
   "metadata": {},
   "outputs": [
    {
     "name": "stderr",
     "output_type": "stream",
     "text": [
      "<ipython-input-94-639f5454f3d0>:1: DeprecationWarning: find_elements_by_* commands are deprecated. Please use find_elements() instead\n",
      "  dis_tags = driver.find_elements_by_xpath(\"//div[@class='_3Ay6Sb']\")\n"
     ]
    },
    {
     "data": {
      "text/plain": [
       "[<selenium.webdriver.remote.webelement.WebElement (session=\"5a61c0d16beb4b5411c668162f850197\", element=\"02b4c2d8-9464-48ee-9d73-867b55da6009\")>,\n",
       " <selenium.webdriver.remote.webelement.WebElement (session=\"5a61c0d16beb4b5411c668162f850197\", element=\"e6a16aaf-76be-41ee-a2f4-81fa933b03d6\")>,\n",
       " <selenium.webdriver.remote.webelement.WebElement (session=\"5a61c0d16beb4b5411c668162f850197\", element=\"84f0d281-4f5b-4289-9459-ab99306e4a5f\")>,\n",
       " <selenium.webdriver.remote.webelement.WebElement (session=\"5a61c0d16beb4b5411c668162f850197\", element=\"20027f34-0d38-4ab3-a610-aad6ee5f533c\")>,\n",
       " <selenium.webdriver.remote.webelement.WebElement (session=\"5a61c0d16beb4b5411c668162f850197\", element=\"50552307-bd8d-4972-8103-30940b6bb245\")>,\n",
       " <selenium.webdriver.remote.webelement.WebElement (session=\"5a61c0d16beb4b5411c668162f850197\", element=\"ed513e89-4884-4a73-b7e5-3f7e0f64725c\")>,\n",
       " <selenium.webdriver.remote.webelement.WebElement (session=\"5a61c0d16beb4b5411c668162f850197\", element=\"748d3e3c-a9e4-4059-baba-5c182cfc73db\")>,\n",
       " <selenium.webdriver.remote.webelement.WebElement (session=\"5a61c0d16beb4b5411c668162f850197\", element=\"e4e6174a-a0e9-42aa-9198-9494e80f5e24\")>,\n",
       " <selenium.webdriver.remote.webelement.WebElement (session=\"5a61c0d16beb4b5411c668162f850197\", element=\"dbbfcdcc-0778-4195-b3bd-59b18ea011ea\")>,\n",
       " <selenium.webdriver.remote.webelement.WebElement (session=\"5a61c0d16beb4b5411c668162f850197\", element=\"fc581244-8b05-4774-855a-18595bb196b8\")>,\n",
       " <selenium.webdriver.remote.webelement.WebElement (session=\"5a61c0d16beb4b5411c668162f850197\", element=\"c22e0a2c-d505-4f2b-bc81-0b63349aefe4\")>,\n",
       " <selenium.webdriver.remote.webelement.WebElement (session=\"5a61c0d16beb4b5411c668162f850197\", element=\"51e1c3e7-d468-4488-8084-764f33103d53\")>,\n",
       " <selenium.webdriver.remote.webelement.WebElement (session=\"5a61c0d16beb4b5411c668162f850197\", element=\"69ecb6aa-c3b8-40b6-b8ff-b81c7e7d1d46\")>,\n",
       " <selenium.webdriver.remote.webelement.WebElement (session=\"5a61c0d16beb4b5411c668162f850197\", element=\"a0b34d20-a87c-4e5d-b2c9-36fbfdd9d453\")>,\n",
       " <selenium.webdriver.remote.webelement.WebElement (session=\"5a61c0d16beb4b5411c668162f850197\", element=\"8d7f0b22-2d21-47b7-87c1-1a1448ee3b61\")>,\n",
       " <selenium.webdriver.remote.webelement.WebElement (session=\"5a61c0d16beb4b5411c668162f850197\", element=\"911602f6-6e5d-4811-858b-0055558f8aa7\")>,\n",
       " <selenium.webdriver.remote.webelement.WebElement (session=\"5a61c0d16beb4b5411c668162f850197\", element=\"1c84e5de-7d65-45e7-b646-5dd72d6bfcda\")>,\n",
       " <selenium.webdriver.remote.webelement.WebElement (session=\"5a61c0d16beb4b5411c668162f850197\", element=\"082847ad-5ca6-4af8-a45b-b79b7178210a\")>,\n",
       " <selenium.webdriver.remote.webelement.WebElement (session=\"5a61c0d16beb4b5411c668162f850197\", element=\"e1b42b27-7d6f-4535-af41-9220d53ddf01\")>,\n",
       " <selenium.webdriver.remote.webelement.WebElement (session=\"5a61c0d16beb4b5411c668162f850197\", element=\"889d8aab-6a51-4a30-840e-55e71cd21678\")>,\n",
       " <selenium.webdriver.remote.webelement.WebElement (session=\"5a61c0d16beb4b5411c668162f850197\", element=\"44ce7a02-ccc8-42cf-b079-6aa2c7cf5103\")>,\n",
       " <selenium.webdriver.remote.webelement.WebElement (session=\"5a61c0d16beb4b5411c668162f850197\", element=\"e50fc1d2-3cf0-4f25-8750-80b52e6748eb\")>,\n",
       " <selenium.webdriver.remote.webelement.WebElement (session=\"5a61c0d16beb4b5411c668162f850197\", element=\"c57edc7c-8d1a-425e-b8cb-36667d004483\")>,\n",
       " <selenium.webdriver.remote.webelement.WebElement (session=\"5a61c0d16beb4b5411c668162f850197\", element=\"e1acb832-c1ef-4ead-b0a3-65a34c34d17c\")>,\n",
       " <selenium.webdriver.remote.webelement.WebElement (session=\"5a61c0d16beb4b5411c668162f850197\", element=\"e17bfeab-030d-4b09-a4bf-e4a3962f266c\")>,\n",
       " <selenium.webdriver.remote.webelement.WebElement (session=\"5a61c0d16beb4b5411c668162f850197\", element=\"52865fd3-6e0f-4b2c-8c14-f9868b53fc03\")>,\n",
       " <selenium.webdriver.remote.webelement.WebElement (session=\"5a61c0d16beb4b5411c668162f850197\", element=\"018d2aff-e53e-4c5d-98a2-b44f70e1f485\")>,\n",
       " <selenium.webdriver.remote.webelement.WebElement (session=\"5a61c0d16beb4b5411c668162f850197\", element=\"60b143b3-aa2a-4ba6-b674-b485eb54ec7c\")>,\n",
       " <selenium.webdriver.remote.webelement.WebElement (session=\"5a61c0d16beb4b5411c668162f850197\", element=\"e8331135-f953-4fca-b072-bce743fc0bf4\")>,\n",
       " <selenium.webdriver.remote.webelement.WebElement (session=\"5a61c0d16beb4b5411c668162f850197\", element=\"25ae0101-f072-472d-b244-77e34972d2ad\")>,\n",
       " <selenium.webdriver.remote.webelement.WebElement (session=\"5a61c0d16beb4b5411c668162f850197\", element=\"936f1da2-2704-4a17-adac-368b98ad48b2\")>,\n",
       " <selenium.webdriver.remote.webelement.WebElement (session=\"5a61c0d16beb4b5411c668162f850197\", element=\"fe7d6d37-541d-44ac-a65a-9ac56b8ae934\")>,\n",
       " <selenium.webdriver.remote.webelement.WebElement (session=\"5a61c0d16beb4b5411c668162f850197\", element=\"a73eef0a-95d9-4a9b-923d-066235bbbc53\")>,\n",
       " <selenium.webdriver.remote.webelement.WebElement (session=\"5a61c0d16beb4b5411c668162f850197\", element=\"a116102e-3882-4854-b71f-f5001db848e7\")>,\n",
       " <selenium.webdriver.remote.webelement.WebElement (session=\"5a61c0d16beb4b5411c668162f850197\", element=\"7253cbbf-7f3d-4d1b-8fd2-3a8ef7fdb07b\")>,\n",
       " <selenium.webdriver.remote.webelement.WebElement (session=\"5a61c0d16beb4b5411c668162f850197\", element=\"cf244f3c-9923-48a6-8745-018b0986e68f\")>,\n",
       " <selenium.webdriver.remote.webelement.WebElement (session=\"5a61c0d16beb4b5411c668162f850197\", element=\"7dd39f4c-bfb9-4bb9-a78e-35ade04bde66\")>,\n",
       " <selenium.webdriver.remote.webelement.WebElement (session=\"5a61c0d16beb4b5411c668162f850197\", element=\"706bae4c-09a9-40ba-b8aa-27a83296e62d\")>,\n",
       " <selenium.webdriver.remote.webelement.WebElement (session=\"5a61c0d16beb4b5411c668162f850197\", element=\"c8a8ddaf-a8aa-4cf9-9e7b-251b73434344\")>,\n",
       " <selenium.webdriver.remote.webelement.WebElement (session=\"5a61c0d16beb4b5411c668162f850197\", element=\"ee52bf51-ac43-4133-9232-6808ce621823\")>]"
      ]
     },
     "execution_count": 94,
     "metadata": {},
     "output_type": "execute_result"
    }
   ],
   "source": [
    "dis_tags = driver.find_elements_by_xpath(\"//div[@class='_3Ay6Sb']\")\n",
    "dis_tags"
   ]
  },
  {
   "cell_type": "code",
   "execution_count": 95,
   "id": "afcaa6da",
   "metadata": {},
   "outputs": [
    {
     "data": {
      "text/plain": [
       "['85% off',\n",
       " '90% off',\n",
       " '87% off',\n",
       " '87% off',\n",
       " '82% off',\n",
       " '86% off',\n",
       " '89% off',\n",
       " '80% off',\n",
       " '84% off',\n",
       " '22% off',\n",
       " '84% off',\n",
       " '81% off',\n",
       " '87% off',\n",
       " '78% off',\n",
       " '88% off',\n",
       " '84% off',\n",
       " '25% off',\n",
       " '85% off',\n",
       " '88% off',\n",
       " '76% off',\n",
       " '20% off',\n",
       " '81% off',\n",
       " '89% off',\n",
       " '84% off',\n",
       " '88% off',\n",
       " '86% off',\n",
       " '88% off',\n",
       " '67% off',\n",
       " '82% off',\n",
       " '67% off',\n",
       " '70% off',\n",
       " '83% off',\n",
       " '85% off',\n",
       " '76% off',\n",
       " '88% off',\n",
       " '82% off',\n",
       " '81% off',\n",
       " '82% off',\n",
       " '88% off',\n",
       " '78% off']"
      ]
     },
     "execution_count": 95,
     "metadata": {},
     "output_type": "execute_result"
    }
   ],
   "source": [
    "for i in dis_tags:\n",
    "    title=i.text\n",
    "    Discount_list.append(title)\n",
    "Discount_list"
   ]
  },
  {
   "cell_type": "markdown",
   "id": "deda2821",
   "metadata": {},
   "source": [
    "# NEXT PAGE:-"
   ]
  },
  {
   "cell_type": "code",
   "execution_count": 96,
   "id": "89bb5604",
   "metadata": {},
   "outputs": [
    {
     "name": "stderr",
     "output_type": "stream",
     "text": [
      "<ipython-input-96-d9aa70b30d52>:1: DeprecationWarning: find_element_by_* commands are deprecated. Please use find_element() instead\n",
      "  nxt_btn = driver.find_element_by_xpath(\"//a[@class='_1LKTO3']\")\n"
     ]
    }
   ],
   "source": [
    "nxt_btn = driver.find_element_by_xpath(\"//a[@class='_1LKTO3']\")\n",
    "nxt_btn.click()"
   ]
  },
  {
   "cell_type": "markdown",
   "id": "00885a27",
   "metadata": {},
   "source": [
    "Makinh empty lists:"
   ]
  },
  {
   "cell_type": "code",
   "execution_count": 97,
   "id": "4d0d2544",
   "metadata": {},
   "outputs": [],
   "source": [
    "brand_list1 = []\n",
    "specification_list1 = []\n",
    "price_list1 = []\n",
    "Discount_list1 = []"
   ]
  },
  {
   "cell_type": "code",
   "execution_count": 98,
   "id": "3bfa34cb",
   "metadata": {},
   "outputs": [
    {
     "name": "stderr",
     "output_type": "stream",
     "text": [
      "<ipython-input-98-6f9d92be5ffd>:1: DeprecationWarning: find_elements_by_* commands are deprecated. Please use find_elements() instead\n",
      "  brand_tags1 = driver.find_elements_by_xpath(\"//div[@class='_2WkVRV']\")\n"
     ]
    },
    {
     "data": {
      "text/plain": [
       "[<selenium.webdriver.remote.webelement.WebElement (session=\"5a61c0d16beb4b5411c668162f850197\", element=\"4837811f-b5b1-4250-b706-c8e6959c1f1e\")>,\n",
       " <selenium.webdriver.remote.webelement.WebElement (session=\"5a61c0d16beb4b5411c668162f850197\", element=\"d46df2d2-a4f4-44a1-adb1-74c5bb87386b\")>,\n",
       " <selenium.webdriver.remote.webelement.WebElement (session=\"5a61c0d16beb4b5411c668162f850197\", element=\"5175cd33-33d3-47f1-9315-a7836807cee7\")>,\n",
       " <selenium.webdriver.remote.webelement.WebElement (session=\"5a61c0d16beb4b5411c668162f850197\", element=\"b8b84aff-71e8-423b-b72d-e2bc9adfa053\")>,\n",
       " <selenium.webdriver.remote.webelement.WebElement (session=\"5a61c0d16beb4b5411c668162f850197\", element=\"1231ca42-994e-4698-aaea-db94516f4c95\")>,\n",
       " <selenium.webdriver.remote.webelement.WebElement (session=\"5a61c0d16beb4b5411c668162f850197\", element=\"5b66847d-977e-403f-889c-06979a04eeb1\")>,\n",
       " <selenium.webdriver.remote.webelement.WebElement (session=\"5a61c0d16beb4b5411c668162f850197\", element=\"9103f80b-abe1-4033-acaf-9bc37015e6c6\")>,\n",
       " <selenium.webdriver.remote.webelement.WebElement (session=\"5a61c0d16beb4b5411c668162f850197\", element=\"892e3080-d30f-4fb6-b24a-3e6c1064fd22\")>,\n",
       " <selenium.webdriver.remote.webelement.WebElement (session=\"5a61c0d16beb4b5411c668162f850197\", element=\"2fc31c5b-4177-44b9-853f-d873d1aebc27\")>,\n",
       " <selenium.webdriver.remote.webelement.WebElement (session=\"5a61c0d16beb4b5411c668162f850197\", element=\"cc97ee4c-caf1-4100-b7fd-e35a2d45ffd7\")>,\n",
       " <selenium.webdriver.remote.webelement.WebElement (session=\"5a61c0d16beb4b5411c668162f850197\", element=\"3e7cca73-654d-4df6-a16c-481216d80adc\")>,\n",
       " <selenium.webdriver.remote.webelement.WebElement (session=\"5a61c0d16beb4b5411c668162f850197\", element=\"6888f2b0-ce04-4a67-bfdd-b3bccca785d6\")>,\n",
       " <selenium.webdriver.remote.webelement.WebElement (session=\"5a61c0d16beb4b5411c668162f850197\", element=\"6a9c9e11-254c-4c44-8c9b-8a6c3c6e8c52\")>,\n",
       " <selenium.webdriver.remote.webelement.WebElement (session=\"5a61c0d16beb4b5411c668162f850197\", element=\"792200f8-0e2f-4924-acea-bbf310bf86a7\")>,\n",
       " <selenium.webdriver.remote.webelement.WebElement (session=\"5a61c0d16beb4b5411c668162f850197\", element=\"b56443aa-3dbe-4978-a6d1-91fe91a07be7\")>,\n",
       " <selenium.webdriver.remote.webelement.WebElement (session=\"5a61c0d16beb4b5411c668162f850197\", element=\"ff1beee9-6642-4c43-b940-fd28abecbf44\")>,\n",
       " <selenium.webdriver.remote.webelement.WebElement (session=\"5a61c0d16beb4b5411c668162f850197\", element=\"cd1b8079-9be2-473a-8b1e-6c35889f64e2\")>,\n",
       " <selenium.webdriver.remote.webelement.WebElement (session=\"5a61c0d16beb4b5411c668162f850197\", element=\"cde634c7-52a7-4471-a825-f3156439c064\")>,\n",
       " <selenium.webdriver.remote.webelement.WebElement (session=\"5a61c0d16beb4b5411c668162f850197\", element=\"bdb0ca89-8235-409a-9c37-eb71344403f9\")>,\n",
       " <selenium.webdriver.remote.webelement.WebElement (session=\"5a61c0d16beb4b5411c668162f850197\", element=\"fcca8e7e-21df-4bb3-9f59-4bb1bee8d9fc\")>,\n",
       " <selenium.webdriver.remote.webelement.WebElement (session=\"5a61c0d16beb4b5411c668162f850197\", element=\"6af4f5a3-b380-4bf1-b87f-6c1e3351f718\")>,\n",
       " <selenium.webdriver.remote.webelement.WebElement (session=\"5a61c0d16beb4b5411c668162f850197\", element=\"c522b143-6a17-45c0-93fc-33eaf3e800d7\")>,\n",
       " <selenium.webdriver.remote.webelement.WebElement (session=\"5a61c0d16beb4b5411c668162f850197\", element=\"03780cff-fa42-4de8-973e-49d73c3d658e\")>,\n",
       " <selenium.webdriver.remote.webelement.WebElement (session=\"5a61c0d16beb4b5411c668162f850197\", element=\"1bfd93a4-4c5c-42e3-83c7-c8277e895010\")>,\n",
       " <selenium.webdriver.remote.webelement.WebElement (session=\"5a61c0d16beb4b5411c668162f850197\", element=\"e7353bd2-ed5a-4bfd-be24-ca2d6a6ab7f7\")>,\n",
       " <selenium.webdriver.remote.webelement.WebElement (session=\"5a61c0d16beb4b5411c668162f850197\", element=\"e4ca6346-56c1-4666-b644-537a55a7b751\")>,\n",
       " <selenium.webdriver.remote.webelement.WebElement (session=\"5a61c0d16beb4b5411c668162f850197\", element=\"b079b34f-3916-4bf4-a311-8c7ff289c757\")>,\n",
       " <selenium.webdriver.remote.webelement.WebElement (session=\"5a61c0d16beb4b5411c668162f850197\", element=\"804b5e17-1fc6-48cc-81c9-116f6cf30de9\")>,\n",
       " <selenium.webdriver.remote.webelement.WebElement (session=\"5a61c0d16beb4b5411c668162f850197\", element=\"2759e6f1-f9fe-4e68-b40c-cb21a9d49b6f\")>,\n",
       " <selenium.webdriver.remote.webelement.WebElement (session=\"5a61c0d16beb4b5411c668162f850197\", element=\"95c41cd7-488f-4da0-98ad-ffa23b4512d9\")>,\n",
       " <selenium.webdriver.remote.webelement.WebElement (session=\"5a61c0d16beb4b5411c668162f850197\", element=\"ce02aa94-3dca-4c9b-bfb6-309d4f2a07be\")>,\n",
       " <selenium.webdriver.remote.webelement.WebElement (session=\"5a61c0d16beb4b5411c668162f850197\", element=\"039ba366-3960-4d0b-9084-0475c2b5a7ab\")>,\n",
       " <selenium.webdriver.remote.webelement.WebElement (session=\"5a61c0d16beb4b5411c668162f850197\", element=\"83ee188b-74cf-41d8-a848-5bd3b8f3d3cf\")>,\n",
       " <selenium.webdriver.remote.webelement.WebElement (session=\"5a61c0d16beb4b5411c668162f850197\", element=\"48d1c32f-4431-4fd5-88ed-b9d51bdeb665\")>,\n",
       " <selenium.webdriver.remote.webelement.WebElement (session=\"5a61c0d16beb4b5411c668162f850197\", element=\"683833ea-102c-4f33-87df-fc9ce869c476\")>,\n",
       " <selenium.webdriver.remote.webelement.WebElement (session=\"5a61c0d16beb4b5411c668162f850197\", element=\"98409d7b-22a7-4722-a829-490224dec527\")>,\n",
       " <selenium.webdriver.remote.webelement.WebElement (session=\"5a61c0d16beb4b5411c668162f850197\", element=\"ddc94aa4-3f9d-4826-b20e-54dd7c266208\")>,\n",
       " <selenium.webdriver.remote.webelement.WebElement (session=\"5a61c0d16beb4b5411c668162f850197\", element=\"291d53dd-d643-4aa4-bb99-c14b2bd6e598\")>,\n",
       " <selenium.webdriver.remote.webelement.WebElement (session=\"5a61c0d16beb4b5411c668162f850197\", element=\"b189d247-b4b3-418a-b31b-8647c1531edd\")>,\n",
       " <selenium.webdriver.remote.webelement.WebElement (session=\"5a61c0d16beb4b5411c668162f850197\", element=\"0e10e33b-efa2-40bd-9bee-2b699adc439e\")>]"
      ]
     },
     "execution_count": 98,
     "metadata": {},
     "output_type": "execute_result"
    }
   ],
   "source": [
    "brand_tags1 = driver.find_elements_by_xpath(\"//div[@class='_2WkVRV']\")\n",
    "brand_tags1"
   ]
  },
  {
   "cell_type": "code",
   "execution_count": 99,
   "id": "fe112d28",
   "metadata": {},
   "outputs": [
    {
     "data": {
      "text/plain": [
       "['kingsunglasses',\n",
       " 'ROYAL SON',\n",
       " 'ROYAL SON',\n",
       " 'SUNBEE',\n",
       " 'PHENOMENAL',\n",
       " 'Elligator',\n",
       " 'DEIXELS',\n",
       " 'ROYAL SON',\n",
       " 'PIRASO',\n",
       " 'hipe',\n",
       " 'Rich Club',\n",
       " 'kingsunglasses',\n",
       " 'Elligator',\n",
       " 'kingsunglasses',\n",
       " 'ROZZETTA CRAFT',\n",
       " 'ROZZETTA CRAFT',\n",
       " 'Rich Club',\n",
       " 'Fastrack',\n",
       " 'Rich Club',\n",
       " 'Poland',\n",
       " 'Elligator',\n",
       " 'GANSTA',\n",
       " 'GANSTA',\n",
       " 'kingsunglasses',\n",
       " 'Elligator',\n",
       " 'PIRASO',\n",
       " 'Fastrack',\n",
       " 'elegante',\n",
       " 'kingsunglasses',\n",
       " 'SHAAH COLLECTIONS',\n",
       " 'kingsunglasses',\n",
       " 'New Specs',\n",
       " 'GANSTA',\n",
       " 'PHENOMENAL',\n",
       " 'elegante',\n",
       " 'hipe',\n",
       " 'SRPM',\n",
       " 'New Specs',\n",
       " 'GANSTA',\n",
       " 'Fastrack']"
      ]
     },
     "execution_count": 99,
     "metadata": {},
     "output_type": "execute_result"
    }
   ],
   "source": [
    "for i in brand_tags1:\n",
    "    title=i.text\n",
    "    brand_list1.append(title)\n",
    "brand_list1"
   ]
  },
  {
   "cell_type": "code",
   "execution_count": 100,
   "id": "611b703d",
   "metadata": {},
   "outputs": [
    {
     "name": "stderr",
     "output_type": "stream",
     "text": [
      "<ipython-input-100-9cf048625e12>:1: DeprecationWarning: find_elements_by_* commands are deprecated. Please use find_elements() instead\n",
      "  specs_tag1 = driver.find_elements_by_xpath(\"//a[@class='IRpwTa']\")\n"
     ]
    },
    {
     "data": {
      "text/plain": [
       "[<selenium.webdriver.remote.webelement.WebElement (session=\"5a61c0d16beb4b5411c668162f850197\", element=\"d45be5f0-acfd-4e1b-8b69-77440c975436\")>,\n",
       " <selenium.webdriver.remote.webelement.WebElement (session=\"5a61c0d16beb4b5411c668162f850197\", element=\"927c8f05-92b5-4007-a608-701f1dfb973c\")>,\n",
       " <selenium.webdriver.remote.webelement.WebElement (session=\"5a61c0d16beb4b5411c668162f850197\", element=\"b3d1e0fc-b2e5-4d80-842d-04352514d97f\")>,\n",
       " <selenium.webdriver.remote.webelement.WebElement (session=\"5a61c0d16beb4b5411c668162f850197\", element=\"acc5a3ed-505c-4728-a7e3-7d36e348d947\")>,\n",
       " <selenium.webdriver.remote.webelement.WebElement (session=\"5a61c0d16beb4b5411c668162f850197\", element=\"2617fdec-23d1-40bb-b2b1-a7084f4df71c\")>,\n",
       " <selenium.webdriver.remote.webelement.WebElement (session=\"5a61c0d16beb4b5411c668162f850197\", element=\"facfef98-1807-457d-b630-4983cdcd4830\")>,\n",
       " <selenium.webdriver.remote.webelement.WebElement (session=\"5a61c0d16beb4b5411c668162f850197\", element=\"13f993d6-34a3-417b-a71b-e24312ac80ab\")>,\n",
       " <selenium.webdriver.remote.webelement.WebElement (session=\"5a61c0d16beb4b5411c668162f850197\", element=\"331d7b46-73bc-45ab-afd2-ab4250f4418c\")>,\n",
       " <selenium.webdriver.remote.webelement.WebElement (session=\"5a61c0d16beb4b5411c668162f850197\", element=\"9e057880-ad7c-4ad5-bdf8-7fcf2dc418f9\")>,\n",
       " <selenium.webdriver.remote.webelement.WebElement (session=\"5a61c0d16beb4b5411c668162f850197\", element=\"e8d2277f-8be5-47dc-8eea-c8cfcf7cf9e3\")>,\n",
       " <selenium.webdriver.remote.webelement.WebElement (session=\"5a61c0d16beb4b5411c668162f850197\", element=\"31418a6d-7a6c-477e-8345-b41f3718c57b\")>,\n",
       " <selenium.webdriver.remote.webelement.WebElement (session=\"5a61c0d16beb4b5411c668162f850197\", element=\"6d1a1822-af68-42b1-aee1-c23b2a8012fe\")>,\n",
       " <selenium.webdriver.remote.webelement.WebElement (session=\"5a61c0d16beb4b5411c668162f850197\", element=\"481e9c42-6da5-4160-b8c0-e992f871b2ce\")>,\n",
       " <selenium.webdriver.remote.webelement.WebElement (session=\"5a61c0d16beb4b5411c668162f850197\", element=\"376879b5-27f2-4fcf-9e7f-eafab10b23a1\")>,\n",
       " <selenium.webdriver.remote.webelement.WebElement (session=\"5a61c0d16beb4b5411c668162f850197\", element=\"ec55013a-5f60-4cc6-be04-b8c7db5c7948\")>,\n",
       " <selenium.webdriver.remote.webelement.WebElement (session=\"5a61c0d16beb4b5411c668162f850197\", element=\"40e3909c-9aa6-4500-932f-d5352b2ad3d7\")>,\n",
       " <selenium.webdriver.remote.webelement.WebElement (session=\"5a61c0d16beb4b5411c668162f850197\", element=\"a24f76bf-f841-4e84-888f-5f522b8e0c2e\")>,\n",
       " <selenium.webdriver.remote.webelement.WebElement (session=\"5a61c0d16beb4b5411c668162f850197\", element=\"95b9ee7c-48ae-4ccd-a5b0-48943f6eaea5\")>,\n",
       " <selenium.webdriver.remote.webelement.WebElement (session=\"5a61c0d16beb4b5411c668162f850197\", element=\"e17cf6b4-0c28-48b0-aa30-00b3020db78d\")>,\n",
       " <selenium.webdriver.remote.webelement.WebElement (session=\"5a61c0d16beb4b5411c668162f850197\", element=\"fc212c00-3135-4bd8-a09d-0150700f73d3\")>,\n",
       " <selenium.webdriver.remote.webelement.WebElement (session=\"5a61c0d16beb4b5411c668162f850197\", element=\"000d6ed1-ced1-42d6-8185-36fbc7d91d2c\")>,\n",
       " <selenium.webdriver.remote.webelement.WebElement (session=\"5a61c0d16beb4b5411c668162f850197\", element=\"cfc2c9a6-7a62-4c61-9723-ffd7cd05a467\")>,\n",
       " <selenium.webdriver.remote.webelement.WebElement (session=\"5a61c0d16beb4b5411c668162f850197\", element=\"30926181-9a91-49ba-812d-b9b216eb9546\")>,\n",
       " <selenium.webdriver.remote.webelement.WebElement (session=\"5a61c0d16beb4b5411c668162f850197\", element=\"4fc21719-1e86-46b6-bf76-a6c8523149c2\")>,\n",
       " <selenium.webdriver.remote.webelement.WebElement (session=\"5a61c0d16beb4b5411c668162f850197\", element=\"e21e22c0-69e3-41a3-b025-2744e9b46e0e\")>,\n",
       " <selenium.webdriver.remote.webelement.WebElement (session=\"5a61c0d16beb4b5411c668162f850197\", element=\"390804e4-25e5-4f1c-be6b-d742702f9261\")>,\n",
       " <selenium.webdriver.remote.webelement.WebElement (session=\"5a61c0d16beb4b5411c668162f850197\", element=\"a9deabaa-6a19-46a8-8465-d9330d46ea50\")>,\n",
       " <selenium.webdriver.remote.webelement.WebElement (session=\"5a61c0d16beb4b5411c668162f850197\", element=\"ffcf0fba-a6d4-4c78-8e66-781e23053d63\")>,\n",
       " <selenium.webdriver.remote.webelement.WebElement (session=\"5a61c0d16beb4b5411c668162f850197\", element=\"afe14040-dc0a-431c-bee1-587c9b6aa351\")>,\n",
       " <selenium.webdriver.remote.webelement.WebElement (session=\"5a61c0d16beb4b5411c668162f850197\", element=\"0a9a8ab5-e702-439a-a492-7e0f3df51f45\")>,\n",
       " <selenium.webdriver.remote.webelement.WebElement (session=\"5a61c0d16beb4b5411c668162f850197\", element=\"5a23b0e1-1275-481a-87dc-a8a140d71a91\")>,\n",
       " <selenium.webdriver.remote.webelement.WebElement (session=\"5a61c0d16beb4b5411c668162f850197\", element=\"0f6fc37b-401c-453d-b5fc-96efb77cc66e\")>,\n",
       " <selenium.webdriver.remote.webelement.WebElement (session=\"5a61c0d16beb4b5411c668162f850197\", element=\"629a91f8-c174-48c9-b2c6-a5f2a6334bf7\")>,\n",
       " <selenium.webdriver.remote.webelement.WebElement (session=\"5a61c0d16beb4b5411c668162f850197\", element=\"b8b9b43b-9ed8-4b55-89eb-2147974e593d\")>,\n",
       " <selenium.webdriver.remote.webelement.WebElement (session=\"5a61c0d16beb4b5411c668162f850197\", element=\"c4f84a04-aa27-430f-a625-b27eb61918c2\")>,\n",
       " <selenium.webdriver.remote.webelement.WebElement (session=\"5a61c0d16beb4b5411c668162f850197\", element=\"2b16977b-2aaf-482e-8646-8c40e94fd9d0\")>,\n",
       " <selenium.webdriver.remote.webelement.WebElement (session=\"5a61c0d16beb4b5411c668162f850197\", element=\"281d37ca-752b-4176-9544-f8f10f1db76b\")>,\n",
       " <selenium.webdriver.remote.webelement.WebElement (session=\"5a61c0d16beb4b5411c668162f850197\", element=\"a0325548-56a8-425a-ba18-62bf6d054900\")>,\n",
       " <selenium.webdriver.remote.webelement.WebElement (session=\"5a61c0d16beb4b5411c668162f850197\", element=\"8c268e9c-1f6b-4739-a397-c59a7ca132f5\")>,\n",
       " <selenium.webdriver.remote.webelement.WebElement (session=\"5a61c0d16beb4b5411c668162f850197\", element=\"819924b8-eb1b-4e57-bb70-d79c28901882\")>]"
      ]
     },
     "execution_count": 100,
     "metadata": {},
     "output_type": "execute_result"
    }
   ],
   "source": [
    "specs_tag1 = driver.find_elements_by_xpath(\"//a[@class='IRpwTa']\")\n",
    "specs_tag1"
   ]
  },
  {
   "cell_type": "code",
   "execution_count": 101,
   "id": "b02a1134",
   "metadata": {},
   "outputs": [
    {
     "data": {
      "text/plain": [
       "['UV Protection, Night Vision Wayfarer Sunglasses (Free S...',\n",
       " 'UV Protection Round Sunglasses (50)',\n",
       " 'Mirrored Aviator Sunglasses (55)',\n",
       " 'UV Protection, Polarized, Mirrored Wayfarer Sunglasses ...',\n",
       " 'UV Protection, Mirrored Round Sunglasses (Free Size)',\n",
       " 'UV Protection Retro Square, Round Sunglasses (54)',\n",
       " 'UV Protection Aviator, Wayfarer Sunglasses (Free Size)',\n",
       " 'UV Protection Round Sunglasses (50)',\n",
       " 'UV Protection Aviator Sunglasses (58)',\n",
       " 'UV Protection, Gradient, Mirrored, Riding Glasses Aviat...',\n",
       " 'UV Protection, Others Round Sunglasses (48)',\n",
       " 'UV Protection, Night Vision Wayfarer Sunglasses (Free S...',\n",
       " 'UV Protection, Riding Glasses Rectangular, Retro Square...',\n",
       " 'UV Protection Rectangular Sunglasses (55)',\n",
       " 'UV Protection, Gradient Retro Square Sunglasses (Free S...',\n",
       " 'UV Protection, Gradient Rectangular Sunglasses (Free Si...',\n",
       " 'UV Protection Round Sunglasses (48)',\n",
       " 'UV Protection Wayfarer Sunglasses (Free Size)',\n",
       " 'UV Protection Round Sunglasses (50)',\n",
       " 'UV Protection Wayfarer Sunglasses (Free Size)',\n",
       " 'UV Protection Round Sunglasses (54)',\n",
       " 'UV Protection Aviator Sunglasses (57)',\n",
       " 'UV Protection Aviator Sunglasses (57)',\n",
       " 'UV Protection, Mirrored Aviator Sunglasses (Free Size)',\n",
       " 'UV Protection, Riding Glasses Rectangular, Retro Square...',\n",
       " 'UV Protection Aviator Sunglasses (54)',\n",
       " 'UV Protection Aviator Sunglasses (Free Size)',\n",
       " 'Mirrored Round Sunglasses (Free Size)',\n",
       " 'UV Protection, Mirrored Round Sunglasses (54)',\n",
       " 'UV Protection Round Sunglasses (Free Size)',\n",
       " 'UV Protection Rectangular Sunglasses (55)',\n",
       " 'UV Protection Rectangular Sunglasses (Free Size)',\n",
       " 'UV Protection, Riding Glasses Wayfarer Sunglasses (53)',\n",
       " 'UV Protection, Mirrored Retro Square Sunglasses (53)',\n",
       " 'Polarized Retro Square Sunglasses (Free Size)',\n",
       " 'Mirrored, UV Protection, Gradient Round Sunglasses (55)',\n",
       " 'UV Protection Wayfarer Sunglasses (53)',\n",
       " 'UV Protection Rectangular Sunglasses (Free Size)',\n",
       " 'UV Protection, Mirrored Wayfarer Sunglasses (53)',\n",
       " 'UV Protection Sports Sunglasses (Free Size)']"
      ]
     },
     "execution_count": 101,
     "metadata": {},
     "output_type": "execute_result"
    }
   ],
   "source": [
    "for i in specs_tag1:\n",
    "    title=i.text\n",
    "    specification_list1.append(title)\n",
    "specification_list1"
   ]
  },
  {
   "cell_type": "code",
   "execution_count": 102,
   "id": "03d9e56c",
   "metadata": {},
   "outputs": [
    {
     "name": "stderr",
     "output_type": "stream",
     "text": [
      "<ipython-input-102-ea29a7f45c8a>:1: DeprecationWarning: find_elements_by_* commands are deprecated. Please use find_elements() instead\n",
      "  price_tags1 = driver.find_elements_by_xpath(\"//div[@class='_30jeq3']\")\n"
     ]
    },
    {
     "data": {
      "text/plain": [
       "[<selenium.webdriver.remote.webelement.WebElement (session=\"5a61c0d16beb4b5411c668162f850197\", element=\"532e41ac-3fd7-4122-b681-9a381fd9212c\")>,\n",
       " <selenium.webdriver.remote.webelement.WebElement (session=\"5a61c0d16beb4b5411c668162f850197\", element=\"eacc865b-24a8-4fd7-8f85-fa273309bcfd\")>,\n",
       " <selenium.webdriver.remote.webelement.WebElement (session=\"5a61c0d16beb4b5411c668162f850197\", element=\"c7a8d411-621a-4b00-ad45-1cb3bd83a9cc\")>,\n",
       " <selenium.webdriver.remote.webelement.WebElement (session=\"5a61c0d16beb4b5411c668162f850197\", element=\"0da0c702-aefd-493b-8def-3f1863153094\")>,\n",
       " <selenium.webdriver.remote.webelement.WebElement (session=\"5a61c0d16beb4b5411c668162f850197\", element=\"60e7d952-fad2-4998-9d40-d02ac2e0c89c\")>,\n",
       " <selenium.webdriver.remote.webelement.WebElement (session=\"5a61c0d16beb4b5411c668162f850197\", element=\"feb29411-7ef0-4cef-bdfa-5defb158a2bd\")>,\n",
       " <selenium.webdriver.remote.webelement.WebElement (session=\"5a61c0d16beb4b5411c668162f850197\", element=\"262656e2-b96d-43a7-a97a-a099af106a58\")>,\n",
       " <selenium.webdriver.remote.webelement.WebElement (session=\"5a61c0d16beb4b5411c668162f850197\", element=\"56abf6b5-b7da-48a1-9446-e623dd50f20b\")>,\n",
       " <selenium.webdriver.remote.webelement.WebElement (session=\"5a61c0d16beb4b5411c668162f850197\", element=\"c663d227-b16d-4448-9e1b-3e33d540aade\")>,\n",
       " <selenium.webdriver.remote.webelement.WebElement (session=\"5a61c0d16beb4b5411c668162f850197\", element=\"83114f0e-6268-4615-a6df-ed0683b59a02\")>,\n",
       " <selenium.webdriver.remote.webelement.WebElement (session=\"5a61c0d16beb4b5411c668162f850197\", element=\"dea09ef4-20f9-43cb-9648-4274cae9a8e9\")>,\n",
       " <selenium.webdriver.remote.webelement.WebElement (session=\"5a61c0d16beb4b5411c668162f850197\", element=\"b5008fb9-05f7-42ff-8997-63628a1877a6\")>,\n",
       " <selenium.webdriver.remote.webelement.WebElement (session=\"5a61c0d16beb4b5411c668162f850197\", element=\"a91b80f1-4b86-4f84-9656-2d5e57d9ebdc\")>,\n",
       " <selenium.webdriver.remote.webelement.WebElement (session=\"5a61c0d16beb4b5411c668162f850197\", element=\"a6ad4e9d-9b6d-444a-9245-af5a5e5685a9\")>,\n",
       " <selenium.webdriver.remote.webelement.WebElement (session=\"5a61c0d16beb4b5411c668162f850197\", element=\"aebc596e-9f70-42c4-9c8e-c5563d66a95a\")>,\n",
       " <selenium.webdriver.remote.webelement.WebElement (session=\"5a61c0d16beb4b5411c668162f850197\", element=\"bc338ad4-8181-415e-b99d-40ac62456314\")>,\n",
       " <selenium.webdriver.remote.webelement.WebElement (session=\"5a61c0d16beb4b5411c668162f850197\", element=\"e1d72d1d-2438-489e-a107-269340a2dd9d\")>,\n",
       " <selenium.webdriver.remote.webelement.WebElement (session=\"5a61c0d16beb4b5411c668162f850197\", element=\"a27faa14-453f-493d-b6e6-3a118f5eecf3\")>,\n",
       " <selenium.webdriver.remote.webelement.WebElement (session=\"5a61c0d16beb4b5411c668162f850197\", element=\"8a5f9be1-80d0-46ae-b091-e0064d6198fe\")>,\n",
       " <selenium.webdriver.remote.webelement.WebElement (session=\"5a61c0d16beb4b5411c668162f850197\", element=\"dfc2608d-469a-49c1-ab04-feb3ed79a63b\")>,\n",
       " <selenium.webdriver.remote.webelement.WebElement (session=\"5a61c0d16beb4b5411c668162f850197\", element=\"e5e90a61-d602-4a55-83af-66d6062fb651\")>,\n",
       " <selenium.webdriver.remote.webelement.WebElement (session=\"5a61c0d16beb4b5411c668162f850197\", element=\"b96fe103-f34a-4ad7-ae2d-10dea8cb6cff\")>,\n",
       " <selenium.webdriver.remote.webelement.WebElement (session=\"5a61c0d16beb4b5411c668162f850197\", element=\"9b7bbba6-e0a5-40e4-91b7-ab43b3739cce\")>,\n",
       " <selenium.webdriver.remote.webelement.WebElement (session=\"5a61c0d16beb4b5411c668162f850197\", element=\"f0405aec-1147-4969-a190-fe10dc7957cb\")>,\n",
       " <selenium.webdriver.remote.webelement.WebElement (session=\"5a61c0d16beb4b5411c668162f850197\", element=\"d69595f0-7dba-4594-9259-57a7d4610246\")>,\n",
       " <selenium.webdriver.remote.webelement.WebElement (session=\"5a61c0d16beb4b5411c668162f850197\", element=\"79d99ea8-9068-4316-8709-22abce8685d3\")>,\n",
       " <selenium.webdriver.remote.webelement.WebElement (session=\"5a61c0d16beb4b5411c668162f850197\", element=\"4bb0e6c0-4198-49d3-9080-0dfe2c94af05\")>,\n",
       " <selenium.webdriver.remote.webelement.WebElement (session=\"5a61c0d16beb4b5411c668162f850197\", element=\"21f721bb-e37c-4581-b239-c532f9d8f4ab\")>,\n",
       " <selenium.webdriver.remote.webelement.WebElement (session=\"5a61c0d16beb4b5411c668162f850197\", element=\"793edbd2-44cb-41d1-9d2c-78342e446355\")>,\n",
       " <selenium.webdriver.remote.webelement.WebElement (session=\"5a61c0d16beb4b5411c668162f850197\", element=\"d389ac83-d011-4b99-ab94-582221530669\")>,\n",
       " <selenium.webdriver.remote.webelement.WebElement (session=\"5a61c0d16beb4b5411c668162f850197\", element=\"2695a404-f613-4068-807d-0890d13d290a\")>,\n",
       " <selenium.webdriver.remote.webelement.WebElement (session=\"5a61c0d16beb4b5411c668162f850197\", element=\"13274eba-e4e4-4d19-8b2d-56aad06bff88\")>,\n",
       " <selenium.webdriver.remote.webelement.WebElement (session=\"5a61c0d16beb4b5411c668162f850197\", element=\"710dbe9b-302a-4af7-b0ab-ca87c8bf5287\")>,\n",
       " <selenium.webdriver.remote.webelement.WebElement (session=\"5a61c0d16beb4b5411c668162f850197\", element=\"bbdde022-e664-4cac-a433-8a52e245f289\")>,\n",
       " <selenium.webdriver.remote.webelement.WebElement (session=\"5a61c0d16beb4b5411c668162f850197\", element=\"d76bb688-a6c5-4a14-ba47-2cd9afb28936\")>,\n",
       " <selenium.webdriver.remote.webelement.WebElement (session=\"5a61c0d16beb4b5411c668162f850197\", element=\"e09b1c26-cbb6-4a02-b4da-5bde23ff10aa\")>,\n",
       " <selenium.webdriver.remote.webelement.WebElement (session=\"5a61c0d16beb4b5411c668162f850197\", element=\"22b7af1b-6cfe-48b1-81a0-a3531ee4f244\")>,\n",
       " <selenium.webdriver.remote.webelement.WebElement (session=\"5a61c0d16beb4b5411c668162f850197\", element=\"2ee34eb2-4e98-47c1-a2e1-4b8b2e983ac4\")>,\n",
       " <selenium.webdriver.remote.webelement.WebElement (session=\"5a61c0d16beb4b5411c668162f850197\", element=\"28d650be-2de0-423f-abab-e3ae94d5b525\")>,\n",
       " <selenium.webdriver.remote.webelement.WebElement (session=\"5a61c0d16beb4b5411c668162f850197\", element=\"7b877058-35ce-4493-b9b9-6b4c57e82447\")>]"
      ]
     },
     "execution_count": 102,
     "metadata": {},
     "output_type": "execute_result"
    }
   ],
   "source": [
    "price_tags1 = driver.find_elements_by_xpath(\"//div[@class='_30jeq3']\")\n",
    "price_tags1"
   ]
  },
  {
   "cell_type": "code",
   "execution_count": 103,
   "id": "8ff271d4",
   "metadata": {},
   "outputs": [
    {
     "data": {
      "text/plain": [
       "['₹279',\n",
       " '₹359',\n",
       " '₹359',\n",
       " '₹258',\n",
       " '₹209',\n",
       " '₹291',\n",
       " '₹202',\n",
       " '₹359',\n",
       " '₹299',\n",
       " '₹209',\n",
       " '₹245',\n",
       " '₹299',\n",
       " '₹318',\n",
       " '₹169',\n",
       " '₹349',\n",
       " '₹396',\n",
       " '₹284',\n",
       " '₹639',\n",
       " '₹383',\n",
       " '₹144',\n",
       " '₹265',\n",
       " '₹269',\n",
       " '₹269',\n",
       " '₹235',\n",
       " '₹276',\n",
       " '₹187',\n",
       " '₹649',\n",
       " '₹399',\n",
       " '₹211',\n",
       " '₹276',\n",
       " '₹259',\n",
       " '₹188',\n",
       " '₹209',\n",
       " '₹299',\n",
       " '₹449',\n",
       " '₹189',\n",
       " '₹199',\n",
       " '₹169',\n",
       " '₹196',\n",
       " '₹699']"
      ]
     },
     "execution_count": 103,
     "metadata": {},
     "output_type": "execute_result"
    }
   ],
   "source": [
    "for i in price_tags1:\n",
    "    title=i.text\n",
    "    price_list1.append(title)\n",
    "price_list1"
   ]
  },
  {
   "cell_type": "code",
   "execution_count": 104,
   "id": "9e270e61",
   "metadata": {},
   "outputs": [
    {
     "name": "stderr",
     "output_type": "stream",
     "text": [
      "<ipython-input-104-2fc36c039cf6>:1: DeprecationWarning: find_elements_by_* commands are deprecated. Please use find_elements() instead\n",
      "  dis_tags1 = driver.find_elements_by_xpath(\"//div[@class='_3Ay6Sb']\")\n"
     ]
    },
    {
     "data": {
      "text/plain": [
       "[<selenium.webdriver.remote.webelement.WebElement (session=\"5a61c0d16beb4b5411c668162f850197\", element=\"fe0500d3-bd7c-4953-a80a-43aa1977cd1a\")>,\n",
       " <selenium.webdriver.remote.webelement.WebElement (session=\"5a61c0d16beb4b5411c668162f850197\", element=\"2cdd2533-ad88-4e8f-859a-c8600b308a72\")>,\n",
       " <selenium.webdriver.remote.webelement.WebElement (session=\"5a61c0d16beb4b5411c668162f850197\", element=\"c8ce50dc-932c-4c48-a862-570782b17b9a\")>,\n",
       " <selenium.webdriver.remote.webelement.WebElement (session=\"5a61c0d16beb4b5411c668162f850197\", element=\"291c362d-d218-4bbd-8f52-561476f17950\")>,\n",
       " <selenium.webdriver.remote.webelement.WebElement (session=\"5a61c0d16beb4b5411c668162f850197\", element=\"e3e2b6c6-2712-4e6b-b374-416970dbd13e\")>,\n",
       " <selenium.webdriver.remote.webelement.WebElement (session=\"5a61c0d16beb4b5411c668162f850197\", element=\"4fe3629c-38f1-4ebe-b67a-2a4143e46cd4\")>,\n",
       " <selenium.webdriver.remote.webelement.WebElement (session=\"5a61c0d16beb4b5411c668162f850197\", element=\"93d56946-cc65-4cc1-8ae4-2b375ea0478c\")>,\n",
       " <selenium.webdriver.remote.webelement.WebElement (session=\"5a61c0d16beb4b5411c668162f850197\", element=\"16d2533c-ec2b-4b5a-aec9-5a9a3ed86571\")>,\n",
       " <selenium.webdriver.remote.webelement.WebElement (session=\"5a61c0d16beb4b5411c668162f850197\", element=\"6551e3cd-d42a-424d-89a2-664616187f84\")>,\n",
       " <selenium.webdriver.remote.webelement.WebElement (session=\"5a61c0d16beb4b5411c668162f850197\", element=\"fb524213-2ea9-4eb8-89da-8e6bf64c7fef\")>,\n",
       " <selenium.webdriver.remote.webelement.WebElement (session=\"5a61c0d16beb4b5411c668162f850197\", element=\"c251a9d8-aa31-47c9-a174-c51a9d992c35\")>,\n",
       " <selenium.webdriver.remote.webelement.WebElement (session=\"5a61c0d16beb4b5411c668162f850197\", element=\"827ee79d-e3e6-408f-9019-1b8098894e47\")>,\n",
       " <selenium.webdriver.remote.webelement.WebElement (session=\"5a61c0d16beb4b5411c668162f850197\", element=\"43cbe283-5d80-418a-a23c-d367c62d910e\")>,\n",
       " <selenium.webdriver.remote.webelement.WebElement (session=\"5a61c0d16beb4b5411c668162f850197\", element=\"42b0fde5-9674-4d3f-8545-3db0620d15a3\")>,\n",
       " <selenium.webdriver.remote.webelement.WebElement (session=\"5a61c0d16beb4b5411c668162f850197\", element=\"8fef9b17-ff40-4c15-b91c-85b2ebed9eeb\")>,\n",
       " <selenium.webdriver.remote.webelement.WebElement (session=\"5a61c0d16beb4b5411c668162f850197\", element=\"33719be0-4f93-45e3-b6e7-07a64fd0b581\")>,\n",
       " <selenium.webdriver.remote.webelement.WebElement (session=\"5a61c0d16beb4b5411c668162f850197\", element=\"35807e3f-862c-4e8c-9cdf-ee046cada9f9\")>,\n",
       " <selenium.webdriver.remote.webelement.WebElement (session=\"5a61c0d16beb4b5411c668162f850197\", element=\"220954e7-db58-491c-b1bd-66b250a28c8e\")>,\n",
       " <selenium.webdriver.remote.webelement.WebElement (session=\"5a61c0d16beb4b5411c668162f850197\", element=\"82645875-ee82-41dd-a91b-dd4ffcb0f5d4\")>,\n",
       " <selenium.webdriver.remote.webelement.WebElement (session=\"5a61c0d16beb4b5411c668162f850197\", element=\"a63dfee6-66cf-46dd-bf5c-1551828ad1dc\")>,\n",
       " <selenium.webdriver.remote.webelement.WebElement (session=\"5a61c0d16beb4b5411c668162f850197\", element=\"60d6f3e8-dbb1-4449-8fa9-b5dcdd46ef62\")>,\n",
       " <selenium.webdriver.remote.webelement.WebElement (session=\"5a61c0d16beb4b5411c668162f850197\", element=\"b1309c5b-5258-4ea4-b2ec-c74c28b1e00d\")>,\n",
       " <selenium.webdriver.remote.webelement.WebElement (session=\"5a61c0d16beb4b5411c668162f850197\", element=\"c8736bd1-308b-4600-b6ed-ae09ea0200cb\")>,\n",
       " <selenium.webdriver.remote.webelement.WebElement (session=\"5a61c0d16beb4b5411c668162f850197\", element=\"3a347453-1b89-4d04-ae06-4f9e1d8966dc\")>,\n",
       " <selenium.webdriver.remote.webelement.WebElement (session=\"5a61c0d16beb4b5411c668162f850197\", element=\"ee61f213-a56e-4ece-9c8c-221c0fdc2c80\")>,\n",
       " <selenium.webdriver.remote.webelement.WebElement (session=\"5a61c0d16beb4b5411c668162f850197\", element=\"26340955-bed9-4d53-8cf6-bcbae1b1f328\")>,\n",
       " <selenium.webdriver.remote.webelement.WebElement (session=\"5a61c0d16beb4b5411c668162f850197\", element=\"26ebbd70-defb-47f1-aa12-896b2beb2487\")>,\n",
       " <selenium.webdriver.remote.webelement.WebElement (session=\"5a61c0d16beb4b5411c668162f850197\", element=\"82fc5f86-155d-4ed3-85d4-ef33e4763ea5\")>,\n",
       " <selenium.webdriver.remote.webelement.WebElement (session=\"5a61c0d16beb4b5411c668162f850197\", element=\"23bdb5ab-0404-43fa-9d94-61c3f9086c73\")>,\n",
       " <selenium.webdriver.remote.webelement.WebElement (session=\"5a61c0d16beb4b5411c668162f850197\", element=\"76eedb5d-0198-4818-a5a6-432a7a92919b\")>,\n",
       " <selenium.webdriver.remote.webelement.WebElement (session=\"5a61c0d16beb4b5411c668162f850197\", element=\"21135e17-0b87-4c96-9008-667b89d241c9\")>,\n",
       " <selenium.webdriver.remote.webelement.WebElement (session=\"5a61c0d16beb4b5411c668162f850197\", element=\"77f72617-72e0-4164-be59-78f611ccd480\")>,\n",
       " <selenium.webdriver.remote.webelement.WebElement (session=\"5a61c0d16beb4b5411c668162f850197\", element=\"dc8c0406-6958-4182-9e2f-1c651777389b\")>,\n",
       " <selenium.webdriver.remote.webelement.WebElement (session=\"5a61c0d16beb4b5411c668162f850197\", element=\"2b826a23-f58d-423a-8733-b02cb3055c6c\")>,\n",
       " <selenium.webdriver.remote.webelement.WebElement (session=\"5a61c0d16beb4b5411c668162f850197\", element=\"fbc1d40c-70f1-4d10-a501-0c8565c65ac1\")>,\n",
       " <selenium.webdriver.remote.webelement.WebElement (session=\"5a61c0d16beb4b5411c668162f850197\", element=\"dbd6d8a4-cee3-44e7-96df-76b14aa3e7e5\")>,\n",
       " <selenium.webdriver.remote.webelement.WebElement (session=\"5a61c0d16beb4b5411c668162f850197\", element=\"ed525874-54a3-491b-b062-be54afbd5e17\")>,\n",
       " <selenium.webdriver.remote.webelement.WebElement (session=\"5a61c0d16beb4b5411c668162f850197\", element=\"158a0138-843e-4a70-b110-e87693c9f120\")>,\n",
       " <selenium.webdriver.remote.webelement.WebElement (session=\"5a61c0d16beb4b5411c668162f850197\", element=\"c32a39c5-748b-40b2-bf20-3ea153b3a2f6\")>,\n",
       " <selenium.webdriver.remote.webelement.WebElement (session=\"5a61c0d16beb4b5411c668162f850197\", element=\"e76df6b7-afc0-4e0c-b63d-735fed55c75e\")>]"
      ]
     },
     "execution_count": 104,
     "metadata": {},
     "output_type": "execute_result"
    }
   ],
   "source": [
    "dis_tags1 = driver.find_elements_by_xpath(\"//div[@class='_3Ay6Sb']\")\n",
    "dis_tags1"
   ]
  },
  {
   "cell_type": "code",
   "execution_count": 105,
   "id": "43cbb39b",
   "metadata": {},
   "outputs": [
    {
     "data": {
      "text/plain": [
       "['83% off',\n",
       " '76% off',\n",
       " '76% off',\n",
       " '80% off',\n",
       " '83% off',\n",
       " '85% off',\n",
       " '83% off',\n",
       " '76% off',\n",
       " '88% off',\n",
       " '79% off',\n",
       " '69% off',\n",
       " '82% off',\n",
       " '78% off',\n",
       " '86% off',\n",
       " '82% off',\n",
       " '82% off',\n",
       " '64% off',\n",
       " '20% off',\n",
       " '61% off',\n",
       " '71% off',\n",
       " '79% off',\n",
       " '86% off',\n",
       " '86% off',\n",
       " '87% off',\n",
       " '81% off',\n",
       " '88% off',\n",
       " '27% off',\n",
       " '80% off',\n",
       " '82% off',\n",
       " '83% off',\n",
       " '82% off',\n",
       " '87% off',\n",
       " '88% off',\n",
       " '85% off',\n",
       " '80% off',\n",
       " '87% off',\n",
       " '80% off',\n",
       " '89% off',\n",
       " '80% off',\n",
       " '22% off']"
      ]
     },
     "execution_count": 105,
     "metadata": {},
     "output_type": "execute_result"
    }
   ],
   "source": [
    "for i in dis_tags1:\n",
    "    title=i.text\n",
    "    Discount_list1.append(title)\n",
    "Discount_list1"
   ]
  },
  {
   "cell_type": "markdown",
   "id": "a2712cfd",
   "metadata": {},
   "source": [
    "#    NEXT PAGE:-2"
   ]
  },
  {
   "cell_type": "code",
   "execution_count": 106,
   "id": "ab149869",
   "metadata": {},
   "outputs": [
    {
     "name": "stderr",
     "output_type": "stream",
     "text": [
      "<ipython-input-106-5afa3eda2967>:1: DeprecationWarning: find_element_by_* commands are deprecated. Please use find_element() instead\n",
      "  nxt_btn3 = driver.find_element_by_xpath(\"//a[@class='_1LKTO3']\")\n"
     ]
    }
   ],
   "source": [
    "nxt_btn3 = driver.find_element_by_xpath(\"//a[@class='_1LKTO3']\")\n",
    "nxt_btn3.click()"
   ]
  },
  {
   "cell_type": "markdown",
   "id": "623f9ff8",
   "metadata": {},
   "source": [
    "making empty list:"
   ]
  },
  {
   "cell_type": "code",
   "execution_count": 107,
   "id": "14611a4b",
   "metadata": {},
   "outputs": [],
   "source": [
    "brand_list2 = []\n",
    "specification_list2 = []\n",
    "price_list2 = []\n",
    "Discount_list2 = []"
   ]
  },
  {
   "cell_type": "code",
   "execution_count": 108,
   "id": "78b7a83a",
   "metadata": {},
   "outputs": [
    {
     "name": "stderr",
     "output_type": "stream",
     "text": [
      "<ipython-input-108-0325e9bc884c>:1: DeprecationWarning: find_elements_by_* commands are deprecated. Please use find_elements() instead\n",
      "  brand_tags2 = driver.find_elements_by_xpath(\"//div[@class='_2WkVRV']\")\n"
     ]
    },
    {
     "data": {
      "text/plain": [
       "[<selenium.webdriver.remote.webelement.WebElement (session=\"5a61c0d16beb4b5411c668162f850197\", element=\"71fc5c56-2796-4a91-b0dd-04ff92e5ffdc\")>,\n",
       " <selenium.webdriver.remote.webelement.WebElement (session=\"5a61c0d16beb4b5411c668162f850197\", element=\"69f47a47-336c-4d05-a231-d4ebd00c753e\")>,\n",
       " <selenium.webdriver.remote.webelement.WebElement (session=\"5a61c0d16beb4b5411c668162f850197\", element=\"cf0c591d-70b1-4760-8848-116b469d3c87\")>,\n",
       " <selenium.webdriver.remote.webelement.WebElement (session=\"5a61c0d16beb4b5411c668162f850197\", element=\"063e4c4a-bf92-4c73-be3f-aeb29223bebd\")>,\n",
       " <selenium.webdriver.remote.webelement.WebElement (session=\"5a61c0d16beb4b5411c668162f850197\", element=\"ea8a1ce8-e24a-425c-86d8-aba55cab9067\")>,\n",
       " <selenium.webdriver.remote.webelement.WebElement (session=\"5a61c0d16beb4b5411c668162f850197\", element=\"0af532de-e8d3-4897-9bb8-2de5aeae7ab4\")>,\n",
       " <selenium.webdriver.remote.webelement.WebElement (session=\"5a61c0d16beb4b5411c668162f850197\", element=\"7dc4f589-0947-42d7-b7af-cad970b415a5\")>,\n",
       " <selenium.webdriver.remote.webelement.WebElement (session=\"5a61c0d16beb4b5411c668162f850197\", element=\"ffb0d569-e3c3-4b06-ba18-8ac7c5e0e169\")>,\n",
       " <selenium.webdriver.remote.webelement.WebElement (session=\"5a61c0d16beb4b5411c668162f850197\", element=\"4271541d-9f44-4ab7-97ea-62c16b9ba2c7\")>,\n",
       " <selenium.webdriver.remote.webelement.WebElement (session=\"5a61c0d16beb4b5411c668162f850197\", element=\"bbec314a-5e8d-4bb1-8749-df4a81a62734\")>,\n",
       " <selenium.webdriver.remote.webelement.WebElement (session=\"5a61c0d16beb4b5411c668162f850197\", element=\"3c4505fd-97db-4f97-a222-541859f07bec\")>,\n",
       " <selenium.webdriver.remote.webelement.WebElement (session=\"5a61c0d16beb4b5411c668162f850197\", element=\"1d4027bb-0783-4145-a318-76880883dcdc\")>,\n",
       " <selenium.webdriver.remote.webelement.WebElement (session=\"5a61c0d16beb4b5411c668162f850197\", element=\"9c04f3cf-535f-432e-8ff7-003d0705e801\")>,\n",
       " <selenium.webdriver.remote.webelement.WebElement (session=\"5a61c0d16beb4b5411c668162f850197\", element=\"c8f33e6d-d307-4856-b82e-81acae6ed7fd\")>,\n",
       " <selenium.webdriver.remote.webelement.WebElement (session=\"5a61c0d16beb4b5411c668162f850197\", element=\"98a1913f-feaf-4173-8408-5cacce67b538\")>,\n",
       " <selenium.webdriver.remote.webelement.WebElement (session=\"5a61c0d16beb4b5411c668162f850197\", element=\"260fe3ca-4b11-498b-96c1-905445a3eeea\")>,\n",
       " <selenium.webdriver.remote.webelement.WebElement (session=\"5a61c0d16beb4b5411c668162f850197\", element=\"342cab18-853a-4c72-b58c-18901a1d5ab6\")>,\n",
       " <selenium.webdriver.remote.webelement.WebElement (session=\"5a61c0d16beb4b5411c668162f850197\", element=\"31425be7-02fa-4100-9019-de9a3867a50e\")>,\n",
       " <selenium.webdriver.remote.webelement.WebElement (session=\"5a61c0d16beb4b5411c668162f850197\", element=\"213babb0-62a7-4518-8d17-535516835c7f\")>,\n",
       " <selenium.webdriver.remote.webelement.WebElement (session=\"5a61c0d16beb4b5411c668162f850197\", element=\"90791661-a08f-4c8a-ad39-2b7b5edd93c1\")>,\n",
       " <selenium.webdriver.remote.webelement.WebElement (session=\"5a61c0d16beb4b5411c668162f850197\", element=\"796ab4df-9a12-4306-ba12-70e20e68a53c\")>,\n",
       " <selenium.webdriver.remote.webelement.WebElement (session=\"5a61c0d16beb4b5411c668162f850197\", element=\"cacbd80f-bd62-442e-a2e3-dc4ce9b6e9c6\")>,\n",
       " <selenium.webdriver.remote.webelement.WebElement (session=\"5a61c0d16beb4b5411c668162f850197\", element=\"02cfbba7-4dc4-4bd3-8418-ccd8ad3192ae\")>,\n",
       " <selenium.webdriver.remote.webelement.WebElement (session=\"5a61c0d16beb4b5411c668162f850197\", element=\"246c5756-2bc2-408a-a233-cc2c15f2d44d\")>,\n",
       " <selenium.webdriver.remote.webelement.WebElement (session=\"5a61c0d16beb4b5411c668162f850197\", element=\"25d64ad3-9b85-4d98-a83a-9af7f26ae63a\")>,\n",
       " <selenium.webdriver.remote.webelement.WebElement (session=\"5a61c0d16beb4b5411c668162f850197\", element=\"300644be-545e-4710-bd99-c29133249598\")>,\n",
       " <selenium.webdriver.remote.webelement.WebElement (session=\"5a61c0d16beb4b5411c668162f850197\", element=\"285aea1c-7d0c-4b42-bb82-c3f4bc80fd1c\")>,\n",
       " <selenium.webdriver.remote.webelement.WebElement (session=\"5a61c0d16beb4b5411c668162f850197\", element=\"700a1fee-a84f-4b03-9e83-843d3ef53d1f\")>,\n",
       " <selenium.webdriver.remote.webelement.WebElement (session=\"5a61c0d16beb4b5411c668162f850197\", element=\"82030540-d1a7-4f03-8e76-97f4c88dd347\")>,\n",
       " <selenium.webdriver.remote.webelement.WebElement (session=\"5a61c0d16beb4b5411c668162f850197\", element=\"40d575f9-721b-4ad2-ac42-6584c8312ee6\")>,\n",
       " <selenium.webdriver.remote.webelement.WebElement (session=\"5a61c0d16beb4b5411c668162f850197\", element=\"75f20fa6-d38d-4e6f-8a0a-2c2c9c312f40\")>,\n",
       " <selenium.webdriver.remote.webelement.WebElement (session=\"5a61c0d16beb4b5411c668162f850197\", element=\"be668631-0cb1-4f09-999d-69e2ea07fd48\")>,\n",
       " <selenium.webdriver.remote.webelement.WebElement (session=\"5a61c0d16beb4b5411c668162f850197\", element=\"f973481f-6a8b-47f7-9ce9-6dacb5a67875\")>,\n",
       " <selenium.webdriver.remote.webelement.WebElement (session=\"5a61c0d16beb4b5411c668162f850197\", element=\"ef6d432f-bd55-4e19-be12-533a3bd7bce0\")>,\n",
       " <selenium.webdriver.remote.webelement.WebElement (session=\"5a61c0d16beb4b5411c668162f850197\", element=\"6114f1e2-7dbb-4d51-b3d3-a8fc26f7a1d5\")>,\n",
       " <selenium.webdriver.remote.webelement.WebElement (session=\"5a61c0d16beb4b5411c668162f850197\", element=\"5e3e623d-479e-4d38-8cc6-f6c352193dc1\")>,\n",
       " <selenium.webdriver.remote.webelement.WebElement (session=\"5a61c0d16beb4b5411c668162f850197\", element=\"66cd77ab-2eaa-417c-a249-c51e2e89a144\")>,\n",
       " <selenium.webdriver.remote.webelement.WebElement (session=\"5a61c0d16beb4b5411c668162f850197\", element=\"969c688a-c69c-4596-a0a4-133580f42768\")>,\n",
       " <selenium.webdriver.remote.webelement.WebElement (session=\"5a61c0d16beb4b5411c668162f850197\", element=\"11bf7b60-a0ab-47c7-8a13-6b11cf9fb222\")>,\n",
       " <selenium.webdriver.remote.webelement.WebElement (session=\"5a61c0d16beb4b5411c668162f850197\", element=\"7a05c322-46b9-4e68-b939-7e462038b938\")>]"
      ]
     },
     "execution_count": 108,
     "metadata": {},
     "output_type": "execute_result"
    }
   ],
   "source": [
    "brand_tags2 = driver.find_elements_by_xpath(\"//div[@class='_2WkVRV']\")\n",
    "brand_tags2"
   ]
  },
  {
   "cell_type": "code",
   "execution_count": 109,
   "id": "34c1c9b0",
   "metadata": {},
   "outputs": [
    {
     "data": {
      "text/plain": [
       "['AISLIN',\n",
       " 'Fastrack',\n",
       " 'Silver Kartz',\n",
       " 'SHAAH COLLECTIONS',\n",
       " 'Singco India',\n",
       " 'IDEE',\n",
       " 'Fastrack',\n",
       " 'PETER JONES',\n",
       " 'kingsunglasses',\n",
       " 'ROYAL SON',\n",
       " 'NuVew',\n",
       " 'ROYAL SON',\n",
       " 'kingsunglasses',\n",
       " 'hipe',\n",
       " 'DEIXELS',\n",
       " 'hipe',\n",
       " 'ROYAL SON',\n",
       " 'ROYAL SON',\n",
       " 'Lee Topper',\n",
       " 'Singco',\n",
       " 'AISLIN',\n",
       " 'SHAAH COLLECTIONS',\n",
       " 'IDEE',\n",
       " 'IDEE',\n",
       " 'Lee Topper',\n",
       " 'AISLIN',\n",
       " 'GANSTA',\n",
       " 'Rich Club',\n",
       " 'Fastrack',\n",
       " 'Elligator',\n",
       " 'PHENOMENAL',\n",
       " 'IDEE',\n",
       " 'Elligator',\n",
       " 'Elligator',\n",
       " 'IDEE',\n",
       " 'NuVew',\n",
       " 'Fravy',\n",
       " 'agera',\n",
       " 'PHENOMENAL',\n",
       " 'AISLIN']"
      ]
     },
     "execution_count": 109,
     "metadata": {},
     "output_type": "execute_result"
    }
   ],
   "source": [
    "for i in brand_tags2:\n",
    "    title=i.text\n",
    "    brand_list2.append(title)\n",
    "brand_list2"
   ]
  },
  {
   "cell_type": "code",
   "execution_count": 110,
   "id": "3601eb48",
   "metadata": {},
   "outputs": [
    {
     "name": "stderr",
     "output_type": "stream",
     "text": [
      "<ipython-input-110-1607e550e01d>:1: DeprecationWarning: find_elements_by_* commands are deprecated. Please use find_elements() instead\n",
      "  specs_tag2 = driver.find_elements_by_xpath(\"//a[@class='IRpwTa']\")\n"
     ]
    },
    {
     "data": {
      "text/plain": [
       "[<selenium.webdriver.remote.webelement.WebElement (session=\"5a61c0d16beb4b5411c668162f850197\", element=\"44e1d7b6-2701-43a0-8b02-c548160160ec\")>,\n",
       " <selenium.webdriver.remote.webelement.WebElement (session=\"5a61c0d16beb4b5411c668162f850197\", element=\"d3a6df21-a3ed-467e-9500-479de7a8368d\")>,\n",
       " <selenium.webdriver.remote.webelement.WebElement (session=\"5a61c0d16beb4b5411c668162f850197\", element=\"65cecca3-dd67-4f95-bf67-df9a8b269ad6\")>,\n",
       " <selenium.webdriver.remote.webelement.WebElement (session=\"5a61c0d16beb4b5411c668162f850197\", element=\"1fb7fc42-d3df-47f6-b164-11d0f996fb67\")>,\n",
       " <selenium.webdriver.remote.webelement.WebElement (session=\"5a61c0d16beb4b5411c668162f850197\", element=\"574aee3a-d312-4f22-abca-77670c7fe2aa\")>,\n",
       " <selenium.webdriver.remote.webelement.WebElement (session=\"5a61c0d16beb4b5411c668162f850197\", element=\"445aee4c-0211-486f-a1b1-9b842cc26e4e\")>,\n",
       " <selenium.webdriver.remote.webelement.WebElement (session=\"5a61c0d16beb4b5411c668162f850197\", element=\"09a4d011-9a41-422c-ad18-fabb898f10a0\")>,\n",
       " <selenium.webdriver.remote.webelement.WebElement (session=\"5a61c0d16beb4b5411c668162f850197\", element=\"9c76c525-00d3-4007-89b9-6e3fdc62a2a0\")>,\n",
       " <selenium.webdriver.remote.webelement.WebElement (session=\"5a61c0d16beb4b5411c668162f850197\", element=\"553ad6c0-02a9-4936-b448-236ddc734cae\")>,\n",
       " <selenium.webdriver.remote.webelement.WebElement (session=\"5a61c0d16beb4b5411c668162f850197\", element=\"ea011bac-f021-46e0-a1ec-44d94dd5bdea\")>,\n",
       " <selenium.webdriver.remote.webelement.WebElement (session=\"5a61c0d16beb4b5411c668162f850197\", element=\"b1f8eac1-304d-4b05-9c88-8adabdd2bd8b\")>,\n",
       " <selenium.webdriver.remote.webelement.WebElement (session=\"5a61c0d16beb4b5411c668162f850197\", element=\"3b4311a4-cc8e-4b88-acce-454100137c08\")>,\n",
       " <selenium.webdriver.remote.webelement.WebElement (session=\"5a61c0d16beb4b5411c668162f850197\", element=\"d72b321f-4b02-4524-b48a-1e6fb02f92ba\")>,\n",
       " <selenium.webdriver.remote.webelement.WebElement (session=\"5a61c0d16beb4b5411c668162f850197\", element=\"4991cd72-9a24-4dd8-94c1-9dc473b16a56\")>,\n",
       " <selenium.webdriver.remote.webelement.WebElement (session=\"5a61c0d16beb4b5411c668162f850197\", element=\"7e311083-64e3-464c-ba2f-c1e811b2a118\")>,\n",
       " <selenium.webdriver.remote.webelement.WebElement (session=\"5a61c0d16beb4b5411c668162f850197\", element=\"fad50e6c-f7e0-4ad3-9f85-6811d3d4705f\")>,\n",
       " <selenium.webdriver.remote.webelement.WebElement (session=\"5a61c0d16beb4b5411c668162f850197\", element=\"2616619a-ae13-4cd1-bfcc-27835dd6e8bd\")>,\n",
       " <selenium.webdriver.remote.webelement.WebElement (session=\"5a61c0d16beb4b5411c668162f850197\", element=\"8b749ee9-4a24-4377-a027-d244bf813cbc\")>,\n",
       " <selenium.webdriver.remote.webelement.WebElement (session=\"5a61c0d16beb4b5411c668162f850197\", element=\"b5517a01-a23c-4a90-9c61-a9cd2589f6d3\")>,\n",
       " <selenium.webdriver.remote.webelement.WebElement (session=\"5a61c0d16beb4b5411c668162f850197\", element=\"4f2c9efc-0bfc-4751-a8f4-d718f8191d69\")>,\n",
       " <selenium.webdriver.remote.webelement.WebElement (session=\"5a61c0d16beb4b5411c668162f850197\", element=\"926ce36b-5406-4759-ba62-8bf883831289\")>,\n",
       " <selenium.webdriver.remote.webelement.WebElement (session=\"5a61c0d16beb4b5411c668162f850197\", element=\"74f98a35-8721-4bc9-8094-b989ff618c34\")>,\n",
       " <selenium.webdriver.remote.webelement.WebElement (session=\"5a61c0d16beb4b5411c668162f850197\", element=\"53fb632a-456c-4885-baf4-04264f73a7d4\")>,\n",
       " <selenium.webdriver.remote.webelement.WebElement (session=\"5a61c0d16beb4b5411c668162f850197\", element=\"9255cbba-902c-4de0-a6ee-3e86545fb256\")>,\n",
       " <selenium.webdriver.remote.webelement.WebElement (session=\"5a61c0d16beb4b5411c668162f850197\", element=\"b1e0e619-19cd-4e1b-9ff4-03d93fd1905a\")>,\n",
       " <selenium.webdriver.remote.webelement.WebElement (session=\"5a61c0d16beb4b5411c668162f850197\", element=\"1fe3e20d-243d-409c-bc1a-aea7b2688ee0\")>,\n",
       " <selenium.webdriver.remote.webelement.WebElement (session=\"5a61c0d16beb4b5411c668162f850197\", element=\"96674a25-d01d-4069-b291-3c00da5c208a\")>,\n",
       " <selenium.webdriver.remote.webelement.WebElement (session=\"5a61c0d16beb4b5411c668162f850197\", element=\"63b4f168-b49d-446c-937c-08c38d022543\")>,\n",
       " <selenium.webdriver.remote.webelement.WebElement (session=\"5a61c0d16beb4b5411c668162f850197\", element=\"9df65f47-ded6-4080-8e19-8ccada4fbc9f\")>,\n",
       " <selenium.webdriver.remote.webelement.WebElement (session=\"5a61c0d16beb4b5411c668162f850197\", element=\"9c7722c1-f18c-49bc-abb6-9446fe650b7b\")>,\n",
       " <selenium.webdriver.remote.webelement.WebElement (session=\"5a61c0d16beb4b5411c668162f850197\", element=\"5d66c304-3e0d-4374-84db-2266aa8a7c25\")>,\n",
       " <selenium.webdriver.remote.webelement.WebElement (session=\"5a61c0d16beb4b5411c668162f850197\", element=\"5b0a2136-88df-49d7-ada1-5f56ebdda225\")>,\n",
       " <selenium.webdriver.remote.webelement.WebElement (session=\"5a61c0d16beb4b5411c668162f850197\", element=\"738344df-3534-44d0-8608-37be64f18d47\")>,\n",
       " <selenium.webdriver.remote.webelement.WebElement (session=\"5a61c0d16beb4b5411c668162f850197\", element=\"c8dbe1ab-2087-4279-8c92-bd2343094953\")>,\n",
       " <selenium.webdriver.remote.webelement.WebElement (session=\"5a61c0d16beb4b5411c668162f850197\", element=\"367f82d7-224f-4eb6-9219-68f5826a9d2c\")>,\n",
       " <selenium.webdriver.remote.webelement.WebElement (session=\"5a61c0d16beb4b5411c668162f850197\", element=\"7f87d822-d240-4c8f-8d80-8f1bc0433742\")>,\n",
       " <selenium.webdriver.remote.webelement.WebElement (session=\"5a61c0d16beb4b5411c668162f850197\", element=\"08efb077-aaf0-4369-9cde-1b74441b6308\")>,\n",
       " <selenium.webdriver.remote.webelement.WebElement (session=\"5a61c0d16beb4b5411c668162f850197\", element=\"548cd59c-4b5e-4409-adb5-8c87f04f0eaa\")>,\n",
       " <selenium.webdriver.remote.webelement.WebElement (session=\"5a61c0d16beb4b5411c668162f850197\", element=\"7d2c4104-6b02-4b3d-9350-c2163cf311e3\")>,\n",
       " <selenium.webdriver.remote.webelement.WebElement (session=\"5a61c0d16beb4b5411c668162f850197\", element=\"422884d8-8227-4e0b-807f-73ec52859135\")>]"
      ]
     },
     "execution_count": 110,
     "metadata": {},
     "output_type": "execute_result"
    }
   ],
   "source": [
    "specs_tag2 = driver.find_elements_by_xpath(\"//a[@class='IRpwTa']\")\n",
    "specs_tag2"
   ]
  },
  {
   "cell_type": "code",
   "execution_count": 111,
   "id": "72fc359c",
   "metadata": {},
   "outputs": [
    {
     "data": {
      "text/plain": [
       "['UV Protection, Gradient Oval Sunglasses (58)',\n",
       " 'UV Protection Wayfarer Sunglasses (Free Size)',\n",
       " 'UV Protection Wayfarer Sunglasses (Free Size)',\n",
       " 'UV Protection Round Sunglasses (Free Size)',\n",
       " 'Mirrored, UV Protection, Riding Glasses, Others Wrap-ar...',\n",
       " 'UV Protection Cat-eye Sunglasses (20)',\n",
       " 'UV Protection Wayfarer Sunglasses (54)',\n",
       " 'Night Vision, Riding Glasses, UV Protection Wrap-around...',\n",
       " 'UV Protection Round Sunglasses (Free Size)',\n",
       " 'Mirrored Aviator Sunglasses (58)',\n",
       " 'UV Protection Cat-eye Sunglasses (56)',\n",
       " 'Polarized, UV Protection Wayfarer, Retro Square Sunglas...',\n",
       " 'UV Protection Round Sunglasses (Free Size)',\n",
       " 'UV Protection, Gradient, Riding Glasses Wayfarer Sungla...',\n",
       " 'Polarized, UV Protection, Riding Glasses Wayfarer Sungl...',\n",
       " 'UV Protection, Night Vision, Riding Glasses, Gradient, ...',\n",
       " 'Polarized Rectangular Sunglasses (65)',\n",
       " 'UV Protection, Gradient Butterfly Sunglasses (57)',\n",
       " 'UV Protection Round Sunglasses (Free Size)',\n",
       " 'UV Protection Aviator Sunglasses (Free Size)',\n",
       " 'UV Protection, Gradient Oval Sunglasses (58)',\n",
       " 'UV Protection Round Sunglasses (Free Size)',\n",
       " 'UV Protection Cat-eye Sunglasses (20)',\n",
       " 'Mirrored, UV Protection Wayfarer Sunglasses (50)',\n",
       " 'UV Protection, Riding Glasses Retro Square, Spectacle ...',\n",
       " 'UV Protection, Gradient Butterfly, Retro Square Sunglas...',\n",
       " 'UV Protection, Gradient Wayfarer Sunglasses (53)',\n",
       " 'Polarized, UV Protection, Riding Glasses Wayfarer, Rect...',\n",
       " 'UV Protection Wayfarer Sunglasses (55)',\n",
       " 'Mirrored Round Sunglasses (53)',\n",
       " 'UV Protection, Mirrored Retro Square Sunglasses (Free S...',\n",
       " 'UV Protection Cat-eye Sunglasses (17)',\n",
       " 'UV Protection Wayfarer Sunglasses (53)',\n",
       " 'UV Protection, Gradient Aviator Sunglasses (53)',\n",
       " 'UV Protection Round Sunglasses (49)',\n",
       " 'UV Protection, Night Vision, Riding Glasses Sports Sung...',\n",
       " 'UV Protection, Others Retro Square Sunglasses (Free Siz...',\n",
       " 'UV Protection, Gradient Aviator Sunglasses (55)',\n",
       " 'UV Protection Retro Square Sunglasses (Free Size)',\n",
       " 'Toughened Glass Lens, UV Protection Rectangular, Aviato...']"
      ]
     },
     "execution_count": 111,
     "metadata": {},
     "output_type": "execute_result"
    }
   ],
   "source": [
    "for i in specs_tag2:\n",
    "    title=i.text\n",
    "    specification_list2.append(title)\n",
    "specification_list2"
   ]
  },
  {
   "cell_type": "code",
   "execution_count": 112,
   "id": "20090777",
   "metadata": {},
   "outputs": [
    {
     "name": "stderr",
     "output_type": "stream",
     "text": [
      "<ipython-input-112-cfe72b9a5cb7>:1: DeprecationWarning: find_elements_by_* commands are deprecated. Please use find_elements() instead\n",
      "  price_tags2 = driver.find_elements_by_xpath(\"//div[@class='_30jeq3']\")\n"
     ]
    },
    {
     "data": {
      "text/plain": [
       "[<selenium.webdriver.remote.webelement.WebElement (session=\"5a61c0d16beb4b5411c668162f850197\", element=\"6932616b-5dad-4c95-b028-14db40941de2\")>,\n",
       " <selenium.webdriver.remote.webelement.WebElement (session=\"5a61c0d16beb4b5411c668162f850197\", element=\"3a27b1dc-cdae-48da-a6dd-63b53bc43ba6\")>,\n",
       " <selenium.webdriver.remote.webelement.WebElement (session=\"5a61c0d16beb4b5411c668162f850197\", element=\"823d41a8-da15-40aa-8492-5d2d555bed51\")>,\n",
       " <selenium.webdriver.remote.webelement.WebElement (session=\"5a61c0d16beb4b5411c668162f850197\", element=\"97a53eed-a99b-4802-b53d-3883e1db2579\")>,\n",
       " <selenium.webdriver.remote.webelement.WebElement (session=\"5a61c0d16beb4b5411c668162f850197\", element=\"2fa24c07-e042-47b4-ab22-e2acc21ac1b2\")>,\n",
       " <selenium.webdriver.remote.webelement.WebElement (session=\"5a61c0d16beb4b5411c668162f850197\", element=\"bd9fb499-f218-4dba-adb7-92b5b8dc7007\")>,\n",
       " <selenium.webdriver.remote.webelement.WebElement (session=\"5a61c0d16beb4b5411c668162f850197\", element=\"37228e4f-2173-4f16-8591-44d9c42bd49a\")>,\n",
       " <selenium.webdriver.remote.webelement.WebElement (session=\"5a61c0d16beb4b5411c668162f850197\", element=\"b03481d9-2567-4811-9c3b-d88f293254d5\")>,\n",
       " <selenium.webdriver.remote.webelement.WebElement (session=\"5a61c0d16beb4b5411c668162f850197\", element=\"d69d862c-338d-4ce4-a931-c85d1175dbe9\")>,\n",
       " <selenium.webdriver.remote.webelement.WebElement (session=\"5a61c0d16beb4b5411c668162f850197\", element=\"7ea4eb44-d7d0-4b44-8d54-c85197583515\")>,\n",
       " <selenium.webdriver.remote.webelement.WebElement (session=\"5a61c0d16beb4b5411c668162f850197\", element=\"b122efa4-2953-4204-8f74-107aa7fe5662\")>,\n",
       " <selenium.webdriver.remote.webelement.WebElement (session=\"5a61c0d16beb4b5411c668162f850197\", element=\"6ea7d0ed-dc47-44eb-b771-ff8f149df1d2\")>,\n",
       " <selenium.webdriver.remote.webelement.WebElement (session=\"5a61c0d16beb4b5411c668162f850197\", element=\"f1dddc5c-00bb-4533-8abe-73ec9e89a14b\")>,\n",
       " <selenium.webdriver.remote.webelement.WebElement (session=\"5a61c0d16beb4b5411c668162f850197\", element=\"f6798dcd-af2c-4a22-82fb-8c71ebc5e185\")>,\n",
       " <selenium.webdriver.remote.webelement.WebElement (session=\"5a61c0d16beb4b5411c668162f850197\", element=\"ea42145d-1edd-42f6-ac52-8e54c139ca30\")>,\n",
       " <selenium.webdriver.remote.webelement.WebElement (session=\"5a61c0d16beb4b5411c668162f850197\", element=\"ffee439d-b3b1-4f00-a788-149b309199e0\")>,\n",
       " <selenium.webdriver.remote.webelement.WebElement (session=\"5a61c0d16beb4b5411c668162f850197\", element=\"a1625fcc-344b-4879-8c4b-5f10b107cc2c\")>,\n",
       " <selenium.webdriver.remote.webelement.WebElement (session=\"5a61c0d16beb4b5411c668162f850197\", element=\"be04ec47-348a-40a7-8e91-36e83bb2072c\")>,\n",
       " <selenium.webdriver.remote.webelement.WebElement (session=\"5a61c0d16beb4b5411c668162f850197\", element=\"6b56335d-2154-43f3-9368-112fce3d2000\")>,\n",
       " <selenium.webdriver.remote.webelement.WebElement (session=\"5a61c0d16beb4b5411c668162f850197\", element=\"e9902477-54f2-4138-884e-460c97a25287\")>,\n",
       " <selenium.webdriver.remote.webelement.WebElement (session=\"5a61c0d16beb4b5411c668162f850197\", element=\"8a730be9-d70c-4e67-8652-5da2082eff0f\")>,\n",
       " <selenium.webdriver.remote.webelement.WebElement (session=\"5a61c0d16beb4b5411c668162f850197\", element=\"83220a40-7c38-4b43-995d-80733f3e8501\")>,\n",
       " <selenium.webdriver.remote.webelement.WebElement (session=\"5a61c0d16beb4b5411c668162f850197\", element=\"7b4c96cb-5f46-4159-8a11-d9d46ecafe78\")>,\n",
       " <selenium.webdriver.remote.webelement.WebElement (session=\"5a61c0d16beb4b5411c668162f850197\", element=\"396e71fa-dd54-4a0b-bf8a-6d28196ec915\")>,\n",
       " <selenium.webdriver.remote.webelement.WebElement (session=\"5a61c0d16beb4b5411c668162f850197\", element=\"08c8477b-cdfa-452e-8e62-6445ba93a10e\")>,\n",
       " <selenium.webdriver.remote.webelement.WebElement (session=\"5a61c0d16beb4b5411c668162f850197\", element=\"0c23f005-2155-49a2-99ff-2e39a4041ca7\")>,\n",
       " <selenium.webdriver.remote.webelement.WebElement (session=\"5a61c0d16beb4b5411c668162f850197\", element=\"90845192-06af-4030-8592-54b9ff56f2d7\")>,\n",
       " <selenium.webdriver.remote.webelement.WebElement (session=\"5a61c0d16beb4b5411c668162f850197\", element=\"ed2d28c1-d42c-4bba-87c9-b00a778b29d7\")>,\n",
       " <selenium.webdriver.remote.webelement.WebElement (session=\"5a61c0d16beb4b5411c668162f850197\", element=\"38cc1327-60c7-4025-b1e1-0cb1123c9b52\")>,\n",
       " <selenium.webdriver.remote.webelement.WebElement (session=\"5a61c0d16beb4b5411c668162f850197\", element=\"8b7bf53d-04c3-432a-97d4-a558df924c4c\")>,\n",
       " <selenium.webdriver.remote.webelement.WebElement (session=\"5a61c0d16beb4b5411c668162f850197\", element=\"8ca2ca7e-04fc-45af-8ed2-7e7e85b2c17d\")>,\n",
       " <selenium.webdriver.remote.webelement.WebElement (session=\"5a61c0d16beb4b5411c668162f850197\", element=\"cce008dd-68f2-41f0-bcd4-faa04690df52\")>,\n",
       " <selenium.webdriver.remote.webelement.WebElement (session=\"5a61c0d16beb4b5411c668162f850197\", element=\"2c3547d4-e5c1-443f-be45-407599469c48\")>,\n",
       " <selenium.webdriver.remote.webelement.WebElement (session=\"5a61c0d16beb4b5411c668162f850197\", element=\"63899ae9-da27-4b2a-b4ed-fdb8e92b64a6\")>,\n",
       " <selenium.webdriver.remote.webelement.WebElement (session=\"5a61c0d16beb4b5411c668162f850197\", element=\"2031c069-e436-48f7-9b6a-a1d94d2fc67c\")>,\n",
       " <selenium.webdriver.remote.webelement.WebElement (session=\"5a61c0d16beb4b5411c668162f850197\", element=\"f315824e-1278-4221-b5b2-a817b24a7ecb\")>,\n",
       " <selenium.webdriver.remote.webelement.WebElement (session=\"5a61c0d16beb4b5411c668162f850197\", element=\"b766d156-37cf-4532-8d69-c769baaf842f\")>,\n",
       " <selenium.webdriver.remote.webelement.WebElement (session=\"5a61c0d16beb4b5411c668162f850197\", element=\"3561ee3a-b965-424f-b53e-5d5e684c569c\")>,\n",
       " <selenium.webdriver.remote.webelement.WebElement (session=\"5a61c0d16beb4b5411c668162f850197\", element=\"096548f0-d502-459a-b619-38c0c4dc3cd7\")>,\n",
       " <selenium.webdriver.remote.webelement.WebElement (session=\"5a61c0d16beb4b5411c668162f850197\", element=\"67ae231e-e721-4c61-9bfc-7ddcfe82b0ff\")>]"
      ]
     },
     "execution_count": 112,
     "metadata": {},
     "output_type": "execute_result"
    }
   ],
   "source": [
    "price_tags2 = driver.find_elements_by_xpath(\"//div[@class='_30jeq3']\")\n",
    "price_tags2"
   ]
  },
  {
   "cell_type": "code",
   "execution_count": 113,
   "id": "eaec4234",
   "metadata": {},
   "outputs": [
    {
     "data": {
      "text/plain": [
       "['₹446',\n",
       " '₹699',\n",
       " '₹233',\n",
       " '₹270',\n",
       " '₹279',\n",
       " '₹1,089',\n",
       " '₹649',\n",
       " '₹467',\n",
       " '₹259',\n",
       " '₹359',\n",
       " '₹403',\n",
       " '₹664',\n",
       " '₹279',\n",
       " '₹233',\n",
       " '₹224',\n",
       " '₹189',\n",
       " '₹664',\n",
       " '₹664',\n",
       " '₹259',\n",
       " '₹498',\n",
       " '₹446',\n",
       " '₹276',\n",
       " '₹1,099',\n",
       " '₹1,009',\n",
       " '₹375',\n",
       " '₹459',\n",
       " '₹296',\n",
       " '₹308',\n",
       " '₹699',\n",
       " '₹263',\n",
       " '₹319',\n",
       " '₹1,099',\n",
       " '₹319',\n",
       " '₹263',\n",
       " '₹1,099',\n",
       " '₹262',\n",
       " '₹199',\n",
       " '₹194',\n",
       " '₹319',\n",
       " '₹885']"
      ]
     },
     "execution_count": 113,
     "metadata": {},
     "output_type": "execute_result"
    }
   ],
   "source": [
    "for i in price_tags2:\n",
    "    title=i.text\n",
    "    price_list2.append(title)\n",
    "price_list2"
   ]
  },
  {
   "cell_type": "code",
   "execution_count": 114,
   "id": "345af8c7",
   "metadata": {},
   "outputs": [
    {
     "name": "stderr",
     "output_type": "stream",
     "text": [
      "<ipython-input-114-5a0165388033>:1: DeprecationWarning: find_elements_by_* commands are deprecated. Please use find_elements() instead\n",
      "  dis_tags2 = driver.find_elements_by_xpath(\"//div[@class='_3Ay6Sb']\")\n"
     ]
    },
    {
     "data": {
      "text/plain": [
       "[<selenium.webdriver.remote.webelement.WebElement (session=\"5a61c0d16beb4b5411c668162f850197\", element=\"fba49cbb-f6ae-4c4f-a9ed-89796999dd61\")>,\n",
       " <selenium.webdriver.remote.webelement.WebElement (session=\"5a61c0d16beb4b5411c668162f850197\", element=\"93b1cd52-8301-463e-8c17-d925b6c64619\")>,\n",
       " <selenium.webdriver.remote.webelement.WebElement (session=\"5a61c0d16beb4b5411c668162f850197\", element=\"3b8a6af8-5cc5-4865-80db-6badbe542a13\")>,\n",
       " <selenium.webdriver.remote.webelement.WebElement (session=\"5a61c0d16beb4b5411c668162f850197\", element=\"f42efae9-613b-44ee-a20d-3467d168656d\")>,\n",
       " <selenium.webdriver.remote.webelement.WebElement (session=\"5a61c0d16beb4b5411c668162f850197\", element=\"869f6a60-4b3b-4b2a-835d-d62a20a290bd\")>,\n",
       " <selenium.webdriver.remote.webelement.WebElement (session=\"5a61c0d16beb4b5411c668162f850197\", element=\"174d0dbd-880f-43e6-8586-c513ee8b3da8\")>,\n",
       " <selenium.webdriver.remote.webelement.WebElement (session=\"5a61c0d16beb4b5411c668162f850197\", element=\"e21a46ed-152a-4ccb-846d-96a17bd9d295\")>,\n",
       " <selenium.webdriver.remote.webelement.WebElement (session=\"5a61c0d16beb4b5411c668162f850197\", element=\"0b88e24a-cfdd-4ab2-86f3-e8c449df7fe7\")>,\n",
       " <selenium.webdriver.remote.webelement.WebElement (session=\"5a61c0d16beb4b5411c668162f850197\", element=\"989eef6f-f925-4cdb-b789-08db2ff4677d\")>,\n",
       " <selenium.webdriver.remote.webelement.WebElement (session=\"5a61c0d16beb4b5411c668162f850197\", element=\"6038901a-b046-4bce-87a7-960b67bfe6bf\")>,\n",
       " <selenium.webdriver.remote.webelement.WebElement (session=\"5a61c0d16beb4b5411c668162f850197\", element=\"d3c7b88d-0f21-40da-941d-ec7a5b3577d8\")>,\n",
       " <selenium.webdriver.remote.webelement.WebElement (session=\"5a61c0d16beb4b5411c668162f850197\", element=\"f02baf00-4cdb-4d35-9c0e-c969d3b9fe82\")>,\n",
       " <selenium.webdriver.remote.webelement.WebElement (session=\"5a61c0d16beb4b5411c668162f850197\", element=\"c9d03487-c2ab-46b7-ab44-352fc08a56ca\")>,\n",
       " <selenium.webdriver.remote.webelement.WebElement (session=\"5a61c0d16beb4b5411c668162f850197\", element=\"ce44f895-3927-4f50-b0c4-b04a6c04821c\")>,\n",
       " <selenium.webdriver.remote.webelement.WebElement (session=\"5a61c0d16beb4b5411c668162f850197\", element=\"0b8bff05-1458-4874-972d-a5f52d707098\")>,\n",
       " <selenium.webdriver.remote.webelement.WebElement (session=\"5a61c0d16beb4b5411c668162f850197\", element=\"41194a0d-a1b1-409e-8dd5-7b006aa73985\")>,\n",
       " <selenium.webdriver.remote.webelement.WebElement (session=\"5a61c0d16beb4b5411c668162f850197\", element=\"97f0a2af-74d6-486b-9ea4-2795999f7893\")>,\n",
       " <selenium.webdriver.remote.webelement.WebElement (session=\"5a61c0d16beb4b5411c668162f850197\", element=\"aac5dc36-f677-4a8c-8cd6-2e56002fdbda\")>,\n",
       " <selenium.webdriver.remote.webelement.WebElement (session=\"5a61c0d16beb4b5411c668162f850197\", element=\"977d166a-35f2-4a52-b080-72815578505e\")>,\n",
       " <selenium.webdriver.remote.webelement.WebElement (session=\"5a61c0d16beb4b5411c668162f850197\", element=\"05189774-3410-4cb4-a7d2-b8444cee0ecf\")>,\n",
       " <selenium.webdriver.remote.webelement.WebElement (session=\"5a61c0d16beb4b5411c668162f850197\", element=\"b1558be3-a602-4ebe-a312-c66514770f41\")>,\n",
       " <selenium.webdriver.remote.webelement.WebElement (session=\"5a61c0d16beb4b5411c668162f850197\", element=\"8f034957-11f8-469a-83d9-b5c0a15395a1\")>,\n",
       " <selenium.webdriver.remote.webelement.WebElement (session=\"5a61c0d16beb4b5411c668162f850197\", element=\"67f2b345-385c-4e88-8a54-86f79f0df9ce\")>,\n",
       " <selenium.webdriver.remote.webelement.WebElement (session=\"5a61c0d16beb4b5411c668162f850197\", element=\"307e213b-897e-4a49-bde6-b8d000b9630f\")>,\n",
       " <selenium.webdriver.remote.webelement.WebElement (session=\"5a61c0d16beb4b5411c668162f850197\", element=\"8b4d5640-c992-4b90-b490-e6b26e399661\")>,\n",
       " <selenium.webdriver.remote.webelement.WebElement (session=\"5a61c0d16beb4b5411c668162f850197\", element=\"b4695ad4-4e53-4894-ab9d-8b8ba8e7ddbd\")>,\n",
       " <selenium.webdriver.remote.webelement.WebElement (session=\"5a61c0d16beb4b5411c668162f850197\", element=\"aed4a1ae-da2c-4a2d-89e8-5b1b1b4506f7\")>,\n",
       " <selenium.webdriver.remote.webelement.WebElement (session=\"5a61c0d16beb4b5411c668162f850197\", element=\"914c78e4-0f53-412c-bafb-0ec5d575a6a1\")>,\n",
       " <selenium.webdriver.remote.webelement.WebElement (session=\"5a61c0d16beb4b5411c668162f850197\", element=\"b9ccbf78-a533-44f4-9c0c-e3d8b0031c41\")>,\n",
       " <selenium.webdriver.remote.webelement.WebElement (session=\"5a61c0d16beb4b5411c668162f850197\", element=\"56900997-e1be-4f5a-b223-2ad9c235bd31\")>,\n",
       " <selenium.webdriver.remote.webelement.WebElement (session=\"5a61c0d16beb4b5411c668162f850197\", element=\"31949b55-4156-45b8-b651-4e6c7721c833\")>,\n",
       " <selenium.webdriver.remote.webelement.WebElement (session=\"5a61c0d16beb4b5411c668162f850197\", element=\"56ffd299-53f6-4c4f-aa72-db7592d426f7\")>,\n",
       " <selenium.webdriver.remote.webelement.WebElement (session=\"5a61c0d16beb4b5411c668162f850197\", element=\"bec73a8f-5c8d-4899-b182-4c47afd69aeb\")>,\n",
       " <selenium.webdriver.remote.webelement.WebElement (session=\"5a61c0d16beb4b5411c668162f850197\", element=\"caa70f3c-7aae-4163-a0f3-89af0bba7885\")>,\n",
       " <selenium.webdriver.remote.webelement.WebElement (session=\"5a61c0d16beb4b5411c668162f850197\", element=\"05f9c0b6-dc43-4442-8bdc-add94a728ade\")>,\n",
       " <selenium.webdriver.remote.webelement.WebElement (session=\"5a61c0d16beb4b5411c668162f850197\", element=\"6e3019a2-7754-4db6-b9b3-66f7e60541dd\")>,\n",
       " <selenium.webdriver.remote.webelement.WebElement (session=\"5a61c0d16beb4b5411c668162f850197\", element=\"f5e96ec0-2b50-497b-ad21-47d539b25361\")>,\n",
       " <selenium.webdriver.remote.webelement.WebElement (session=\"5a61c0d16beb4b5411c668162f850197\", element=\"4d51865f-493d-4bc0-9c28-08feec3f94a9\")>,\n",
       " <selenium.webdriver.remote.webelement.WebElement (session=\"5a61c0d16beb4b5411c668162f850197\", element=\"08291800-c405-4fd6-9e03-dd8581d0b86c\")>,\n",
       " <selenium.webdriver.remote.webelement.WebElement (session=\"5a61c0d16beb4b5411c668162f850197\", element=\"c6975433-ad93-4323-9ddc-838e7d817397\")>]"
      ]
     },
     "execution_count": 114,
     "metadata": {},
     "output_type": "execute_result"
    }
   ],
   "source": [
    "dis_tags2 = driver.find_elements_by_xpath(\"//div[@class='_3Ay6Sb']\")\n",
    "dis_tags2"
   ]
  },
  {
   "cell_type": "code",
   "execution_count": 115,
   "id": "296f2056",
   "metadata": {},
   "outputs": [
    {
     "data": {
      "text/plain": [
       "['70% off',\n",
       " '22% off',\n",
       " '84% off',\n",
       " '84% off',\n",
       " '86% off',\n",
       " '51% off',\n",
       " '27% off',\n",
       " '68% off',\n",
       " '84% off',\n",
       " '76% off',\n",
       " '76% off',\n",
       " '66% off',\n",
       " '82% off',\n",
       " '76% off',\n",
       " '62% off',\n",
       " '85% off',\n",
       " '66% off',\n",
       " '66% off',\n",
       " '74% off',\n",
       " '75% off',\n",
       " '70% off',\n",
       " '83% off',\n",
       " '51% off',\n",
       " '50% off',\n",
       " '71% off',\n",
       " '69% off',\n",
       " '85% off',\n",
       " '55% off',\n",
       " '22% off',\n",
       " '89% off',\n",
       " '84% off',\n",
       " '51% off',\n",
       " '90% off',\n",
       " '82% off',\n",
       " '51% off',\n",
       " '66% off',\n",
       " '86% off',\n",
       " '83% off',\n",
       " '84% off',\n",
       " '76% off']"
      ]
     },
     "execution_count": 115,
     "metadata": {},
     "output_type": "execute_result"
    }
   ],
   "source": [
    "for i in dis_tags2:\n",
    "    title=i.text\n",
    "    Discount_list2.append(title)\n",
    "Discount_list2"
   ]
  },
  {
   "cell_type": "markdown",
   "id": "cc1c5fd6",
   "metadata": {},
   "source": [
    "# now Joining all list:"
   ]
  },
  {
   "cell_type": "code",
   "execution_count": 116,
   "id": "00744217",
   "metadata": {},
   "outputs": [],
   "source": [
    "Brand = brand_list+brand_list1+brand_list2\n",
    "Specifications = specification_list+specification_list1+specification_list2\n",
    "Price = price_list+price_list1+price_list2\n",
    "Discount = Discount_list+Discount_list1+Discount_list2"
   ]
  },
  {
   "cell_type": "code",
   "execution_count": 117,
   "id": "c1e3d287",
   "metadata": {},
   "outputs": [
    {
     "name": "stdout",
     "output_type": "stream",
     "text": [
      "120 120 120 120\n"
     ]
    }
   ],
   "source": [
    "print(len(Brand),len(Specifications),len(Price),len(Discount))"
   ]
  },
  {
   "cell_type": "markdown",
   "id": "02c65784",
   "metadata": {},
   "source": [
    "# Creating DATAFRAME:"
   ]
  },
  {
   "cell_type": "code",
   "execution_count": 118,
   "id": "7dee2717",
   "metadata": {},
   "outputs": [],
   "source": [
    "flipkart_data = pd.DataFrame({'Brand':Brand,'Specifications':Specifications,'Price':Price,'Discount':Discount})"
   ]
  },
  {
   "cell_type": "code",
   "execution_count": 119,
   "id": "ff7f5cf0",
   "metadata": {},
   "outputs": [
    {
     "data": {
      "text/html": [
       "<div>\n",
       "<style scoped>\n",
       "    .dataframe tbody tr th:only-of-type {\n",
       "        vertical-align: middle;\n",
       "    }\n",
       "\n",
       "    .dataframe tbody tr th {\n",
       "        vertical-align: top;\n",
       "    }\n",
       "\n",
       "    .dataframe thead th {\n",
       "        text-align: right;\n",
       "    }\n",
       "</style>\n",
       "<table border=\"1\" class=\"dataframe\">\n",
       "  <thead>\n",
       "    <tr style=\"text-align: right;\">\n",
       "      <th></th>\n",
       "      <th>Brand</th>\n",
       "      <th>Specifications</th>\n",
       "      <th>Price</th>\n",
       "      <th>Discount</th>\n",
       "    </tr>\n",
       "  </thead>\n",
       "  <tbody>\n",
       "    <tr>\n",
       "      <th>0</th>\n",
       "      <td>SRPM</td>\n",
       "      <td>UV Protection Wayfarer Sunglasses (56)</td>\n",
       "      <td>₹188</td>\n",
       "      <td>85% off</td>\n",
       "    </tr>\n",
       "    <tr>\n",
       "      <th>1</th>\n",
       "      <td>Elligator</td>\n",
       "      <td>UV Protection Round Sunglasses (54)</td>\n",
       "      <td>₹248</td>\n",
       "      <td>90% off</td>\n",
       "    </tr>\n",
       "    <tr>\n",
       "      <th>2</th>\n",
       "      <td>New Specs</td>\n",
       "      <td>UV Protection Rectangular Sunglasses (Free Size)</td>\n",
       "      <td>₹259</td>\n",
       "      <td>87% off</td>\n",
       "    </tr>\n",
       "    <tr>\n",
       "      <th>3</th>\n",
       "      <td>PIRASO</td>\n",
       "      <td>UV Protection Aviator Sunglasses (54)</td>\n",
       "      <td>₹200</td>\n",
       "      <td>87% off</td>\n",
       "    </tr>\n",
       "    <tr>\n",
       "      <th>4</th>\n",
       "      <td>kingsunglasses</td>\n",
       "      <td>UV Protection Round Sunglasses (54)</td>\n",
       "      <td>₹189</td>\n",
       "      <td>82% off</td>\n",
       "    </tr>\n",
       "    <tr>\n",
       "      <th>...</th>\n",
       "      <td>...</td>\n",
       "      <td>...</td>\n",
       "      <td>...</td>\n",
       "      <td>...</td>\n",
       "    </tr>\n",
       "    <tr>\n",
       "      <th>115</th>\n",
       "      <td>NuVew</td>\n",
       "      <td>UV Protection, Night Vision, Riding Glasses Sp...</td>\n",
       "      <td>₹262</td>\n",
       "      <td>66% off</td>\n",
       "    </tr>\n",
       "    <tr>\n",
       "      <th>116</th>\n",
       "      <td>Fravy</td>\n",
       "      <td>UV Protection, Others Retro Square Sunglasses ...</td>\n",
       "      <td>₹199</td>\n",
       "      <td>86% off</td>\n",
       "    </tr>\n",
       "    <tr>\n",
       "      <th>117</th>\n",
       "      <td>agera</td>\n",
       "      <td>UV Protection, Gradient Aviator Sunglasses (55)</td>\n",
       "      <td>₹194</td>\n",
       "      <td>83% off</td>\n",
       "    </tr>\n",
       "    <tr>\n",
       "      <th>118</th>\n",
       "      <td>PHENOMENAL</td>\n",
       "      <td>UV Protection Retro Square Sunglasses (Free Size)</td>\n",
       "      <td>₹319</td>\n",
       "      <td>84% off</td>\n",
       "    </tr>\n",
       "    <tr>\n",
       "      <th>119</th>\n",
       "      <td>AISLIN</td>\n",
       "      <td>Toughened Glass Lens, UV Protection Rectangula...</td>\n",
       "      <td>₹885</td>\n",
       "      <td>76% off</td>\n",
       "    </tr>\n",
       "  </tbody>\n",
       "</table>\n",
       "<p>120 rows × 4 columns</p>\n",
       "</div>"
      ],
      "text/plain": [
       "              Brand                                     Specifications Price  \\\n",
       "0              SRPM             UV Protection Wayfarer Sunglasses (56)  ₹188   \n",
       "1         Elligator                UV Protection Round Sunglasses (54)  ₹248   \n",
       "2         New Specs   UV Protection Rectangular Sunglasses (Free Size)  ₹259   \n",
       "3            PIRASO              UV Protection Aviator Sunglasses (54)  ₹200   \n",
       "4    kingsunglasses                UV Protection Round Sunglasses (54)  ₹189   \n",
       "..              ...                                                ...   ...   \n",
       "115           NuVew  UV Protection, Night Vision, Riding Glasses Sp...  ₹262   \n",
       "116           Fravy  UV Protection, Others Retro Square Sunglasses ...  ₹199   \n",
       "117           agera    UV Protection, Gradient Aviator Sunglasses (55)  ₹194   \n",
       "118      PHENOMENAL  UV Protection Retro Square Sunglasses (Free Size)  ₹319   \n",
       "119          AISLIN  Toughened Glass Lens, UV Protection Rectangula...  ₹885   \n",
       "\n",
       "    Discount  \n",
       "0    85% off  \n",
       "1    90% off  \n",
       "2    87% off  \n",
       "3    87% off  \n",
       "4    82% off  \n",
       "..       ...  \n",
       "115  66% off  \n",
       "116  86% off  \n",
       "117  83% off  \n",
       "118  84% off  \n",
       "119  76% off  \n",
       "\n",
       "[120 rows x 4 columns]"
      ]
     },
     "execution_count": 119,
     "metadata": {},
     "output_type": "execute_result"
    }
   ],
   "source": [
    "flipkart_data"
   ]
  },
  {
   "cell_type": "code",
   "execution_count": 120,
   "id": "2305e3e0",
   "metadata": {},
   "outputs": [],
   "source": [
    "#driver.close()"
   ]
  },
  {
   "cell_type": "markdown",
   "id": "d34b628f",
   "metadata": {},
   "source": [
    "# : ######  Scrape 100 reviews data from flipkart.com for iphone11 phone:"
   ]
  },
  {
   "cell_type": "code",
   "execution_count": 121,
   "id": "7875df4d",
   "metadata": {},
   "outputs": [
    {
     "name": "stderr",
     "output_type": "stream",
     "text": [
      "<ipython-input-121-151ce781a031>:1: DeprecationWarning: executable_path has been deprecated, please pass in a Service object\n",
      "  driver = webdriver.Chrome(r\"C:\\Users\\shaha\\Downloads\\chromedriver_win32/chromedriver.exe\")\n"
     ]
    }
   ],
   "source": [
    "driver = webdriver.Chrome(r\"C:\\Users\\shaha\\Downloads\\chromedriver_win32/chromedriver.exe\")"
   ]
  },
  {
   "cell_type": "code",
   "execution_count": 122,
   "id": "345e8976",
   "metadata": {},
   "outputs": [],
   "source": [
    "url_reviews = (\"https://www.flipkart.com/apple-iphone-11-black-64-gb-includes- earpods-poweradapter/p/itm0f37c2240b217?pid=MOBFKCTSVZAXUHGR&lid=LSTMOBFKCTSVZAXUHGREPBFGI&marketplace\")"
   ]
  },
  {
   "cell_type": "code",
   "execution_count": 123,
   "id": "b497b4c1",
   "metadata": {},
   "outputs": [],
   "source": [
    "driver.get(url_reviews)"
   ]
  },
  {
   "cell_type": "markdown",
   "id": "f0ccdfd2",
   "metadata": {},
   "source": [
    "# Making empty Lists:"
   ]
  },
  {
   "cell_type": "code",
   "execution_count": 124,
   "id": "28c3ffb1",
   "metadata": {},
   "outputs": [],
   "source": [
    "Rating =[]\n",
    "Review = []\n",
    "full_review = []"
   ]
  },
  {
   "cell_type": "code",
   "execution_count": 125,
   "id": "60b0c915",
   "metadata": {},
   "outputs": [
    {
     "name": "stderr",
     "output_type": "stream",
     "text": [
      "<ipython-input-125-2ac5e3f9a950>:1: DeprecationWarning: find_elements_by_* commands are deprecated. Please use find_elements() instead\n",
      "  rating_tags = driver.find_elements_by_xpath(\"//div[@class='_3LWZlK _1BLPMq']\")\n"
     ]
    },
    {
     "data": {
      "text/plain": [
       "[<selenium.webdriver.remote.webelement.WebElement (session=\"199c861a3a73af31b4c35f660e799aeb\", element=\"84490bc3-c63f-4fb9-97e8-a901ce7a6255\")>,\n",
       " <selenium.webdriver.remote.webelement.WebElement (session=\"199c861a3a73af31b4c35f660e799aeb\", element=\"2bcdc993-880a-4018-9454-c4c1598616b8\")>,\n",
       " <selenium.webdriver.remote.webelement.WebElement (session=\"199c861a3a73af31b4c35f660e799aeb\", element=\"0133728e-cdf3-4e60-a5dd-7dde874a564a\")>,\n",
       " <selenium.webdriver.remote.webelement.WebElement (session=\"199c861a3a73af31b4c35f660e799aeb\", element=\"2c46c211-f91c-4406-9096-8d796f1075c6\")>,\n",
       " <selenium.webdriver.remote.webelement.WebElement (session=\"199c861a3a73af31b4c35f660e799aeb\", element=\"52ef5bf2-a131-4ccc-a7c0-2853fe0b486b\")>,\n",
       " <selenium.webdriver.remote.webelement.WebElement (session=\"199c861a3a73af31b4c35f660e799aeb\", element=\"e36c1de0-e592-42e4-8e38-1efc0ed73b65\")>,\n",
       " <selenium.webdriver.remote.webelement.WebElement (session=\"199c861a3a73af31b4c35f660e799aeb\", element=\"14842989-c990-4465-b368-fddee812a490\")>,\n",
       " <selenium.webdriver.remote.webelement.WebElement (session=\"199c861a3a73af31b4c35f660e799aeb\", element=\"adecc9fc-c5ea-4ddb-b555-d12c8bfef4b7\")>,\n",
       " <selenium.webdriver.remote.webelement.WebElement (session=\"199c861a3a73af31b4c35f660e799aeb\", element=\"e40a95bb-e982-44da-8c1e-0704b7dc33c4\")>,\n",
       " <selenium.webdriver.remote.webelement.WebElement (session=\"199c861a3a73af31b4c35f660e799aeb\", element=\"7a971e7e-fbde-44ff-901c-f0edf9adaa4b\")>]"
      ]
     },
     "execution_count": 125,
     "metadata": {},
     "output_type": "execute_result"
    }
   ],
   "source": [
    "rating_tags = driver.find_elements_by_xpath(\"//div[@class='_3LWZlK _1BLPMq']\")\n",
    "rating_tags"
   ]
  },
  {
   "cell_type": "code",
   "execution_count": 126,
   "id": "8a86341d",
   "metadata": {},
   "outputs": [
    {
     "data": {
      "text/plain": [
       "['5', '5', '5', '', '', '', '', '', '', '']"
      ]
     },
     "execution_count": 126,
     "metadata": {},
     "output_type": "execute_result"
    }
   ],
   "source": [
    "for i in rating_tags:\n",
    "    title=i.text\n",
    "    Rating.append(title)\n",
    "Rating"
   ]
  },
  {
   "cell_type": "code",
   "execution_count": 127,
   "id": "0d2afaba",
   "metadata": {},
   "outputs": [
    {
     "name": "stderr",
     "output_type": "stream",
     "text": [
      "<ipython-input-127-e16610a3d471>:1: DeprecationWarning: find_elements_by_* commands are deprecated. Please use find_elements() instead\n",
      "  review_tags = driver.find_elements_by_xpath(\"//p[@class='_2-N8zT']\")\n"
     ]
    },
    {
     "data": {
      "text/plain": [
       "[<selenium.webdriver.remote.webelement.WebElement (session=\"199c861a3a73af31b4c35f660e799aeb\", element=\"001a0cc7-b766-4eeb-8d6f-f15851e984cd\")>,\n",
       " <selenium.webdriver.remote.webelement.WebElement (session=\"199c861a3a73af31b4c35f660e799aeb\", element=\"ed909424-fa82-4b3f-b47c-2ae740d3e101\")>,\n",
       " <selenium.webdriver.remote.webelement.WebElement (session=\"199c861a3a73af31b4c35f660e799aeb\", element=\"5ca8cce5-452b-4166-9a98-d33858bb8433\")>,\n",
       " <selenium.webdriver.remote.webelement.WebElement (session=\"199c861a3a73af31b4c35f660e799aeb\", element=\"0ee7e320-3fe9-4d0d-9c65-08d2125b0445\")>,\n",
       " <selenium.webdriver.remote.webelement.WebElement (session=\"199c861a3a73af31b4c35f660e799aeb\", element=\"d295df8c-5400-4a83-ad0b-57839c80f5c7\")>,\n",
       " <selenium.webdriver.remote.webelement.WebElement (session=\"199c861a3a73af31b4c35f660e799aeb\", element=\"7ac1ee54-3aa8-4290-a5dc-152aef080205\")>,\n",
       " <selenium.webdriver.remote.webelement.WebElement (session=\"199c861a3a73af31b4c35f660e799aeb\", element=\"f4d339c9-cd70-44ba-a8ae-ca8e9f32cefd\")>,\n",
       " <selenium.webdriver.remote.webelement.WebElement (session=\"199c861a3a73af31b4c35f660e799aeb\", element=\"bc963090-2a00-4032-867b-23c1e67da470\")>,\n",
       " <selenium.webdriver.remote.webelement.WebElement (session=\"199c861a3a73af31b4c35f660e799aeb\", element=\"c4091b98-c360-48ba-bb5a-accdff6d28c0\")>,\n",
       " <selenium.webdriver.remote.webelement.WebElement (session=\"199c861a3a73af31b4c35f660e799aeb\", element=\"808b6eaa-fcf9-4fdd-a30e-009efc5a38a3\")>]"
      ]
     },
     "execution_count": 127,
     "metadata": {},
     "output_type": "execute_result"
    }
   ],
   "source": [
    "review_tags = driver.find_elements_by_xpath(\"//p[@class='_2-N8zT']\")\n",
    "review_tags"
   ]
  },
  {
   "cell_type": "code",
   "execution_count": 128,
   "id": "11f67130",
   "metadata": {},
   "outputs": [
    {
     "data": {
      "text/plain": [
       "['Brilliant',\n",
       " 'Simply awesome',\n",
       " 'Best in the market!',\n",
       " '',\n",
       " '',\n",
       " '',\n",
       " '',\n",
       " '',\n",
       " '',\n",
       " '']"
      ]
     },
     "execution_count": 128,
     "metadata": {},
     "output_type": "execute_result"
    }
   ],
   "source": [
    "for i in review_tags:\n",
    "    title=i.text\n",
    "    Review.append(title)\n",
    "Review"
   ]
  },
  {
   "cell_type": "code",
   "execution_count": 129,
   "id": "9211c1dd",
   "metadata": {},
   "outputs": [
    {
     "name": "stderr",
     "output_type": "stream",
     "text": [
      "<ipython-input-129-b41ca29b7c3a>:1: DeprecationWarning: find_elements_by_* commands are deprecated. Please use find_elements() instead\n",
      "  full_tags =driver.find_elements_by_xpath(\"//div[@class='t-ZTKy']\")\n"
     ]
    },
    {
     "data": {
      "text/plain": [
       "[<selenium.webdriver.remote.webelement.WebElement (session=\"199c861a3a73af31b4c35f660e799aeb\", element=\"dd48e3ea-1d50-47c7-bf47-ee84f8d292cd\")>,\n",
       " <selenium.webdriver.remote.webelement.WebElement (session=\"199c861a3a73af31b4c35f660e799aeb\", element=\"4969ee15-0108-4358-9bea-20a7880949be\")>,\n",
       " <selenium.webdriver.remote.webelement.WebElement (session=\"199c861a3a73af31b4c35f660e799aeb\", element=\"769c4935-72a4-4e8d-84d2-c43852b73108\")>,\n",
       " <selenium.webdriver.remote.webelement.WebElement (session=\"199c861a3a73af31b4c35f660e799aeb\", element=\"65a81080-4f7c-49f3-8229-9e77c619a2c6\")>,\n",
       " <selenium.webdriver.remote.webelement.WebElement (session=\"199c861a3a73af31b4c35f660e799aeb\", element=\"809910d1-7b10-48df-bf59-d61b152eac19\")>,\n",
       " <selenium.webdriver.remote.webelement.WebElement (session=\"199c861a3a73af31b4c35f660e799aeb\", element=\"17735b0e-1a8d-4bb0-b8aa-c3fe3f6fa234\")>,\n",
       " <selenium.webdriver.remote.webelement.WebElement (session=\"199c861a3a73af31b4c35f660e799aeb\", element=\"02ad64de-b1de-4df1-a49d-045d3615943b\")>,\n",
       " <selenium.webdriver.remote.webelement.WebElement (session=\"199c861a3a73af31b4c35f660e799aeb\", element=\"05faa230-9f47-4058-aee8-6522aba98549\")>,\n",
       " <selenium.webdriver.remote.webelement.WebElement (session=\"199c861a3a73af31b4c35f660e799aeb\", element=\"680d90f7-dd42-44ce-b7cb-fa00f10d545e\")>,\n",
       " <selenium.webdriver.remote.webelement.WebElement (session=\"199c861a3a73af31b4c35f660e799aeb\", element=\"0c00c0d4-b08b-4c4c-862a-2bd8ef144918\")>]"
      ]
     },
     "execution_count": 129,
     "metadata": {},
     "output_type": "execute_result"
    }
   ],
   "source": [
    "full_tags =driver.find_elements_by_xpath(\"//div[@class='t-ZTKy']\")\n",
    "full_tags"
   ]
  },
  {
   "cell_type": "code",
   "execution_count": 130,
   "id": "e8f44966",
   "metadata": {},
   "outputs": [
    {
     "data": {
      "text/plain": [
       "['The Best Phone for the Money\\n\\nThe iPhone 11 offers superb cameras, a more durable design and excellent battery life for an affordable price.\\n\\nCompelling ultra-wide camera\\nNew Night mode is excellent\\nLong battery life',\n",
       " 'Really satisfied with the Product I received... It’s totally genuine and the packaging was also really good so if ur planning to buy just go for it.',\n",
       " 'Great iPhone very snappy experience as apple kind. Upgraded from iPhone 7.\\nPros\\n-Camera top class\\n- Battery top performed\\n-Chipset no need to say as apple kind\\n-Security as you expect from apple\\n- Display super bright industry leading colour\\naccuracy and super responsive\\n-Build quality as expect from apple sturdy\\npremium durable beautiful stylish.\\n-Os most stable os in smartphone industry\\n\\nCons\\n-No 5G\\n-Display is not based on OLED technology\\n-Charger headphones and 1 apple stic...\\nREAD MORE',\n",
       " '',\n",
       " '',\n",
       " '',\n",
       " '',\n",
       " '',\n",
       " '',\n",
       " '']"
      ]
     },
     "execution_count": 130,
     "metadata": {},
     "output_type": "execute_result"
    }
   ],
   "source": [
    "for i in full_tags:\n",
    "    title=i.text\n",
    "    full_review.append(title)\n",
    "full_review"
   ]
  },
  {
   "cell_type": "code",
   "execution_count": 131,
   "id": "c9779b52",
   "metadata": {},
   "outputs": [
    {
     "name": "stdout",
     "output_type": "stream",
     "text": [
      "10 10 10\n"
     ]
    }
   ],
   "source": [
    "print(len(Rating),len(Review),len(full_review))"
   ]
  },
  {
   "cell_type": "markdown",
   "id": "8b71daa3",
   "metadata": {},
   "source": [
    "# NEXT PAGE:"
   ]
  },
  {
   "cell_type": "code",
   "execution_count": 133,
   "id": "d72240ec",
   "metadata": {},
   "outputs": [
    {
     "name": "stderr",
     "output_type": "stream",
     "text": [
      "<ipython-input-133-4baf4e88f767>:1: DeprecationWarning: find_element_by_* commands are deprecated. Please use find_element() instead\n",
      "  nxt_button = driver.find_element_by_xpath(\"//a[@class='_1LKTO3']\")\n"
     ]
    }
   ],
   "source": [
    "nxt_button = driver.find_element_by_xpath(\"//a[@class='_1LKTO3']\")\n",
    "nxt_button.click()"
   ]
  },
  {
   "cell_type": "code",
   "execution_count": 134,
   "id": "4df02388",
   "metadata": {},
   "outputs": [],
   "source": [
    "#making empty list again\n",
    "Rating1 =[]\n",
    "Review1 = []\n",
    "full_review1 = []"
   ]
  },
  {
   "cell_type": "code",
   "execution_count": 135,
   "id": "52a556ce",
   "metadata": {},
   "outputs": [
    {
     "name": "stderr",
     "output_type": "stream",
     "text": [
      "<ipython-input-135-c99632d2c88e>:1: DeprecationWarning: find_elements_by_* commands are deprecated. Please use find_elements() instead\n",
      "  rating_tags1 = driver.find_elements_by_xpath(\"//div[@class='_3LWZlK _1BLPMq']\")\n"
     ]
    },
    {
     "data": {
      "text/plain": [
       "[<selenium.webdriver.remote.webelement.WebElement (session=\"199c861a3a73af31b4c35f660e799aeb\", element=\"5a572fbc-9953-4084-837a-1cdc99fd9307\")>,\n",
       " <selenium.webdriver.remote.webelement.WebElement (session=\"199c861a3a73af31b4c35f660e799aeb\", element=\"0f29c052-595a-4a88-ab8c-d4b09c7b015a\")>,\n",
       " <selenium.webdriver.remote.webelement.WebElement (session=\"199c861a3a73af31b4c35f660e799aeb\", element=\"02855621-b603-42f7-aa91-fc90e441ae26\")>,\n",
       " <selenium.webdriver.remote.webelement.WebElement (session=\"199c861a3a73af31b4c35f660e799aeb\", element=\"a8c97422-61fc-421f-885b-3cc1cbfc35ed\")>,\n",
       " <selenium.webdriver.remote.webelement.WebElement (session=\"199c861a3a73af31b4c35f660e799aeb\", element=\"ca82c323-4d43-4b76-9ce0-4b39bc39c4f1\")>,\n",
       " <selenium.webdriver.remote.webelement.WebElement (session=\"199c861a3a73af31b4c35f660e799aeb\", element=\"10eff3ef-3e27-49b1-b022-6584235addc4\")>,\n",
       " <selenium.webdriver.remote.webelement.WebElement (session=\"199c861a3a73af31b4c35f660e799aeb\", element=\"3a0332ea-fff3-46d3-892a-36601ba5d6bc\")>,\n",
       " <selenium.webdriver.remote.webelement.WebElement (session=\"199c861a3a73af31b4c35f660e799aeb\", element=\"5f727f45-84a1-4df6-a48b-eb53eaa67039\")>,\n",
       " <selenium.webdriver.remote.webelement.WebElement (session=\"199c861a3a73af31b4c35f660e799aeb\", element=\"00d3c237-0513-44a9-9845-8173dd0e2e28\")>,\n",
       " <selenium.webdriver.remote.webelement.WebElement (session=\"199c861a3a73af31b4c35f660e799aeb\", element=\"55a9f392-9934-4307-bf19-dc00c95c81ed\")>]"
      ]
     },
     "execution_count": 135,
     "metadata": {},
     "output_type": "execute_result"
    }
   ],
   "source": [
    "rating_tags1 = driver.find_elements_by_xpath(\"//div[@class='_3LWZlK _1BLPMq']\")\n",
    "rating_tags1\n"
   ]
  },
  {
   "cell_type": "code",
   "execution_count": 136,
   "id": "e9268af0",
   "metadata": {},
   "outputs": [
    {
     "data": {
      "text/plain": [
       "['5', '5', '5', '5', '5', '5', '5', '5', '5', '5']"
      ]
     },
     "execution_count": 136,
     "metadata": {},
     "output_type": "execute_result"
    }
   ],
   "source": [
    "for i in rating_tags1:\n",
    "    title=i.text\n",
    "    Rating1.append(title)\n",
    "Rating1"
   ]
  },
  {
   "cell_type": "code",
   "execution_count": 137,
   "id": "38ed8fd8",
   "metadata": {},
   "outputs": [
    {
     "name": "stderr",
     "output_type": "stream",
     "text": [
      "<ipython-input-137-1b7176256400>:1: DeprecationWarning: find_elements_by_* commands are deprecated. Please use find_elements() instead\n",
      "  review_tags1 = driver.find_elements_by_xpath(\"//p[@class='_2-N8zT']\")\n"
     ]
    },
    {
     "data": {
      "text/plain": [
       "[<selenium.webdriver.remote.webelement.WebElement (session=\"199c861a3a73af31b4c35f660e799aeb\", element=\"af9fdf0d-621a-420d-8b98-8fbd618ad318\")>,\n",
       " <selenium.webdriver.remote.webelement.WebElement (session=\"199c861a3a73af31b4c35f660e799aeb\", element=\"c8010550-1c2d-4059-aa82-3b85c9bc3b13\")>,\n",
       " <selenium.webdriver.remote.webelement.WebElement (session=\"199c861a3a73af31b4c35f660e799aeb\", element=\"1989d52a-95b3-4c7c-91ab-fd0cb1300b67\")>,\n",
       " <selenium.webdriver.remote.webelement.WebElement (session=\"199c861a3a73af31b4c35f660e799aeb\", element=\"b591ef79-346f-4ba2-a58b-7a3f73975a55\")>,\n",
       " <selenium.webdriver.remote.webelement.WebElement (session=\"199c861a3a73af31b4c35f660e799aeb\", element=\"e95b3bc8-0414-424e-9e3f-a96dbdf008f2\")>,\n",
       " <selenium.webdriver.remote.webelement.WebElement (session=\"199c861a3a73af31b4c35f660e799aeb\", element=\"5234036b-273b-4e48-be3f-a8e902aadd46\")>,\n",
       " <selenium.webdriver.remote.webelement.WebElement (session=\"199c861a3a73af31b4c35f660e799aeb\", element=\"e77ee5a0-644c-4588-9d37-e226ad08e28e\")>,\n",
       " <selenium.webdriver.remote.webelement.WebElement (session=\"199c861a3a73af31b4c35f660e799aeb\", element=\"ec8f478d-b471-46b0-9dee-6661bdaccd84\")>,\n",
       " <selenium.webdriver.remote.webelement.WebElement (session=\"199c861a3a73af31b4c35f660e799aeb\", element=\"2911a86f-d24b-40cb-a146-ea6406fb652a\")>,\n",
       " <selenium.webdriver.remote.webelement.WebElement (session=\"199c861a3a73af31b4c35f660e799aeb\", element=\"78909fb5-e791-4c22-907a-0bd5925a0676\")>]"
      ]
     },
     "execution_count": 137,
     "metadata": {},
     "output_type": "execute_result"
    }
   ],
   "source": [
    "review_tags1 = driver.find_elements_by_xpath(\"//p[@class='_2-N8zT']\")\n",
    "review_tags1"
   ]
  },
  {
   "cell_type": "code",
   "execution_count": 138,
   "id": "4bdff6e0",
   "metadata": {},
   "outputs": [
    {
     "data": {
      "text/plain": [
       "['Highly recommended',\n",
       " 'Perfect product!',\n",
       " 'Perfect product!',\n",
       " 'Classy product',\n",
       " 'Perfect product!',\n",
       " 'Worth every penny',\n",
       " 'Simply awesome',\n",
       " 'Highly recommended',\n",
       " 'Worth every penny',\n",
       " 'Worth every penny']"
      ]
     },
     "execution_count": 138,
     "metadata": {},
     "output_type": "execute_result"
    }
   ],
   "source": [
    "for i in review_tags1:\n",
    "    title=i.text\n",
    "    Review1.append(title)\n",
    "Review1"
   ]
  },
  {
   "cell_type": "code",
   "execution_count": 139,
   "id": "63ab1077",
   "metadata": {},
   "outputs": [
    {
     "name": "stderr",
     "output_type": "stream",
     "text": [
      "<ipython-input-139-4003a6113c3d>:1: DeprecationWarning: find_elements_by_* commands are deprecated. Please use find_elements() instead\n",
      "  full_tags1 =driver.find_elements_by_xpath(\"//div[@class='t-ZTKy']\")\n"
     ]
    },
    {
     "data": {
      "text/plain": [
       "[<selenium.webdriver.remote.webelement.WebElement (session=\"199c861a3a73af31b4c35f660e799aeb\", element=\"d64dd4cd-612f-4c29-938e-94bf1a19d2e0\")>,\n",
       " <selenium.webdriver.remote.webelement.WebElement (session=\"199c861a3a73af31b4c35f660e799aeb\", element=\"e8d4fb18-f4ef-4521-b163-96c4ca0426d9\")>,\n",
       " <selenium.webdriver.remote.webelement.WebElement (session=\"199c861a3a73af31b4c35f660e799aeb\", element=\"bd11a3a5-609d-4da7-96d8-95bb1a3ac4ac\")>,\n",
       " <selenium.webdriver.remote.webelement.WebElement (session=\"199c861a3a73af31b4c35f660e799aeb\", element=\"e817aa95-3a8c-4aea-b071-ac5155a4e5b9\")>,\n",
       " <selenium.webdriver.remote.webelement.WebElement (session=\"199c861a3a73af31b4c35f660e799aeb\", element=\"a2cfbe25-7f8e-49d9-b958-19f925299b76\")>,\n",
       " <selenium.webdriver.remote.webelement.WebElement (session=\"199c861a3a73af31b4c35f660e799aeb\", element=\"78b135d5-3cf0-4463-873b-30f7aba89eda\")>,\n",
       " <selenium.webdriver.remote.webelement.WebElement (session=\"199c861a3a73af31b4c35f660e799aeb\", element=\"719b6058-ddac-43a5-a11c-53018aebd3aa\")>,\n",
       " <selenium.webdriver.remote.webelement.WebElement (session=\"199c861a3a73af31b4c35f660e799aeb\", element=\"79d7f9c3-80b2-40a0-923b-6b7f5eed108d\")>,\n",
       " <selenium.webdriver.remote.webelement.WebElement (session=\"199c861a3a73af31b4c35f660e799aeb\", element=\"74738816-31c8-466f-a50c-e2030375dbe4\")>,\n",
       " <selenium.webdriver.remote.webelement.WebElement (session=\"199c861a3a73af31b4c35f660e799aeb\", element=\"2dfd32a2-ad57-4780-91c5-285838513e68\")>]"
      ]
     },
     "execution_count": 139,
     "metadata": {},
     "output_type": "execute_result"
    }
   ],
   "source": [
    "full_tags1 =driver.find_elements_by_xpath(\"//div[@class='t-ZTKy']\")\n",
    "full_tags1"
   ]
  },
  {
   "cell_type": "code",
   "execution_count": 140,
   "id": "597fdb6e",
   "metadata": {},
   "outputs": [
    {
     "data": {
      "text/plain": [
       "['iphone 11 is a very good phone to buy only if you can compromise for the display. The display on this is device is pretty good but you can get other options with better displays in this price segment.\\nIf you can survive with an HD+ LCD panel with thicker bezels and a notch up top then this is a very good phone for you.\\nCameras are awesome, battery backup excellent, great performance and a decent premium look. Good job Apple !',\n",
       " 'It’s a must buy who is looking for an upgrade from previous generation of iPhones. If you are using XR then still you can hold on for sometime and upgrade to 2020 model else this phone is a must buy . Camera quality is amazing and wide angle is something to count upon. Performance wise it’s amazing and feels premium while holding in hand. So a big YES for this device. Go for 128 GB variant as the 4K videos will occupy lots of space and the storage can get over very quickly. Try to buy it with...\\nREAD MORE',\n",
       " 'Value for money❤️❤️\\nIts awesome mobile phone in the world ...\\nDisplay was very good and bright ..\\nTrust me freinds you r never regret after Buying..\\nJust go for it....\\nI love this phone and i switch to iphone x to 11',\n",
       " 'Totally in love with this ❤ the camera quality is amazing just love it 😘😘😘 itsss dammnnnnnn amazing... Must buy iPhone 11 this is my best experience ever ☀👌👌🧡🧡🧡🧡🧡 thanku apple ❤',\n",
       " \"Iphone is just awesome.. battery backup is very very nice.. continuously for 10 hours we can use it.camera is just awesome.. display is just fab.i love it alot..i had to wait 15 days for it as i pre ordered it..overalll it's worth the price..these all images are clicked by my iPhone..and i love it.\",\n",
       " 'Best budget Iphone till date ❤️ go for it guys without second thought. Let me explain you guys about Camera, Display, battery, and performance.\\n\\nCamera: at this price range there is no comparison of camera, you’ll love the picture quality as well as video quality. I am a Vlogger I wanted an iPhone with 4k video by front camera and I got this phone and I am more than happy 😃\\n\\nBattery: I use this phone roughly as I am active social media person and I have a youtube channel. so the battery ba...\\nREAD MORE',\n",
       " 'Excellent camera, good performance, no lag. The lcd display is also good.. but difference come when we watch movie in prime and Netflix, the colours are not vibrant.. as we see in amoled display.. and the charger in box is of 5 watts.. takes more than 3 hours to charge from 0 to 100.. so guys be prepare to buy 18 watts charger . Finally I am an android user, it was my first Iapple phone, I promise u guys the iOS is so smooth.. overall the phone is damn good.... close eyes to buy it.. thanks t...\\nREAD MORE',\n",
       " \"It's my first time to use iOS phone and I am loving my upgradation 😍😍 I love the color, I love the assebility of the phone....I need to learn more about its functionality, but as far as I have seen, it's quite easy and it has a lot of functions to work on, specially if you are a content writer or a blogger you get a lot of content creation platforms and they are really amazing.\\n\\nThis phone not only for good quality photography but a lot of other task too.😍💯\",\n",
       " 'It’s been almost a month since I have been using this phone. I upgraded from an iPhone 8. The main issue with my 8 was battery and this phone is just awesome when it comes to battery. It lasts a day and a half for me with my regular use , internet connected always with 4g\\nCan’t move forward without saying this. Battery of this phone is a life saver when I am traveling or at work when I don’t get the option to charge\\nCamera is superb. Front cam selfies and back cam photos are just awesome.\\n...\\nREAD MORE',\n",
       " 'Smooth like butter, camera like fantabulous, sound is crystal clear & its red color is damn attractive, i am just loving it. Must buy if you love photography.\\n\\nLucky to get it in sale, thank you Flipkart.']"
      ]
     },
     "execution_count": 140,
     "metadata": {},
     "output_type": "execute_result"
    }
   ],
   "source": [
    "for i in full_tags1:\n",
    "    title=i.text\n",
    "    full_review1.append(title)\n",
    "full_review1"
   ]
  },
  {
   "cell_type": "code",
   "execution_count": 141,
   "id": "e338bac8",
   "metadata": {},
   "outputs": [
    {
     "name": "stdout",
     "output_type": "stream",
     "text": [
      "10 10 10\n"
     ]
    }
   ],
   "source": [
    "print(len(Rating1),len(Review1),len(full_review1))"
   ]
  },
  {
   "cell_type": "code",
   "execution_count": 142,
   "id": "ee2c7cb5",
   "metadata": {},
   "outputs": [
    {
     "name": "stderr",
     "output_type": "stream",
     "text": [
      "<ipython-input-142-5f203cdf4b32>:1: DeprecationWarning: find_element_by_* commands are deprecated. Please use find_element() instead\n",
      "  nxt_button1 = driver.find_element_by_xpath(\"//a[@class='_1LKTO3']\")\n"
     ]
    }
   ],
   "source": [
    "nxt_button1 = driver.find_element_by_xpath(\"//a[@class='_1LKTO3']\")\n",
    "nxt_button1.click()"
   ]
  },
  {
   "cell_type": "code",
   "execution_count": 143,
   "id": "80e1967e",
   "metadata": {},
   "outputs": [],
   "source": [
    "#making empty list\n",
    "Rating2 =[]\n",
    "Review2 = []\n",
    "full_review2 = []"
   ]
  },
  {
   "cell_type": "code",
   "execution_count": 144,
   "id": "5cd7657d",
   "metadata": {},
   "outputs": [
    {
     "name": "stderr",
     "output_type": "stream",
     "text": [
      "<ipython-input-144-66089f67da05>:1: DeprecationWarning: find_elements_by_* commands are deprecated. Please use find_elements() instead\n",
      "  rating_tags2 = driver.find_elements_by_xpath(\"//div[@class='_3LWZlK _1BLPMq']\")\n"
     ]
    },
    {
     "data": {
      "text/plain": [
       "[<selenium.webdriver.remote.webelement.WebElement (session=\"199c861a3a73af31b4c35f660e799aeb\", element=\"8acaf39f-a8eb-4388-b831-c52236b0940c\")>,\n",
       " <selenium.webdriver.remote.webelement.WebElement (session=\"199c861a3a73af31b4c35f660e799aeb\", element=\"50f68e6e-7a3e-463d-9665-e556c1f54da8\")>,\n",
       " <selenium.webdriver.remote.webelement.WebElement (session=\"199c861a3a73af31b4c35f660e799aeb\", element=\"8ddb164a-a2e7-40d9-a16f-b7180d25b067\")>,\n",
       " <selenium.webdriver.remote.webelement.WebElement (session=\"199c861a3a73af31b4c35f660e799aeb\", element=\"6ab9495d-e4e2-40ff-a954-f0e2ee792363\")>,\n",
       " <selenium.webdriver.remote.webelement.WebElement (session=\"199c861a3a73af31b4c35f660e799aeb\", element=\"3b3a7ba8-1108-411c-bc3e-69b832dbf954\")>,\n",
       " <selenium.webdriver.remote.webelement.WebElement (session=\"199c861a3a73af31b4c35f660e799aeb\", element=\"e8634108-9f6f-440c-ba3d-63633dc68e30\")>,\n",
       " <selenium.webdriver.remote.webelement.WebElement (session=\"199c861a3a73af31b4c35f660e799aeb\", element=\"37a73b59-ff77-447f-939b-39b202e7f5be\")>,\n",
       " <selenium.webdriver.remote.webelement.WebElement (session=\"199c861a3a73af31b4c35f660e799aeb\", element=\"6089dec1-ec8b-4781-9951-05eddc012b3d\")>,\n",
       " <selenium.webdriver.remote.webelement.WebElement (session=\"199c861a3a73af31b4c35f660e799aeb\", element=\"4c7b8706-60d6-4523-b404-3c66560b791a\")>,\n",
       " <selenium.webdriver.remote.webelement.WebElement (session=\"199c861a3a73af31b4c35f660e799aeb\", element=\"73aa9791-1efa-45c1-b885-2936d0e52957\")>]"
      ]
     },
     "execution_count": 144,
     "metadata": {},
     "output_type": "execute_result"
    }
   ],
   "source": [
    "rating_tags2 = driver.find_elements_by_xpath(\"//div[@class='_3LWZlK _1BLPMq']\")\n",
    "rating_tags2"
   ]
  },
  {
   "cell_type": "code",
   "execution_count": 145,
   "id": "a25d20f5",
   "metadata": {},
   "outputs": [
    {
     "data": {
      "text/plain": [
       "['5', '5', '5', '5', '5', '5', '5', '4', '5', '5']"
      ]
     },
     "execution_count": 145,
     "metadata": {},
     "output_type": "execute_result"
    }
   ],
   "source": [
    "for i in rating_tags2:\n",
    "    title=i.text\n",
    "    Rating2.append(title)\n",
    "Rating2"
   ]
  },
  {
   "cell_type": "code",
   "execution_count": 146,
   "id": "2d75a0a1",
   "metadata": {},
   "outputs": [
    {
     "name": "stderr",
     "output_type": "stream",
     "text": [
      "<ipython-input-146-019336b8856f>:1: DeprecationWarning: find_elements_by_* commands are deprecated. Please use find_elements() instead\n",
      "  review_tags2 = driver.find_elements_by_xpath(\"//p[@class='_2-N8zT']\")\n"
     ]
    },
    {
     "data": {
      "text/plain": [
       "[<selenium.webdriver.remote.webelement.WebElement (session=\"199c861a3a73af31b4c35f660e799aeb\", element=\"94611aed-091b-4d39-b928-6f7df4d3cb1a\")>,\n",
       " <selenium.webdriver.remote.webelement.WebElement (session=\"199c861a3a73af31b4c35f660e799aeb\", element=\"bf92ca7f-3fa4-4b04-b0d2-b708a852613f\")>,\n",
       " <selenium.webdriver.remote.webelement.WebElement (session=\"199c861a3a73af31b4c35f660e799aeb\", element=\"f3cc4fb3-ad26-47d5-a1e3-3c7129d888aa\")>,\n",
       " <selenium.webdriver.remote.webelement.WebElement (session=\"199c861a3a73af31b4c35f660e799aeb\", element=\"f757907e-9d8a-4e45-b153-f2b8db770c9a\")>,\n",
       " <selenium.webdriver.remote.webelement.WebElement (session=\"199c861a3a73af31b4c35f660e799aeb\", element=\"f6b0f845-e870-42a1-a517-706d44038000\")>,\n",
       " <selenium.webdriver.remote.webelement.WebElement (session=\"199c861a3a73af31b4c35f660e799aeb\", element=\"c735aecf-4b91-4055-8e65-e21a0dbc713d\")>,\n",
       " <selenium.webdriver.remote.webelement.WebElement (session=\"199c861a3a73af31b4c35f660e799aeb\", element=\"976caf3b-aef4-4ba5-a0f8-44fed848f391\")>,\n",
       " <selenium.webdriver.remote.webelement.WebElement (session=\"199c861a3a73af31b4c35f660e799aeb\", element=\"de7b821f-894f-4c48-a647-468d11f339da\")>,\n",
       " <selenium.webdriver.remote.webelement.WebElement (session=\"199c861a3a73af31b4c35f660e799aeb\", element=\"b6d80846-38a4-4c81-84d6-76693edcc4d2\")>,\n",
       " <selenium.webdriver.remote.webelement.WebElement (session=\"199c861a3a73af31b4c35f660e799aeb\", element=\"80762e14-3a0e-4960-ae77-e2f26235e7e4\")>]"
      ]
     },
     "execution_count": 146,
     "metadata": {},
     "output_type": "execute_result"
    }
   ],
   "source": [
    "review_tags2 = driver.find_elements_by_xpath(\"//p[@class='_2-N8zT']\")\n",
    "review_tags2"
   ]
  },
  {
   "cell_type": "code",
   "execution_count": 147,
   "id": "798e509d",
   "metadata": {},
   "outputs": [
    {
     "data": {
      "text/plain": [
       "['Brilliant',\n",
       " 'Simply awesome',\n",
       " 'Best in the market!',\n",
       " 'Perfect product!',\n",
       " 'Worth every penny',\n",
       " 'Fabulous!',\n",
       " 'Great product',\n",
       " 'Good choice',\n",
       " 'Worth every penny',\n",
       " 'Highly recommended']"
      ]
     },
     "execution_count": 147,
     "metadata": {},
     "output_type": "execute_result"
    }
   ],
   "source": [
    "for i in review_tags2:\n",
    "    title=i.text\n",
    "    Review2.append(title)\n",
    "Review2"
   ]
  },
  {
   "cell_type": "code",
   "execution_count": 148,
   "id": "cbe91f7e",
   "metadata": {},
   "outputs": [
    {
     "name": "stderr",
     "output_type": "stream",
     "text": [
      "<ipython-input-148-078561d60698>:1: DeprecationWarning: find_elements_by_* commands are deprecated. Please use find_elements() instead\n",
      "  full_tags2 =driver.find_elements_by_xpath(\"//div[@class='t-ZTKy']\")\n"
     ]
    },
    {
     "data": {
      "text/plain": [
       "[<selenium.webdriver.remote.webelement.WebElement (session=\"199c861a3a73af31b4c35f660e799aeb\", element=\"72992f1d-5019-4a39-ae06-a2014fb153b9\")>,\n",
       " <selenium.webdriver.remote.webelement.WebElement (session=\"199c861a3a73af31b4c35f660e799aeb\", element=\"76f7f4bc-710e-4e8f-9825-5fac278affd5\")>,\n",
       " <selenium.webdriver.remote.webelement.WebElement (session=\"199c861a3a73af31b4c35f660e799aeb\", element=\"4a716031-94b5-44af-af5a-b559e492ec4d\")>,\n",
       " <selenium.webdriver.remote.webelement.WebElement (session=\"199c861a3a73af31b4c35f660e799aeb\", element=\"7241d0a0-6484-4f6d-a8e3-838809e23e9e\")>,\n",
       " <selenium.webdriver.remote.webelement.WebElement (session=\"199c861a3a73af31b4c35f660e799aeb\", element=\"160f0d26-f519-4335-b920-3cbab87c6b77\")>,\n",
       " <selenium.webdriver.remote.webelement.WebElement (session=\"199c861a3a73af31b4c35f660e799aeb\", element=\"2308af26-b35b-447b-9fa0-9d809c67ac3f\")>,\n",
       " <selenium.webdriver.remote.webelement.WebElement (session=\"199c861a3a73af31b4c35f660e799aeb\", element=\"ae5fdcde-ddfc-4b05-9276-637af529a8e3\")>,\n",
       " <selenium.webdriver.remote.webelement.WebElement (session=\"199c861a3a73af31b4c35f660e799aeb\", element=\"753f345b-f961-4265-8bd9-1bb495e78ddb\")>,\n",
       " <selenium.webdriver.remote.webelement.WebElement (session=\"199c861a3a73af31b4c35f660e799aeb\", element=\"0988bf9c-0440-4eb6-8086-f6bd01f9fc84\")>,\n",
       " <selenium.webdriver.remote.webelement.WebElement (session=\"199c861a3a73af31b4c35f660e799aeb\", element=\"1a275108-5318-4b76-afdf-a8dcdabe14fd\")>]"
      ]
     },
     "execution_count": 148,
     "metadata": {},
     "output_type": "execute_result"
    }
   ],
   "source": [
    "full_tags2 =driver.find_elements_by_xpath(\"//div[@class='t-ZTKy']\")\n",
    "full_tags2"
   ]
  },
  {
   "cell_type": "code",
   "execution_count": 149,
   "id": "b074d83b",
   "metadata": {},
   "outputs": [
    {
     "data": {
      "text/plain": [
       "['The Best Phone for the Money\\n\\nThe iPhone 11 offers superb cameras, a more durable design and excellent battery life for an affordable price.\\n\\nCompelling ultra-wide camera\\nNew Night mode is excellent\\nLong battery life',\n",
       " 'Really satisfied with the Product I received... It’s totally genuine and the packaging was also really good so if ur planning to buy just go for it.',\n",
       " 'Great iPhone very snappy experience as apple kind. Upgraded from iPhone 7.\\nPros\\n-Camera top class\\n- Battery top performed\\n-Chipset no need to say as apple kind\\n-Security as you expect from apple\\n- Display super bright industry leading colour\\naccuracy and super responsive\\n-Build quality as expect from apple sturdy\\npremium durable beautiful stylish.\\n-Os most stable os in smartphone industry\\n\\nCons\\n-No 5G\\n-Display is not based on OLED technology\\n-Charger headphones and 1 apple stic...\\nREAD MORE',\n",
       " 'Amazing phone with great cameras and better battery which gives you the best performance. I just love the camera .',\n",
       " 'Previously I was using one plus 3t it was a great phone\\nAnd then I decided to upgrade I am stuck between Samsung s10 plus or iPhone 11\\nI have seen the specs and everything were good except the display it’s somewhere between 720-1080 and it’s not even an amoled it’s an LCD display\\nBut I decided to go with iPhone because I have never used an IOS device I have Been an android user from the past 9 years I ordered IPhone 11 (128gb) product red\\nMy experience after using 3 weeks\\n1. The delivery ...\\nREAD MORE',\n",
       " 'This is my first iOS phone. I am very happy with this product. Very much satisfied with this. I love this phone.',\n",
       " 'Amazing Powerful and Durable Gadget.\\n\\nI’m am very happy with the camera picture quality, Amazing face id unlocked in dark room, Strong battery with perfect screen size as you can carry easily in pocket. This is my third iPhone.\\n\\nI shifted from android Samsung Note series to iPhone because of the strong build quality and peace of mind for next 3-4 years.\\n\\nDon’t think to much just go for it and I suggest you to go for minimum 128gb variant or more 256gb.\\n\\nI’ve attached my puppy pics and no fi...\\nREAD MORE',\n",
       " 'So far it’s been an AMAZING experience coming back to iOS after nearly a decade but it’s not as versatile as android though phone is sturdy dropped it accidentally a couple of times and nothing happened fortunately camera is awesome',\n",
       " 'i11 is worthy to buy, too much happy with the product. Thank u flipkart I received the item on time..loved it..',\n",
       " 'What a camera .....just awesome ..you can feel this iPhone just awesome . Good for gaming also ...try pubg in hd it’s just wow']"
      ]
     },
     "execution_count": 149,
     "metadata": {},
     "output_type": "execute_result"
    }
   ],
   "source": [
    "for i in full_tags2:\n",
    "    title=i.text\n",
    "    full_review2.append(title)\n",
    "full_review2"
   ]
  },
  {
   "cell_type": "markdown",
   "id": "a31716bf",
   "metadata": {},
   "source": [
    "# NEXT page:"
   ]
  },
  {
   "cell_type": "code",
   "execution_count": 150,
   "id": "b85430b5",
   "metadata": {},
   "outputs": [
    {
     "name": "stderr",
     "output_type": "stream",
     "text": [
      "<ipython-input-150-5f203cdf4b32>:1: DeprecationWarning: find_element_by_* commands are deprecated. Please use find_element() instead\n",
      "  nxt_button1 = driver.find_element_by_xpath(\"//a[@class='_1LKTO3']\")\n"
     ]
    }
   ],
   "source": [
    "nxt_button1 = driver.find_element_by_xpath(\"//a[@class='_1LKTO3']\")\n",
    "nxt_button1.click()"
   ]
  },
  {
   "cell_type": "code",
   "execution_count": 151,
   "id": "e47e6e83",
   "metadata": {},
   "outputs": [],
   "source": [
    "#making empty list\n",
    "Rating3 =[]\n",
    "Review3 = []\n",
    "full_review3 = []"
   ]
  },
  {
   "cell_type": "code",
   "execution_count": 152,
   "id": "381f63ad",
   "metadata": {},
   "outputs": [
    {
     "name": "stderr",
     "output_type": "stream",
     "text": [
      "<ipython-input-152-8a54370cf23b>:1: DeprecationWarning: find_elements_by_* commands are deprecated. Please use find_elements() instead\n",
      "  rating_tags3 = driver.find_elements_by_xpath(\"//div[@class='_3LWZlK _1BLPMq']\")\n"
     ]
    },
    {
     "data": {
      "text/plain": [
       "[<selenium.webdriver.remote.webelement.WebElement (session=\"199c861a3a73af31b4c35f660e799aeb\", element=\"93533364-b4d3-465b-b233-514304e54eed\")>,\n",
       " <selenium.webdriver.remote.webelement.WebElement (session=\"199c861a3a73af31b4c35f660e799aeb\", element=\"7e32a654-ab96-44fb-a406-81cb23db0218\")>,\n",
       " <selenium.webdriver.remote.webelement.WebElement (session=\"199c861a3a73af31b4c35f660e799aeb\", element=\"de009c98-15a6-4901-a53d-7537fb7bc1ab\")>,\n",
       " <selenium.webdriver.remote.webelement.WebElement (session=\"199c861a3a73af31b4c35f660e799aeb\", element=\"a8b9c532-fa1e-4ca8-8274-27976ac5d208\")>,\n",
       " <selenium.webdriver.remote.webelement.WebElement (session=\"199c861a3a73af31b4c35f660e799aeb\", element=\"487f3b75-7051-45ef-99ce-9c4f118142d6\")>,\n",
       " <selenium.webdriver.remote.webelement.WebElement (session=\"199c861a3a73af31b4c35f660e799aeb\", element=\"65f77a48-d990-42aa-a059-729ca7ccfdd2\")>,\n",
       " <selenium.webdriver.remote.webelement.WebElement (session=\"199c861a3a73af31b4c35f660e799aeb\", element=\"30d28509-28db-443d-9302-1261e71cfcb0\")>,\n",
       " <selenium.webdriver.remote.webelement.WebElement (session=\"199c861a3a73af31b4c35f660e799aeb\", element=\"bfe861d6-be56-48ef-8fa8-6c1829ffa045\")>,\n",
       " <selenium.webdriver.remote.webelement.WebElement (session=\"199c861a3a73af31b4c35f660e799aeb\", element=\"c496842b-ff01-475f-806c-d766c6d7b4c5\")>,\n",
       " <selenium.webdriver.remote.webelement.WebElement (session=\"199c861a3a73af31b4c35f660e799aeb\", element=\"0e978961-aae1-4c45-bbec-9ae535e04022\")>]"
      ]
     },
     "execution_count": 152,
     "metadata": {},
     "output_type": "execute_result"
    }
   ],
   "source": [
    "rating_tags3 = driver.find_elements_by_xpath(\"//div[@class='_3LWZlK _1BLPMq']\")\n",
    "rating_tags3"
   ]
  },
  {
   "cell_type": "code",
   "execution_count": 153,
   "id": "dea9a984",
   "metadata": {},
   "outputs": [
    {
     "data": {
      "text/plain": [
       "['5', '5', '5', '5', '5', '5', '5', '5', '5', '5']"
      ]
     },
     "execution_count": 153,
     "metadata": {},
     "output_type": "execute_result"
    }
   ],
   "source": [
    "for i in rating_tags3:\n",
    "    title=i.text\n",
    "    Rating3.append(title)\n",
    "Rating3"
   ]
  },
  {
   "cell_type": "code",
   "execution_count": 154,
   "id": "06575df9",
   "metadata": {},
   "outputs": [
    {
     "name": "stderr",
     "output_type": "stream",
     "text": [
      "<ipython-input-154-8df978c5d270>:1: DeprecationWarning: find_elements_by_* commands are deprecated. Please use find_elements() instead\n",
      "  review_tags3 = driver.find_elements_by_xpath(\"//p[@class='_2-N8zT']\")\n"
     ]
    },
    {
     "data": {
      "text/plain": [
       "[<selenium.webdriver.remote.webelement.WebElement (session=\"199c861a3a73af31b4c35f660e799aeb\", element=\"b6870829-0d33-49b0-827e-7151b644fc84\")>,\n",
       " <selenium.webdriver.remote.webelement.WebElement (session=\"199c861a3a73af31b4c35f660e799aeb\", element=\"322c780e-ab86-4726-83c5-b5b8bdf480d4\")>,\n",
       " <selenium.webdriver.remote.webelement.WebElement (session=\"199c861a3a73af31b4c35f660e799aeb\", element=\"ebd95ab0-b82d-4441-b7cc-fad677985325\")>,\n",
       " <selenium.webdriver.remote.webelement.WebElement (session=\"199c861a3a73af31b4c35f660e799aeb\", element=\"74aa26b5-971a-4228-b5c3-64687ebf63cc\")>,\n",
       " <selenium.webdriver.remote.webelement.WebElement (session=\"199c861a3a73af31b4c35f660e799aeb\", element=\"d3ecbd05-29a4-4709-919a-a2179ba041dc\")>,\n",
       " <selenium.webdriver.remote.webelement.WebElement (session=\"199c861a3a73af31b4c35f660e799aeb\", element=\"4d7ead09-c911-42a6-b8bf-255da124f3d8\")>,\n",
       " <selenium.webdriver.remote.webelement.WebElement (session=\"199c861a3a73af31b4c35f660e799aeb\", element=\"92b09390-23c2-4d70-81cd-e57048cc89cd\")>,\n",
       " <selenium.webdriver.remote.webelement.WebElement (session=\"199c861a3a73af31b4c35f660e799aeb\", element=\"97abafa8-cc8a-4e06-9baa-faa3b6945099\")>,\n",
       " <selenium.webdriver.remote.webelement.WebElement (session=\"199c861a3a73af31b4c35f660e799aeb\", element=\"11097751-d22d-48d1-915d-6cc85e1d3200\")>,\n",
       " <selenium.webdriver.remote.webelement.WebElement (session=\"199c861a3a73af31b4c35f660e799aeb\", element=\"f7f61fa0-581f-4275-b6f4-2f628f19713a\")>]"
      ]
     },
     "execution_count": 154,
     "metadata": {},
     "output_type": "execute_result"
    }
   ],
   "source": [
    "review_tags3 = driver.find_elements_by_xpath(\"//p[@class='_2-N8zT']\")\n",
    "review_tags3"
   ]
  },
  {
   "cell_type": "code",
   "execution_count": 155,
   "id": "7a4b65d8",
   "metadata": {},
   "outputs": [
    {
     "data": {
      "text/plain": [
       "['Highly recommended',\n",
       " 'Perfect product!',\n",
       " 'Perfect product!',\n",
       " 'Classy product',\n",
       " 'Perfect product!',\n",
       " 'Worth every penny',\n",
       " 'Simply awesome',\n",
       " 'Highly recommended',\n",
       " 'Worth every penny',\n",
       " 'Worth every penny']"
      ]
     },
     "execution_count": 155,
     "metadata": {},
     "output_type": "execute_result"
    }
   ],
   "source": [
    "for i in review_tags3:\n",
    "    title=i.text\n",
    "    Review3.append(title)\n",
    "Review3"
   ]
  },
  {
   "cell_type": "code",
   "execution_count": 156,
   "id": "b290190b",
   "metadata": {},
   "outputs": [
    {
     "name": "stderr",
     "output_type": "stream",
     "text": [
      "<ipython-input-156-d1cb1432a4a6>:1: DeprecationWarning: find_elements_by_* commands are deprecated. Please use find_elements() instead\n",
      "  full_tags3 =driver.find_elements_by_xpath(\"//div[@class='t-ZTKy']\")\n"
     ]
    },
    {
     "data": {
      "text/plain": [
       "[<selenium.webdriver.remote.webelement.WebElement (session=\"199c861a3a73af31b4c35f660e799aeb\", element=\"c5f69555-449e-41d6-8b93-4e90a55da0e4\")>,\n",
       " <selenium.webdriver.remote.webelement.WebElement (session=\"199c861a3a73af31b4c35f660e799aeb\", element=\"676898a7-5e76-4b51-95ad-ce12774cc353\")>,\n",
       " <selenium.webdriver.remote.webelement.WebElement (session=\"199c861a3a73af31b4c35f660e799aeb\", element=\"d1a9a2cf-d7dd-49c7-8247-242e6c1d6b35\")>,\n",
       " <selenium.webdriver.remote.webelement.WebElement (session=\"199c861a3a73af31b4c35f660e799aeb\", element=\"4e1f7a03-c441-4cd4-947a-499d1350e108\")>,\n",
       " <selenium.webdriver.remote.webelement.WebElement (session=\"199c861a3a73af31b4c35f660e799aeb\", element=\"6ee6cd20-237b-467f-a2ff-0d7f475f7def\")>,\n",
       " <selenium.webdriver.remote.webelement.WebElement (session=\"199c861a3a73af31b4c35f660e799aeb\", element=\"7552c691-b9f0-4fbf-af00-26c084cde2a9\")>,\n",
       " <selenium.webdriver.remote.webelement.WebElement (session=\"199c861a3a73af31b4c35f660e799aeb\", element=\"ed5dcc35-b1e3-4b6b-ad8b-9454dcca5ff7\")>,\n",
       " <selenium.webdriver.remote.webelement.WebElement (session=\"199c861a3a73af31b4c35f660e799aeb\", element=\"22483c45-1bd9-46f7-8ee6-ff7ec39d00c2\")>,\n",
       " <selenium.webdriver.remote.webelement.WebElement (session=\"199c861a3a73af31b4c35f660e799aeb\", element=\"9d4bdab9-511c-403e-a89a-742da10cf33a\")>,\n",
       " <selenium.webdriver.remote.webelement.WebElement (session=\"199c861a3a73af31b4c35f660e799aeb\", element=\"d0274a4f-5d1b-483c-ba4c-7e4aac45d360\")>]"
      ]
     },
     "execution_count": 156,
     "metadata": {},
     "output_type": "execute_result"
    }
   ],
   "source": [
    "full_tags3 =driver.find_elements_by_xpath(\"//div[@class='t-ZTKy']\")\n",
    "full_tags3"
   ]
  },
  {
   "cell_type": "code",
   "execution_count": 157,
   "id": "aed28ab6",
   "metadata": {},
   "outputs": [
    {
     "data": {
      "text/plain": [
       "['iphone 11 is a very good phone to buy only if you can compromise for the display. The display on this is device is pretty good but you can get other options with better displays in this price segment.\\nIf you can survive with an HD+ LCD panel with thicker bezels and a notch up top then this is a very good phone for you.\\nCameras are awesome, battery backup excellent, great performance and a decent premium look. Good job Apple !',\n",
       " 'It’s a must buy who is looking for an upgrade from previous generation of iPhones. If you are using XR then still you can hold on for sometime and upgrade to 2020 model else this phone is a must buy . Camera quality is amazing and wide angle is something to count upon. Performance wise it’s amazing and feels premium while holding in hand. So a big YES for this device. Go for 128 GB variant as the 4K videos will occupy lots of space and the storage can get over very quickly. Try to buy it with...\\nREAD MORE',\n",
       " 'Value for money❤️❤️\\nIts awesome mobile phone in the world ...\\nDisplay was very good and bright ..\\nTrust me freinds you r never regret after Buying..\\nJust go for it....\\nI love this phone and i switch to iphone x to 11',\n",
       " 'Totally in love with this ❤ the camera quality is amazing just love it 😘😘😘 itsss dammnnnnnn amazing... Must buy iPhone 11 this is my best experience ever ☀👌👌🧡🧡🧡🧡🧡 thanku apple ❤',\n",
       " \"Iphone is just awesome.. battery backup is very very nice.. continuously for 10 hours we can use it.camera is just awesome.. display is just fab.i love it alot..i had to wait 15 days for it as i pre ordered it..overalll it's worth the price..these all images are clicked by my iPhone..and i love it.\",\n",
       " 'Best budget Iphone till date ❤️ go for it guys without second thought. Let me explain you guys about Camera, Display, battery, and performance.\\n\\nCamera: at this price range there is no comparison of camera, you’ll love the picture quality as well as video quality. I am a Vlogger I wanted an iPhone with 4k video by front camera and I got this phone and I am more than happy 😃\\n\\nBattery: I use this phone roughly as I am active social media person and I have a youtube channel. so the battery ba...\\nREAD MORE',\n",
       " 'Excellent camera, good performance, no lag. The lcd display is also good.. but difference come when we watch movie in prime and Netflix, the colours are not vibrant.. as we see in amoled display.. and the charger in box is of 5 watts.. takes more than 3 hours to charge from 0 to 100.. so guys be prepare to buy 18 watts charger . Finally I am an android user, it was my first Iapple phone, I promise u guys the iOS is so smooth.. overall the phone is damn good.... close eyes to buy it.. thanks t...\\nREAD MORE',\n",
       " \"It's my first time to use iOS phone and I am loving my upgradation 😍😍 I love the color, I love the assebility of the phone....I need to learn more about its functionality, but as far as I have seen, it's quite easy and it has a lot of functions to work on, specially if you are a content writer or a blogger you get a lot of content creation platforms and they are really amazing.\\n\\nThis phone not only for good quality photography but a lot of other task too.😍💯\",\n",
       " 'It’s been almost a month since I have been using this phone. I upgraded from an iPhone 8. The main issue with my 8 was battery and this phone is just awesome when it comes to battery. It lasts a day and a half for me with my regular use , internet connected always with 4g\\nCan’t move forward without saying this. Battery of this phone is a life saver when I am traveling or at work when I don’t get the option to charge\\nCamera is superb. Front cam selfies and back cam photos are just awesome.\\n...\\nREAD MORE',\n",
       " 'Smooth like butter, camera like fantabulous, sound is crystal clear & its red color is damn attractive, i am just loving it. Must buy if you love photography.\\n\\nLucky to get it in sale, thank you Flipkart.']"
      ]
     },
     "execution_count": 157,
     "metadata": {},
     "output_type": "execute_result"
    }
   ],
   "source": [
    "for i in full_tags3:\n",
    "    title=i.text\n",
    "    full_review3.append(title)\n",
    "full_review3"
   ]
  },
  {
   "cell_type": "code",
   "execution_count": 158,
   "id": "17c77098",
   "metadata": {},
   "outputs": [
    {
     "name": "stdout",
     "output_type": "stream",
     "text": [
      "10 10 10\n"
     ]
    }
   ],
   "source": [
    "print(len(Rating3),len(Review3),len(full_review3))"
   ]
  },
  {
   "cell_type": "markdown",
   "id": "f293e85a",
   "metadata": {},
   "source": [
    "# NEXT PAGE:-4"
   ]
  },
  {
   "cell_type": "code",
   "execution_count": 159,
   "id": "1bc71096",
   "metadata": {},
   "outputs": [
    {
     "name": "stderr",
     "output_type": "stream",
     "text": [
      "<ipython-input-159-a0e79109a8df>:1: DeprecationWarning: find_element_by_* commands are deprecated. Please use find_element() instead\n",
      "  nxt_button = driver.find_element_by_xpath(\"//a[@class='ge-49M']\")\n"
     ]
    }
   ],
   "source": [
    "nxt_button = driver.find_element_by_xpath(\"//a[@class='ge-49M']\")\n",
    "nxt_button.click()"
   ]
  },
  {
   "cell_type": "code",
   "execution_count": 160,
   "id": "d6d2a989",
   "metadata": {},
   "outputs": [],
   "source": [
    "#making empty list\n",
    "Rating4 =[]\n",
    "Review4 = []\n",
    "full_review4 = []"
   ]
  },
  {
   "cell_type": "code",
   "execution_count": 161,
   "id": "5043b467",
   "metadata": {},
   "outputs": [
    {
     "name": "stderr",
     "output_type": "stream",
     "text": [
      "<ipython-input-161-08160bb52ceb>:1: DeprecationWarning: find_elements_by_* commands are deprecated. Please use find_elements() instead\n",
      "  rating_tags4 = driver.find_elements_by_xpath(\"//div[@class='_3LWZlK _1BLPMq']\")\n"
     ]
    },
    {
     "data": {
      "text/plain": [
       "[<selenium.webdriver.remote.webelement.WebElement (session=\"199c861a3a73af31b4c35f660e799aeb\", element=\"bd9b7461-e500-4445-8aa0-93bebba30b64\")>,\n",
       " <selenium.webdriver.remote.webelement.WebElement (session=\"199c861a3a73af31b4c35f660e799aeb\", element=\"d809dd93-a52b-4ba4-b112-9e071ae575b1\")>,\n",
       " <selenium.webdriver.remote.webelement.WebElement (session=\"199c861a3a73af31b4c35f660e799aeb\", element=\"dad32424-8142-4e3e-b216-7bf14c334f34\")>,\n",
       " <selenium.webdriver.remote.webelement.WebElement (session=\"199c861a3a73af31b4c35f660e799aeb\", element=\"58acade6-9f69-433e-b3b1-8cc6385a0854\")>,\n",
       " <selenium.webdriver.remote.webelement.WebElement (session=\"199c861a3a73af31b4c35f660e799aeb\", element=\"e9146a32-bf37-4455-83b4-9919e60b5fbd\")>,\n",
       " <selenium.webdriver.remote.webelement.WebElement (session=\"199c861a3a73af31b4c35f660e799aeb\", element=\"ea16c967-cf39-4598-94b0-2e6bc30bae75\")>,\n",
       " <selenium.webdriver.remote.webelement.WebElement (session=\"199c861a3a73af31b4c35f660e799aeb\", element=\"f219a5a6-9c45-46b9-a3c6-5f9482183991\")>,\n",
       " <selenium.webdriver.remote.webelement.WebElement (session=\"199c861a3a73af31b4c35f660e799aeb\", element=\"e20a581f-07f3-4b9a-9eac-0b7778df2bea\")>,\n",
       " <selenium.webdriver.remote.webelement.WebElement (session=\"199c861a3a73af31b4c35f660e799aeb\", element=\"d926b1ab-3a67-42d8-b26e-aa775ecfbd68\")>,\n",
       " <selenium.webdriver.remote.webelement.WebElement (session=\"199c861a3a73af31b4c35f660e799aeb\", element=\"94535dea-45a4-496f-9e73-45806c45ef8b\")>]"
      ]
     },
     "execution_count": 161,
     "metadata": {},
     "output_type": "execute_result"
    }
   ],
   "source": [
    "rating_tags4 = driver.find_elements_by_xpath(\"//div[@class='_3LWZlK _1BLPMq']\")\n",
    "rating_tags4"
   ]
  },
  {
   "cell_type": "code",
   "execution_count": 162,
   "id": "83f95631",
   "metadata": {},
   "outputs": [
    {
     "data": {
      "text/plain": [
       "['5', '5', '4', '5', '5', '5', '5', '4', '5', '5']"
      ]
     },
     "execution_count": 162,
     "metadata": {},
     "output_type": "execute_result"
    }
   ],
   "source": [
    "for i in rating_tags4:\n",
    "    title=i.text\n",
    "    Rating4.append(title)\n",
    "Rating4"
   ]
  },
  {
   "cell_type": "code",
   "execution_count": 163,
   "id": "aae219d9",
   "metadata": {},
   "outputs": [
    {
     "name": "stderr",
     "output_type": "stream",
     "text": [
      "<ipython-input-163-594f391a1b2b>:1: DeprecationWarning: find_elements_by_* commands are deprecated. Please use find_elements() instead\n",
      "  review_tags4 = driver.find_elements_by_xpath(\"//p[@class='_2-N8zT']\")\n"
     ]
    },
    {
     "data": {
      "text/plain": [
       "[<selenium.webdriver.remote.webelement.WebElement (session=\"199c861a3a73af31b4c35f660e799aeb\", element=\"68eb5760-7044-488e-8abe-2e7069d06e5e\")>,\n",
       " <selenium.webdriver.remote.webelement.WebElement (session=\"199c861a3a73af31b4c35f660e799aeb\", element=\"99fb61d4-605e-43f2-8f95-b0501198b416\")>,\n",
       " <selenium.webdriver.remote.webelement.WebElement (session=\"199c861a3a73af31b4c35f660e799aeb\", element=\"a6c82dbd-131c-4a4e-ab04-c99f76dc905b\")>,\n",
       " <selenium.webdriver.remote.webelement.WebElement (session=\"199c861a3a73af31b4c35f660e799aeb\", element=\"94a9d931-1826-4563-aa22-e98b8057a3a8\")>,\n",
       " <selenium.webdriver.remote.webelement.WebElement (session=\"199c861a3a73af31b4c35f660e799aeb\", element=\"856af424-f86b-485f-ad05-ed041eac4b9e\")>,\n",
       " <selenium.webdriver.remote.webelement.WebElement (session=\"199c861a3a73af31b4c35f660e799aeb\", element=\"681f5e33-0b97-450a-9fff-7e5c7d07956b\")>,\n",
       " <selenium.webdriver.remote.webelement.WebElement (session=\"199c861a3a73af31b4c35f660e799aeb\", element=\"9e981607-d80d-4fbc-852b-eb636062aeb3\")>,\n",
       " <selenium.webdriver.remote.webelement.WebElement (session=\"199c861a3a73af31b4c35f660e799aeb\", element=\"4d7d8509-0e82-4222-8124-eb6f3924bc58\")>,\n",
       " <selenium.webdriver.remote.webelement.WebElement (session=\"199c861a3a73af31b4c35f660e799aeb\", element=\"ae16bd74-9c9e-4191-ad7d-a26cdd58f378\")>,\n",
       " <selenium.webdriver.remote.webelement.WebElement (session=\"199c861a3a73af31b4c35f660e799aeb\", element=\"621b7b7f-5edf-4683-b6b0-6aa2e2d0b2a6\")>]"
      ]
     },
     "execution_count": 163,
     "metadata": {},
     "output_type": "execute_result"
    }
   ],
   "source": [
    "review_tags4 = driver.find_elements_by_xpath(\"//p[@class='_2-N8zT']\")\n",
    "review_tags4"
   ]
  },
  {
   "cell_type": "code",
   "execution_count": 164,
   "id": "0f06e107",
   "metadata": {},
   "outputs": [
    {
     "data": {
      "text/plain": [
       "['Terrific',\n",
       " 'Wonderful',\n",
       " 'Nice product',\n",
       " 'Perfect product!',\n",
       " 'Brilliant',\n",
       " 'Classy product',\n",
       " 'Must buy!',\n",
       " 'Good choice',\n",
       " 'Wonderful',\n",
       " 'Perfect product!']"
      ]
     },
     "execution_count": 164,
     "metadata": {},
     "output_type": "execute_result"
    }
   ],
   "source": [
    "for i in review_tags4:\n",
    "    title=i.text\n",
    "    Review4.append(title)\n",
    "Review4"
   ]
  },
  {
   "cell_type": "code",
   "execution_count": 165,
   "id": "03adb87a",
   "metadata": {},
   "outputs": [
    {
     "name": "stderr",
     "output_type": "stream",
     "text": [
      "<ipython-input-165-8aec1f19004d>:1: DeprecationWarning: find_elements_by_* commands are deprecated. Please use find_elements() instead\n",
      "  full_tags4 =driver.find_elements_by_xpath(\"//div[@class='t-ZTKy']\")\n"
     ]
    },
    {
     "data": {
      "text/plain": [
       "[<selenium.webdriver.remote.webelement.WebElement (session=\"199c861a3a73af31b4c35f660e799aeb\", element=\"d1f502b9-beae-403d-a6c4-1177de6de632\")>,\n",
       " <selenium.webdriver.remote.webelement.WebElement (session=\"199c861a3a73af31b4c35f660e799aeb\", element=\"55264b9d-103b-49cf-91a2-bd0183e105a7\")>,\n",
       " <selenium.webdriver.remote.webelement.WebElement (session=\"199c861a3a73af31b4c35f660e799aeb\", element=\"10149156-9d7d-4d14-9154-d486753f8923\")>,\n",
       " <selenium.webdriver.remote.webelement.WebElement (session=\"199c861a3a73af31b4c35f660e799aeb\", element=\"dfa772c6-66b9-43d5-a26b-e0a0d3fabd11\")>,\n",
       " <selenium.webdriver.remote.webelement.WebElement (session=\"199c861a3a73af31b4c35f660e799aeb\", element=\"057bf0e2-1f45-4614-8628-060692ac014d\")>,\n",
       " <selenium.webdriver.remote.webelement.WebElement (session=\"199c861a3a73af31b4c35f660e799aeb\", element=\"c028ae95-3597-4222-b939-b625f5b7a218\")>,\n",
       " <selenium.webdriver.remote.webelement.WebElement (session=\"199c861a3a73af31b4c35f660e799aeb\", element=\"c58fbc82-a026-4b0d-b132-b8127400e1c9\")>,\n",
       " <selenium.webdriver.remote.webelement.WebElement (session=\"199c861a3a73af31b4c35f660e799aeb\", element=\"81b1a6d2-91c9-407f-b204-8db31e0f5580\")>,\n",
       " <selenium.webdriver.remote.webelement.WebElement (session=\"199c861a3a73af31b4c35f660e799aeb\", element=\"e6c90014-d9da-4b69-98a7-a3c66955cd38\")>,\n",
       " <selenium.webdriver.remote.webelement.WebElement (session=\"199c861a3a73af31b4c35f660e799aeb\", element=\"a02928f8-b8e8-4279-acff-9d197bd73c3a\")>]"
      ]
     },
     "execution_count": 165,
     "metadata": {},
     "output_type": "execute_result"
    }
   ],
   "source": [
    "full_tags4 =driver.find_elements_by_xpath(\"//div[@class='t-ZTKy']\")\n",
    "full_tags4"
   ]
  },
  {
   "cell_type": "code",
   "execution_count": 166,
   "id": "6383ee29",
   "metadata": {},
   "outputs": [
    {
     "data": {
      "text/plain": [
       "['Really worth of money. i just love it. It is the best phone ever.',\n",
       " 'This is my first ever I phone. Before this I was using my google nexus 5. But moving from android to iOS is a great experience. It’s worth at this price. I will highly recommend it if you want to move to iOS. The best part of this phone is it’s camera and it’s battery life. This two things have won my heart. I loved it. Happy to have it in my hand. Still exploring its features. And can’t forget to mention Flipkart service. Very prompt service and fast delivery.',\n",
       " 'Awesome Phone. Slightly high price but worth. Better than iPhone XR.\\nCamera is superb and wide angle camera is very clear.\\n12MP selfie camera is also very good.\\nA13 Chip gives a very good and smooth performance.',\n",
       " 'Battery backup is extraordinary, camera is decent & performance offered by A13 bionic is awsome. The display is good in practical usage like the visibility of display is very good in direct sun light compare to pro models. Iam extremely satisfied for the money I spent.',\n",
       " 'I have migrated from OP 7pro... and trust me, iPhone 11 is totally worth it.. following are the reasons:-\\n1)there is ABSOLUTELY NO ISSUE WITH THE DISPLAY... its crisp, sharp and I found it to be much much better than OP7 pro. Netflix, Prime video all run crisply... you won’t miss a thing. True Tone works flawlessly...the display brightness is perfect. OP have not calibrated their screens properly.\\n2) iPhone 11 series have really good cameras... others have spoken in depth about them.\\n3) bat...\\nREAD MORE',\n",
       " 'Superb Product !!!\\nA big and worthy upgrade from mi 3S to iphone 11 .\\nTotally loved it !',\n",
       " 'It’s an amazing product from apple and the camera is simply superb. Phone is faster.Night shot is simply superb and detailing and colour differentiation from camera is an added advantage\\n\\nThis review I have written from iPhone 11 only and I am glad to say outside.\\n\\nCons wise if we see HD+ display only, no battery percentage indicator as in older iPhone 8.\\nNo assistive touch control button in it\\nNo oleophobic coating on back panel glass and finger prints are visible but since I bought mint gr...\\nREAD MORE',\n",
       " 'Looking so good 👍 😍 super 👌 stylish 😎 phone\\nClean box 📦 good 👍 delivery 👌 fast delivery\\nOriginal box Original iphone 📱 👌 😍😍😍',\n",
       " 'I just directly switch from iphone 6s to iphone 11 .The best premium smartphone I recommend to everyone. Excellent quality and colors the iphone have in 11 series.\\nCamera quality is just awesome and the major feel when we hold in our hands. The sound quality and volume is also higher then the previous models.\\nI will recommend to buy iphone 11 instead of pro models , there is nothing much difference as this model contains everything which fulfill our needs.\\n\\nOnly one thing that I dislike abo...\\nREAD MORE',\n",
       " 'After 1 month use I found camera quality best compared to my previous Samsung note 10+.Display not good as note 10 also charging too slow.Apple should add fast charger like 11 plus and pro.Best phone for daily use']"
      ]
     },
     "execution_count": 166,
     "metadata": {},
     "output_type": "execute_result"
    }
   ],
   "source": [
    "for i in full_tags4:\n",
    "    title=i.text\n",
    "    full_review4.append(title)\n",
    "full_review4"
   ]
  },
  {
   "cell_type": "code",
   "execution_count": 167,
   "id": "9cc8506a",
   "metadata": {},
   "outputs": [
    {
     "name": "stdout",
     "output_type": "stream",
     "text": [
      "10 10 10\n"
     ]
    }
   ],
   "source": [
    "print(len(Rating4),len(Review4),len(full_review4))"
   ]
  },
  {
   "cell_type": "markdown",
   "id": "a667260f",
   "metadata": {},
   "source": [
    "# NEXT PAGE:-5"
   ]
  },
  {
   "cell_type": "code",
   "execution_count": 168,
   "id": "ce4189b7",
   "metadata": {},
   "outputs": [
    {
     "name": "stderr",
     "output_type": "stream",
     "text": [
      "<ipython-input-168-4deb26875683>:1: DeprecationWarning: find_element_by_* commands are deprecated. Please use find_element() instead\n",
      "  nxt_button5 = driver.find_element_by_xpath(\"//a[@class='_1LKTO3']\")\n"
     ]
    }
   ],
   "source": [
    "nxt_button5 = driver.find_element_by_xpath(\"//a[@class='_1LKTO3']\")\n",
    "nxt_button5.click()"
   ]
  },
  {
   "cell_type": "code",
   "execution_count": 169,
   "id": "b3de5a27",
   "metadata": {},
   "outputs": [],
   "source": [
    "#making empty list\n",
    "Rating5 =[]\n",
    "Review5 = []\n",
    "full_review5 = []"
   ]
  },
  {
   "cell_type": "code",
   "execution_count": 170,
   "id": "7bd5073a",
   "metadata": {},
   "outputs": [
    {
     "name": "stderr",
     "output_type": "stream",
     "text": [
      "<ipython-input-170-4079f4483acf>:1: DeprecationWarning: find_elements_by_* commands are deprecated. Please use find_elements() instead\n",
      "  rating_tags5 = driver.find_elements_by_xpath(\"//div[@class='_3LWZlK _1BLPMq']\")\n"
     ]
    },
    {
     "data": {
      "text/plain": [
       "[<selenium.webdriver.remote.webelement.WebElement (session=\"199c861a3a73af31b4c35f660e799aeb\", element=\"547fe1c0-1562-4ec8-a748-e0fed9e73e35\")>,\n",
       " <selenium.webdriver.remote.webelement.WebElement (session=\"199c861a3a73af31b4c35f660e799aeb\", element=\"55a955d8-bc44-45eb-b491-7c80a308f51b\")>,\n",
       " <selenium.webdriver.remote.webelement.WebElement (session=\"199c861a3a73af31b4c35f660e799aeb\", element=\"f5f26f66-3bf5-42e6-9933-24db477ddeae\")>,\n",
       " <selenium.webdriver.remote.webelement.WebElement (session=\"199c861a3a73af31b4c35f660e799aeb\", element=\"9e1120e3-4159-48c5-86b8-ad8f5111b298\")>,\n",
       " <selenium.webdriver.remote.webelement.WebElement (session=\"199c861a3a73af31b4c35f660e799aeb\", element=\"dbc6833c-e0af-4851-aca2-87daee719886\")>,\n",
       " <selenium.webdriver.remote.webelement.WebElement (session=\"199c861a3a73af31b4c35f660e799aeb\", element=\"bf8d5350-16aa-48e5-9c6f-e3967b2a8a68\")>,\n",
       " <selenium.webdriver.remote.webelement.WebElement (session=\"199c861a3a73af31b4c35f660e799aeb\", element=\"219f2ab0-4da5-45f5-970b-9718c1a9d12e\")>,\n",
       " <selenium.webdriver.remote.webelement.WebElement (session=\"199c861a3a73af31b4c35f660e799aeb\", element=\"d2d5d7ff-cf5c-4855-80f9-68d8be02f267\")>,\n",
       " <selenium.webdriver.remote.webelement.WebElement (session=\"199c861a3a73af31b4c35f660e799aeb\", element=\"02375423-d459-48f3-84bc-b6cbd2fa5eec\")>,\n",
       " <selenium.webdriver.remote.webelement.WebElement (session=\"199c861a3a73af31b4c35f660e799aeb\", element=\"e4968bbd-01bc-46d4-ad79-1b43c6d741b1\")>]"
      ]
     },
     "execution_count": 170,
     "metadata": {},
     "output_type": "execute_result"
    }
   ],
   "source": [
    "rating_tags5 = driver.find_elements_by_xpath(\"//div[@class='_3LWZlK _1BLPMq']\")\n",
    "rating_tags5"
   ]
  },
  {
   "cell_type": "code",
   "execution_count": 171,
   "id": "83443e08",
   "metadata": {},
   "outputs": [
    {
     "data": {
      "text/plain": [
       "['5', '5', '5', '5', '5', '5', '5', '5', '4', '5']"
      ]
     },
     "execution_count": 171,
     "metadata": {},
     "output_type": "execute_result"
    }
   ],
   "source": [
    "for i in rating_tags5:\n",
    "    title=i.text\n",
    "    Rating5.append(title)\n",
    "Rating5"
   ]
  },
  {
   "cell_type": "code",
   "execution_count": 172,
   "id": "cd19ca82",
   "metadata": {},
   "outputs": [
    {
     "name": "stderr",
     "output_type": "stream",
     "text": [
      "<ipython-input-172-d68fae447453>:1: DeprecationWarning: find_elements_by_* commands are deprecated. Please use find_elements() instead\n",
      "  review_tags5 = driver.find_elements_by_xpath(\"//p[@class='_2-N8zT']\")\n"
     ]
    },
    {
     "data": {
      "text/plain": [
       "[<selenium.webdriver.remote.webelement.WebElement (session=\"199c861a3a73af31b4c35f660e799aeb\", element=\"b00a9a43-29e6-45d4-8872-5368518cd72e\")>,\n",
       " <selenium.webdriver.remote.webelement.WebElement (session=\"199c861a3a73af31b4c35f660e799aeb\", element=\"e7fc8128-4554-4ad0-9a59-ae4206b13982\")>,\n",
       " <selenium.webdriver.remote.webelement.WebElement (session=\"199c861a3a73af31b4c35f660e799aeb\", element=\"c4c2366c-453f-43a3-ae57-bd93b8b81a57\")>,\n",
       " <selenium.webdriver.remote.webelement.WebElement (session=\"199c861a3a73af31b4c35f660e799aeb\", element=\"af6dde4b-cd79-4f5e-93c4-a7565d52d9ca\")>,\n",
       " <selenium.webdriver.remote.webelement.WebElement (session=\"199c861a3a73af31b4c35f660e799aeb\", element=\"8c57aa33-f991-4796-9e77-ea64177335e8\")>,\n",
       " <selenium.webdriver.remote.webelement.WebElement (session=\"199c861a3a73af31b4c35f660e799aeb\", element=\"54eb3513-4f40-4acf-a959-ec843aa95f0f\")>,\n",
       " <selenium.webdriver.remote.webelement.WebElement (session=\"199c861a3a73af31b4c35f660e799aeb\", element=\"1012f481-80d9-4779-94b9-ee1cec5a6536\")>,\n",
       " <selenium.webdriver.remote.webelement.WebElement (session=\"199c861a3a73af31b4c35f660e799aeb\", element=\"e0ad7a3a-05c8-48aa-95e1-e8cbbc389df1\")>,\n",
       " <selenium.webdriver.remote.webelement.WebElement (session=\"199c861a3a73af31b4c35f660e799aeb\", element=\"bd4025ed-0076-4372-985e-2dc0a747e8be\")>,\n",
       " <selenium.webdriver.remote.webelement.WebElement (session=\"199c861a3a73af31b4c35f660e799aeb\", element=\"e670bbfe-9583-4bd8-8e62-61970ab9ee66\")>]"
      ]
     },
     "execution_count": 172,
     "metadata": {},
     "output_type": "execute_result"
    }
   ],
   "source": [
    "review_tags5 = driver.find_elements_by_xpath(\"//p[@class='_2-N8zT']\")\n",
    "review_tags5"
   ]
  },
  {
   "cell_type": "code",
   "execution_count": 173,
   "id": "939aba61",
   "metadata": {},
   "outputs": [
    {
     "data": {
      "text/plain": [
       "['Perfect product!',\n",
       " 'Must buy!',\n",
       " 'Fabulous!',\n",
       " 'Mind-blowing purchase',\n",
       " 'Mind-blowing purchase',\n",
       " 'Wonderful',\n",
       " 'Must buy!',\n",
       " 'Great product',\n",
       " 'Very Good',\n",
       " 'Classy product']"
      ]
     },
     "execution_count": 173,
     "metadata": {},
     "output_type": "execute_result"
    }
   ],
   "source": [
    "for i in review_tags5:\n",
    "    title=i.text\n",
    "    Review5.append(title)\n",
    "Review5"
   ]
  },
  {
   "cell_type": "code",
   "execution_count": 174,
   "id": "546d4f86",
   "metadata": {},
   "outputs": [
    {
     "name": "stderr",
     "output_type": "stream",
     "text": [
      "<ipython-input-174-b5bc0bc1d6ae>:1: DeprecationWarning: find_elements_by_* commands are deprecated. Please use find_elements() instead\n",
      "  full_tags5 =driver.find_elements_by_xpath(\"//div[@class='t-ZTKy']\")\n"
     ]
    },
    {
     "data": {
      "text/plain": [
       "[<selenium.webdriver.remote.webelement.WebElement (session=\"199c861a3a73af31b4c35f660e799aeb\", element=\"b137c65f-10f2-4b18-9bfa-7ccef4c55a63\")>,\n",
       " <selenium.webdriver.remote.webelement.WebElement (session=\"199c861a3a73af31b4c35f660e799aeb\", element=\"f65c0a98-1eee-4570-a1e2-24f10621d719\")>,\n",
       " <selenium.webdriver.remote.webelement.WebElement (session=\"199c861a3a73af31b4c35f660e799aeb\", element=\"c30fb243-7d04-4a23-a41b-fb11769423e1\")>,\n",
       " <selenium.webdriver.remote.webelement.WebElement (session=\"199c861a3a73af31b4c35f660e799aeb\", element=\"2fb3bb08-bec8-49b3-81fe-7dd8e0b7b6f8\")>,\n",
       " <selenium.webdriver.remote.webelement.WebElement (session=\"199c861a3a73af31b4c35f660e799aeb\", element=\"e89d6ce3-47b1-415f-9c83-058a067e5816\")>,\n",
       " <selenium.webdriver.remote.webelement.WebElement (session=\"199c861a3a73af31b4c35f660e799aeb\", element=\"1e509352-e4d1-4912-8455-c57d675f74da\")>,\n",
       " <selenium.webdriver.remote.webelement.WebElement (session=\"199c861a3a73af31b4c35f660e799aeb\", element=\"e019102e-867e-43b7-9a09-5a5a40c89bd9\")>,\n",
       " <selenium.webdriver.remote.webelement.WebElement (session=\"199c861a3a73af31b4c35f660e799aeb\", element=\"0d81f243-38b4-4749-b600-d9c7b718c546\")>,\n",
       " <selenium.webdriver.remote.webelement.WebElement (session=\"199c861a3a73af31b4c35f660e799aeb\", element=\"6adbc805-8088-4fbf-94ba-62b15b331873\")>,\n",
       " <selenium.webdriver.remote.webelement.WebElement (session=\"199c861a3a73af31b4c35f660e799aeb\", element=\"3d99fbc9-fca9-4398-8bee-9d5d30360eef\")>]"
      ]
     },
     "execution_count": 174,
     "metadata": {},
     "output_type": "execute_result"
    }
   ],
   "source": [
    "full_tags5 =driver.find_elements_by_xpath(\"//div[@class='t-ZTKy']\")\n",
    "full_tags5"
   ]
  },
  {
   "cell_type": "code",
   "execution_count": 175,
   "id": "bce24f5d",
   "metadata": {},
   "outputs": [
    {
     "data": {
      "text/plain": [
       "['It is just awesome mobile for this price from Apple,\\n\\nAfter 10 days review\\n\\nBattery enough for 1 day even 24*7 Internet will be on and mostly internet usage\\n\\nCamera is just awesome cool , android 64 MP is equal to this just 12 MP\\n\\nA13 Bionic chip will give more high performance without hanging\\n\\nAudio stereo speakers will give Dolby atoms sound with crystal clear\\n\\nVideo recording is like cinematic shots of every sec can be a 4K 60fps. Just awesome this phone\\niPhone 11 loved one',\n",
       " 'Best Apple iPhone that i have bought at a very reasonable price, camera quality is next level just awesome n of superior quality android phones not even close(RIP) to that and also battery is really good but packaging by Flipkart of iPhone was very poor of such a expensive product, firstly im bit worried about the quality of product if i purchased it through online how was the product but i think now this was mine best decision to bought it through Flipkart online because i got genuine Apple...\\nREAD MORE',\n",
       " \"I can say I'm damn impressed with iPhone 11. As they says iPhone 11 have the toughest glass ever in the smartphone which you'll find on the front and back and it's totally smooth. The fit and finish is full apple quality - there's no sense that any cheaping out has happened in the construction. Without saying it's camera features this review won't complete. The iPhone 11 has a dual camera system, consisting of a wide angle len's that's pretty much same as found on the iPhone XR last year, but...\\nREAD MORE\",\n",
       " 'Best Quality Product OF iPhone Series , Sound Quality & Camera quality is very awesome, Battery Life is very Sufficient for 24 hr Backup With Full Internet Access , I love this this Product too much , It is very fast & making me Very fast in all my daily Routine\\nHighlights;\\n1.Camera: 5 STAR\\n2.Video Recording: 5 star\\n3.Night mODE sHOOTING & Camera:4 star\\n4. Audio Quality: Awesome\\n5. Battery : 5 Star\\n6. Touch:5 Star\\n7. Processor: Very Fast\\nThe M...\\nREAD MORE',\n",
       " 'First thanks to Flipkart for this amazing deal and phone is outstanding. I upgraded from iPhone 7 and this is like very big upgrade. But the packaging was very basic I expected a good packaging as they only wrapped one layer of bubble wrap which I don’t think is enough to protect this expensive phone. And I recommend this phone and seller as well.\\n\\nAnd I’m posting this review after using it for 4 days.',\n",
       " 'Superfast delivery by Flipkart. Thanks.\\n\\n1. iPhone 11 is a pretty solid phone for the money you are paying.\\n2. All the bad reviews about the display is confusing. It’s not that bad.\\n3. I switched from a Oneplus 7t. I have no complaints about the display quality of iPhone. Yes, it’s not OLED, so, we are missing on the deep blacks. But that’s it. It is a very colour accurate display. Gets adequately bright and I could not find any pixelation.\\n4. Performance is one of the best, if not best, in ...\\nREAD MORE',\n",
       " 'I rate this product 5* as it has got amazing user experience with the best performing A13 bionic processor. The screen responds and graphics rendering is top notch. With casual gaming and internet browsing, the battery lasts for approx. 1 day. Camera is very good. You will fall in love with the portrait mode. You can call me a loyal Apple customer or whatever but I won’t stop praising the products and overall experience. That user experience matters and is worth every penny you pay.\\n\\nBelow ar...\\nREAD MORE',\n",
       " \"Again back to apple iphone after a gap of 2-3 years. It's pleasure to use iOS and the quality product by Apple. Iphone 11 still works like a beast in 2021 also. It really capable of doing day to day usage as well as hard core gaming. Battery is awesome. I'm really too much satisfied with it. Apart fto the very gorgious IPS LCD (AMOLED will be better) everything is mind boggling. Iphone💕.\",\n",
       " 'impressive super phone and best in class camera ,sound and face unlock is super fast just see and phone is unlock and fast in daily apps use',\n",
       " 'Well while switching from android to iOS the first thing you need to be careful about is that you will loose all your whatsapp chat backups as both are different operating systems. Camera clarity is awesome and though being an lcd screen clarity and resolution is good. Battery backup is also good unlike previous gen iPhone. So far the experience is good will Padre after a few months of usage.\\n\\nP.S the black is more of a dark grey shade and not jet black']"
      ]
     },
     "execution_count": 175,
     "metadata": {},
     "output_type": "execute_result"
    }
   ],
   "source": [
    "for i in full_tags5:\n",
    "    title=i.text\n",
    "    full_review5.append(title)\n",
    "full_review5"
   ]
  },
  {
   "cell_type": "code",
   "execution_count": 176,
   "id": "d51220b6",
   "metadata": {},
   "outputs": [
    {
     "name": "stdout",
     "output_type": "stream",
     "text": [
      "10 10 10\n"
     ]
    }
   ],
   "source": [
    "print(len(Rating),len(Review),len(full_review))"
   ]
  },
  {
   "cell_type": "markdown",
   "id": "a9833e27",
   "metadata": {},
   "source": [
    "# NEXT PAGE:-6"
   ]
  },
  {
   "cell_type": "code",
   "execution_count": 177,
   "id": "7860e5d8",
   "metadata": {},
   "outputs": [
    {
     "name": "stderr",
     "output_type": "stream",
     "text": [
      "<ipython-input-177-4baf4e88f767>:1: DeprecationWarning: find_element_by_* commands are deprecated. Please use find_element() instead\n",
      "  nxt_button = driver.find_element_by_xpath(\"//a[@class='_1LKTO3']\")\n"
     ]
    }
   ],
   "source": [
    "nxt_button = driver.find_element_by_xpath(\"//a[@class='_1LKTO3']\")\n",
    "nxt_button.click()"
   ]
  },
  {
   "cell_type": "code",
   "execution_count": 178,
   "id": "dfbae532",
   "metadata": {},
   "outputs": [],
   "source": [
    "#making empty list\n",
    "Rating6 =[]\n",
    "Review6 = []\n",
    "full_review6 = []"
   ]
  },
  {
   "cell_type": "code",
   "execution_count": 179,
   "id": "cdeed715",
   "metadata": {},
   "outputs": [
    {
     "name": "stderr",
     "output_type": "stream",
     "text": [
      "<ipython-input-179-2440fede5f74>:1: DeprecationWarning: find_elements_by_* commands are deprecated. Please use find_elements() instead\n",
      "  rating_tags6 = driver.find_elements_by_xpath(\"//div[@class='_3LWZlK _1BLPMq']\")\n"
     ]
    },
    {
     "data": {
      "text/plain": [
       "[<selenium.webdriver.remote.webelement.WebElement (session=\"199c861a3a73af31b4c35f660e799aeb\", element=\"8836528d-14ec-4c83-b37e-6d9c02234d5f\")>,\n",
       " <selenium.webdriver.remote.webelement.WebElement (session=\"199c861a3a73af31b4c35f660e799aeb\", element=\"119bb60b-a0fa-4293-a9d0-61c263d1cf47\")>,\n",
       " <selenium.webdriver.remote.webelement.WebElement (session=\"199c861a3a73af31b4c35f660e799aeb\", element=\"c4b973d5-d6a4-40e7-9c05-75a5e3ef2059\")>,\n",
       " <selenium.webdriver.remote.webelement.WebElement (session=\"199c861a3a73af31b4c35f660e799aeb\", element=\"b2608bf8-82a6-4d19-a131-a8eeb4265249\")>,\n",
       " <selenium.webdriver.remote.webelement.WebElement (session=\"199c861a3a73af31b4c35f660e799aeb\", element=\"38a444dd-3d40-49c3-8273-b0a561e93400\")>,\n",
       " <selenium.webdriver.remote.webelement.WebElement (session=\"199c861a3a73af31b4c35f660e799aeb\", element=\"1cb0f19a-bc1c-4979-9174-12b28a4ed8d5\")>,\n",
       " <selenium.webdriver.remote.webelement.WebElement (session=\"199c861a3a73af31b4c35f660e799aeb\", element=\"ae45b8f0-082c-4c0e-8ec6-f00204eb024c\")>,\n",
       " <selenium.webdriver.remote.webelement.WebElement (session=\"199c861a3a73af31b4c35f660e799aeb\", element=\"54b88dbd-3839-497b-ad86-0e5ee2a163af\")>,\n",
       " <selenium.webdriver.remote.webelement.WebElement (session=\"199c861a3a73af31b4c35f660e799aeb\", element=\"b7ba7a8b-a080-4576-9501-4c9c57eb845e\")>,\n",
       " <selenium.webdriver.remote.webelement.WebElement (session=\"199c861a3a73af31b4c35f660e799aeb\", element=\"194f9178-8ae4-4dd1-bed1-976ffc20f1cf\")>]"
      ]
     },
     "execution_count": 179,
     "metadata": {},
     "output_type": "execute_result"
    }
   ],
   "source": [
    "rating_tags6 = driver.find_elements_by_xpath(\"//div[@class='_3LWZlK _1BLPMq']\")\n",
    "rating_tags6"
   ]
  },
  {
   "cell_type": "code",
   "execution_count": 180,
   "id": "8eda7487",
   "metadata": {},
   "outputs": [
    {
     "data": {
      "text/plain": [
       "['5', '5', '5', '4', '5', '5', '5', '5', '5', '5']"
      ]
     },
     "execution_count": 180,
     "metadata": {},
     "output_type": "execute_result"
    }
   ],
   "source": [
    "for i in rating_tags6:\n",
    "    title=i.text\n",
    "    Rating6.append(title)\n",
    "Rating6"
   ]
  },
  {
   "cell_type": "code",
   "execution_count": 181,
   "id": "40489075",
   "metadata": {},
   "outputs": [
    {
     "name": "stderr",
     "output_type": "stream",
     "text": [
      "<ipython-input-181-7efee22b2036>:1: DeprecationWarning: find_elements_by_* commands are deprecated. Please use find_elements() instead\n",
      "  review_tags6 = driver.find_elements_by_xpath(\"//p[@class='_2-N8zT']\")\n"
     ]
    },
    {
     "data": {
      "text/plain": [
       "[<selenium.webdriver.remote.webelement.WebElement (session=\"199c861a3a73af31b4c35f660e799aeb\", element=\"64f33299-f3d3-4d19-948d-d06942247b51\")>,\n",
       " <selenium.webdriver.remote.webelement.WebElement (session=\"199c861a3a73af31b4c35f660e799aeb\", element=\"121b632d-9baa-4015-a74d-0c7728ad62c3\")>,\n",
       " <selenium.webdriver.remote.webelement.WebElement (session=\"199c861a3a73af31b4c35f660e799aeb\", element=\"789aaad7-dca1-4f15-ae30-1b66ebb3be22\")>,\n",
       " <selenium.webdriver.remote.webelement.WebElement (session=\"199c861a3a73af31b4c35f660e799aeb\", element=\"ebc2a45e-5f79-469f-9215-57e452da234c\")>,\n",
       " <selenium.webdriver.remote.webelement.WebElement (session=\"199c861a3a73af31b4c35f660e799aeb\", element=\"55abbbb2-eddf-40da-bf08-58928a7f143b\")>,\n",
       " <selenium.webdriver.remote.webelement.WebElement (session=\"199c861a3a73af31b4c35f660e799aeb\", element=\"2c97d745-e498-4177-a6e2-76a238eff38c\")>,\n",
       " <selenium.webdriver.remote.webelement.WebElement (session=\"199c861a3a73af31b4c35f660e799aeb\", element=\"8b25ab1f-fb88-403b-b61b-3342a58d0a92\")>,\n",
       " <selenium.webdriver.remote.webelement.WebElement (session=\"199c861a3a73af31b4c35f660e799aeb\", element=\"77417d5e-3b91-4223-b985-03e71a7300dc\")>,\n",
       " <selenium.webdriver.remote.webelement.WebElement (session=\"199c861a3a73af31b4c35f660e799aeb\", element=\"3bf47d74-a950-4c93-8521-14bb0ea04aae\")>,\n",
       " <selenium.webdriver.remote.webelement.WebElement (session=\"199c861a3a73af31b4c35f660e799aeb\", element=\"d8f4bc32-ab74-4604-bc89-813911979080\")>]"
      ]
     },
     "execution_count": 181,
     "metadata": {},
     "output_type": "execute_result"
    }
   ],
   "source": [
    "review_tags6 = driver.find_elements_by_xpath(\"//p[@class='_2-N8zT']\")\n",
    "review_tags6"
   ]
  },
  {
   "cell_type": "code",
   "execution_count": 182,
   "id": "77ca3d57",
   "metadata": {},
   "outputs": [
    {
     "data": {
      "text/plain": [
       "['Perfect product!',\n",
       " 'Just wow!',\n",
       " 'Awesome',\n",
       " 'Pretty good',\n",
       " 'Terrific purchase',\n",
       " 'Awesome',\n",
       " 'Classy product',\n",
       " 'Brilliant',\n",
       " 'Terrific',\n",
       " 'Perfect product!']"
      ]
     },
     "execution_count": 182,
     "metadata": {},
     "output_type": "execute_result"
    }
   ],
   "source": [
    "for i in review_tags6:\n",
    "    title=i.text\n",
    "    Review6.append(title)\n",
    "Review6"
   ]
  },
  {
   "cell_type": "code",
   "execution_count": 183,
   "id": "7403001c",
   "metadata": {},
   "outputs": [
    {
     "name": "stderr",
     "output_type": "stream",
     "text": [
      "<ipython-input-183-b9e5ed6c61c2>:1: DeprecationWarning: find_elements_by_* commands are deprecated. Please use find_elements() instead\n",
      "  full_tags6 =driver.find_elements_by_xpath(\"//div[@class='t-ZTKy']\")\n"
     ]
    },
    {
     "data": {
      "text/plain": [
       "[<selenium.webdriver.remote.webelement.WebElement (session=\"199c861a3a73af31b4c35f660e799aeb\", element=\"bb09cba2-4c67-4c3f-8650-cd6977355d14\")>,\n",
       " <selenium.webdriver.remote.webelement.WebElement (session=\"199c861a3a73af31b4c35f660e799aeb\", element=\"6d695496-0980-4d01-924e-f6bf2c193f01\")>,\n",
       " <selenium.webdriver.remote.webelement.WebElement (session=\"199c861a3a73af31b4c35f660e799aeb\", element=\"1e3e1c4f-2dcf-4ca9-93b1-f2f3caa5d1ad\")>,\n",
       " <selenium.webdriver.remote.webelement.WebElement (session=\"199c861a3a73af31b4c35f660e799aeb\", element=\"5a1ed847-2a08-4a90-8c98-3103381a5e36\")>,\n",
       " <selenium.webdriver.remote.webelement.WebElement (session=\"199c861a3a73af31b4c35f660e799aeb\", element=\"92911f23-6071-4598-8966-13c00f810a1e\")>,\n",
       " <selenium.webdriver.remote.webelement.WebElement (session=\"199c861a3a73af31b4c35f660e799aeb\", element=\"f29c4394-c1cf-4c39-8551-2e3e29f139e8\")>,\n",
       " <selenium.webdriver.remote.webelement.WebElement (session=\"199c861a3a73af31b4c35f660e799aeb\", element=\"5ffbddda-d401-493a-afb6-cf6207057cb8\")>,\n",
       " <selenium.webdriver.remote.webelement.WebElement (session=\"199c861a3a73af31b4c35f660e799aeb\", element=\"a7a97677-0c0a-4077-9941-0cc97e795174\")>,\n",
       " <selenium.webdriver.remote.webelement.WebElement (session=\"199c861a3a73af31b4c35f660e799aeb\", element=\"b21931a9-a008-4781-bc05-982e47510d81\")>,\n",
       " <selenium.webdriver.remote.webelement.WebElement (session=\"199c861a3a73af31b4c35f660e799aeb\", element=\"61dd72bb-7c4f-43c4-ade9-f2689e166c4d\")>]"
      ]
     },
     "execution_count": 183,
     "metadata": {},
     "output_type": "execute_result"
    }
   ],
   "source": [
    "full_tags6 =driver.find_elements_by_xpath(\"//div[@class='t-ZTKy']\")\n",
    "full_tags6"
   ]
  },
  {
   "cell_type": "code",
   "execution_count": 184,
   "id": "2589cfd3",
   "metadata": {},
   "outputs": [
    {
     "data": {
      "text/plain": [
       "['In love with this iphone great performance,camera ,battery everything. Go for it have a uncompareble battery backup, no doubts in iPhone camera here You can see the picture which is shot on my iPhone In love with this iphone great performance,camera ,battery everything. Go for it have a uncompareble battery backup, no doubts in iPhone camera here You can see the picture which is shot on my iPhone In love with this iphone great performance,camera ,battery everything. Go for it have a uncompare...\\nREAD MORE',\n",
       " 'Best in class. Battery backup is good especially when you play games like Pubg COD. But it is sort of heavy when you hold in hands. Portrait mode is best to click pictures. Stage light effect is awesome. Try to click photos outside in nature because photos inside home or room will not give you the quality in any phone even in DSLR.',\n",
       " 'Very excited to have this phone. This phone has the real power unlike the android phones having SD 855 . The battery life is very good and the camera quality is excellent as comapred to redmi and other phones except google pixel. I M enjoying every single bit of it. Would recommed only if you have the budget.',\n",
       " 'I was using Iphone 6s and also Oneplus 6t. Both mobiles were perfectly alright in Photos, gaming, and smooth interface . My 6s mobile getting battery issue. thought upgrade to 11. Really like this mobile of its Internal storage (compare to 6s) , camera and its touch feeling. Its a worth buying mobile for me.',\n",
       " 'Its Very awesome product working and good camera quality and all about best product and also flipkart is very great deal and offer nice price',\n",
       " 'I am using this phone for 5 days and its one of the best camera out there ❤️ the screen is not oled and i am coming from iphone xs so its little bit not up to the mark i would say\\nBut overall value for money💕😍the battery back up is far better than my iphone xs and its worth in my apple ecosystem💫❤️if u are an apple User and have the eco system then go for it❤️though i will be getting the new iphone but its pretty good💫',\n",
       " 'Best and amazing product.....phone looks so premium.... battary is also good as expected .... Wide angle camera is so addictive ...if you are a IOS lover....then this phone will be the best choice for you all!!💯🔥',\n",
       " 'Excellent camera and display touching very nice and smooth very improvement against iPhone XR and new processor is very fast',\n",
       " \"I got this beast today. And I must say the picture quality of its camera is awesome. Both the cameras works fine.\\n\\nAs for as the processing is concerned, it runs without any lag. You can play and do whatever you want without a glitch.\\n\\nThe battery runs for a day with medium and high workload.\\n\\nThe display is good and the speakers are working fine.\\n\\nThe earphones doesn't have any base and you can use it for calling mostly.\\n\\nThe charging time is approximately for 90 minutes for full charging...\\nREAD MORE\",\n",
       " 'Awesome purchase. Amazing phone with good battery backup. It’s a top notch device. White colour looks amazing. Phone has a few extra feature than iPhone XR. Overall, this is value for money']"
      ]
     },
     "execution_count": 184,
     "metadata": {},
     "output_type": "execute_result"
    }
   ],
   "source": [
    "for i in full_tags6:\n",
    "    title=i.text\n",
    "    full_review6.append(title)\n",
    "full_review6"
   ]
  },
  {
   "cell_type": "markdown",
   "id": "29294c13",
   "metadata": {},
   "source": [
    "# NEXT PAGE:-7"
   ]
  },
  {
   "cell_type": "code",
   "execution_count": 185,
   "id": "aad714bf",
   "metadata": {},
   "outputs": [
    {
     "name": "stderr",
     "output_type": "stream",
     "text": [
      "<ipython-input-185-4baf4e88f767>:1: DeprecationWarning: find_element_by_* commands are deprecated. Please use find_element() instead\n",
      "  nxt_button = driver.find_element_by_xpath(\"//a[@class='_1LKTO3']\")\n"
     ]
    }
   ],
   "source": [
    "nxt_button = driver.find_element_by_xpath(\"//a[@class='_1LKTO3']\")\n",
    "nxt_button.click()"
   ]
  },
  {
   "cell_type": "code",
   "execution_count": 186,
   "id": "31509659",
   "metadata": {},
   "outputs": [],
   "source": [
    "Rating7 =[]\n",
    "Review7 = []\n",
    "full_review7 = []"
   ]
  },
  {
   "cell_type": "code",
   "execution_count": 187,
   "id": "8b2603c9",
   "metadata": {},
   "outputs": [
    {
     "name": "stderr",
     "output_type": "stream",
     "text": [
      "<ipython-input-187-3b6b1632018d>:1: DeprecationWarning: find_elements_by_* commands are deprecated. Please use find_elements() instead\n",
      "  rating_tags7 = driver.find_elements_by_xpath(\"//div[@class='_3LWZlK _1BLPMq']\")\n"
     ]
    },
    {
     "data": {
      "text/plain": [
       "[<selenium.webdriver.remote.webelement.WebElement (session=\"199c861a3a73af31b4c35f660e799aeb\", element=\"9428c53e-a57e-4827-ace7-b9606fb51afc\")>,\n",
       " <selenium.webdriver.remote.webelement.WebElement (session=\"199c861a3a73af31b4c35f660e799aeb\", element=\"3b3999ba-c43a-4e6f-a90d-ea2774074dbd\")>,\n",
       " <selenium.webdriver.remote.webelement.WebElement (session=\"199c861a3a73af31b4c35f660e799aeb\", element=\"1358b86d-fcd5-4e2d-8d4b-64b21cc92dff\")>,\n",
       " <selenium.webdriver.remote.webelement.WebElement (session=\"199c861a3a73af31b4c35f660e799aeb\", element=\"bbfa5f96-3920-40b9-b437-d515610085b0\")>,\n",
       " <selenium.webdriver.remote.webelement.WebElement (session=\"199c861a3a73af31b4c35f660e799aeb\", element=\"91bfe415-5d32-4098-84b1-86ed74e109cb\")>,\n",
       " <selenium.webdriver.remote.webelement.WebElement (session=\"199c861a3a73af31b4c35f660e799aeb\", element=\"fc215617-4963-49df-99ba-2d15fc8d041b\")>,\n",
       " <selenium.webdriver.remote.webelement.WebElement (session=\"199c861a3a73af31b4c35f660e799aeb\", element=\"fc1d8f63-64fc-405d-b798-b4b5f08d5953\")>,\n",
       " <selenium.webdriver.remote.webelement.WebElement (session=\"199c861a3a73af31b4c35f660e799aeb\", element=\"c7e302f7-6378-4505-88db-e0e43a9d877f\")>,\n",
       " <selenium.webdriver.remote.webelement.WebElement (session=\"199c861a3a73af31b4c35f660e799aeb\", element=\"f51d4c47-6fdd-4c07-8b96-c3c39c9b3c5c\")>]"
      ]
     },
     "execution_count": 187,
     "metadata": {},
     "output_type": "execute_result"
    }
   ],
   "source": [
    "rating_tags7 = driver.find_elements_by_xpath(\"//div[@class='_3LWZlK _1BLPMq']\")\n",
    "rating_tags7"
   ]
  },
  {
   "cell_type": "code",
   "execution_count": 188,
   "id": "2e659f72",
   "metadata": {},
   "outputs": [
    {
     "data": {
      "text/plain": [
       "['5', '5', '5', '5', '5', '4', '5', '5', '5']"
      ]
     },
     "execution_count": 188,
     "metadata": {},
     "output_type": "execute_result"
    }
   ],
   "source": [
    "for i in rating_tags7:\n",
    "    title=i.text\n",
    "    Rating7.append(title)\n",
    "Rating7"
   ]
  },
  {
   "cell_type": "code",
   "execution_count": 189,
   "id": "c77bf663",
   "metadata": {},
   "outputs": [
    {
     "name": "stderr",
     "output_type": "stream",
     "text": [
      "<ipython-input-189-c8617fc1b4bc>:1: DeprecationWarning: find_elements_by_* commands are deprecated. Please use find_elements() instead\n",
      "  review_tags7 = driver.find_elements_by_xpath(\"//p[@class='_2-N8zT']\")\n"
     ]
    },
    {
     "data": {
      "text/plain": [
       "[<selenium.webdriver.remote.webelement.WebElement (session=\"199c861a3a73af31b4c35f660e799aeb\", element=\"1cdb4256-084e-4741-b560-0b9c8287684f\")>,\n",
       " <selenium.webdriver.remote.webelement.WebElement (session=\"199c861a3a73af31b4c35f660e799aeb\", element=\"f0bf9f1b-e192-4e07-9250-ec773729a500\")>,\n",
       " <selenium.webdriver.remote.webelement.WebElement (session=\"199c861a3a73af31b4c35f660e799aeb\", element=\"db3ff4a6-14d1-4909-ac8c-11640a4a3c2e\")>,\n",
       " <selenium.webdriver.remote.webelement.WebElement (session=\"199c861a3a73af31b4c35f660e799aeb\", element=\"02418cfd-5bfe-45f2-82c7-5b9c6425e207\")>,\n",
       " <selenium.webdriver.remote.webelement.WebElement (session=\"199c861a3a73af31b4c35f660e799aeb\", element=\"58db2c8e-6744-4f82-a5d7-e4e1d949660c\")>,\n",
       " <selenium.webdriver.remote.webelement.WebElement (session=\"199c861a3a73af31b4c35f660e799aeb\", element=\"6ad24437-db15-4127-b685-9647c6cb4d5a\")>,\n",
       " <selenium.webdriver.remote.webelement.WebElement (session=\"199c861a3a73af31b4c35f660e799aeb\", element=\"5b8deb7c-1bdd-4d1b-8bd4-29d9152ad706\")>,\n",
       " <selenium.webdriver.remote.webelement.WebElement (session=\"199c861a3a73af31b4c35f660e799aeb\", element=\"73fac1b8-5959-4010-ab41-8861c11d2eb8\")>,\n",
       " <selenium.webdriver.remote.webelement.WebElement (session=\"199c861a3a73af31b4c35f660e799aeb\", element=\"2acb7bf3-9f74-4727-80f9-b9a59bb32651\")>,\n",
       " <selenium.webdriver.remote.webelement.WebElement (session=\"199c861a3a73af31b4c35f660e799aeb\", element=\"0608eb87-bc2b-413c-8ec7-8bbc4b5d99fc\")>]"
      ]
     },
     "execution_count": 189,
     "metadata": {},
     "output_type": "execute_result"
    }
   ],
   "source": [
    "review_tags7 = driver.find_elements_by_xpath(\"//p[@class='_2-N8zT']\")\n",
    "review_tags7"
   ]
  },
  {
   "cell_type": "code",
   "execution_count": 190,
   "id": "8be0a33a",
   "metadata": {},
   "outputs": [
    {
     "data": {
      "text/plain": [
       "['Awesome',\n",
       " 'Perfect product!',\n",
       " 'Very poor',\n",
       " 'Fabulous!',\n",
       " 'Excellent',\n",
       " 'Must buy!',\n",
       " 'Value-for-money',\n",
       " 'Best in the market!',\n",
       " 'Brilliant',\n",
       " 'Terrific purchase']"
      ]
     },
     "execution_count": 190,
     "metadata": {},
     "output_type": "execute_result"
    }
   ],
   "source": [
    "for i in review_tags7:\n",
    "    title=i.text\n",
    "    Review7.append(title)\n",
    "Review7"
   ]
  },
  {
   "cell_type": "code",
   "execution_count": 191,
   "id": "dcc7aa0f",
   "metadata": {},
   "outputs": [
    {
     "name": "stderr",
     "output_type": "stream",
     "text": [
      "<ipython-input-191-3af18d936972>:1: DeprecationWarning: find_elements_by_* commands are deprecated. Please use find_elements() instead\n",
      "  full_tags7 =driver.find_elements_by_xpath(\"//div[@class='t-ZTKy']\")\n"
     ]
    },
    {
     "data": {
      "text/plain": [
       "[<selenium.webdriver.remote.webelement.WebElement (session=\"199c861a3a73af31b4c35f660e799aeb\", element=\"6b267698-0944-47b3-98e1-82f550365bff\")>,\n",
       " <selenium.webdriver.remote.webelement.WebElement (session=\"199c861a3a73af31b4c35f660e799aeb\", element=\"68c60d23-a719-4b16-b9fb-cec81ef14dee\")>,\n",
       " <selenium.webdriver.remote.webelement.WebElement (session=\"199c861a3a73af31b4c35f660e799aeb\", element=\"7c5309e2-efca-477c-9278-c0b57c7c1893\")>,\n",
       " <selenium.webdriver.remote.webelement.WebElement (session=\"199c861a3a73af31b4c35f660e799aeb\", element=\"c5bb4bfd-06c2-4aaf-ad00-af0b5965022a\")>,\n",
       " <selenium.webdriver.remote.webelement.WebElement (session=\"199c861a3a73af31b4c35f660e799aeb\", element=\"bef8cea8-9c09-441c-87c0-80474a3bde2c\")>,\n",
       " <selenium.webdriver.remote.webelement.WebElement (session=\"199c861a3a73af31b4c35f660e799aeb\", element=\"b67bfce0-e38a-45ae-aaaa-70b16f481b68\")>,\n",
       " <selenium.webdriver.remote.webelement.WebElement (session=\"199c861a3a73af31b4c35f660e799aeb\", element=\"6cd6bba1-fe2c-4262-903e-774461dd29d3\")>,\n",
       " <selenium.webdriver.remote.webelement.WebElement (session=\"199c861a3a73af31b4c35f660e799aeb\", element=\"cd1d4b8b-98fb-45e9-9512-2bd6ca58d91a\")>,\n",
       " <selenium.webdriver.remote.webelement.WebElement (session=\"199c861a3a73af31b4c35f660e799aeb\", element=\"99684cf9-3fe9-4b43-a2dd-60a8a72f7ba7\")>,\n",
       " <selenium.webdriver.remote.webelement.WebElement (session=\"199c861a3a73af31b4c35f660e799aeb\", element=\"8dd80ce0-f53c-43ed-9d6f-4e042bc4ee36\")>]"
      ]
     },
     "execution_count": 191,
     "metadata": {},
     "output_type": "execute_result"
    }
   ],
   "source": [
    "full_tags7 =driver.find_elements_by_xpath(\"//div[@class='t-ZTKy']\")\n",
    "full_tags7"
   ]
  },
  {
   "cell_type": "code",
   "execution_count": 192,
   "id": "2753ba9f",
   "metadata": {},
   "outputs": [
    {
     "data": {
      "text/plain": [
       "['Always love the apple products, upgraded from old iPhone 6S plus to this after having my first baby. I just love to click baby’s photos with it. Overall I just love this phone. Battery back up is okay, sound quality is good. Haven’t tested yet waterproof yet. Only one thing I hate is apple could have given charger & headphones in box.',\n",
       " 'Value for money\\n5 star rating\\nExcellent camera\\nBattery backup full day in single charge.\\n\\nTougher and water resistant design, glossy back.\\nThe screen has excellent brightness and contrast.\\nApple A13 Bionic is the fastest smartphone chip on the planet.\\nExcellent battery life, fast charging support.\\nStereo speakers with great quality.',\n",
       " 'Please DONT buy from here,\\n\\nI purchased Apple iPhone 11. with an exchange of IPhone 7, the exchange did not go well, iPhone 7 had a small scratch out side screen which i could never identify till date, but the FLIPKART person could, so he reduced 50% from exchange rate. I decided not to trade in, but paid money.\\n\\niPhone 11 Detail Below\\n---------------------------------------------\\nIt came with no charging, then i have put for charging, it took lot of time for charging, the phone also showe...\\nREAD MORE',\n",
       " 'awesome phone to have. it has got many smart features apart from mind blowing looks, camera, display, battery and sound. have fallen in love with this phone. must buy phone if you have got enough money. thanks to flipkart and apple of course..',\n",
       " 'Its a fabulous mobile look awesome performance unbeaten camera like dslr battery good i think this is a beast of mobile',\n",
       " 'Dear friends... I want to share my experience with you about this amazing I phone 11....this is my first iPhone and special things about this mobile is it has great camera, battery backup and awesome display.... I mean everything is perfect.loved it 👍👍👍',\n",
       " \"Just got this iphone 11\\nAnd it is most powerful mobile phone I have used ever\\n\\nSo,go for it if you want a phone with best specification like camera,battery backup,display, A13 bionic chip\\n\\nThat's my review about this phone but yours can be differ from me....\",\n",
       " \"The best all rounder iphone. Flipkart is doing a great job. They're delivery services are blazing fast. I got delivery on the same day. Genuine Apple Product. Working great. Talking about review There's no need of review for iphones. They're simply the best.\",\n",
       " 'Amazing phone and on great deal I received with super fast delivery by Flipkart...',\n",
       " 'finally an iPhone with very nice battery backup. update from iPhone 7 and happy to have it. camera is not up to the mark in low light but overall a recommended phone if your budget allows 😀']"
      ]
     },
     "execution_count": 192,
     "metadata": {},
     "output_type": "execute_result"
    }
   ],
   "source": [
    "for i in full_tags7:\n",
    "    title=i.text\n",
    "    full_review7.append(title)\n",
    "full_review7"
   ]
  },
  {
   "cell_type": "markdown",
   "id": "a262b56a",
   "metadata": {},
   "source": [
    "# NEXT PAGE:-8"
   ]
  },
  {
   "cell_type": "code",
   "execution_count": 193,
   "id": "64c122c9",
   "metadata": {},
   "outputs": [
    {
     "name": "stderr",
     "output_type": "stream",
     "text": [
      "<ipython-input-193-f8676d93015a>:1: DeprecationWarning: find_element_by_* commands are deprecated. Please use find_element() instead\n",
      "  nxt_button8 = driver.find_element_by_xpath(\"//a[@class='_1LKTO3']\")\n"
     ]
    }
   ],
   "source": [
    "nxt_button8 = driver.find_element_by_xpath(\"//a[@class='_1LKTO3']\")\n",
    "nxt_button8.click()"
   ]
  },
  {
   "cell_type": "code",
   "execution_count": 194,
   "id": "203cdd26",
   "metadata": {},
   "outputs": [],
   "source": [
    "Rating8 =[]\n",
    "Review8 = []\n",
    "full_review8 = []"
   ]
  },
  {
   "cell_type": "code",
   "execution_count": 195,
   "id": "ad0c9f54",
   "metadata": {},
   "outputs": [
    {
     "name": "stderr",
     "output_type": "stream",
     "text": [
      "<ipython-input-195-0d76ecc6e323>:1: DeprecationWarning: find_elements_by_* commands are deprecated. Please use find_elements() instead\n",
      "  rating_tags8 = driver.find_elements_by_xpath(\"//div[@class='_3LWZlK _1BLPMq']\")\n"
     ]
    },
    {
     "data": {
      "text/plain": [
       "[<selenium.webdriver.remote.webelement.WebElement (session=\"199c861a3a73af31b4c35f660e799aeb\", element=\"17a597b0-2aff-474e-aef3-d3c6d42a18c4\")>,\n",
       " <selenium.webdriver.remote.webelement.WebElement (session=\"199c861a3a73af31b4c35f660e799aeb\", element=\"dcdab942-e56d-4542-afbb-7abb601d7a0a\")>,\n",
       " <selenium.webdriver.remote.webelement.WebElement (session=\"199c861a3a73af31b4c35f660e799aeb\", element=\"f4077616-d248-49a2-ac68-c2498440e13e\")>,\n",
       " <selenium.webdriver.remote.webelement.WebElement (session=\"199c861a3a73af31b4c35f660e799aeb\", element=\"20775b84-1d01-420d-ad8d-737d1362dbcb\")>,\n",
       " <selenium.webdriver.remote.webelement.WebElement (session=\"199c861a3a73af31b4c35f660e799aeb\", element=\"b838e710-162f-4823-9fa7-c3e761da9643\")>,\n",
       " <selenium.webdriver.remote.webelement.WebElement (session=\"199c861a3a73af31b4c35f660e799aeb\", element=\"0b21194b-4b58-45a0-8fd0-f01487b04678\")>,\n",
       " <selenium.webdriver.remote.webelement.WebElement (session=\"199c861a3a73af31b4c35f660e799aeb\", element=\"8826ecd0-77c0-4bfe-9a69-b8d616ccafb6\")>,\n",
       " <selenium.webdriver.remote.webelement.WebElement (session=\"199c861a3a73af31b4c35f660e799aeb\", element=\"316f78d9-69a5-4ddb-9b42-7a2ef8c638d9\")>,\n",
       " <selenium.webdriver.remote.webelement.WebElement (session=\"199c861a3a73af31b4c35f660e799aeb\", element=\"78cd3c32-13e1-466b-b2fe-4ee8e228d2b3\")>]"
      ]
     },
     "execution_count": 195,
     "metadata": {},
     "output_type": "execute_result"
    }
   ],
   "source": [
    "rating_tags8 = driver.find_elements_by_xpath(\"//div[@class='_3LWZlK _1BLPMq']\")\n",
    "rating_tags8"
   ]
  },
  {
   "cell_type": "code",
   "execution_count": 196,
   "id": "fa15d172",
   "metadata": {},
   "outputs": [
    {
     "data": {
      "text/plain": [
       "['4', '5', '5', '5', '4', '5', '5', '5', '4']"
      ]
     },
     "execution_count": 196,
     "metadata": {},
     "output_type": "execute_result"
    }
   ],
   "source": [
    "for i in rating_tags8:\n",
    "    title=i.text\n",
    "    Rating8.append(title)\n",
    "Rating8"
   ]
  },
  {
   "cell_type": "code",
   "execution_count": 197,
   "id": "74a9ee68",
   "metadata": {},
   "outputs": [
    {
     "name": "stderr",
     "output_type": "stream",
     "text": [
      "<ipython-input-197-ea2c45224956>:1: DeprecationWarning: find_elements_by_* commands are deprecated. Please use find_elements() instead\n",
      "  review_tags8 = driver.find_elements_by_xpath(\"//p[@class='_2-N8zT']\")\n"
     ]
    },
    {
     "data": {
      "text/plain": [
       "[<selenium.webdriver.remote.webelement.WebElement (session=\"199c861a3a73af31b4c35f660e799aeb\", element=\"5071e23d-8538-4660-87e5-96c4c99c63bc\")>,\n",
       " <selenium.webdriver.remote.webelement.WebElement (session=\"199c861a3a73af31b4c35f660e799aeb\", element=\"a80b8980-0ec5-4631-a873-db1dae254f62\")>,\n",
       " <selenium.webdriver.remote.webelement.WebElement (session=\"199c861a3a73af31b4c35f660e799aeb\", element=\"72fdd20f-31f1-41dd-8a32-558c066495a1\")>,\n",
       " <selenium.webdriver.remote.webelement.WebElement (session=\"199c861a3a73af31b4c35f660e799aeb\", element=\"454611ca-87cb-4c0b-9b2a-743a9a2c729d\")>,\n",
       " <selenium.webdriver.remote.webelement.WebElement (session=\"199c861a3a73af31b4c35f660e799aeb\", element=\"b3a851c5-f08d-4ab3-9735-884c4e16ea8e\")>,\n",
       " <selenium.webdriver.remote.webelement.WebElement (session=\"199c861a3a73af31b4c35f660e799aeb\", element=\"ed366e1e-ffa9-4554-8786-50512755365d\")>,\n",
       " <selenium.webdriver.remote.webelement.WebElement (session=\"199c861a3a73af31b4c35f660e799aeb\", element=\"1b47894c-0a1c-4274-a0ed-9bffc5f87cce\")>,\n",
       " <selenium.webdriver.remote.webelement.WebElement (session=\"199c861a3a73af31b4c35f660e799aeb\", element=\"4ef247b0-bc8f-4fff-bbf6-e2f3638cef8d\")>,\n",
       " <selenium.webdriver.remote.webelement.WebElement (session=\"199c861a3a73af31b4c35f660e799aeb\", element=\"03293ff6-70ae-4ba9-bae3-7caf1a5f38d2\")>,\n",
       " <selenium.webdriver.remote.webelement.WebElement (session=\"199c861a3a73af31b4c35f660e799aeb\", element=\"814ec2d4-f4c1-4d5f-aea0-d408901b9b12\")>]"
      ]
     },
     "execution_count": 197,
     "metadata": {},
     "output_type": "execute_result"
    }
   ],
   "source": [
    "review_tags8 = driver.find_elements_by_xpath(\"//p[@class='_2-N8zT']\")\n",
    "review_tags8"
   ]
  },
  {
   "cell_type": "code",
   "execution_count": 198,
   "id": "f8835fc1",
   "metadata": {},
   "outputs": [
    {
     "data": {
      "text/plain": [
       "['Good quality product',\n",
       " 'Best in the market!',\n",
       " 'Perfect product!',\n",
       " 'Awesome',\n",
       " 'Value-for-money',\n",
       " 'Just wow!',\n",
       " 'Worthless',\n",
       " 'Super!',\n",
       " 'Excellent',\n",
       " 'Nice product']"
      ]
     },
     "execution_count": 198,
     "metadata": {},
     "output_type": "execute_result"
    }
   ],
   "source": [
    "for i in review_tags8:\n",
    "    title=i.text\n",
    "    Review8.append(title)\n",
    "Review8"
   ]
  },
  {
   "cell_type": "code",
   "execution_count": 199,
   "id": "e4bae67f",
   "metadata": {},
   "outputs": [
    {
     "name": "stderr",
     "output_type": "stream",
     "text": [
      "<ipython-input-199-047bbfcc86fa>:1: DeprecationWarning: find_elements_by_* commands are deprecated. Please use find_elements() instead\n",
      "  full_tags8 =driver.find_elements_by_xpath(\"//div[@class='t-ZTKy']\")\n"
     ]
    },
    {
     "data": {
      "text/plain": [
       "[<selenium.webdriver.remote.webelement.WebElement (session=\"199c861a3a73af31b4c35f660e799aeb\", element=\"01eb9417-395a-4f2f-82fb-684fc560cee7\")>,\n",
       " <selenium.webdriver.remote.webelement.WebElement (session=\"199c861a3a73af31b4c35f660e799aeb\", element=\"c21aa838-14ca-4f3d-95c3-c5d2e32a59c5\")>,\n",
       " <selenium.webdriver.remote.webelement.WebElement (session=\"199c861a3a73af31b4c35f660e799aeb\", element=\"369e28e9-1966-4d4e-8dd3-847d2fb1d191\")>,\n",
       " <selenium.webdriver.remote.webelement.WebElement (session=\"199c861a3a73af31b4c35f660e799aeb\", element=\"9660f90d-9217-434b-93b7-ae9433d06045\")>,\n",
       " <selenium.webdriver.remote.webelement.WebElement (session=\"199c861a3a73af31b4c35f660e799aeb\", element=\"e0daf71b-47a7-4562-a2a7-e50406882479\")>,\n",
       " <selenium.webdriver.remote.webelement.WebElement (session=\"199c861a3a73af31b4c35f660e799aeb\", element=\"105d10f7-c934-4f88-bbc0-6369ae2ab40e\")>,\n",
       " <selenium.webdriver.remote.webelement.WebElement (session=\"199c861a3a73af31b4c35f660e799aeb\", element=\"4f1eaed3-6a69-4c3f-9e29-1595c15a18ce\")>,\n",
       " <selenium.webdriver.remote.webelement.WebElement (session=\"199c861a3a73af31b4c35f660e799aeb\", element=\"50b0be71-06d4-40a1-981f-7bcf0c2a7f58\")>,\n",
       " <selenium.webdriver.remote.webelement.WebElement (session=\"199c861a3a73af31b4c35f660e799aeb\", element=\"bee6ee63-5141-41aa-99c1-e5f944f835d2\")>,\n",
       " <selenium.webdriver.remote.webelement.WebElement (session=\"199c861a3a73af31b4c35f660e799aeb\", element=\"ec1df87f-3db0-4388-a115-fddc1a16ff5c\")>]"
      ]
     },
     "execution_count": 199,
     "metadata": {},
     "output_type": "execute_result"
    }
   ],
   "source": [
    "full_tags8 =driver.find_elements_by_xpath(\"//div[@class='t-ZTKy']\")\n",
    "full_tags8"
   ]
  },
  {
   "cell_type": "code",
   "execution_count": 200,
   "id": "1b57828e",
   "metadata": {},
   "outputs": [
    {
     "data": {
      "text/plain": [
       "[\"I'm switching this phone to oppo reno 10x zoom\\nIt's really impressive\\nRarely I'm missing smooth display touch response like oppo reno but\\nI really loved it.\\nCamera really impressive\",\n",
       " 'Damn this phone is a blast . Upgraded from android to ios and is a duperb experience. Battery backup is top notch and display also pretty good',\n",
       " 'Worth the money’ starting first from its performance it beats out all phones , second the smoothness of camera is awesome, contrast ratio is much than expected. Price will not matter if u r a quality person, if not other phones are available with better discount',\n",
       " 'I dreamt about this day from a long time.... Getting an iPhone with my own money.... Super happy and worth spending every penny',\n",
       " \"I'm Really happy with the product\\nDelivery was fast as well\\n..it was a gift for my sister and she loved it so much.\",\n",
       " 'Great iphone.\\nI am writing this review after 2 months of usage.\\nCamera is excellent, especially the nightmode\\nDisplay perfect\\nBattery backup awesome\\nSound quality very good\\nOverall Apple gives you a perfect iphone in this range.\\nReally in love with iPhone 11',\n",
       " \"Phone is awesome no doubt. But Camera & Display is not great. Performance is mind blowing.\\nBut the phone is heating too much when charging or when you regularly used. It's experience after using 1 week. It's heating extrem when I play PUBG for 30 minutes.\\nGo for iPhone 11 pro or 12. Otherwise go for Android phone you will get much better phone in less price.\",\n",
       " 'Did an upgrade from 6s plus to iphone 11.\\nAo far the experience is well and good. Felt smoother than 6s plus. The camera quality is superb. Battery backup is descent. Not a heavy user, and gets power more than a day. Go for it if you need an alrounder iphone in a competitve price.',\n",
       " \"It was amazing experience for me. Honestly i am using iPhone first time so I don't have that much past experience about that. But after using 7 days this mobile i want to give some honest feedback.\\n1- Display 9 out of 10\\n2- Camera 9.5 out of 10\\n3- Battery 7 out of 10\\n4- Performance 9.5 out of 10\\n5- Features & Functions 10 out of 10\\n6- Outer looks and colour 10 out of 10\\nRest i think i will understand after using this for few months.\\nI will highly recommend you guys if you have budget then you...\\nREAD MORE\",\n",
       " \"If you are looking for a premium phone under 55k, this is the one for you.Got the iPhone 11 during the Republic day sale. Performance is top notch in this price range. Camera's do a perfect job in taking good quality photos and videos. Battery backup too is satisfactory. Writing this review after using for a week. Any further observations would be updated.\"]"
      ]
     },
     "execution_count": 200,
     "metadata": {},
     "output_type": "execute_result"
    }
   ],
   "source": [
    "for i in full_tags8:\n",
    "    title=i.text\n",
    "    full_review8.append(title)\n",
    "full_review8"
   ]
  },
  {
   "cell_type": "code",
   "execution_count": 201,
   "id": "b766d3c0",
   "metadata": {},
   "outputs": [
    {
     "name": "stdout",
     "output_type": "stream",
     "text": [
      "9 10 10\n"
     ]
    }
   ],
   "source": [
    "print(len(Rating8),len(Review8),len(full_review8))\n"
   ]
  },
  {
   "cell_type": "markdown",
   "id": "f31ffbc7",
   "metadata": {},
   "source": [
    "# NEXT PAGE:-9"
   ]
  },
  {
   "cell_type": "code",
   "execution_count": 202,
   "id": "1fd0f67c",
   "metadata": {},
   "outputs": [
    {
     "name": "stderr",
     "output_type": "stream",
     "text": [
      "<ipython-input-202-ade199859b44>:1: DeprecationWarning: find_element_by_* commands are deprecated. Please use find_element() instead\n",
      "  nxt_button9 = driver.find_element_by_xpath(\"//a[@class='_1LKTO3']\")\n"
     ]
    }
   ],
   "source": [
    "nxt_button9 = driver.find_element_by_xpath(\"//a[@class='_1LKTO3']\")\n",
    "nxt_button9.click()"
   ]
  },
  {
   "cell_type": "code",
   "execution_count": 203,
   "id": "e34b5edf",
   "metadata": {},
   "outputs": [],
   "source": [
    "Rating9 =[]\n",
    "Review9 = []\n",
    "full_review9 = []"
   ]
  },
  {
   "cell_type": "code",
   "execution_count": 204,
   "id": "e0e0c5e0",
   "metadata": {},
   "outputs": [
    {
     "name": "stderr",
     "output_type": "stream",
     "text": [
      "<ipython-input-204-9afb1ba9804a>:1: DeprecationWarning: find_elements_by_* commands are deprecated. Please use find_elements() instead\n",
      "  rating_tags9 = driver.find_elements_by_xpath(\"//div[@class='_3LWZlK _1BLPMq']\")\n"
     ]
    },
    {
     "data": {
      "text/plain": [
       "[<selenium.webdriver.remote.webelement.WebElement (session=\"199c861a3a73af31b4c35f660e799aeb\", element=\"4cb9503f-4c4d-4991-9b6b-9667a9aa19d9\")>,\n",
       " <selenium.webdriver.remote.webelement.WebElement (session=\"199c861a3a73af31b4c35f660e799aeb\", element=\"cbf012eb-74cf-4559-bf69-c93de8c9a5fd\")>,\n",
       " <selenium.webdriver.remote.webelement.WebElement (session=\"199c861a3a73af31b4c35f660e799aeb\", element=\"14514964-13d9-4010-863a-59d65730dbd3\")>,\n",
       " <selenium.webdriver.remote.webelement.WebElement (session=\"199c861a3a73af31b4c35f660e799aeb\", element=\"c2e859ad-c5c8-45f4-9f8e-9539deabe3ba\")>,\n",
       " <selenium.webdriver.remote.webelement.WebElement (session=\"199c861a3a73af31b4c35f660e799aeb\", element=\"cacd8818-2bf5-4c6c-9b39-2e75492a3df2\")>,\n",
       " <selenium.webdriver.remote.webelement.WebElement (session=\"199c861a3a73af31b4c35f660e799aeb\", element=\"1206f244-9996-496d-915c-7e7e406e4ee8\")>,\n",
       " <selenium.webdriver.remote.webelement.WebElement (session=\"199c861a3a73af31b4c35f660e799aeb\", element=\"a7788278-6dbf-4447-99d8-0251590b76a2\")>,\n",
       " <selenium.webdriver.remote.webelement.WebElement (session=\"199c861a3a73af31b4c35f660e799aeb\", element=\"c4acdb1a-bca6-4e7d-80bb-fccf299e5616\")>,\n",
       " <selenium.webdriver.remote.webelement.WebElement (session=\"199c861a3a73af31b4c35f660e799aeb\", element=\"6ddc4bed-f3dd-42c8-92e6-6e56ff9dbd27\")>,\n",
       " <selenium.webdriver.remote.webelement.WebElement (session=\"199c861a3a73af31b4c35f660e799aeb\", element=\"2dbb370a-ce6d-47d1-8561-8cf50525bd30\")>]"
      ]
     },
     "execution_count": 204,
     "metadata": {},
     "output_type": "execute_result"
    }
   ],
   "source": [
    "rating_tags9 = driver.find_elements_by_xpath(\"//div[@class='_3LWZlK _1BLPMq']\")\n",
    "rating_tags9"
   ]
  },
  {
   "cell_type": "code",
   "execution_count": 205,
   "id": "16344831",
   "metadata": {},
   "outputs": [
    {
     "data": {
      "text/plain": [
       "['5', '5', '5', '5', '5', '5', '5', '5', '5', '5']"
      ]
     },
     "execution_count": 205,
     "metadata": {},
     "output_type": "execute_result"
    }
   ],
   "source": [
    "for i in rating_tags9:\n",
    "    title=i.text\n",
    "    Rating9.append(title)\n",
    "Rating9"
   ]
  },
  {
   "cell_type": "code",
   "execution_count": 206,
   "id": "c253037f",
   "metadata": {},
   "outputs": [
    {
     "name": "stderr",
     "output_type": "stream",
     "text": [
      "<ipython-input-206-e24c88a25256>:1: DeprecationWarning: find_elements_by_* commands are deprecated. Please use find_elements() instead\n",
      "  review_tags9 = driver.find_elements_by_xpath(\"//p[@class='_2-N8zT']\")\n"
     ]
    },
    {
     "data": {
      "text/plain": [
       "[<selenium.webdriver.remote.webelement.WebElement (session=\"199c861a3a73af31b4c35f660e799aeb\", element=\"436115f6-10f0-48ac-a364-af7d4d164169\")>,\n",
       " <selenium.webdriver.remote.webelement.WebElement (session=\"199c861a3a73af31b4c35f660e799aeb\", element=\"74fccc4d-e978-47e1-a61b-b474ff05f07f\")>,\n",
       " <selenium.webdriver.remote.webelement.WebElement (session=\"199c861a3a73af31b4c35f660e799aeb\", element=\"e9ffa138-36aa-4618-847a-b2acce6ad93a\")>,\n",
       " <selenium.webdriver.remote.webelement.WebElement (session=\"199c861a3a73af31b4c35f660e799aeb\", element=\"cc2cd5db-3c3e-4db4-9055-82d7ce68e05d\")>,\n",
       " <selenium.webdriver.remote.webelement.WebElement (session=\"199c861a3a73af31b4c35f660e799aeb\", element=\"d2922c56-951e-428f-98aa-473f21615998\")>,\n",
       " <selenium.webdriver.remote.webelement.WebElement (session=\"199c861a3a73af31b4c35f660e799aeb\", element=\"58fe2340-e101-4a47-ace1-f13a3a720dea\")>,\n",
       " <selenium.webdriver.remote.webelement.WebElement (session=\"199c861a3a73af31b4c35f660e799aeb\", element=\"b93afaae-6007-44c5-a47f-fe3b94012ab6\")>,\n",
       " <selenium.webdriver.remote.webelement.WebElement (session=\"199c861a3a73af31b4c35f660e799aeb\", element=\"3e35a042-3f1b-4aeb-b283-315cd481d675\")>,\n",
       " <selenium.webdriver.remote.webelement.WebElement (session=\"199c861a3a73af31b4c35f660e799aeb\", element=\"39807050-714d-4d9c-851e-8ae1b39c3704\")>,\n",
       " <selenium.webdriver.remote.webelement.WebElement (session=\"199c861a3a73af31b4c35f660e799aeb\", element=\"08f2e2d1-e788-4e5c-8879-e276a80121a3\")>]"
      ]
     },
     "execution_count": 206,
     "metadata": {},
     "output_type": "execute_result"
    }
   ],
   "source": [
    "review_tags9 = driver.find_elements_by_xpath(\"//p[@class='_2-N8zT']\")\n",
    "review_tags9"
   ]
  },
  {
   "cell_type": "code",
   "execution_count": 207,
   "id": "5c2e36ad",
   "metadata": {},
   "outputs": [
    {
     "data": {
      "text/plain": [
       "['Mind-blowing purchase',\n",
       " 'Wonderful',\n",
       " 'Highly recommended',\n",
       " 'Classy product',\n",
       " 'Terrific',\n",
       " 'Excellent',\n",
       " 'Mind-blowing purchase',\n",
       " 'Mind-blowing purchase',\n",
       " 'Excellent',\n",
       " 'Worth every penny']"
      ]
     },
     "execution_count": 207,
     "metadata": {},
     "output_type": "execute_result"
    }
   ],
   "source": [
    "for i in review_tags9:\n",
    "    title=i.text\n",
    "    Review9.append(title)\n",
    "Review9"
   ]
  },
  {
   "cell_type": "code",
   "execution_count": 208,
   "id": "6b0090c8",
   "metadata": {},
   "outputs": [
    {
     "name": "stderr",
     "output_type": "stream",
     "text": [
      "<ipython-input-208-5e9f07a442ef>:1: DeprecationWarning: find_elements_by_* commands are deprecated. Please use find_elements() instead\n",
      "  full_tags9 =driver.find_elements_by_xpath(\"//div[@class='t-ZTKy']\")\n"
     ]
    },
    {
     "data": {
      "text/plain": [
       "[<selenium.webdriver.remote.webelement.WebElement (session=\"199c861a3a73af31b4c35f660e799aeb\", element=\"4035e591-09de-4943-9dda-98bd3551a23b\")>,\n",
       " <selenium.webdriver.remote.webelement.WebElement (session=\"199c861a3a73af31b4c35f660e799aeb\", element=\"2ef92620-6af3-4942-be5e-16e971459f54\")>,\n",
       " <selenium.webdriver.remote.webelement.WebElement (session=\"199c861a3a73af31b4c35f660e799aeb\", element=\"e2480ef0-fecd-4937-a860-b6b4c5306cab\")>,\n",
       " <selenium.webdriver.remote.webelement.WebElement (session=\"199c861a3a73af31b4c35f660e799aeb\", element=\"ba797ba2-ad42-40c1-aed1-561596216b80\")>,\n",
       " <selenium.webdriver.remote.webelement.WebElement (session=\"199c861a3a73af31b4c35f660e799aeb\", element=\"02025983-7421-43f8-889b-a7393431ad1a\")>,\n",
       " <selenium.webdriver.remote.webelement.WebElement (session=\"199c861a3a73af31b4c35f660e799aeb\", element=\"b2181af3-ad37-4f71-80e3-e069f379f831\")>,\n",
       " <selenium.webdriver.remote.webelement.WebElement (session=\"199c861a3a73af31b4c35f660e799aeb\", element=\"f0fd1014-fda4-42be-be42-bd7e00db7dea\")>,\n",
       " <selenium.webdriver.remote.webelement.WebElement (session=\"199c861a3a73af31b4c35f660e799aeb\", element=\"1a5621b0-0796-4130-a3af-5923f575380b\")>,\n",
       " <selenium.webdriver.remote.webelement.WebElement (session=\"199c861a3a73af31b4c35f660e799aeb\", element=\"f9b3d7d3-43e6-489f-95b7-fc8956a424d4\")>,\n",
       " <selenium.webdriver.remote.webelement.WebElement (session=\"199c861a3a73af31b4c35f660e799aeb\", element=\"1868a010-abda-47f3-ab68-ae29820ad11a\")>]"
      ]
     },
     "execution_count": 208,
     "metadata": {},
     "output_type": "execute_result"
    }
   ],
   "source": [
    "full_tags9 =driver.find_elements_by_xpath(\"//div[@class='t-ZTKy']\")\n",
    "full_tags9"
   ]
  },
  {
   "cell_type": "code",
   "execution_count": 209,
   "id": "e6faf0cc",
   "metadata": {},
   "outputs": [
    {
     "data": {
      "text/plain": [
       "['awesome Phone Smooth Touch Too good Sexyy looks one word Awesome',\n",
       " 'Super and marvellous phone look very cute and nice sound. I love this phone i think white is good colur.Excellent camer 5*😍😘♥️♥️',\n",
       " 'Thanks Flipkart For this amazing deal! I had a dream of owning a iphone since i had known about.\\nIm very happy with my purchase & it is totally worth it.\\nAmazing experience all over !!\\n\\nAnyone who’s thinking of buying it in 2021, i would simply say go for it without any second thoughts ❤️',\n",
       " 'Gifted my man on his 30th birthday 🎂 He loves it.. Him happy so i am more than happy 😍😘❤️🥰',\n",
       " 'I bought iPhone 11 On March 2021, And I am Writing this review after using the phone for 4 Months. I would Say Everything is fine, Top Performance, Nice Camera as Anyone would Expect from any series of iPhone but when the Question comes to Battery it is complicated. The Battery is fully optimised and it comes 3110 mAh capacity but the problem is with the charger. Honestly Apple Removed charger from in Box items in the name of Environment and they are also forcing us to buy any 20W PD 3rd part...\\nREAD MORE',\n",
       " \"Just go for it.\\nThis phone is really amazing. I ordered it for my wife and we click photos on this thing which are better than dslr. I own OnePlus 6t but it's camera sucks. iPhone is really amazing when it comes to camera. It's worth spending 50k on this. Cons- only display is lcd. While using u don't feel it but if u compare with other phone then u can see difference quite easily.\\nChanging from Android to iphone is bit difficult coz most of things u don't know but I liked it. Some of the a...\\nREAD MORE\",\n",
       " 'Absolutely powerful gadget. Loved it’s look! Soo glassy and classy. I would definitely recommend this model of Apple. Only disappointed with the 5W charger, one should purchase an 18W adapter for fast charging. Though battery backup is great. Bought it in September 2020, reviewing after so long so I’m gonna put the genuine review here.✅',\n",
       " 'Excellent camera 📸 And Display touching very Nice And Smooth and very improvement against\\nI phone 11 and new processor is very fast',\n",
       " 'A perfect phone and a good battery super camera and the sound is dynamic overall the phone is perfect for upgrading from lower iPhone model to iPhone 11',\n",
       " 'Undoubtedly Iphone 11 is the most successful model till now and its performance is extraordinary and the security features are very impressive, display is more vibrant sound quality Camera Quality 5*****, but Iphone should add accessories too and act like scrooge.']"
      ]
     },
     "execution_count": 209,
     "metadata": {},
     "output_type": "execute_result"
    }
   ],
   "source": [
    "for i in full_tags9:\n",
    "    title=i.text\n",
    "    full_review9.append(title)\n",
    "full_review9"
   ]
  },
  {
   "cell_type": "code",
   "execution_count": null,
   "id": "6e60f391",
   "metadata": {},
   "outputs": [],
   "source": []
  },
  {
   "cell_type": "code",
   "execution_count": 210,
   "id": "138e2e4c",
   "metadata": {},
   "outputs": [
    {
     "name": "stdout",
     "output_type": "stream",
     "text": [
      "10 10 10\n"
     ]
    }
   ],
   "source": [
    "print(len(Rating9),len(Review9),len(full_review9))"
   ]
  },
  {
   "cell_type": "markdown",
   "id": "9abe74e8",
   "metadata": {},
   "source": [
    "# NOW JOINING ALL LIST:"
   ]
  },
  {
   "cell_type": "code",
   "execution_count": 218,
   "id": "7d19fc5c",
   "metadata": {},
   "outputs": [],
   "source": [
    "RATINGS = Rating+Rating1+Rating2+Rating3+Rating4+Rating5+Rating6+Rating7+Rating8+Rating9+Rating10\n",
    "REVIEW = Review+Review1+Review2+Review3+Review4+Review5+Review6+Review7+Review8+Review9\n",
    "FULL_REVIEW = full_review+full_review1+full_review2+full_review3+full_review4+full_review5+full_review6+full_review7+full_review8+full_review9"
   ]
  },
  {
   "cell_type": "code",
   "execution_count": 219,
   "id": "00ac7269",
   "metadata": {},
   "outputs": [
    {
     "name": "stdout",
     "output_type": "stream",
     "text": [
      "100 100 100\n"
     ]
    }
   ],
   "source": [
    "print(len(RATINGS),len(REVIEW),len(FULL_REVIEW))"
   ]
  },
  {
   "cell_type": "markdown",
   "id": "7e9d3a8d",
   "metadata": {},
   "source": [
    "# CREATING DATAFRAME:"
   ]
  },
  {
   "cell_type": "code",
   "execution_count": 220,
   "id": "4848a81a",
   "metadata": {},
   "outputs": [],
   "source": [
    "review_data = pd.DataFrame({'RATINGS':RATINGS,'REVIEW':REVIEW,'FULL_REVIEW':FULL_REVIEW})"
   ]
  },
  {
   "cell_type": "code",
   "execution_count": 221,
   "id": "bdd45dca",
   "metadata": {},
   "outputs": [
    {
     "data": {
      "text/html": [
       "<div>\n",
       "<style scoped>\n",
       "    .dataframe tbody tr th:only-of-type {\n",
       "        vertical-align: middle;\n",
       "    }\n",
       "\n",
       "    .dataframe tbody tr th {\n",
       "        vertical-align: top;\n",
       "    }\n",
       "\n",
       "    .dataframe thead th {\n",
       "        text-align: right;\n",
       "    }\n",
       "</style>\n",
       "<table border=\"1\" class=\"dataframe\">\n",
       "  <thead>\n",
       "    <tr style=\"text-align: right;\">\n",
       "      <th></th>\n",
       "      <th>RATINGS</th>\n",
       "      <th>REVIEW</th>\n",
       "      <th>FULL_REVIEW</th>\n",
       "    </tr>\n",
       "  </thead>\n",
       "  <tbody>\n",
       "    <tr>\n",
       "      <th>0</th>\n",
       "      <td>5</td>\n",
       "      <td>Brilliant</td>\n",
       "      <td>The Best Phone for the Money\\n\\nThe iPhone 11 ...</td>\n",
       "    </tr>\n",
       "    <tr>\n",
       "      <th>1</th>\n",
       "      <td>5</td>\n",
       "      <td>Simply awesome</td>\n",
       "      <td>Really satisfied with the Product I received.....</td>\n",
       "    </tr>\n",
       "    <tr>\n",
       "      <th>2</th>\n",
       "      <td>5</td>\n",
       "      <td>Best in the market!</td>\n",
       "      <td>Great iPhone very snappy experience as apple k...</td>\n",
       "    </tr>\n",
       "    <tr>\n",
       "      <th>3</th>\n",
       "      <td></td>\n",
       "      <td></td>\n",
       "      <td></td>\n",
       "    </tr>\n",
       "    <tr>\n",
       "      <th>4</th>\n",
       "      <td></td>\n",
       "      <td></td>\n",
       "      <td></td>\n",
       "    </tr>\n",
       "    <tr>\n",
       "      <th>...</th>\n",
       "      <td>...</td>\n",
       "      <td>...</td>\n",
       "      <td>...</td>\n",
       "    </tr>\n",
       "    <tr>\n",
       "      <th>95</th>\n",
       "      <td>5</td>\n",
       "      <td>Excellent</td>\n",
       "      <td>Just go for it.\\nThis phone is really amazing....</td>\n",
       "    </tr>\n",
       "    <tr>\n",
       "      <th>96</th>\n",
       "      <td>5</td>\n",
       "      <td>Mind-blowing purchase</td>\n",
       "      <td>Absolutely powerful gadget. Loved it’s look! S...</td>\n",
       "    </tr>\n",
       "    <tr>\n",
       "      <th>97</th>\n",
       "      <td>5</td>\n",
       "      <td>Mind-blowing purchase</td>\n",
       "      <td>Excellent camera 📸 And Display touching very N...</td>\n",
       "    </tr>\n",
       "    <tr>\n",
       "      <th>98</th>\n",
       "      <td>5</td>\n",
       "      <td>Excellent</td>\n",
       "      <td>A perfect phone and a good battery super camer...</td>\n",
       "    </tr>\n",
       "    <tr>\n",
       "      <th>99</th>\n",
       "      <td>4</td>\n",
       "      <td>Worth every penny</td>\n",
       "      <td>Undoubtedly Iphone 11 is the most successful m...</td>\n",
       "    </tr>\n",
       "  </tbody>\n",
       "</table>\n",
       "<p>100 rows × 3 columns</p>\n",
       "</div>"
      ],
      "text/plain": [
       "   RATINGS                 REVIEW  \\\n",
       "0        5              Brilliant   \n",
       "1        5         Simply awesome   \n",
       "2        5    Best in the market!   \n",
       "3                                   \n",
       "4                                   \n",
       "..     ...                    ...   \n",
       "95       5              Excellent   \n",
       "96       5  Mind-blowing purchase   \n",
       "97       5  Mind-blowing purchase   \n",
       "98       5              Excellent   \n",
       "99       4      Worth every penny   \n",
       "\n",
       "                                          FULL_REVIEW  \n",
       "0   The Best Phone for the Money\\n\\nThe iPhone 11 ...  \n",
       "1   Really satisfied with the Product I received.....  \n",
       "2   Great iPhone very snappy experience as apple k...  \n",
       "3                                                      \n",
       "4                                                      \n",
       "..                                                ...  \n",
       "95  Just go for it.\\nThis phone is really amazing....  \n",
       "96  Absolutely powerful gadget. Loved it’s look! S...  \n",
       "97  Excellent camera 📸 And Display touching very N...  \n",
       "98  A perfect phone and a good battery super camer...  \n",
       "99  Undoubtedly Iphone 11 is the most successful m...  \n",
       "\n",
       "[100 rows x 3 columns]"
      ]
     },
     "execution_count": 221,
     "metadata": {},
     "output_type": "execute_result"
    }
   ],
   "source": [
    "review_data"
   ]
  },
  {
   "cell_type": "code",
   "execution_count": 222,
   "id": "82d79936",
   "metadata": {},
   "outputs": [],
   "source": [
    "#driver.close()"
   ]
  },
  {
   "cell_type": "markdown",
   "id": "9b3122ad",
   "metadata": {},
   "source": [
    "# Scrape data for first 100 sneakers from flipkart.com"
   ]
  },
  {
   "cell_type": "code",
   "execution_count": 223,
   "id": "6db4178e",
   "metadata": {},
   "outputs": [
    {
     "name": "stderr",
     "output_type": "stream",
     "text": [
      "<ipython-input-223-151ce781a031>:1: DeprecationWarning: executable_path has been deprecated, please pass in a Service object\n",
      "  driver = webdriver.Chrome(r\"C:\\Users\\shaha\\Downloads\\chromedriver_win32/chromedriver.exe\")\n"
     ]
    }
   ],
   "source": [
    "driver = webdriver.Chrome(r\"C:\\Users\\shaha\\Downloads\\chromedriver_win32/chromedriver.exe\")"
   ]
  },
  {
   "cell_type": "code",
   "execution_count": 224,
   "id": "0817a826",
   "metadata": {},
   "outputs": [],
   "source": [
    "url=(\"https://www.flipkart.com/\")"
   ]
  },
  {
   "cell_type": "code",
   "execution_count": 225,
   "id": "b2d926d8",
   "metadata": {},
   "outputs": [],
   "source": [
    "driver.get(url)"
   ]
  },
  {
   "cell_type": "code",
   "execution_count": 226,
   "id": "79bc646e",
   "metadata": {},
   "outputs": [
    {
     "name": "stderr",
     "output_type": "stream",
     "text": [
      "<ipython-input-226-0941bf6a5874>:1: DeprecationWarning: find_element_by_* commands are deprecated. Please use find_element() instead\n",
      "  search = driver.find_element_by_xpath(\"//input[@class='_3704LK']\")\n"
     ]
    }
   ],
   "source": [
    "search = driver.find_element_by_xpath(\"//input[@class='_3704LK']\")\n",
    "search.send_keys(\"sneakers\")"
   ]
  },
  {
   "cell_type": "code",
   "execution_count": 227,
   "id": "f0a70353",
   "metadata": {},
   "outputs": [
    {
     "name": "stderr",
     "output_type": "stream",
     "text": [
      "<ipython-input-227-8e9136c8a371>:1: DeprecationWarning: find_element_by_* commands are deprecated. Please use find_element() instead\n",
      "  nxt_button = driver.find_element_by_xpath(\"//button[@class='L0Z3Pu']\")\n"
     ]
    }
   ],
   "source": [
    "nxt_button = driver.find_element_by_xpath(\"//button[@class='L0Z3Pu']\")\n",
    "nxt_button.click()"
   ]
  },
  {
   "cell_type": "markdown",
   "id": "09565e6a",
   "metadata": {},
   "source": [
    "making empty list:"
   ]
  },
  {
   "cell_type": "code",
   "execution_count": 228,
   "id": "210bb991",
   "metadata": {},
   "outputs": [],
   "source": [
    "brand1 = []\n",
    "description1 =[]\n",
    "price1 = []\n",
    "discount1 =[]"
   ]
  },
  {
   "cell_type": "markdown",
   "id": "21d4c9d0",
   "metadata": {},
   "source": [
    "# Now scraping data for each features:"
   ]
  },
  {
   "cell_type": "code",
   "execution_count": 229,
   "id": "6bac8cbf",
   "metadata": {},
   "outputs": [
    {
     "name": "stderr",
     "output_type": "stream",
     "text": [
      "<ipython-input-229-86308359c951>:1: DeprecationWarning: find_elements_by_* commands are deprecated. Please use find_elements() instead\n",
      "  brand_tag = driver.find_elements_by_xpath(\"//div[@class='_2WkVRV']\")\n"
     ]
    },
    {
     "data": {
      "text/plain": [
       "[<selenium.webdriver.remote.webelement.WebElement (session=\"8e955d8c46267d169dc7bb2227002222\", element=\"46503ed6-8ff2-46b6-a58f-124f4ee0d73d\")>,\n",
       " <selenium.webdriver.remote.webelement.WebElement (session=\"8e955d8c46267d169dc7bb2227002222\", element=\"fd422e23-1265-4588-8cbc-cabf892ef27d\")>,\n",
       " <selenium.webdriver.remote.webelement.WebElement (session=\"8e955d8c46267d169dc7bb2227002222\", element=\"3758ea09-6683-462a-9159-9ff17e2d3ebf\")>,\n",
       " <selenium.webdriver.remote.webelement.WebElement (session=\"8e955d8c46267d169dc7bb2227002222\", element=\"e59cb986-96fe-47ce-b036-8bf17074e55d\")>,\n",
       " <selenium.webdriver.remote.webelement.WebElement (session=\"8e955d8c46267d169dc7bb2227002222\", element=\"5b8825c2-d7b2-430a-b762-34b167442deb\")>,\n",
       " <selenium.webdriver.remote.webelement.WebElement (session=\"8e955d8c46267d169dc7bb2227002222\", element=\"15c2621d-0bdc-4505-8f19-fe4e034e7840\")>,\n",
       " <selenium.webdriver.remote.webelement.WebElement (session=\"8e955d8c46267d169dc7bb2227002222\", element=\"674be8d7-943b-45fc-b666-4c1a8fa86f3c\")>,\n",
       " <selenium.webdriver.remote.webelement.WebElement (session=\"8e955d8c46267d169dc7bb2227002222\", element=\"1b25e30d-8c8f-4e4f-8b3e-6ab97f60feb5\")>,\n",
       " <selenium.webdriver.remote.webelement.WebElement (session=\"8e955d8c46267d169dc7bb2227002222\", element=\"a8acb146-bb3e-470d-98e7-8c750026514d\")>,\n",
       " <selenium.webdriver.remote.webelement.WebElement (session=\"8e955d8c46267d169dc7bb2227002222\", element=\"07c05b61-b4b7-49ba-8747-a99a920332db\")>,\n",
       " <selenium.webdriver.remote.webelement.WebElement (session=\"8e955d8c46267d169dc7bb2227002222\", element=\"31773f0b-43cc-4b16-a2b7-6f74b70324a7\")>,\n",
       " <selenium.webdriver.remote.webelement.WebElement (session=\"8e955d8c46267d169dc7bb2227002222\", element=\"5dc13b5f-5287-48c6-980b-c34403fe2eec\")>,\n",
       " <selenium.webdriver.remote.webelement.WebElement (session=\"8e955d8c46267d169dc7bb2227002222\", element=\"0447690e-169a-404f-9d5b-355bd2bc6ac8\")>,\n",
       " <selenium.webdriver.remote.webelement.WebElement (session=\"8e955d8c46267d169dc7bb2227002222\", element=\"26cbd0f8-4d6b-47c7-8757-f6520804cfe8\")>,\n",
       " <selenium.webdriver.remote.webelement.WebElement (session=\"8e955d8c46267d169dc7bb2227002222\", element=\"37b8320b-3f1c-49db-9c23-0b083da8e3d7\")>,\n",
       " <selenium.webdriver.remote.webelement.WebElement (session=\"8e955d8c46267d169dc7bb2227002222\", element=\"9d1e8a10-6cc7-48ef-abb9-5efb4b6479ee\")>,\n",
       " <selenium.webdriver.remote.webelement.WebElement (session=\"8e955d8c46267d169dc7bb2227002222\", element=\"c55b9dcd-a413-4b12-a19f-1c981afe026c\")>,\n",
       " <selenium.webdriver.remote.webelement.WebElement (session=\"8e955d8c46267d169dc7bb2227002222\", element=\"0db26605-068a-400f-a0b2-bd7ce69a7bf9\")>,\n",
       " <selenium.webdriver.remote.webelement.WebElement (session=\"8e955d8c46267d169dc7bb2227002222\", element=\"037e9b89-4c33-47a5-b1a1-5f8e0aef740d\")>,\n",
       " <selenium.webdriver.remote.webelement.WebElement (session=\"8e955d8c46267d169dc7bb2227002222\", element=\"5eab5384-eea1-4266-9235-a4ac6157d706\")>,\n",
       " <selenium.webdriver.remote.webelement.WebElement (session=\"8e955d8c46267d169dc7bb2227002222\", element=\"29db0008-d955-4f5b-94cf-45e16f03f3f9\")>,\n",
       " <selenium.webdriver.remote.webelement.WebElement (session=\"8e955d8c46267d169dc7bb2227002222\", element=\"9d79a0c9-4ebc-4557-89d0-1b979778a41d\")>,\n",
       " <selenium.webdriver.remote.webelement.WebElement (session=\"8e955d8c46267d169dc7bb2227002222\", element=\"d5503407-c232-405b-a1a3-d1d3041b76b9\")>,\n",
       " <selenium.webdriver.remote.webelement.WebElement (session=\"8e955d8c46267d169dc7bb2227002222\", element=\"9dc2251e-e03e-4c52-a71d-3a73c28c16c4\")>,\n",
       " <selenium.webdriver.remote.webelement.WebElement (session=\"8e955d8c46267d169dc7bb2227002222\", element=\"d29fd94e-c974-4508-8ec6-dfccc8c7a1fc\")>,\n",
       " <selenium.webdriver.remote.webelement.WebElement (session=\"8e955d8c46267d169dc7bb2227002222\", element=\"fb7b38b2-dd72-4eec-912b-ede035ecd2a0\")>,\n",
       " <selenium.webdriver.remote.webelement.WebElement (session=\"8e955d8c46267d169dc7bb2227002222\", element=\"ae8f4a54-6058-4bc8-82d5-f27d56177487\")>,\n",
       " <selenium.webdriver.remote.webelement.WebElement (session=\"8e955d8c46267d169dc7bb2227002222\", element=\"974eba9a-d697-40a5-928a-bf96d5bea9bc\")>,\n",
       " <selenium.webdriver.remote.webelement.WebElement (session=\"8e955d8c46267d169dc7bb2227002222\", element=\"d5c27e0d-0188-4b1a-b3be-b2c33b1e53e4\")>,\n",
       " <selenium.webdriver.remote.webelement.WebElement (session=\"8e955d8c46267d169dc7bb2227002222\", element=\"14d20ab8-64db-42ff-b6d5-b1176fd30994\")>,\n",
       " <selenium.webdriver.remote.webelement.WebElement (session=\"8e955d8c46267d169dc7bb2227002222\", element=\"a0041325-9b21-4aab-bf0c-77edc4e8708c\")>,\n",
       " <selenium.webdriver.remote.webelement.WebElement (session=\"8e955d8c46267d169dc7bb2227002222\", element=\"c2fcc29b-d578-49c5-a973-77bbc0687a2b\")>,\n",
       " <selenium.webdriver.remote.webelement.WebElement (session=\"8e955d8c46267d169dc7bb2227002222\", element=\"c767b238-cb3d-40d8-ab94-d47dce578a74\")>,\n",
       " <selenium.webdriver.remote.webelement.WebElement (session=\"8e955d8c46267d169dc7bb2227002222\", element=\"9b2ccad9-b61a-4512-8b60-20eb8a40691f\")>,\n",
       " <selenium.webdriver.remote.webelement.WebElement (session=\"8e955d8c46267d169dc7bb2227002222\", element=\"967ac5a0-1ce8-4c8c-a5ee-a72ca32e5cdd\")>,\n",
       " <selenium.webdriver.remote.webelement.WebElement (session=\"8e955d8c46267d169dc7bb2227002222\", element=\"34863237-606a-494e-922e-68d7a10b91d2\")>,\n",
       " <selenium.webdriver.remote.webelement.WebElement (session=\"8e955d8c46267d169dc7bb2227002222\", element=\"9fddbd86-3650-4285-988c-94b95a6084fe\")>,\n",
       " <selenium.webdriver.remote.webelement.WebElement (session=\"8e955d8c46267d169dc7bb2227002222\", element=\"11cea4fd-71e6-4815-ad16-3ed80c33adf3\")>,\n",
       " <selenium.webdriver.remote.webelement.WebElement (session=\"8e955d8c46267d169dc7bb2227002222\", element=\"169f8db6-bd29-497b-82f7-eb1a8529b6cf\")>,\n",
       " <selenium.webdriver.remote.webelement.WebElement (session=\"8e955d8c46267d169dc7bb2227002222\", element=\"29e0c412-52fb-4c05-a2fc-b2ee27670c3f\")>]"
      ]
     },
     "execution_count": 229,
     "metadata": {},
     "output_type": "execute_result"
    }
   ],
   "source": [
    "brand_tag = driver.find_elements_by_xpath(\"//div[@class='_2WkVRV']\")\n",
    "brand_tag"
   ]
  },
  {
   "cell_type": "code",
   "execution_count": 230,
   "id": "8ec2e717",
   "metadata": {},
   "outputs": [
    {
     "data": {
      "text/plain": [
       "['BRUTON',\n",
       " 'URBANBOX',\n",
       " 'BIRDE',\n",
       " 'Edoeviv',\n",
       " 'Numenzo',\n",
       " 'T-ROCK',\n",
       " 'Magnolia',\n",
       " 'Numenzo',\n",
       " 'ganpati traders',\n",
       " 'Shoes Bank',\n",
       " 'Rzisbo',\n",
       " 'Kraasa',\n",
       " 'Chevit',\n",
       " 'BIRDE',\n",
       " 'Trendmode',\n",
       " 'SCATCHITE',\n",
       " 'BRUTON',\n",
       " 'Robbie jones',\n",
       " 'Clymb',\n",
       " 'Numenzo',\n",
       " 'Robbie jones',\n",
       " 'RapidBox',\n",
       " 'D-SNEAKERZ',\n",
       " 'PACIFIER',\n",
       " 'BIRDE',\n",
       " 'URBANBOX',\n",
       " 'Chevit',\n",
       " 'Chevit',\n",
       " 'BIRDE',\n",
       " 'ASTEROID',\n",
       " 'BIRDE',\n",
       " 'Chevit',\n",
       " 'BIRDE',\n",
       " 'PUMA',\n",
       " 'Zsyto',\n",
       " 'RapidBox',\n",
       " 'Absolute comfort',\n",
       " 'RODDICK SHOES',\n",
       " 'ASIAN',\n",
       " 'Clymb']"
      ]
     },
     "execution_count": 230,
     "metadata": {},
     "output_type": "execute_result"
    }
   ],
   "source": [
    "for i in brand_tag:\n",
    "    title=i.text\n",
    "    brand1.append(title)\n",
    "brand1"
   ]
  },
  {
   "cell_type": "code",
   "execution_count": 231,
   "id": "f5a62c5a",
   "metadata": {},
   "outputs": [
    {
     "name": "stderr",
     "output_type": "stream",
     "text": [
      "<ipython-input-231-472525a937dc>:1: DeprecationWarning: find_elements_by_* commands are deprecated. Please use find_elements() instead\n",
      "  des_tag = driver.find_elements_by_xpath(\"//div[@class='_2B099V']/a[1]\")\n"
     ]
    },
    {
     "data": {
      "text/plain": [
       "[<selenium.webdriver.remote.webelement.WebElement (session=\"8e955d8c46267d169dc7bb2227002222\", element=\"d3f4ddc8-2e03-4194-9471-ef58c91ba06f\")>,\n",
       " <selenium.webdriver.remote.webelement.WebElement (session=\"8e955d8c46267d169dc7bb2227002222\", element=\"09b231ad-8b92-4ecf-9c99-7018ac7c3775\")>,\n",
       " <selenium.webdriver.remote.webelement.WebElement (session=\"8e955d8c46267d169dc7bb2227002222\", element=\"b9d7efa3-0f94-46d3-93ef-fb56bad5e28e\")>,\n",
       " <selenium.webdriver.remote.webelement.WebElement (session=\"8e955d8c46267d169dc7bb2227002222\", element=\"4f454ae2-51e8-4e83-a42a-c178337a1b9f\")>,\n",
       " <selenium.webdriver.remote.webelement.WebElement (session=\"8e955d8c46267d169dc7bb2227002222\", element=\"67f9d1d8-ca98-4e5d-8269-61aa5bc413b0\")>,\n",
       " <selenium.webdriver.remote.webelement.WebElement (session=\"8e955d8c46267d169dc7bb2227002222\", element=\"b2345ea0-a3b7-49b8-8485-ebcf20fa191c\")>,\n",
       " <selenium.webdriver.remote.webelement.WebElement (session=\"8e955d8c46267d169dc7bb2227002222\", element=\"7dc03e70-da25-483a-bdf5-5f1e7663725f\")>,\n",
       " <selenium.webdriver.remote.webelement.WebElement (session=\"8e955d8c46267d169dc7bb2227002222\", element=\"d0b0c922-f29c-4044-b5c5-66f8454540fb\")>,\n",
       " <selenium.webdriver.remote.webelement.WebElement (session=\"8e955d8c46267d169dc7bb2227002222\", element=\"8eb72af1-68ac-4b61-b726-582a66197cd4\")>,\n",
       " <selenium.webdriver.remote.webelement.WebElement (session=\"8e955d8c46267d169dc7bb2227002222\", element=\"c3e9ee20-b550-4c56-bd0c-ba1dda4a6843\")>,\n",
       " <selenium.webdriver.remote.webelement.WebElement (session=\"8e955d8c46267d169dc7bb2227002222\", element=\"bc757344-b7d5-479c-8d0c-746c19c3322e\")>,\n",
       " <selenium.webdriver.remote.webelement.WebElement (session=\"8e955d8c46267d169dc7bb2227002222\", element=\"7a8f1234-7680-4780-8189-8148bf883c21\")>,\n",
       " <selenium.webdriver.remote.webelement.WebElement (session=\"8e955d8c46267d169dc7bb2227002222\", element=\"ac3eafdb-8e4b-4cbf-b6f2-7a339fbe04aa\")>,\n",
       " <selenium.webdriver.remote.webelement.WebElement (session=\"8e955d8c46267d169dc7bb2227002222\", element=\"5f8ec11e-c035-42ac-b8b1-440129c78192\")>,\n",
       " <selenium.webdriver.remote.webelement.WebElement (session=\"8e955d8c46267d169dc7bb2227002222\", element=\"38b659fa-388a-4f76-b97d-2e1af8fd395f\")>,\n",
       " <selenium.webdriver.remote.webelement.WebElement (session=\"8e955d8c46267d169dc7bb2227002222\", element=\"48821b07-7144-41c2-b38b-f6a2a08486da\")>,\n",
       " <selenium.webdriver.remote.webelement.WebElement (session=\"8e955d8c46267d169dc7bb2227002222\", element=\"47550cf4-441c-42cf-a6e7-0692d83f59a4\")>,\n",
       " <selenium.webdriver.remote.webelement.WebElement (session=\"8e955d8c46267d169dc7bb2227002222\", element=\"176152a1-1be3-4574-8c5e-e69630e834ff\")>,\n",
       " <selenium.webdriver.remote.webelement.WebElement (session=\"8e955d8c46267d169dc7bb2227002222\", element=\"c02785ee-ba3a-440e-ae80-52566f59ece0\")>,\n",
       " <selenium.webdriver.remote.webelement.WebElement (session=\"8e955d8c46267d169dc7bb2227002222\", element=\"7fed675f-9a68-4578-beb9-1482e5f5b30c\")>,\n",
       " <selenium.webdriver.remote.webelement.WebElement (session=\"8e955d8c46267d169dc7bb2227002222\", element=\"003844f9-2816-477b-8794-f2ec9b7827d1\")>,\n",
       " <selenium.webdriver.remote.webelement.WebElement (session=\"8e955d8c46267d169dc7bb2227002222\", element=\"995b8123-c0d1-4282-a88c-973a8ba2136b\")>,\n",
       " <selenium.webdriver.remote.webelement.WebElement (session=\"8e955d8c46267d169dc7bb2227002222\", element=\"67c6773a-0640-4a0e-b022-1eaf28f15357\")>,\n",
       " <selenium.webdriver.remote.webelement.WebElement (session=\"8e955d8c46267d169dc7bb2227002222\", element=\"38acf8dd-a841-4ef4-94c8-b8d834e10904\")>,\n",
       " <selenium.webdriver.remote.webelement.WebElement (session=\"8e955d8c46267d169dc7bb2227002222\", element=\"75e6baab-9ded-497a-9459-c1be8f79fc79\")>,\n",
       " <selenium.webdriver.remote.webelement.WebElement (session=\"8e955d8c46267d169dc7bb2227002222\", element=\"810f3c2d-1f69-40e9-ae5e-bf94c16b1396\")>,\n",
       " <selenium.webdriver.remote.webelement.WebElement (session=\"8e955d8c46267d169dc7bb2227002222\", element=\"d79b0487-770d-4dda-86a6-6a2c2f084b11\")>,\n",
       " <selenium.webdriver.remote.webelement.WebElement (session=\"8e955d8c46267d169dc7bb2227002222\", element=\"85b82d59-a65c-4ea6-86c8-a3f48b97d8a3\")>,\n",
       " <selenium.webdriver.remote.webelement.WebElement (session=\"8e955d8c46267d169dc7bb2227002222\", element=\"5f66f9d8-c8b7-40b4-9eda-24a9af1902d9\")>,\n",
       " <selenium.webdriver.remote.webelement.WebElement (session=\"8e955d8c46267d169dc7bb2227002222\", element=\"1fc34344-455a-46bf-ad17-0c0d7e322dc9\")>,\n",
       " <selenium.webdriver.remote.webelement.WebElement (session=\"8e955d8c46267d169dc7bb2227002222\", element=\"488e7415-0645-4dae-9be4-7e84fc183e8c\")>,\n",
       " <selenium.webdriver.remote.webelement.WebElement (session=\"8e955d8c46267d169dc7bb2227002222\", element=\"d2c1830d-57a4-412d-ba30-23cb4c60d2f7\")>,\n",
       " <selenium.webdriver.remote.webelement.WebElement (session=\"8e955d8c46267d169dc7bb2227002222\", element=\"21b05f36-2319-40c1-8837-301b637df8f0\")>,\n",
       " <selenium.webdriver.remote.webelement.WebElement (session=\"8e955d8c46267d169dc7bb2227002222\", element=\"b027e16b-bcb8-4245-9ffc-989283d70bf0\")>,\n",
       " <selenium.webdriver.remote.webelement.WebElement (session=\"8e955d8c46267d169dc7bb2227002222\", element=\"fa1eccff-9fe9-4388-9a9a-2b1741d0d85a\")>,\n",
       " <selenium.webdriver.remote.webelement.WebElement (session=\"8e955d8c46267d169dc7bb2227002222\", element=\"c1ed0abb-51da-4dee-aded-362ed55defb9\")>,\n",
       " <selenium.webdriver.remote.webelement.WebElement (session=\"8e955d8c46267d169dc7bb2227002222\", element=\"093d8af0-8893-47b6-b774-d4b113188ce8\")>,\n",
       " <selenium.webdriver.remote.webelement.WebElement (session=\"8e955d8c46267d169dc7bb2227002222\", element=\"8ce4bd20-66bf-4cab-875a-69d21ee60f96\")>,\n",
       " <selenium.webdriver.remote.webelement.WebElement (session=\"8e955d8c46267d169dc7bb2227002222\", element=\"71ef9821-0913-448a-a07a-458e2d459647\")>,\n",
       " <selenium.webdriver.remote.webelement.WebElement (session=\"8e955d8c46267d169dc7bb2227002222\", element=\"4b501fca-ace7-449e-ba6a-320456128898\")>]"
      ]
     },
     "execution_count": 231,
     "metadata": {},
     "output_type": "execute_result"
    }
   ],
   "source": [
    "des_tag = driver.find_elements_by_xpath(\"//div[@class='_2B099V']/a[1]\")\n",
    "des_tag[0:40]"
   ]
  },
  {
   "cell_type": "code",
   "execution_count": 232,
   "id": "837fa37c",
   "metadata": {},
   "outputs": [
    {
     "data": {
      "text/plain": [
       "['Modern Trendy Sneakers Shoes Sneakers For Men',\n",
       " 'Sneakers Sneakers For Men',\n",
       " 'Sports Running Shoes Sneakers For Men',\n",
       " \"Luxury Branded Fashionable Men's Casual Walking Partywe...\",\n",
       " 'White Sneaker For Men Sneakers For Men',\n",
       " 'Synthetic Leather Casual Partywear Wedding Sneakers Sho...',\n",
       " 'Sneakers For Men',\n",
       " '411 Casual Sneakers For Men',\n",
       " 'Sneakers For Men',\n",
       " \"White Sneaker For Men's/Boy's Sneakers For Men\",\n",
       " 'Sneakers For Men',\n",
       " 'Shark-41 Sneakers For Men',\n",
       " 'Super Stylish & Trendy Combo Pack of 02 Pairs Sneakers ...',\n",
       " 'Combo Pack of 2 Casual Shoes Sneakers For Men',\n",
       " 'Sneakers For Men',\n",
       " 'Sneakers Sneakers For Men',\n",
       " 'Lattest Sneakers Shoe Sneakers For Men',\n",
       " 'Casual Sneakers Black Shoes For Men Sneakers For Men',\n",
       " 'Sneakers For Men',\n",
       " 'Numenzo Black Sneaker For Men Sneakers For Men',\n",
       " 'Sneakers For Men',\n",
       " 'Sneakers For Men',\n",
       " \"Casual , Partywear Sneakers Shoes For Men's And Boys Wh...\",\n",
       " 'Sneakers For Men',\n",
       " 'Combo Pack of 2 Casual Shoes Sneakers For Men',\n",
       " 'STYLISH-WHITE-9 Sneakers For Men',\n",
       " 'Unique & Perfect Collection Combo Pack of 02 Shoes for ...',\n",
       " 'Combo Pack of 4 Casual Sneakers With Sneakers For Men',\n",
       " 'Birde Trendy Casual Shoes Sneakers For Men',\n",
       " \"Original Luxury Branded Fashionable Men's Casual Walkin...\",\n",
       " 'Casual Shoes Sneakers For Men',\n",
       " '516 Trendy Star Perfect Sneakers For Men',\n",
       " 'Sneakers For Men',\n",
       " 'Speeder DP Sneakers For Men',\n",
       " 'Sneakers For Men',\n",
       " 'Sneakers For Men',\n",
       " 'SOFT Sneakers For Men',\n",
       " 'Fashion Outdoor Canvas Casual Light Weight Lace-up Even...',\n",
       " 'Skypy-31 Walking Shoes,Training Shoes,Sneakers,Loafers,...',\n",
       " 'Mesh Sports/Walking Shoes/Outdoor Ultra Lightweight Run...']"
      ]
     },
     "execution_count": 232,
     "metadata": {},
     "output_type": "execute_result"
    }
   ],
   "source": [
    "for i in des_tag:\n",
    "    title=i.text\n",
    "    description1.append(title)\n",
    "description1[0:40]"
   ]
  },
  {
   "cell_type": "code",
   "execution_count": 233,
   "id": "98fe664c",
   "metadata": {},
   "outputs": [
    {
     "name": "stderr",
     "output_type": "stream",
     "text": [
      "<ipython-input-233-3b1385d701f4>:1: DeprecationWarning: find_elements_by_* commands are deprecated. Please use find_elements() instead\n",
      "  price_tag = driver.find_elements_by_xpath(\"//div[@class='_30jeq3']\")\n"
     ]
    },
    {
     "data": {
      "text/plain": [
       "[<selenium.webdriver.remote.webelement.WebElement (session=\"8e955d8c46267d169dc7bb2227002222\", element=\"af059bfb-721d-4769-9ca0-fc1c2ab5ceac\")>,\n",
       " <selenium.webdriver.remote.webelement.WebElement (session=\"8e955d8c46267d169dc7bb2227002222\", element=\"4eeabc9d-fd18-4f0a-aed8-b527ef38674f\")>,\n",
       " <selenium.webdriver.remote.webelement.WebElement (session=\"8e955d8c46267d169dc7bb2227002222\", element=\"a3f4c0db-c9b2-4b02-8d27-17330bdf9910\")>,\n",
       " <selenium.webdriver.remote.webelement.WebElement (session=\"8e955d8c46267d169dc7bb2227002222\", element=\"5be7b389-a9d8-4d34-bc0f-aab598f631c4\")>,\n",
       " <selenium.webdriver.remote.webelement.WebElement (session=\"8e955d8c46267d169dc7bb2227002222\", element=\"c731fe2c-2ac2-415f-9507-d582115a3b00\")>,\n",
       " <selenium.webdriver.remote.webelement.WebElement (session=\"8e955d8c46267d169dc7bb2227002222\", element=\"11c7cd34-decd-45e5-857c-156e629d267e\")>,\n",
       " <selenium.webdriver.remote.webelement.WebElement (session=\"8e955d8c46267d169dc7bb2227002222\", element=\"6b5e6218-f464-46a4-abe7-600e7b58faee\")>,\n",
       " <selenium.webdriver.remote.webelement.WebElement (session=\"8e955d8c46267d169dc7bb2227002222\", element=\"a9cd9a6f-56db-4eee-8646-50b15918f121\")>,\n",
       " <selenium.webdriver.remote.webelement.WebElement (session=\"8e955d8c46267d169dc7bb2227002222\", element=\"aadfafde-03f0-4789-a0d5-ad0af7ca5dc8\")>,\n",
       " <selenium.webdriver.remote.webelement.WebElement (session=\"8e955d8c46267d169dc7bb2227002222\", element=\"6228cbf0-0597-4ef0-bbe2-f26995480b9c\")>,\n",
       " <selenium.webdriver.remote.webelement.WebElement (session=\"8e955d8c46267d169dc7bb2227002222\", element=\"f14f035d-abd1-495b-b38e-11033e0325bb\")>,\n",
       " <selenium.webdriver.remote.webelement.WebElement (session=\"8e955d8c46267d169dc7bb2227002222\", element=\"f0f36b7f-dbb2-4602-89cb-92c760a46a05\")>,\n",
       " <selenium.webdriver.remote.webelement.WebElement (session=\"8e955d8c46267d169dc7bb2227002222\", element=\"80a786cd-c4ee-4161-a033-07dec578d7d0\")>,\n",
       " <selenium.webdriver.remote.webelement.WebElement (session=\"8e955d8c46267d169dc7bb2227002222\", element=\"85e484b6-b914-4ad2-89f1-9e50624dd375\")>,\n",
       " <selenium.webdriver.remote.webelement.WebElement (session=\"8e955d8c46267d169dc7bb2227002222\", element=\"b9022cb0-7a57-4dac-87c3-3f7e9500f336\")>,\n",
       " <selenium.webdriver.remote.webelement.WebElement (session=\"8e955d8c46267d169dc7bb2227002222\", element=\"6ac9c69c-ceed-4b2f-90a9-60221c62cf56\")>,\n",
       " <selenium.webdriver.remote.webelement.WebElement (session=\"8e955d8c46267d169dc7bb2227002222\", element=\"00164cb5-d1fb-4424-b3ef-f9ef1420ad2e\")>,\n",
       " <selenium.webdriver.remote.webelement.WebElement (session=\"8e955d8c46267d169dc7bb2227002222\", element=\"5db8b3ed-2d10-4c0d-a355-cf56b1793042\")>,\n",
       " <selenium.webdriver.remote.webelement.WebElement (session=\"8e955d8c46267d169dc7bb2227002222\", element=\"88e500aa-b153-4e19-8c79-3088e3afc98a\")>,\n",
       " <selenium.webdriver.remote.webelement.WebElement (session=\"8e955d8c46267d169dc7bb2227002222\", element=\"2a821922-f0f3-454b-8b40-cc576c5eefb9\")>,\n",
       " <selenium.webdriver.remote.webelement.WebElement (session=\"8e955d8c46267d169dc7bb2227002222\", element=\"212a1be0-1f04-4a99-a893-84be115fc6c7\")>,\n",
       " <selenium.webdriver.remote.webelement.WebElement (session=\"8e955d8c46267d169dc7bb2227002222\", element=\"270e7fe4-1b91-45fd-b725-6d6ffdeebb68\")>,\n",
       " <selenium.webdriver.remote.webelement.WebElement (session=\"8e955d8c46267d169dc7bb2227002222\", element=\"7601b542-2193-40c4-a5fc-7bf375000bf5\")>,\n",
       " <selenium.webdriver.remote.webelement.WebElement (session=\"8e955d8c46267d169dc7bb2227002222\", element=\"f868ef27-0188-4ac0-b326-f861d4dc36f7\")>,\n",
       " <selenium.webdriver.remote.webelement.WebElement (session=\"8e955d8c46267d169dc7bb2227002222\", element=\"136d8b0f-3aec-4216-a971-5ab5eb9c8dd7\")>,\n",
       " <selenium.webdriver.remote.webelement.WebElement (session=\"8e955d8c46267d169dc7bb2227002222\", element=\"2fa828a9-de94-44ec-ad9d-7df1ff560f06\")>,\n",
       " <selenium.webdriver.remote.webelement.WebElement (session=\"8e955d8c46267d169dc7bb2227002222\", element=\"cd2be7af-88cd-41f4-bdc6-fb3725288564\")>,\n",
       " <selenium.webdriver.remote.webelement.WebElement (session=\"8e955d8c46267d169dc7bb2227002222\", element=\"1bc86756-9365-4125-9505-d7b65e15bc1f\")>,\n",
       " <selenium.webdriver.remote.webelement.WebElement (session=\"8e955d8c46267d169dc7bb2227002222\", element=\"5e4e664d-82b7-403b-a8de-32994bc1b6f9\")>,\n",
       " <selenium.webdriver.remote.webelement.WebElement (session=\"8e955d8c46267d169dc7bb2227002222\", element=\"e6c12fa1-5d02-4ce4-a74e-56bee503fecd\")>,\n",
       " <selenium.webdriver.remote.webelement.WebElement (session=\"8e955d8c46267d169dc7bb2227002222\", element=\"6ba18103-82ff-4eee-86d9-eb45bad96c1a\")>,\n",
       " <selenium.webdriver.remote.webelement.WebElement (session=\"8e955d8c46267d169dc7bb2227002222\", element=\"bf9f2df3-6f38-4204-a223-0a7c217e1e58\")>,\n",
       " <selenium.webdriver.remote.webelement.WebElement (session=\"8e955d8c46267d169dc7bb2227002222\", element=\"4a372bc7-1a3a-4c27-85b3-fddd76dd009d\")>,\n",
       " <selenium.webdriver.remote.webelement.WebElement (session=\"8e955d8c46267d169dc7bb2227002222\", element=\"d2a338ff-421f-4957-8b81-7cbf6998fd18\")>,\n",
       " <selenium.webdriver.remote.webelement.WebElement (session=\"8e955d8c46267d169dc7bb2227002222\", element=\"0d0de7a5-901c-4ab5-aeb0-7ab3e58081ba\")>,\n",
       " <selenium.webdriver.remote.webelement.WebElement (session=\"8e955d8c46267d169dc7bb2227002222\", element=\"06675618-aede-42fd-bac8-cdc6e917e42e\")>,\n",
       " <selenium.webdriver.remote.webelement.WebElement (session=\"8e955d8c46267d169dc7bb2227002222\", element=\"0d93597f-4a72-4053-a3f7-cf1dac43d61d\")>,\n",
       " <selenium.webdriver.remote.webelement.WebElement (session=\"8e955d8c46267d169dc7bb2227002222\", element=\"981c3c36-aaac-45f3-9144-fda6db119bce\")>,\n",
       " <selenium.webdriver.remote.webelement.WebElement (session=\"8e955d8c46267d169dc7bb2227002222\", element=\"acc85a8f-0705-48a8-a6f3-336b5e0aaa2d\")>,\n",
       " <selenium.webdriver.remote.webelement.WebElement (session=\"8e955d8c46267d169dc7bb2227002222\", element=\"40a42d51-3504-4beb-867f-9bd21419febb\")>]"
      ]
     },
     "execution_count": 233,
     "metadata": {},
     "output_type": "execute_result"
    }
   ],
   "source": [
    "price_tag = driver.find_elements_by_xpath(\"//div[@class='_30jeq3']\")\n",
    "price_tag"
   ]
  },
  {
   "cell_type": "code",
   "execution_count": 234,
   "id": "83c096bf",
   "metadata": {},
   "outputs": [
    {
     "data": {
      "text/plain": [
       "['₹299',\n",
       " '₹247',\n",
       " '₹299',\n",
       " '₹499',\n",
       " '₹479',\n",
       " '₹379',\n",
       " '₹398',\n",
       " '₹499',\n",
       " '₹183',\n",
       " '₹331',\n",
       " '₹549',\n",
       " '₹444',\n",
       " '₹625',\n",
       " '₹422',\n",
       " '₹249',\n",
       " '₹398',\n",
       " '₹299',\n",
       " '₹451',\n",
       " '₹649',\n",
       " '₹499',\n",
       " '₹474',\n",
       " '₹680',\n",
       " '₹348',\n",
       " '₹499',\n",
       " '₹423',\n",
       " '₹220',\n",
       " '₹509',\n",
       " '₹769',\n",
       " '₹299',\n",
       " '₹474',\n",
       " '₹311',\n",
       " '₹299',\n",
       " '₹509',\n",
       " '₹1,799',\n",
       " '₹418',\n",
       " '₹630',\n",
       " '₹199',\n",
       " '₹499',\n",
       " '₹439',\n",
       " '₹259']"
      ]
     },
     "execution_count": 234,
     "metadata": {},
     "output_type": "execute_result"
    }
   ],
   "source": [
    "for i in price_tag:\n",
    "    title=i.text\n",
    "    price1.append(title)\n",
    "price1"
   ]
  },
  {
   "cell_type": "code",
   "execution_count": 235,
   "id": "325be509",
   "metadata": {},
   "outputs": [
    {
     "name": "stderr",
     "output_type": "stream",
     "text": [
      "<ipython-input-235-5811dba51653>:1: DeprecationWarning: find_elements_by_* commands are deprecated. Please use find_elements() instead\n",
      "  dis_tags = driver.find_elements_by_xpath(\"//div[@class='_3Ay6Sb']\")\n"
     ]
    },
    {
     "data": {
      "text/plain": [
       "[<selenium.webdriver.remote.webelement.WebElement (session=\"8e955d8c46267d169dc7bb2227002222\", element=\"e24ef449-b9bf-4f94-9acf-20865d8d8c33\")>,\n",
       " <selenium.webdriver.remote.webelement.WebElement (session=\"8e955d8c46267d169dc7bb2227002222\", element=\"287b4a8a-7493-436a-82a5-2e02e58556c1\")>,\n",
       " <selenium.webdriver.remote.webelement.WebElement (session=\"8e955d8c46267d169dc7bb2227002222\", element=\"f2255d1c-1f38-4041-950f-e6006fac03a1\")>,\n",
       " <selenium.webdriver.remote.webelement.WebElement (session=\"8e955d8c46267d169dc7bb2227002222\", element=\"edb6ebad-0f0d-4162-8eac-ae22cb4ede93\")>,\n",
       " <selenium.webdriver.remote.webelement.WebElement (session=\"8e955d8c46267d169dc7bb2227002222\", element=\"492b02dc-d0eb-41aa-a102-cb17cf76abf3\")>,\n",
       " <selenium.webdriver.remote.webelement.WebElement (session=\"8e955d8c46267d169dc7bb2227002222\", element=\"2b0ed2c1-a3f0-4d5f-a26c-20202b8538e7\")>,\n",
       " <selenium.webdriver.remote.webelement.WebElement (session=\"8e955d8c46267d169dc7bb2227002222\", element=\"cb644104-13c4-4763-9293-5d73daf5b309\")>,\n",
       " <selenium.webdriver.remote.webelement.WebElement (session=\"8e955d8c46267d169dc7bb2227002222\", element=\"435ca816-fffe-45eb-8fdc-9d439bde58b6\")>,\n",
       " <selenium.webdriver.remote.webelement.WebElement (session=\"8e955d8c46267d169dc7bb2227002222\", element=\"dbb03639-0202-4305-99f5-14ee2eb55504\")>,\n",
       " <selenium.webdriver.remote.webelement.WebElement (session=\"8e955d8c46267d169dc7bb2227002222\", element=\"d4e97933-99b7-4989-acf1-2bb902e56714\")>,\n",
       " <selenium.webdriver.remote.webelement.WebElement (session=\"8e955d8c46267d169dc7bb2227002222\", element=\"416f88a1-1798-422a-86a6-7f52e6cf388b\")>,\n",
       " <selenium.webdriver.remote.webelement.WebElement (session=\"8e955d8c46267d169dc7bb2227002222\", element=\"915697ba-9e46-445e-acc3-39b6fec90130\")>,\n",
       " <selenium.webdriver.remote.webelement.WebElement (session=\"8e955d8c46267d169dc7bb2227002222\", element=\"894e3bd0-4618-4d73-9f38-9d637cd7643d\")>,\n",
       " <selenium.webdriver.remote.webelement.WebElement (session=\"8e955d8c46267d169dc7bb2227002222\", element=\"cd4b0959-3824-4755-8d60-52f2802068ee\")>,\n",
       " <selenium.webdriver.remote.webelement.WebElement (session=\"8e955d8c46267d169dc7bb2227002222\", element=\"a370e84f-dcbb-4df2-b757-589769b13f17\")>,\n",
       " <selenium.webdriver.remote.webelement.WebElement (session=\"8e955d8c46267d169dc7bb2227002222\", element=\"954ef704-d5a2-4493-9478-f56c07a3f05b\")>,\n",
       " <selenium.webdriver.remote.webelement.WebElement (session=\"8e955d8c46267d169dc7bb2227002222\", element=\"c5426d01-74a2-474e-b358-f95dcca2fdf7\")>,\n",
       " <selenium.webdriver.remote.webelement.WebElement (session=\"8e955d8c46267d169dc7bb2227002222\", element=\"570c3f9e-a830-46e8-a647-fa4f4a121a58\")>,\n",
       " <selenium.webdriver.remote.webelement.WebElement (session=\"8e955d8c46267d169dc7bb2227002222\", element=\"ee64dcd2-1815-49fa-bcd7-b9f0949a58db\")>,\n",
       " <selenium.webdriver.remote.webelement.WebElement (session=\"8e955d8c46267d169dc7bb2227002222\", element=\"be79699f-ccee-4cb2-bb42-f5b49512b130\")>,\n",
       " <selenium.webdriver.remote.webelement.WebElement (session=\"8e955d8c46267d169dc7bb2227002222\", element=\"c9eee1a1-347e-4421-b342-6af6b62da43b\")>,\n",
       " <selenium.webdriver.remote.webelement.WebElement (session=\"8e955d8c46267d169dc7bb2227002222\", element=\"04c51f5d-9742-4ccf-a7af-58fc0d9482dd\")>,\n",
       " <selenium.webdriver.remote.webelement.WebElement (session=\"8e955d8c46267d169dc7bb2227002222\", element=\"ed91582b-be6a-4784-88b3-351ba5cde8d9\")>,\n",
       " <selenium.webdriver.remote.webelement.WebElement (session=\"8e955d8c46267d169dc7bb2227002222\", element=\"482ab4d5-088f-47d6-b32b-6221bf456e6c\")>,\n",
       " <selenium.webdriver.remote.webelement.WebElement (session=\"8e955d8c46267d169dc7bb2227002222\", element=\"e2aab4c1-8960-488a-8c83-955ee538e3d9\")>,\n",
       " <selenium.webdriver.remote.webelement.WebElement (session=\"8e955d8c46267d169dc7bb2227002222\", element=\"5cab359d-104a-4dfb-94c5-ec602e2f960f\")>,\n",
       " <selenium.webdriver.remote.webelement.WebElement (session=\"8e955d8c46267d169dc7bb2227002222\", element=\"1cab4842-5360-4ebb-b72e-d0eb26378b7f\")>,\n",
       " <selenium.webdriver.remote.webelement.WebElement (session=\"8e955d8c46267d169dc7bb2227002222\", element=\"c87570fa-644c-4abc-9afd-2342caf54bec\")>,\n",
       " <selenium.webdriver.remote.webelement.WebElement (session=\"8e955d8c46267d169dc7bb2227002222\", element=\"e1e5c920-89af-46dd-a002-ea8bd96d5462\")>,\n",
       " <selenium.webdriver.remote.webelement.WebElement (session=\"8e955d8c46267d169dc7bb2227002222\", element=\"d47e0791-370a-4f04-8b71-6dbd502e8626\")>,\n",
       " <selenium.webdriver.remote.webelement.WebElement (session=\"8e955d8c46267d169dc7bb2227002222\", element=\"7a753658-1299-46fb-bd0b-526676ba9943\")>,\n",
       " <selenium.webdriver.remote.webelement.WebElement (session=\"8e955d8c46267d169dc7bb2227002222\", element=\"2122bd6c-dd28-4a5c-bd0d-20454f39298e\")>,\n",
       " <selenium.webdriver.remote.webelement.WebElement (session=\"8e955d8c46267d169dc7bb2227002222\", element=\"a4b3367f-3f35-4636-a85b-23b7e370c81e\")>,\n",
       " <selenium.webdriver.remote.webelement.WebElement (session=\"8e955d8c46267d169dc7bb2227002222\", element=\"65942d19-9e2c-45e2-92e2-34b594fd8ac4\")>,\n",
       " <selenium.webdriver.remote.webelement.WebElement (session=\"8e955d8c46267d169dc7bb2227002222\", element=\"4e6ef3bb-fd3f-4bee-97d0-405329edd99f\")>,\n",
       " <selenium.webdriver.remote.webelement.WebElement (session=\"8e955d8c46267d169dc7bb2227002222\", element=\"fb0578a6-e3f3-452c-a942-c46244afe3e7\")>,\n",
       " <selenium.webdriver.remote.webelement.WebElement (session=\"8e955d8c46267d169dc7bb2227002222\", element=\"3dfee9dd-d9fb-4054-aff4-da7afc7363dc\")>,\n",
       " <selenium.webdriver.remote.webelement.WebElement (session=\"8e955d8c46267d169dc7bb2227002222\", element=\"c7f18eb5-fc18-46a0-9308-dd5131bb1584\")>,\n",
       " <selenium.webdriver.remote.webelement.WebElement (session=\"8e955d8c46267d169dc7bb2227002222\", element=\"33457a83-ccc7-4ca9-9deb-667595b58aa8\")>,\n",
       " <selenium.webdriver.remote.webelement.WebElement (session=\"8e955d8c46267d169dc7bb2227002222\", element=\"87715ee3-9149-42fb-9263-54a8f6f962f9\")>]"
      ]
     },
     "execution_count": 235,
     "metadata": {},
     "output_type": "execute_result"
    }
   ],
   "source": [
    "dis_tags = driver.find_elements_by_xpath(\"//div[@class='_3Ay6Sb']\")\n",
    "dis_tags[0:40]"
   ]
  },
  {
   "cell_type": "code",
   "execution_count": 236,
   "id": "3dbf6551",
   "metadata": {},
   "outputs": [
    {
     "data": {
      "text/plain": [
       "['76% off',\n",
       " '75% off',\n",
       " '40% off',\n",
       " '37% off',\n",
       " '63% off',\n",
       " '62% off',\n",
       " '60% off',\n",
       " '75% off',\n",
       " '63% off',\n",
       " '66% off',\n",
       " '45% off',\n",
       " '55% off',\n",
       " '60% off',\n",
       " '57% off',\n",
       " '75% off',\n",
       " '60% off',\n",
       " '76% off',\n",
       " '54% off',\n",
       " '56% off',\n",
       " '61% off',\n",
       " '52% off',\n",
       " '31% off',\n",
       " '47% off',\n",
       " '57% off',\n",
       " '57% off',\n",
       " '55% off',\n",
       " '66% off',\n",
       " '61% off',\n",
       " '40% off',\n",
       " '76% off',\n",
       " '68% off',\n",
       " '62% off',\n",
       " '48% off',\n",
       " '40% off',\n",
       " '58% off',\n",
       " '36% off',\n",
       " '60% off',\n",
       " '50% off',\n",
       " '45% off',\n",
       " '74% off']"
      ]
     },
     "execution_count": 236,
     "metadata": {},
     "output_type": "execute_result"
    }
   ],
   "source": [
    "for i in dis_tags:\n",
    "    title=i.text\n",
    "    discount1.append(title)\n",
    "discount1[0:40]"
   ]
  },
  {
   "cell_type": "code",
   "execution_count": 237,
   "id": "87afa3b0",
   "metadata": {},
   "outputs": [
    {
     "name": "stdout",
     "output_type": "stream",
     "text": [
      "40 40 40 40\n"
     ]
    }
   ],
   "source": [
    "print(len(brand1),len(description1),len(price1),len(discount1))"
   ]
  },
  {
   "cell_type": "markdown",
   "id": "3b4d4ffb",
   "metadata": {},
   "source": [
    "# NEXT PAGE:-1"
   ]
  },
  {
   "cell_type": "code",
   "execution_count": 238,
   "id": "3aa1e2a5",
   "metadata": {},
   "outputs": [
    {
     "name": "stderr",
     "output_type": "stream",
     "text": [
      "<ipython-input-238-553ce9a040c4>:1: DeprecationWarning: find_element_by_* commands are deprecated. Please use find_element() instead\n",
      "  nxt_button = driver.find_element_by_xpath(\"//a[@class='_1LKTO3']/span[1]\")\n"
     ]
    }
   ],
   "source": [
    "nxt_button = driver.find_element_by_xpath(\"//a[@class='_1LKTO3']/span[1]\")\n",
    "nxt_button.click()"
   ]
  },
  {
   "cell_type": "markdown",
   "id": "e125c8d8",
   "metadata": {},
   "source": [
    "making empty list:"
   ]
  },
  {
   "cell_type": "code",
   "execution_count": 239,
   "id": "6f32e07e",
   "metadata": {},
   "outputs": [],
   "source": [
    "brand2 = []\n",
    "description2 =[]\n",
    "price2 = []\n",
    "discount2 = []"
   ]
  },
  {
   "cell_type": "code",
   "execution_count": 240,
   "id": "45643e10",
   "metadata": {},
   "outputs": [
    {
     "name": "stderr",
     "output_type": "stream",
     "text": [
      "<ipython-input-240-008c00ee524f>:1: DeprecationWarning: find_elements_by_* commands are deprecated. Please use find_elements() instead\n",
      "  brand_tag2 = driver.find_elements_by_xpath(\"//div[@class='_2WkVRV']\")\n"
     ]
    },
    {
     "data": {
      "text/plain": [
       "[<selenium.webdriver.remote.webelement.WebElement (session=\"8e955d8c46267d169dc7bb2227002222\", element=\"79d9ee8f-6ef6-4110-8ba1-85e93e594cc6\")>,\n",
       " <selenium.webdriver.remote.webelement.WebElement (session=\"8e955d8c46267d169dc7bb2227002222\", element=\"6d9e7ec9-f526-42e3-bc0e-7fc4cc79b480\")>,\n",
       " <selenium.webdriver.remote.webelement.WebElement (session=\"8e955d8c46267d169dc7bb2227002222\", element=\"66b8943f-58b7-4294-8589-bf422391b628\")>,\n",
       " <selenium.webdriver.remote.webelement.WebElement (session=\"8e955d8c46267d169dc7bb2227002222\", element=\"366a2e7d-8c40-4129-9eef-1749e16b7583\")>,\n",
       " <selenium.webdriver.remote.webelement.WebElement (session=\"8e955d8c46267d169dc7bb2227002222\", element=\"69ef4fab-4f9c-49f9-a26c-039d51a7ab19\")>,\n",
       " <selenium.webdriver.remote.webelement.WebElement (session=\"8e955d8c46267d169dc7bb2227002222\", element=\"c877f2c0-b7a7-4867-a5e1-9f8b720d2530\")>,\n",
       " <selenium.webdriver.remote.webelement.WebElement (session=\"8e955d8c46267d169dc7bb2227002222\", element=\"b4ba30bd-0159-49c7-a568-b4ca2d6f2e5a\")>,\n",
       " <selenium.webdriver.remote.webelement.WebElement (session=\"8e955d8c46267d169dc7bb2227002222\", element=\"ea022e8b-e6d3-4298-93d0-f1dbc08fbe58\")>,\n",
       " <selenium.webdriver.remote.webelement.WebElement (session=\"8e955d8c46267d169dc7bb2227002222\", element=\"6cc98624-1f85-4796-ac11-fe8de58f4818\")>,\n",
       " <selenium.webdriver.remote.webelement.WebElement (session=\"8e955d8c46267d169dc7bb2227002222\", element=\"283bbd8e-c869-40ad-b74d-b47ea80d97e5\")>,\n",
       " <selenium.webdriver.remote.webelement.WebElement (session=\"8e955d8c46267d169dc7bb2227002222\", element=\"705c3e0f-e9ec-46a9-bf6c-b369d9d6f78b\")>,\n",
       " <selenium.webdriver.remote.webelement.WebElement (session=\"8e955d8c46267d169dc7bb2227002222\", element=\"0ee15148-c010-4ded-ad2c-32e69858e6c1\")>,\n",
       " <selenium.webdriver.remote.webelement.WebElement (session=\"8e955d8c46267d169dc7bb2227002222\", element=\"288e7173-8d57-4c80-af00-9bd9940663b2\")>,\n",
       " <selenium.webdriver.remote.webelement.WebElement (session=\"8e955d8c46267d169dc7bb2227002222\", element=\"5e0e6744-90cb-4810-a8c1-0884004e0b3c\")>,\n",
       " <selenium.webdriver.remote.webelement.WebElement (session=\"8e955d8c46267d169dc7bb2227002222\", element=\"bfb4c0cc-fba1-4cc5-83ee-979ba6ef9674\")>,\n",
       " <selenium.webdriver.remote.webelement.WebElement (session=\"8e955d8c46267d169dc7bb2227002222\", element=\"2e19fd50-1402-44d2-9d6a-4f55d2f9fef1\")>,\n",
       " <selenium.webdriver.remote.webelement.WebElement (session=\"8e955d8c46267d169dc7bb2227002222\", element=\"1902ff18-5baa-49f8-b787-a5381fa09c8c\")>,\n",
       " <selenium.webdriver.remote.webelement.WebElement (session=\"8e955d8c46267d169dc7bb2227002222\", element=\"3ea38818-940d-4881-abfc-59bb25237ea0\")>,\n",
       " <selenium.webdriver.remote.webelement.WebElement (session=\"8e955d8c46267d169dc7bb2227002222\", element=\"0de352c8-e0b8-4713-809f-426b0c29b96c\")>,\n",
       " <selenium.webdriver.remote.webelement.WebElement (session=\"8e955d8c46267d169dc7bb2227002222\", element=\"9462a784-f4ea-44a9-bcbf-ae4164104a0f\")>,\n",
       " <selenium.webdriver.remote.webelement.WebElement (session=\"8e955d8c46267d169dc7bb2227002222\", element=\"04310605-6b47-4013-b1c4-d42d5973adf3\")>,\n",
       " <selenium.webdriver.remote.webelement.WebElement (session=\"8e955d8c46267d169dc7bb2227002222\", element=\"8711c2e6-df0e-4b36-9157-15c0186ab0eb\")>,\n",
       " <selenium.webdriver.remote.webelement.WebElement (session=\"8e955d8c46267d169dc7bb2227002222\", element=\"190a1ea2-5d0d-42c9-a7f7-31feb12b158b\")>,\n",
       " <selenium.webdriver.remote.webelement.WebElement (session=\"8e955d8c46267d169dc7bb2227002222\", element=\"17d211bc-c485-4488-b018-8058f6e13ceb\")>,\n",
       " <selenium.webdriver.remote.webelement.WebElement (session=\"8e955d8c46267d169dc7bb2227002222\", element=\"ebeaaba8-6c2b-47d8-8703-6fe8ee48d2cc\")>,\n",
       " <selenium.webdriver.remote.webelement.WebElement (session=\"8e955d8c46267d169dc7bb2227002222\", element=\"525a85b1-d710-42c6-a291-2d72e26af98a\")>,\n",
       " <selenium.webdriver.remote.webelement.WebElement (session=\"8e955d8c46267d169dc7bb2227002222\", element=\"c5b6c4c2-1eeb-4783-b99c-6a18c36c3b26\")>,\n",
       " <selenium.webdriver.remote.webelement.WebElement (session=\"8e955d8c46267d169dc7bb2227002222\", element=\"5471ed6c-c09e-42b8-b7ee-9f13cef1f950\")>,\n",
       " <selenium.webdriver.remote.webelement.WebElement (session=\"8e955d8c46267d169dc7bb2227002222\", element=\"15577a50-c593-4231-9af2-d0b2a9bcb7c1\")>,\n",
       " <selenium.webdriver.remote.webelement.WebElement (session=\"8e955d8c46267d169dc7bb2227002222\", element=\"dc758642-33bb-4222-90db-4a0e2904911a\")>,\n",
       " <selenium.webdriver.remote.webelement.WebElement (session=\"8e955d8c46267d169dc7bb2227002222\", element=\"e1bbf2d9-dc3a-4ff5-b6b6-69f8cf5206e3\")>,\n",
       " <selenium.webdriver.remote.webelement.WebElement (session=\"8e955d8c46267d169dc7bb2227002222\", element=\"cfe52200-2e87-4ab1-be24-35a6b88f0423\")>,\n",
       " <selenium.webdriver.remote.webelement.WebElement (session=\"8e955d8c46267d169dc7bb2227002222\", element=\"6ffc8720-9686-422e-a229-4bc64e6698cf\")>,\n",
       " <selenium.webdriver.remote.webelement.WebElement (session=\"8e955d8c46267d169dc7bb2227002222\", element=\"91503db8-2791-4966-b0dc-c70637eba700\")>,\n",
       " <selenium.webdriver.remote.webelement.WebElement (session=\"8e955d8c46267d169dc7bb2227002222\", element=\"8f21c6f6-87cd-4f32-90ed-910a1108c335\")>,\n",
       " <selenium.webdriver.remote.webelement.WebElement (session=\"8e955d8c46267d169dc7bb2227002222\", element=\"8581dbfe-933a-469c-bf09-94dfd7fa7256\")>,\n",
       " <selenium.webdriver.remote.webelement.WebElement (session=\"8e955d8c46267d169dc7bb2227002222\", element=\"fca5b59a-26a9-4b23-9ef5-aeb1954dd7e6\")>,\n",
       " <selenium.webdriver.remote.webelement.WebElement (session=\"8e955d8c46267d169dc7bb2227002222\", element=\"38d40b7d-0ad2-404e-b7d0-2a9eee850daf\")>,\n",
       " <selenium.webdriver.remote.webelement.WebElement (session=\"8e955d8c46267d169dc7bb2227002222\", element=\"25e3332e-4540-48c9-9e55-77069ccda8c4\")>,\n",
       " <selenium.webdriver.remote.webelement.WebElement (session=\"8e955d8c46267d169dc7bb2227002222\", element=\"6f93784f-e6de-498f-8f20-5eabcf8f7f92\")>]"
      ]
     },
     "execution_count": 240,
     "metadata": {},
     "output_type": "execute_result"
    }
   ],
   "source": [
    "brand_tag2 = driver.find_elements_by_xpath(\"//div[@class='_2WkVRV']\")\n",
    "brand_tag2"
   ]
  },
  {
   "cell_type": "code",
   "execution_count": 241,
   "id": "bcaedd3b",
   "metadata": {},
   "outputs": [
    {
     "data": {
      "text/plain": [
       "['ASIAN',\n",
       " 'Clymb',\n",
       " 'flipy',\n",
       " 'HOTSTYLE',\n",
       " 'LuvShus',\n",
       " 'Clymb',\n",
       " 'ESSENCE',\n",
       " 'BRUTON',\n",
       " 'ESSENCE',\n",
       " 'Kraasa',\n",
       " 'BRUTON',\n",
       " 'Robbie jones',\n",
       " 'CALCADOS',\n",
       " 'Labbin',\n",
       " 'STRANGER BROTHERS',\n",
       " 'BIRDE',\n",
       " 'luxury fashion',\n",
       " 'Echor',\n",
       " 'bluemaker',\n",
       " 'Chevit',\n",
       " 'ESSENCE',\n",
       " 'SPARX',\n",
       " 'Extoes',\n",
       " 'Robbie jones',\n",
       " 'DUCATI',\n",
       " 'Chevit',\n",
       " 'believe',\n",
       " 'TR',\n",
       " 'SPARX',\n",
       " 'Robbie jones',\n",
       " 'Monoction',\n",
       " 'India hub',\n",
       " 'FEWROK',\n",
       " 'Robbie jones',\n",
       " 'PUMA',\n",
       " 'BIRDE',\n",
       " 'RODDICK SHOES',\n",
       " 'Zsyto',\n",
       " 'Robbie jones',\n",
       " 'India hub']"
      ]
     },
     "execution_count": 241,
     "metadata": {},
     "output_type": "execute_result"
    }
   ],
   "source": [
    "for i in brand_tag2:\n",
    "    title=i.text\n",
    "    brand2.append(title)\n",
    "brand2"
   ]
  },
  {
   "cell_type": "code",
   "execution_count": 242,
   "id": "cccc7d85",
   "metadata": {},
   "outputs": [
    {
     "name": "stderr",
     "output_type": "stream",
     "text": [
      "<ipython-input-242-8f6539b0929b>:1: DeprecationWarning: find_elements_by_* commands are deprecated. Please use find_elements() instead\n",
      "  des_tag2 = driver.find_elements_by_xpath(\"//div[@class='_2B099V']/a[1]\")\n"
     ]
    },
    {
     "data": {
      "text/plain": [
       "[<selenium.webdriver.remote.webelement.WebElement (session=\"8e955d8c46267d169dc7bb2227002222\", element=\"0f34045d-8415-45e2-9c37-ddc61b921b27\")>,\n",
       " <selenium.webdriver.remote.webelement.WebElement (session=\"8e955d8c46267d169dc7bb2227002222\", element=\"74a2f5df-7382-45cd-99d9-5cca8f0d4aae\")>,\n",
       " <selenium.webdriver.remote.webelement.WebElement (session=\"8e955d8c46267d169dc7bb2227002222\", element=\"6492c1f5-6c1e-4843-8502-b4a5e23231ff\")>,\n",
       " <selenium.webdriver.remote.webelement.WebElement (session=\"8e955d8c46267d169dc7bb2227002222\", element=\"e13b1e89-c441-4b83-b45e-d0d6524597bd\")>,\n",
       " <selenium.webdriver.remote.webelement.WebElement (session=\"8e955d8c46267d169dc7bb2227002222\", element=\"cdf2cb8a-29c8-492f-98e9-8fd1abf6d0ef\")>,\n",
       " <selenium.webdriver.remote.webelement.WebElement (session=\"8e955d8c46267d169dc7bb2227002222\", element=\"b8698407-56cb-4f02-855f-3dd317dfd730\")>,\n",
       " <selenium.webdriver.remote.webelement.WebElement (session=\"8e955d8c46267d169dc7bb2227002222\", element=\"832ef190-0c9a-494b-9afb-2739f4d55383\")>,\n",
       " <selenium.webdriver.remote.webelement.WebElement (session=\"8e955d8c46267d169dc7bb2227002222\", element=\"ad657774-9167-435f-9a23-814c8f26e0c6\")>,\n",
       " <selenium.webdriver.remote.webelement.WebElement (session=\"8e955d8c46267d169dc7bb2227002222\", element=\"e1c1116a-a352-4491-a9af-8b0ba0b045ad\")>,\n",
       " <selenium.webdriver.remote.webelement.WebElement (session=\"8e955d8c46267d169dc7bb2227002222\", element=\"a3e0a83c-ce56-4a1b-868d-d8e438cbec0a\")>,\n",
       " <selenium.webdriver.remote.webelement.WebElement (session=\"8e955d8c46267d169dc7bb2227002222\", element=\"8cc5760c-a5a3-40a2-9633-0e6146f9bd25\")>,\n",
       " <selenium.webdriver.remote.webelement.WebElement (session=\"8e955d8c46267d169dc7bb2227002222\", element=\"d51c7036-08b3-40c4-b385-a7af282c9af2\")>,\n",
       " <selenium.webdriver.remote.webelement.WebElement (session=\"8e955d8c46267d169dc7bb2227002222\", element=\"f9ab86bf-7b3e-425f-81b4-656bc9a89b94\")>,\n",
       " <selenium.webdriver.remote.webelement.WebElement (session=\"8e955d8c46267d169dc7bb2227002222\", element=\"690ba867-5ac5-4cf2-a01c-4ce2e3fcc4cd\")>,\n",
       " <selenium.webdriver.remote.webelement.WebElement (session=\"8e955d8c46267d169dc7bb2227002222\", element=\"921255fc-a82e-4e09-97b4-4e82473efb68\")>,\n",
       " <selenium.webdriver.remote.webelement.WebElement (session=\"8e955d8c46267d169dc7bb2227002222\", element=\"3b37415b-a072-42ad-b76d-612d95a2e8f1\")>,\n",
       " <selenium.webdriver.remote.webelement.WebElement (session=\"8e955d8c46267d169dc7bb2227002222\", element=\"a8f46fc4-9a85-4498-b3f7-768ee193c7ca\")>,\n",
       " <selenium.webdriver.remote.webelement.WebElement (session=\"8e955d8c46267d169dc7bb2227002222\", element=\"5e25eac4-91fb-4669-81a0-bba14e4c5e65\")>,\n",
       " <selenium.webdriver.remote.webelement.WebElement (session=\"8e955d8c46267d169dc7bb2227002222\", element=\"15f3ef39-8bc9-4255-918b-c5e607e2fe04\")>,\n",
       " <selenium.webdriver.remote.webelement.WebElement (session=\"8e955d8c46267d169dc7bb2227002222\", element=\"f10a4c44-f474-4a82-9780-18abc3f448ab\")>,\n",
       " <selenium.webdriver.remote.webelement.WebElement (session=\"8e955d8c46267d169dc7bb2227002222\", element=\"71b8bcad-b27d-4534-9245-35020e34cc54\")>,\n",
       " <selenium.webdriver.remote.webelement.WebElement (session=\"8e955d8c46267d169dc7bb2227002222\", element=\"e5e1fc2f-fd2b-4e19-9014-90eb034a12cd\")>,\n",
       " <selenium.webdriver.remote.webelement.WebElement (session=\"8e955d8c46267d169dc7bb2227002222\", element=\"83344b7e-1c7d-464d-83f7-71eaad9894a8\")>,\n",
       " <selenium.webdriver.remote.webelement.WebElement (session=\"8e955d8c46267d169dc7bb2227002222\", element=\"f9155d11-83cc-4900-8529-70d7ad28adf1\")>,\n",
       " <selenium.webdriver.remote.webelement.WebElement (session=\"8e955d8c46267d169dc7bb2227002222\", element=\"f009e337-1c03-40cf-81df-a97bc24b90e5\")>,\n",
       " <selenium.webdriver.remote.webelement.WebElement (session=\"8e955d8c46267d169dc7bb2227002222\", element=\"628e5721-563f-4dfa-9275-f67da02e92ba\")>,\n",
       " <selenium.webdriver.remote.webelement.WebElement (session=\"8e955d8c46267d169dc7bb2227002222\", element=\"4dcfaeeb-46f1-4cc3-8c40-bc8595da7b3d\")>,\n",
       " <selenium.webdriver.remote.webelement.WebElement (session=\"8e955d8c46267d169dc7bb2227002222\", element=\"eb9d7b39-08cb-4112-ad42-b506b851669d\")>,\n",
       " <selenium.webdriver.remote.webelement.WebElement (session=\"8e955d8c46267d169dc7bb2227002222\", element=\"7ba1458d-e67e-4ae7-859d-511990c5a8f2\")>,\n",
       " <selenium.webdriver.remote.webelement.WebElement (session=\"8e955d8c46267d169dc7bb2227002222\", element=\"65c2c997-4a95-44c4-8bd3-3fa0929f64ab\")>,\n",
       " <selenium.webdriver.remote.webelement.WebElement (session=\"8e955d8c46267d169dc7bb2227002222\", element=\"13d4ce01-a90f-48d3-931c-4df1a2127477\")>,\n",
       " <selenium.webdriver.remote.webelement.WebElement (session=\"8e955d8c46267d169dc7bb2227002222\", element=\"41257cc4-618f-4166-8c03-919b0d1448c4\")>,\n",
       " <selenium.webdriver.remote.webelement.WebElement (session=\"8e955d8c46267d169dc7bb2227002222\", element=\"a798ef65-c623-44fd-92e8-4a801bab8e4b\")>,\n",
       " <selenium.webdriver.remote.webelement.WebElement (session=\"8e955d8c46267d169dc7bb2227002222\", element=\"0a627788-c9c8-4d5e-85d8-eb68dd54b506\")>,\n",
       " <selenium.webdriver.remote.webelement.WebElement (session=\"8e955d8c46267d169dc7bb2227002222\", element=\"8240f94b-0954-4456-85e7-55ed041214ef\")>,\n",
       " <selenium.webdriver.remote.webelement.WebElement (session=\"8e955d8c46267d169dc7bb2227002222\", element=\"8a752562-2315-46da-9b9e-647363aae0bf\")>,\n",
       " <selenium.webdriver.remote.webelement.WebElement (session=\"8e955d8c46267d169dc7bb2227002222\", element=\"471b3b2c-0fae-43ae-861b-bd0a41c33bef\")>,\n",
       " <selenium.webdriver.remote.webelement.WebElement (session=\"8e955d8c46267d169dc7bb2227002222\", element=\"31744326-cae8-4c8e-ac51-36a0caba2f11\")>,\n",
       " <selenium.webdriver.remote.webelement.WebElement (session=\"8e955d8c46267d169dc7bb2227002222\", element=\"2fb91510-88cc-4498-a0fe-74a415eafcc5\")>,\n",
       " <selenium.webdriver.remote.webelement.WebElement (session=\"8e955d8c46267d169dc7bb2227002222\", element=\"91c507e5-d3a7-41ab-9154-21ba3190e7e5\")>]"
      ]
     },
     "execution_count": 242,
     "metadata": {},
     "output_type": "execute_result"
    }
   ],
   "source": [
    "des_tag2 = driver.find_elements_by_xpath(\"//div[@class='_2B099V']/a[1]\")\n",
    "des_tag2[0:40]"
   ]
  },
  {
   "cell_type": "code",
   "execution_count": 243,
   "id": "d6f63fe8",
   "metadata": {},
   "outputs": [
    {
     "data": {
      "text/plain": [
       "['Skypy-31 Walking Shoes,Training Shoes,Sneakers,Loafers,...',\n",
       " 'Mesh Sports/Walking Shoes/Outdoor Ultra Lightweight Run...',\n",
       " 'CASUAL Sneakers For Men',\n",
       " 'Sneakers For Men',\n",
       " 'Men Casual Shoe New Trend With Fashion Panda Desgined L...',\n",
       " 'Sneakers For Men',\n",
       " 'Sneakers For Men',\n",
       " 'Modern & Trendy Collection Combo Pack of 02 Shoes for M...',\n",
       " 'Luxury Fashionable casual sneaker shoes and partywear s...',\n",
       " 'Series 7 Sneakers For Men',\n",
       " 'Modern & Trendy Collection Combo Pack of 02 Shoes for M...',\n",
       " 'Sneakers For Men',\n",
       " 'Modern Trendy Shoes Combo pack of 4 Sneakers For Men',\n",
       " 'Sneakers For Men',\n",
       " 'Sneakers For Men',\n",
       " 'Birde Trendy Casual Shoes Sneakers For Men',\n",
       " 'Luxury Fashionable casual shoes Sneakers For Men',\n",
       " \"Echor Men's Sneakers Fashion Lightweight Running Shoes ...\",\n",
       " 'casual for men (blue 06) Sneakers For Men',\n",
       " 'Speed Set of 5 Pairs Sneakers Outdoors Casuals for Men ...',\n",
       " 'Sneakers For Men',\n",
       " 'SM-322 Sneakers For Men',\n",
       " 'Modern Trendy Shoes Combo pack of 4 Sneakers For Men',\n",
       " 'Casual Sneakers Shoes For Men Sneakers For Men',\n",
       " 'Sneakers For Men',\n",
       " 'Combo Pack of 5 Casual Sneakers Sneakers For Men',\n",
       " 'Sneakers for men(black_6) Sneakers For Men',\n",
       " 'Sneakers For Men',\n",
       " 'SM-322 Sneakers For Men',\n",
       " 'Casual Sneakers Green Shoes For Men And Boys Sneakers F...',\n",
       " 'Mesh Running Shoes ,Cricket Shoes Casual & Sports Shoes...',\n",
       " 'Luxury Fashionable casual sneaker shoes Sneakers For Me...',\n",
       " 'Premium quality Sneakers For Men',\n",
       " 'Casual Sneakers White Shoes For Men Sneakers For Men',\n",
       " 'Ontario IDP Sneakers For Men',\n",
       " 'Trendy Casual Shoes Sneakers For Men',\n",
       " 'Fashion Outdoor Canvas Casual Light Weight Lace-up Even...',\n",
       " 'Sneakers For Men',\n",
       " 'Sneakers For Men',\n",
       " 'Sneakers For Men']"
      ]
     },
     "execution_count": 243,
     "metadata": {},
     "output_type": "execute_result"
    }
   ],
   "source": [
    "for i in des_tag2:\n",
    "    title=i.text\n",
    "    description2.append(title)\n",
    "description2[0:40]"
   ]
  },
  {
   "cell_type": "code",
   "execution_count": 244,
   "id": "3093cf23",
   "metadata": {},
   "outputs": [
    {
     "name": "stderr",
     "output_type": "stream",
     "text": [
      "<ipython-input-244-9c246c984a73>:1: DeprecationWarning: find_elements_by_* commands are deprecated. Please use find_elements() instead\n",
      "  price_tag2 = driver.find_elements_by_xpath(\"//div[@class='_30jeq3']\")\n"
     ]
    },
    {
     "data": {
      "text/plain": [
       "[<selenium.webdriver.remote.webelement.WebElement (session=\"8e955d8c46267d169dc7bb2227002222\", element=\"74a845c5-43a2-41d9-b3de-2392b4e4791a\")>,\n",
       " <selenium.webdriver.remote.webelement.WebElement (session=\"8e955d8c46267d169dc7bb2227002222\", element=\"c6846290-ce45-4971-9e96-a1547b9655c5\")>,\n",
       " <selenium.webdriver.remote.webelement.WebElement (session=\"8e955d8c46267d169dc7bb2227002222\", element=\"a13da316-3754-4cc5-89a2-ea1430eb1b51\")>,\n",
       " <selenium.webdriver.remote.webelement.WebElement (session=\"8e955d8c46267d169dc7bb2227002222\", element=\"9d5af6ff-c618-408d-963c-e7c00a3e84ff\")>,\n",
       " <selenium.webdriver.remote.webelement.WebElement (session=\"8e955d8c46267d169dc7bb2227002222\", element=\"7f710cff-e9ba-4153-8b50-33530212d3c5\")>,\n",
       " <selenium.webdriver.remote.webelement.WebElement (session=\"8e955d8c46267d169dc7bb2227002222\", element=\"24d01c65-0aa4-4a3f-b925-a621c542fe62\")>,\n",
       " <selenium.webdriver.remote.webelement.WebElement (session=\"8e955d8c46267d169dc7bb2227002222\", element=\"d0a6bcb5-439b-4bd2-b44f-8bafadd5a7e4\")>,\n",
       " <selenium.webdriver.remote.webelement.WebElement (session=\"8e955d8c46267d169dc7bb2227002222\", element=\"394e0243-2416-42a0-919b-00885f7151a9\")>,\n",
       " <selenium.webdriver.remote.webelement.WebElement (session=\"8e955d8c46267d169dc7bb2227002222\", element=\"a805b00d-8e7f-4b12-a0d5-bb0100cf7aa5\")>,\n",
       " <selenium.webdriver.remote.webelement.WebElement (session=\"8e955d8c46267d169dc7bb2227002222\", element=\"6fcea58b-c17a-4c63-8f17-cce19234d5d2\")>,\n",
       " <selenium.webdriver.remote.webelement.WebElement (session=\"8e955d8c46267d169dc7bb2227002222\", element=\"c2bf687e-8d1e-46a1-a00a-8ea8f298b780\")>,\n",
       " <selenium.webdriver.remote.webelement.WebElement (session=\"8e955d8c46267d169dc7bb2227002222\", element=\"37b7d3d1-e240-4782-83ca-bc773043c76b\")>,\n",
       " <selenium.webdriver.remote.webelement.WebElement (session=\"8e955d8c46267d169dc7bb2227002222\", element=\"a58a51eb-d724-4760-8ec5-c74b3338ce5f\")>,\n",
       " <selenium.webdriver.remote.webelement.WebElement (session=\"8e955d8c46267d169dc7bb2227002222\", element=\"c34476ed-37b1-44c7-a43e-3fada6dad424\")>,\n",
       " <selenium.webdriver.remote.webelement.WebElement (session=\"8e955d8c46267d169dc7bb2227002222\", element=\"8818688b-b2f1-45ef-9304-b11b6ab8e546\")>,\n",
       " <selenium.webdriver.remote.webelement.WebElement (session=\"8e955d8c46267d169dc7bb2227002222\", element=\"126fa47c-44c7-4819-8dc4-6c729ab9e737\")>,\n",
       " <selenium.webdriver.remote.webelement.WebElement (session=\"8e955d8c46267d169dc7bb2227002222\", element=\"450c1b39-5615-471b-a139-64b0338c5744\")>,\n",
       " <selenium.webdriver.remote.webelement.WebElement (session=\"8e955d8c46267d169dc7bb2227002222\", element=\"2fdf462b-2366-4bbc-a418-8690550c0475\")>,\n",
       " <selenium.webdriver.remote.webelement.WebElement (session=\"8e955d8c46267d169dc7bb2227002222\", element=\"16a88248-3800-4e4d-9992-0e6b1f959334\")>,\n",
       " <selenium.webdriver.remote.webelement.WebElement (session=\"8e955d8c46267d169dc7bb2227002222\", element=\"34f0be51-878c-4db1-8947-7cb824138a5a\")>,\n",
       " <selenium.webdriver.remote.webelement.WebElement (session=\"8e955d8c46267d169dc7bb2227002222\", element=\"02595626-8979-4df6-807b-3a84972ee67a\")>,\n",
       " <selenium.webdriver.remote.webelement.WebElement (session=\"8e955d8c46267d169dc7bb2227002222\", element=\"ec6983e3-77a7-45b6-92d7-321f8cff49ea\")>,\n",
       " <selenium.webdriver.remote.webelement.WebElement (session=\"8e955d8c46267d169dc7bb2227002222\", element=\"b84f8a96-0d62-49d8-9f65-cae60f51fbc4\")>,\n",
       " <selenium.webdriver.remote.webelement.WebElement (session=\"8e955d8c46267d169dc7bb2227002222\", element=\"ea6f7fcf-c501-4b50-84b6-9077e88ae4cc\")>,\n",
       " <selenium.webdriver.remote.webelement.WebElement (session=\"8e955d8c46267d169dc7bb2227002222\", element=\"3d8d58d2-2417-4c30-8789-4630e72eb255\")>,\n",
       " <selenium.webdriver.remote.webelement.WebElement (session=\"8e955d8c46267d169dc7bb2227002222\", element=\"a8832e2e-a8f1-4ed2-b8af-e2e34da0f16d\")>,\n",
       " <selenium.webdriver.remote.webelement.WebElement (session=\"8e955d8c46267d169dc7bb2227002222\", element=\"16806fbb-70ae-4f61-b92b-93a454f6d6e2\")>,\n",
       " <selenium.webdriver.remote.webelement.WebElement (session=\"8e955d8c46267d169dc7bb2227002222\", element=\"93e1b152-14c7-4162-a601-ae2005cf7751\")>,\n",
       " <selenium.webdriver.remote.webelement.WebElement (session=\"8e955d8c46267d169dc7bb2227002222\", element=\"9aeb465a-c2ed-4e4d-bf58-1d707eeb28be\")>,\n",
       " <selenium.webdriver.remote.webelement.WebElement (session=\"8e955d8c46267d169dc7bb2227002222\", element=\"d41aa384-338d-4977-987b-9de39a307f66\")>,\n",
       " <selenium.webdriver.remote.webelement.WebElement (session=\"8e955d8c46267d169dc7bb2227002222\", element=\"c85ea236-4f51-41fe-91c6-c28e12ad07b7\")>,\n",
       " <selenium.webdriver.remote.webelement.WebElement (session=\"8e955d8c46267d169dc7bb2227002222\", element=\"f7e0870a-e232-4f8d-850d-f7a9288720ec\")>,\n",
       " <selenium.webdriver.remote.webelement.WebElement (session=\"8e955d8c46267d169dc7bb2227002222\", element=\"e6ba4b9a-4102-4dc7-aed0-ea7d6e19657c\")>,\n",
       " <selenium.webdriver.remote.webelement.WebElement (session=\"8e955d8c46267d169dc7bb2227002222\", element=\"0af69058-d392-4b40-998b-d1abcb1af4da\")>,\n",
       " <selenium.webdriver.remote.webelement.WebElement (session=\"8e955d8c46267d169dc7bb2227002222\", element=\"baad6d6d-8d2a-4e5a-894c-03288420e539\")>,\n",
       " <selenium.webdriver.remote.webelement.WebElement (session=\"8e955d8c46267d169dc7bb2227002222\", element=\"f8866003-d1ed-427a-aae0-0485199d4663\")>,\n",
       " <selenium.webdriver.remote.webelement.WebElement (session=\"8e955d8c46267d169dc7bb2227002222\", element=\"e0d9b27d-9a1e-4074-bfdf-b80f471e0184\")>,\n",
       " <selenium.webdriver.remote.webelement.WebElement (session=\"8e955d8c46267d169dc7bb2227002222\", element=\"b9942445-29d2-4b6a-81b4-e04e7119965c\")>,\n",
       " <selenium.webdriver.remote.webelement.WebElement (session=\"8e955d8c46267d169dc7bb2227002222\", element=\"23363efd-ac09-4a8d-8f5e-75f21c67db5e\")>,\n",
       " <selenium.webdriver.remote.webelement.WebElement (session=\"8e955d8c46267d169dc7bb2227002222\", element=\"1be7faac-3ba2-471c-89d9-29073987ead2\")>]"
      ]
     },
     "execution_count": 244,
     "metadata": {},
     "output_type": "execute_result"
    }
   ],
   "source": [
    "price_tag2 = driver.find_elements_by_xpath(\"//div[@class='_30jeq3']\")\n",
    "price_tag2"
   ]
  },
  {
   "cell_type": "code",
   "execution_count": 245,
   "id": "3bcc3833",
   "metadata": {},
   "outputs": [
    {
     "data": {
      "text/plain": [
       "['₹439',\n",
       " '₹259',\n",
       " '₹449',\n",
       " '₹198',\n",
       " '₹442',\n",
       " '₹649',\n",
       " '₹399',\n",
       " '₹536',\n",
       " '₹399',\n",
       " '₹444',\n",
       " '₹471',\n",
       " '₹499',\n",
       " '₹899',\n",
       " '₹474',\n",
       " '₹459',\n",
       " '₹299',\n",
       " '₹449',\n",
       " '₹499',\n",
       " '₹499',\n",
       " '₹764',\n",
       " '₹399',\n",
       " '₹891',\n",
       " '₹898',\n",
       " '₹449',\n",
       " '₹969',\n",
       " '₹764',\n",
       " '₹424',\n",
       " '₹599',\n",
       " '₹841',\n",
       " '₹474',\n",
       " '₹241',\n",
       " '₹449',\n",
       " '₹429',\n",
       " '₹474',\n",
       " '₹1,047',\n",
       " '₹299',\n",
       " '₹499',\n",
       " '₹398',\n",
       " '₹474',\n",
       " '₹474']"
      ]
     },
     "execution_count": 245,
     "metadata": {},
     "output_type": "execute_result"
    }
   ],
   "source": [
    "for i in price_tag2:\n",
    "    title=i.text\n",
    "    price2.append(title)\n",
    "price2"
   ]
  },
  {
   "cell_type": "code",
   "execution_count": 246,
   "id": "e47ad515",
   "metadata": {},
   "outputs": [
    {
     "name": "stderr",
     "output_type": "stream",
     "text": [
      "<ipython-input-246-5a0165388033>:1: DeprecationWarning: find_elements_by_* commands are deprecated. Please use find_elements() instead\n",
      "  dis_tags2 = driver.find_elements_by_xpath(\"//div[@class='_3Ay6Sb']\")\n"
     ]
    },
    {
     "data": {
      "text/plain": [
       "[<selenium.webdriver.remote.webelement.WebElement (session=\"8e955d8c46267d169dc7bb2227002222\", element=\"dbaacec8-361f-4fb2-b666-9d1866cfea46\")>,\n",
       " <selenium.webdriver.remote.webelement.WebElement (session=\"8e955d8c46267d169dc7bb2227002222\", element=\"eb9ee71c-21ea-47a4-9658-2ed6e1a5a4e0\")>,\n",
       " <selenium.webdriver.remote.webelement.WebElement (session=\"8e955d8c46267d169dc7bb2227002222\", element=\"0fc32547-ef9b-4fb9-ac8c-7a4f1f469cab\")>,\n",
       " <selenium.webdriver.remote.webelement.WebElement (session=\"8e955d8c46267d169dc7bb2227002222\", element=\"2928fd75-be92-4585-ac78-8ef6020799e1\")>,\n",
       " <selenium.webdriver.remote.webelement.WebElement (session=\"8e955d8c46267d169dc7bb2227002222\", element=\"939eff0c-b6f8-41d8-bd79-9e5d13beb685\")>,\n",
       " <selenium.webdriver.remote.webelement.WebElement (session=\"8e955d8c46267d169dc7bb2227002222\", element=\"219af119-6659-45cb-8a88-99d64581015c\")>,\n",
       " <selenium.webdriver.remote.webelement.WebElement (session=\"8e955d8c46267d169dc7bb2227002222\", element=\"8f072063-a8bd-4c6b-95f2-821b57535bcd\")>,\n",
       " <selenium.webdriver.remote.webelement.WebElement (session=\"8e955d8c46267d169dc7bb2227002222\", element=\"48ef1f6f-f11d-4e79-b0c8-5d7e9b92d5b9\")>,\n",
       " <selenium.webdriver.remote.webelement.WebElement (session=\"8e955d8c46267d169dc7bb2227002222\", element=\"84760fe7-15c0-42f9-a372-3bdd10b88837\")>,\n",
       " <selenium.webdriver.remote.webelement.WebElement (session=\"8e955d8c46267d169dc7bb2227002222\", element=\"846a39d9-d0d1-43db-b144-9df3686e7f8a\")>,\n",
       " <selenium.webdriver.remote.webelement.WebElement (session=\"8e955d8c46267d169dc7bb2227002222\", element=\"766c98f3-59a7-48ad-a77a-645fe065a1cf\")>,\n",
       " <selenium.webdriver.remote.webelement.WebElement (session=\"8e955d8c46267d169dc7bb2227002222\", element=\"c16cab64-64d9-4f41-b251-afef9ac8d61b\")>,\n",
       " <selenium.webdriver.remote.webelement.WebElement (session=\"8e955d8c46267d169dc7bb2227002222\", element=\"32363007-5143-41e7-b65b-d0284df2a570\")>,\n",
       " <selenium.webdriver.remote.webelement.WebElement (session=\"8e955d8c46267d169dc7bb2227002222\", element=\"8702fccf-5d40-4478-8cd6-8afaf4f16b5d\")>,\n",
       " <selenium.webdriver.remote.webelement.WebElement (session=\"8e955d8c46267d169dc7bb2227002222\", element=\"354980be-5d88-4d42-8bab-da70f6b76fa0\")>,\n",
       " <selenium.webdriver.remote.webelement.WebElement (session=\"8e955d8c46267d169dc7bb2227002222\", element=\"c8ebae31-389e-47ff-8dc7-82186fbf3b08\")>,\n",
       " <selenium.webdriver.remote.webelement.WebElement (session=\"8e955d8c46267d169dc7bb2227002222\", element=\"c1f499c7-357e-4789-9430-f0d8a9449a02\")>,\n",
       " <selenium.webdriver.remote.webelement.WebElement (session=\"8e955d8c46267d169dc7bb2227002222\", element=\"2be368f0-1791-4545-bce1-cc1eae07da9a\")>,\n",
       " <selenium.webdriver.remote.webelement.WebElement (session=\"8e955d8c46267d169dc7bb2227002222\", element=\"c2fbd0da-db2f-4232-957c-aba5a3b71baa\")>,\n",
       " <selenium.webdriver.remote.webelement.WebElement (session=\"8e955d8c46267d169dc7bb2227002222\", element=\"6580305e-28f2-4b52-ab0f-aec0f3452788\")>,\n",
       " <selenium.webdriver.remote.webelement.WebElement (session=\"8e955d8c46267d169dc7bb2227002222\", element=\"e422180c-f2bf-4104-a1fa-b4e4d66afad0\")>,\n",
       " <selenium.webdriver.remote.webelement.WebElement (session=\"8e955d8c46267d169dc7bb2227002222\", element=\"42ba79ca-d238-4aaa-83ec-b088efed781d\")>,\n",
       " <selenium.webdriver.remote.webelement.WebElement (session=\"8e955d8c46267d169dc7bb2227002222\", element=\"aaa839d0-bdb5-4f74-9b7f-a1451817495d\")>,\n",
       " <selenium.webdriver.remote.webelement.WebElement (session=\"8e955d8c46267d169dc7bb2227002222\", element=\"82cece5a-db28-4d20-955a-0c39a6eef1e9\")>,\n",
       " <selenium.webdriver.remote.webelement.WebElement (session=\"8e955d8c46267d169dc7bb2227002222\", element=\"728a0414-73b5-4f53-9578-be7cf619281b\")>,\n",
       " <selenium.webdriver.remote.webelement.WebElement (session=\"8e955d8c46267d169dc7bb2227002222\", element=\"39e954fc-ba77-461d-b1f4-8c1433fc74d9\")>,\n",
       " <selenium.webdriver.remote.webelement.WebElement (session=\"8e955d8c46267d169dc7bb2227002222\", element=\"7375e31c-5612-4e89-8b15-1b480aeffee7\")>,\n",
       " <selenium.webdriver.remote.webelement.WebElement (session=\"8e955d8c46267d169dc7bb2227002222\", element=\"76da3b10-4860-4358-bd9a-a3024b443ab1\")>,\n",
       " <selenium.webdriver.remote.webelement.WebElement (session=\"8e955d8c46267d169dc7bb2227002222\", element=\"a18c12c4-6b92-4e8b-9051-50cdb0c0e588\")>,\n",
       " <selenium.webdriver.remote.webelement.WebElement (session=\"8e955d8c46267d169dc7bb2227002222\", element=\"53db7cf9-49b9-42bb-a561-c60580ff04da\")>,\n",
       " <selenium.webdriver.remote.webelement.WebElement (session=\"8e955d8c46267d169dc7bb2227002222\", element=\"4dad08bf-4c7a-4f93-8663-a8118f11ad9d\")>,\n",
       " <selenium.webdriver.remote.webelement.WebElement (session=\"8e955d8c46267d169dc7bb2227002222\", element=\"87d94d38-e15e-48ac-abe6-b20cf9d8df35\")>,\n",
       " <selenium.webdriver.remote.webelement.WebElement (session=\"8e955d8c46267d169dc7bb2227002222\", element=\"1d86807a-934e-4a3c-bd83-3d1a5409101e\")>,\n",
       " <selenium.webdriver.remote.webelement.WebElement (session=\"8e955d8c46267d169dc7bb2227002222\", element=\"4e8abfa0-4cd1-4118-b373-65c835ec0735\")>,\n",
       " <selenium.webdriver.remote.webelement.WebElement (session=\"8e955d8c46267d169dc7bb2227002222\", element=\"7477edf4-235a-4c5e-991b-16f2779ef6dd\")>,\n",
       " <selenium.webdriver.remote.webelement.WebElement (session=\"8e955d8c46267d169dc7bb2227002222\", element=\"8e55f1d2-4509-4951-8111-5bbd1306696d\")>,\n",
       " <selenium.webdriver.remote.webelement.WebElement (session=\"8e955d8c46267d169dc7bb2227002222\", element=\"510c7bc1-711c-42b3-ba44-b80f5cdac2d9\")>,\n",
       " <selenium.webdriver.remote.webelement.WebElement (session=\"8e955d8c46267d169dc7bb2227002222\", element=\"87ea0818-9b89-470f-a3a1-1f441aeb3900\")>,\n",
       " <selenium.webdriver.remote.webelement.WebElement (session=\"8e955d8c46267d169dc7bb2227002222\", element=\"7e8f8d7a-32c2-4412-9de5-61073fd49b65\")>,\n",
       " <selenium.webdriver.remote.webelement.WebElement (session=\"8e955d8c46267d169dc7bb2227002222\", element=\"a2260558-5126-4d79-a10c-bde453587485\")>]"
      ]
     },
     "execution_count": 246,
     "metadata": {},
     "output_type": "execute_result"
    }
   ],
   "source": [
    "dis_tags2 = driver.find_elements_by_xpath(\"//div[@class='_3Ay6Sb']\")\n",
    "dis_tags2"
   ]
  },
  {
   "cell_type": "code",
   "execution_count": 247,
   "id": "d1cd4839",
   "metadata": {},
   "outputs": [
    {
     "data": {
      "text/plain": [
       "['45% off',\n",
       " '74% off',\n",
       " '71% off',\n",
       " '60% off',\n",
       " '55% off',\n",
       " '56% off',\n",
       " '60% off',\n",
       " '78% off',\n",
       " '60% off',\n",
       " '55% off',\n",
       " '81% off',\n",
       " '50% off',\n",
       " '54% off',\n",
       " '52% off',\n",
       " '54% off',\n",
       " '40% off',\n",
       " '65% off',\n",
       " '66% off',\n",
       " '50% off',\n",
       " '69% off',\n",
       " '60% off',\n",
       " '15% off',\n",
       " '40% off',\n",
       " '55% off',\n",
       " '73% off',\n",
       " '69% off',\n",
       " '57% off',\n",
       " '70% off',\n",
       " '15% off',\n",
       " '52% off',\n",
       " '75% off',\n",
       " '77% off',\n",
       " '57% off',\n",
       " '52% off',\n",
       " '65% off',\n",
       " '40% off',\n",
       " '50% off',\n",
       " '69% off',\n",
       " '52% off',\n",
       " '63% off']"
      ]
     },
     "execution_count": 247,
     "metadata": {},
     "output_type": "execute_result"
    }
   ],
   "source": [
    "for i in dis_tags2:\n",
    "    title=i.text\n",
    "    discount2.append(title)\n",
    "discount2"
   ]
  },
  {
   "cell_type": "code",
   "execution_count": 248,
   "id": "c4c0f01c",
   "metadata": {},
   "outputs": [
    {
     "name": "stdout",
     "output_type": "stream",
     "text": [
      "40 40 40 40\n"
     ]
    }
   ],
   "source": [
    "print(len(brand2),len(description2),len(price2),len(discount2))"
   ]
  },
  {
   "cell_type": "markdown",
   "id": "6e540f25",
   "metadata": {},
   "source": [
    "# NEXT PAGE:2"
   ]
  },
  {
   "cell_type": "code",
   "execution_count": 249,
   "id": "4e84650b",
   "metadata": {},
   "outputs": [
    {
     "name": "stderr",
     "output_type": "stream",
     "text": [
      "<ipython-input-249-45d45e3341bc>:1: DeprecationWarning: find_element_by_* commands are deprecated. Please use find_element() instead\n",
      "  nxt_button2 = driver.find_element_by_xpath(\"//a[@class='_1LKTO3']/span[1]\")\n"
     ]
    }
   ],
   "source": [
    "nxt_button2 = driver.find_element_by_xpath(\"//a[@class='_1LKTO3']/span[1]\")\n",
    "nxt_button2.click()"
   ]
  },
  {
   "cell_type": "markdown",
   "id": "0672c2d3",
   "metadata": {},
   "source": [
    "making empty list:"
   ]
  },
  {
   "cell_type": "code",
   "execution_count": 250,
   "id": "0924f65f",
   "metadata": {},
   "outputs": [],
   "source": [
    "brand3 = []\n",
    "description3 =[]\n",
    "price3 = []\n",
    "discount3 = []"
   ]
  },
  {
   "cell_type": "code",
   "execution_count": 251,
   "id": "879bcd0b",
   "metadata": {},
   "outputs": [
    {
     "name": "stderr",
     "output_type": "stream",
     "text": [
      "<ipython-input-251-a653fe4db424>:1: DeprecationWarning: find_elements_by_* commands are deprecated. Please use find_elements() instead\n",
      "  brand_tag3 = driver.find_elements_by_xpath(\"//div[@class='_2WkVRV']\")\n"
     ]
    },
    {
     "data": {
      "text/plain": [
       "[<selenium.webdriver.remote.webelement.WebElement (session=\"8e955d8c46267d169dc7bb2227002222\", element=\"daa72864-62ba-4c88-a736-10d4ab032065\")>,\n",
       " <selenium.webdriver.remote.webelement.WebElement (session=\"8e955d8c46267d169dc7bb2227002222\", element=\"40b37617-6afd-4670-a3e9-6c5ea398e0cd\")>,\n",
       " <selenium.webdriver.remote.webelement.WebElement (session=\"8e955d8c46267d169dc7bb2227002222\", element=\"1102b173-baa6-4761-b550-6bae9854074b\")>,\n",
       " <selenium.webdriver.remote.webelement.WebElement (session=\"8e955d8c46267d169dc7bb2227002222\", element=\"86797a2a-5078-4047-a075-eccb9a6bd30f\")>,\n",
       " <selenium.webdriver.remote.webelement.WebElement (session=\"8e955d8c46267d169dc7bb2227002222\", element=\"9e0c41d3-ff62-49cc-aa0b-99e1e9cacb68\")>,\n",
       " <selenium.webdriver.remote.webelement.WebElement (session=\"8e955d8c46267d169dc7bb2227002222\", element=\"3a51bdbf-7348-406c-8208-0195017d6c1e\")>,\n",
       " <selenium.webdriver.remote.webelement.WebElement (session=\"8e955d8c46267d169dc7bb2227002222\", element=\"a8340717-08ac-4a54-a427-ed48decd0e49\")>,\n",
       " <selenium.webdriver.remote.webelement.WebElement (session=\"8e955d8c46267d169dc7bb2227002222\", element=\"a6b0aa5e-b725-4206-9698-9a0848d71359\")>,\n",
       " <selenium.webdriver.remote.webelement.WebElement (session=\"8e955d8c46267d169dc7bb2227002222\", element=\"94146dde-b593-426d-963d-576139ab32ec\")>,\n",
       " <selenium.webdriver.remote.webelement.WebElement (session=\"8e955d8c46267d169dc7bb2227002222\", element=\"199e505e-71c8-49ee-a1ab-5da3efb07e37\")>,\n",
       " <selenium.webdriver.remote.webelement.WebElement (session=\"8e955d8c46267d169dc7bb2227002222\", element=\"dc088ac5-17de-465f-a92c-121b1dccc625\")>,\n",
       " <selenium.webdriver.remote.webelement.WebElement (session=\"8e955d8c46267d169dc7bb2227002222\", element=\"94f0e8e3-b544-4858-8449-078819ffde28\")>,\n",
       " <selenium.webdriver.remote.webelement.WebElement (session=\"8e955d8c46267d169dc7bb2227002222\", element=\"3db8c949-583a-4f20-ae13-397d8beea666\")>,\n",
       " <selenium.webdriver.remote.webelement.WebElement (session=\"8e955d8c46267d169dc7bb2227002222\", element=\"62bd0920-689a-44f0-a6da-11101bdc008b\")>,\n",
       " <selenium.webdriver.remote.webelement.WebElement (session=\"8e955d8c46267d169dc7bb2227002222\", element=\"e83f03db-61cf-4ad9-99c9-6122d1efb8e4\")>,\n",
       " <selenium.webdriver.remote.webelement.WebElement (session=\"8e955d8c46267d169dc7bb2227002222\", element=\"a0b74fec-cb43-4961-b69d-16e9d6ac7102\")>,\n",
       " <selenium.webdriver.remote.webelement.WebElement (session=\"8e955d8c46267d169dc7bb2227002222\", element=\"60e7f116-5a91-4d66-97fb-e9daa50773e1\")>,\n",
       " <selenium.webdriver.remote.webelement.WebElement (session=\"8e955d8c46267d169dc7bb2227002222\", element=\"373f7553-41fc-4300-be85-d8441dda2b15\")>,\n",
       " <selenium.webdriver.remote.webelement.WebElement (session=\"8e955d8c46267d169dc7bb2227002222\", element=\"e81c5a99-c3c3-4a5a-8c62-c59c5eabb4e9\")>]"
      ]
     },
     "execution_count": 251,
     "metadata": {},
     "output_type": "execute_result"
    }
   ],
   "source": [
    "brand_tag3 = driver.find_elements_by_xpath(\"//div[@class='_2WkVRV']\")\n",
    "brand_tag3[0:19]"
   ]
  },
  {
   "cell_type": "code",
   "execution_count": 252,
   "id": "69eace48",
   "metadata": {},
   "outputs": [
    {
     "data": {
      "text/plain": [
       "['BIRDE',\n",
       " 'Kraasa',\n",
       " 'ASTEROID',\n",
       " 'Robbie jones',\n",
       " 'FEWROK',\n",
       " 'High Steps',\n",
       " 'KANEGGYE',\n",
       " 'D-SNEAKERZ',\n",
       " 'BIRDE',\n",
       " 'SPADE CLUB',\n",
       " 'Bond Street By Red Tape',\n",
       " 'NIKE',\n",
       " 'Feens',\n",
       " 'Chevit',\n",
       " 'Bond Street By Red Tape',\n",
       " 'SPARX',\n",
       " 'SPARX',\n",
       " 'Xtoon',\n",
       " 'Bonexy']"
      ]
     },
     "execution_count": 252,
     "metadata": {},
     "output_type": "execute_result"
    }
   ],
   "source": [
    "for i in brand_tag3:\n",
    "    title=i.text\n",
    "    brand3.append(title)\n",
    "brand3[0:19]"
   ]
  },
  {
   "cell_type": "code",
   "execution_count": 253,
   "id": "a53a341e",
   "metadata": {},
   "outputs": [
    {
     "name": "stderr",
     "output_type": "stream",
     "text": [
      "<ipython-input-253-50fdef2b846c>:1: DeprecationWarning: find_elements_by_* commands are deprecated. Please use find_elements() instead\n",
      "  des_tag3 = driver.find_elements_by_xpath(\"//div[@class='_2B099V']/a[1]\")\n"
     ]
    },
    {
     "data": {
      "text/plain": [
       "[<selenium.webdriver.remote.webelement.WebElement (session=\"8e955d8c46267d169dc7bb2227002222\", element=\"9baf344f-099c-4e7a-a11f-027822981a43\")>,\n",
       " <selenium.webdriver.remote.webelement.WebElement (session=\"8e955d8c46267d169dc7bb2227002222\", element=\"4c1d8139-746f-427d-9d68-c8c289eb3f3b\")>,\n",
       " <selenium.webdriver.remote.webelement.WebElement (session=\"8e955d8c46267d169dc7bb2227002222\", element=\"51761eb9-9374-4422-a433-fbbf3afc1f40\")>,\n",
       " <selenium.webdriver.remote.webelement.WebElement (session=\"8e955d8c46267d169dc7bb2227002222\", element=\"ca6ffa0d-a8a1-4a28-b354-6d81acac22e3\")>,\n",
       " <selenium.webdriver.remote.webelement.WebElement (session=\"8e955d8c46267d169dc7bb2227002222\", element=\"61981b45-6989-4cd1-86ad-a95c1c4f9e7d\")>,\n",
       " <selenium.webdriver.remote.webelement.WebElement (session=\"8e955d8c46267d169dc7bb2227002222\", element=\"7a520a77-f534-405d-9109-60c7abb65159\")>,\n",
       " <selenium.webdriver.remote.webelement.WebElement (session=\"8e955d8c46267d169dc7bb2227002222\", element=\"707fdec1-7446-43bf-8376-e4227157038f\")>,\n",
       " <selenium.webdriver.remote.webelement.WebElement (session=\"8e955d8c46267d169dc7bb2227002222\", element=\"a4e43751-8056-4a83-a19c-7b149766a6b7\")>,\n",
       " <selenium.webdriver.remote.webelement.WebElement (session=\"8e955d8c46267d169dc7bb2227002222\", element=\"7fa73b3b-d8ff-4022-9b43-5e638ee43da7\")>,\n",
       " <selenium.webdriver.remote.webelement.WebElement (session=\"8e955d8c46267d169dc7bb2227002222\", element=\"764837a3-eac2-45ba-81a0-6cc2f8acfc0a\")>,\n",
       " <selenium.webdriver.remote.webelement.WebElement (session=\"8e955d8c46267d169dc7bb2227002222\", element=\"9f43af80-1a91-4f93-9959-fc4588bc8d6a\")>,\n",
       " <selenium.webdriver.remote.webelement.WebElement (session=\"8e955d8c46267d169dc7bb2227002222\", element=\"3327c8c7-0b76-4ea6-bfbf-96a15ff982ac\")>,\n",
       " <selenium.webdriver.remote.webelement.WebElement (session=\"8e955d8c46267d169dc7bb2227002222\", element=\"59951901-17ad-4d90-b2b7-a6feec9e8780\")>,\n",
       " <selenium.webdriver.remote.webelement.WebElement (session=\"8e955d8c46267d169dc7bb2227002222\", element=\"cca2b957-9999-43f8-93a1-377dc13628a8\")>,\n",
       " <selenium.webdriver.remote.webelement.WebElement (session=\"8e955d8c46267d169dc7bb2227002222\", element=\"3454f15c-04e3-478c-9698-f0cdd2f4b33d\")>,\n",
       " <selenium.webdriver.remote.webelement.WebElement (session=\"8e955d8c46267d169dc7bb2227002222\", element=\"5e18dc9a-f05d-486f-ade4-3b703ffbb665\")>,\n",
       " <selenium.webdriver.remote.webelement.WebElement (session=\"8e955d8c46267d169dc7bb2227002222\", element=\"e55a93ff-aacf-4300-8f0f-b220872472db\")>,\n",
       " <selenium.webdriver.remote.webelement.WebElement (session=\"8e955d8c46267d169dc7bb2227002222\", element=\"c57f2a6a-d93d-4c5c-98c9-af727e60bdf7\")>,\n",
       " <selenium.webdriver.remote.webelement.WebElement (session=\"8e955d8c46267d169dc7bb2227002222\", element=\"0e66d9ab-d720-4fc7-a8e4-b1ae07ada8dc\")>]"
      ]
     },
     "execution_count": 253,
     "metadata": {},
     "output_type": "execute_result"
    }
   ],
   "source": [
    "des_tag3 = driver.find_elements_by_xpath(\"//div[@class='_2B099V']/a[1]\")\n",
    "des_tag3[0:19]"
   ]
  },
  {
   "cell_type": "code",
   "execution_count": 254,
   "id": "c329b11a",
   "metadata": {},
   "outputs": [
    {
     "data": {
      "text/plain": [
       "['Sports Shoes Sneakers For Men',\n",
       " 'Casuals, Canvas, Partywear Sneakers For Men',\n",
       " \"Original Luxury Branded Fashionable Men's Casual Walkin...\",\n",
       " 'Sneakers For Men',\n",
       " 'Premium quality Sneakers For Men',\n",
       " 'Casual Canvas Chain Sneakers Canvas Sneakers For Men',\n",
       " 'Sneakers For Men',\n",
       " \"Casual , Partywear Sneakers Shoes For Men's And Boys Wh...\",\n",
       " 'Sneakers For Men',\n",
       " 'Sneakers For Men',\n",
       " 'Sneakers For Men',\n",
       " 'Tanjun Sneakers For Men',\n",
       " 'Stylish & Comfortable Casual Sports Walking Sneakers Fo...',\n",
       " 'Perfect & Affordable Combo Pack of 02 Pairs Sneakers Ou...',\n",
       " 'Sneakers For Men',\n",
       " 'SM-620 Sneakers For Men',\n",
       " 'SM-675 Sneakers For Men',\n",
       " \"white Casual shoes,Sneakers for men's Sneakers For Men\",\n",
       " 'Sneakers For Men']"
      ]
     },
     "execution_count": 254,
     "metadata": {},
     "output_type": "execute_result"
    }
   ],
   "source": [
    "for i in des_tag3:\n",
    "    title=i.text\n",
    "    description3.append(title)\n",
    "description3[0:19]"
   ]
  },
  {
   "cell_type": "code",
   "execution_count": 255,
   "id": "fb225dd3",
   "metadata": {},
   "outputs": [
    {
     "name": "stderr",
     "output_type": "stream",
     "text": [
      "<ipython-input-255-29af85745bc3>:1: DeprecationWarning: find_elements_by_* commands are deprecated. Please use find_elements() instead\n",
      "  price_tag3 = driver.find_elements_by_xpath(\"//div[@class='_30jeq3']\")\n"
     ]
    },
    {
     "data": {
      "text/plain": [
       "[<selenium.webdriver.remote.webelement.WebElement (session=\"8e955d8c46267d169dc7bb2227002222\", element=\"32b9e118-22dc-4640-8d14-9a2f668b251e\")>,\n",
       " <selenium.webdriver.remote.webelement.WebElement (session=\"8e955d8c46267d169dc7bb2227002222\", element=\"2825b35c-0a20-47ca-8c2f-5aaa317afa1d\")>,\n",
       " <selenium.webdriver.remote.webelement.WebElement (session=\"8e955d8c46267d169dc7bb2227002222\", element=\"0b63dffd-95f7-4bb3-8274-9fea176d4c5a\")>,\n",
       " <selenium.webdriver.remote.webelement.WebElement (session=\"8e955d8c46267d169dc7bb2227002222\", element=\"e993b46e-f8a7-4e6a-a010-d358cab9275c\")>,\n",
       " <selenium.webdriver.remote.webelement.WebElement (session=\"8e955d8c46267d169dc7bb2227002222\", element=\"964f93d2-5d07-450b-b8f7-5ef4bdf0aecb\")>,\n",
       " <selenium.webdriver.remote.webelement.WebElement (session=\"8e955d8c46267d169dc7bb2227002222\", element=\"caacf2f0-5a25-426c-ab20-8bd7621abb15\")>,\n",
       " <selenium.webdriver.remote.webelement.WebElement (session=\"8e955d8c46267d169dc7bb2227002222\", element=\"e0861975-0e89-4376-94a7-e60c52fc172d\")>,\n",
       " <selenium.webdriver.remote.webelement.WebElement (session=\"8e955d8c46267d169dc7bb2227002222\", element=\"52c1e687-8b62-4e2a-9b00-0a0e2d389aee\")>,\n",
       " <selenium.webdriver.remote.webelement.WebElement (session=\"8e955d8c46267d169dc7bb2227002222\", element=\"f9d98799-e894-47dc-b00b-d7858fc732a3\")>,\n",
       " <selenium.webdriver.remote.webelement.WebElement (session=\"8e955d8c46267d169dc7bb2227002222\", element=\"197d6536-5581-489e-a080-33c8e85adeac\")>,\n",
       " <selenium.webdriver.remote.webelement.WebElement (session=\"8e955d8c46267d169dc7bb2227002222\", element=\"1dc4de05-3207-458c-8174-68bbfb1bb902\")>,\n",
       " <selenium.webdriver.remote.webelement.WebElement (session=\"8e955d8c46267d169dc7bb2227002222\", element=\"edab7594-c1da-410c-8fd2-4860d2a010a3\")>,\n",
       " <selenium.webdriver.remote.webelement.WebElement (session=\"8e955d8c46267d169dc7bb2227002222\", element=\"047320a0-97fd-434b-b18b-921e7cab9651\")>,\n",
       " <selenium.webdriver.remote.webelement.WebElement (session=\"8e955d8c46267d169dc7bb2227002222\", element=\"50e2df74-30d0-46c8-a79d-cb980be70969\")>,\n",
       " <selenium.webdriver.remote.webelement.WebElement (session=\"8e955d8c46267d169dc7bb2227002222\", element=\"149fa007-36dd-4b8e-b2fd-8798f5a78f1a\")>,\n",
       " <selenium.webdriver.remote.webelement.WebElement (session=\"8e955d8c46267d169dc7bb2227002222\", element=\"560645ad-0bf1-4b18-ad39-164dc324fd0b\")>,\n",
       " <selenium.webdriver.remote.webelement.WebElement (session=\"8e955d8c46267d169dc7bb2227002222\", element=\"ecc976e2-2159-4e1e-876d-a9d05f818982\")>,\n",
       " <selenium.webdriver.remote.webelement.WebElement (session=\"8e955d8c46267d169dc7bb2227002222\", element=\"3b3c506f-203d-4d31-8692-15e5d92096dd\")>,\n",
       " <selenium.webdriver.remote.webelement.WebElement (session=\"8e955d8c46267d169dc7bb2227002222\", element=\"4e8d6eb0-8112-4cd3-a034-dd2fe8e53590\")>]"
      ]
     },
     "execution_count": 255,
     "metadata": {},
     "output_type": "execute_result"
    }
   ],
   "source": [
    "price_tag3 = driver.find_elements_by_xpath(\"//div[@class='_30jeq3']\")\n",
    "price_tag3[0:19]"
   ]
  },
  {
   "cell_type": "code",
   "execution_count": 256,
   "id": "abade6bc",
   "metadata": {},
   "outputs": [
    {
     "data": {
      "text/plain": [
       "['₹339',\n",
       " '₹444',\n",
       " '₹474',\n",
       " '₹474',\n",
       " '₹479',\n",
       " '₹459',\n",
       " '₹379',\n",
       " '₹384',\n",
       " '₹535',\n",
       " '₹674',\n",
       " '₹897',\n",
       " '₹1,509',\n",
       " '₹265',\n",
       " '₹536',\n",
       " '₹974',\n",
       " '₹954',\n",
       " '₹798',\n",
       " '₹499',\n",
       " '₹499']"
      ]
     },
     "execution_count": 256,
     "metadata": {},
     "output_type": "execute_result"
    }
   ],
   "source": [
    "for i in price_tag3:\n",
    "    title=i.text\n",
    "    price3.append(title)\n",
    "price3[0:19]"
   ]
  },
  {
   "cell_type": "code",
   "execution_count": 257,
   "id": "7626a6e3",
   "metadata": {},
   "outputs": [
    {
     "name": "stderr",
     "output_type": "stream",
     "text": [
      "<ipython-input-257-c1c968e049fb>:1: DeprecationWarning: find_elements_by_* commands are deprecated. Please use find_elements() instead\n",
      "  dis_tags3 = driver.find_elements_by_xpath(\"//div[@class='_3Ay6Sb']\")\n"
     ]
    },
    {
     "data": {
      "text/plain": [
       "[<selenium.webdriver.remote.webelement.WebElement (session=\"8e955d8c46267d169dc7bb2227002222\", element=\"767c68ac-6f8d-4a64-827a-64341567656f\")>,\n",
       " <selenium.webdriver.remote.webelement.WebElement (session=\"8e955d8c46267d169dc7bb2227002222\", element=\"cca8797a-5b2e-4bec-864c-bf797ac5d442\")>,\n",
       " <selenium.webdriver.remote.webelement.WebElement (session=\"8e955d8c46267d169dc7bb2227002222\", element=\"1958e693-270c-4019-96b8-f787b9e754ac\")>,\n",
       " <selenium.webdriver.remote.webelement.WebElement (session=\"8e955d8c46267d169dc7bb2227002222\", element=\"a6f894a7-f64a-44db-8ab1-3d20d4a335d4\")>,\n",
       " <selenium.webdriver.remote.webelement.WebElement (session=\"8e955d8c46267d169dc7bb2227002222\", element=\"5299e34c-dcb2-4b63-a670-9003a1e907eb\")>,\n",
       " <selenium.webdriver.remote.webelement.WebElement (session=\"8e955d8c46267d169dc7bb2227002222\", element=\"301e0963-a0c5-4729-a4fb-6baf196ab347\")>,\n",
       " <selenium.webdriver.remote.webelement.WebElement (session=\"8e955d8c46267d169dc7bb2227002222\", element=\"200abf78-f444-401a-8119-219b393e19b8\")>,\n",
       " <selenium.webdriver.remote.webelement.WebElement (session=\"8e955d8c46267d169dc7bb2227002222\", element=\"0000c4e6-47ab-468f-8bae-d6e6a9771875\")>,\n",
       " <selenium.webdriver.remote.webelement.WebElement (session=\"8e955d8c46267d169dc7bb2227002222\", element=\"039e08a1-8fe6-465f-b780-ef30e954286a\")>,\n",
       " <selenium.webdriver.remote.webelement.WebElement (session=\"8e955d8c46267d169dc7bb2227002222\", element=\"22c5de48-fc01-46df-83a4-d2be9408b51b\")>,\n",
       " <selenium.webdriver.remote.webelement.WebElement (session=\"8e955d8c46267d169dc7bb2227002222\", element=\"39410a5a-26be-4021-93bf-02c0f4109621\")>,\n",
       " <selenium.webdriver.remote.webelement.WebElement (session=\"8e955d8c46267d169dc7bb2227002222\", element=\"b191a19b-7e0b-4fdb-8c8b-b2009da4f7bc\")>,\n",
       " <selenium.webdriver.remote.webelement.WebElement (session=\"8e955d8c46267d169dc7bb2227002222\", element=\"de983ba0-af2a-4179-b091-40dac75281a6\")>,\n",
       " <selenium.webdriver.remote.webelement.WebElement (session=\"8e955d8c46267d169dc7bb2227002222\", element=\"8b103b34-be7b-48a9-9f95-f02ee19cbc26\")>,\n",
       " <selenium.webdriver.remote.webelement.WebElement (session=\"8e955d8c46267d169dc7bb2227002222\", element=\"4f9b647f-80eb-4b04-a0bf-e0e4e7500d1e\")>,\n",
       " <selenium.webdriver.remote.webelement.WebElement (session=\"8e955d8c46267d169dc7bb2227002222\", element=\"8b411034-7bff-49e1-85c8-8d972dcd8819\")>,\n",
       " <selenium.webdriver.remote.webelement.WebElement (session=\"8e955d8c46267d169dc7bb2227002222\", element=\"56135c28-2684-4c66-af9a-aaa42b9db6af\")>,\n",
       " <selenium.webdriver.remote.webelement.WebElement (session=\"8e955d8c46267d169dc7bb2227002222\", element=\"229f7799-b4da-4276-9409-7dcc48816ca9\")>,\n",
       " <selenium.webdriver.remote.webelement.WebElement (session=\"8e955d8c46267d169dc7bb2227002222\", element=\"0aa5126d-e07c-487d-9905-7fee23d7254d\")>]"
      ]
     },
     "execution_count": 257,
     "metadata": {},
     "output_type": "execute_result"
    }
   ],
   "source": [
    "dis_tags3 = driver.find_elements_by_xpath(\"//div[@class='_3Ay6Sb']\")\n",
    "dis_tags3[0:19]"
   ]
  },
  {
   "cell_type": "code",
   "execution_count": 258,
   "id": "32c33624",
   "metadata": {},
   "outputs": [
    {
     "data": {
      "text/plain": [
       "['66% off',\n",
       " '55% off',\n",
       " '52% off',\n",
       " '52% off',\n",
       " '52% off',\n",
       " '54% off',\n",
       " '24% off',\n",
       " '61% off',\n",
       " '46% off',\n",
       " '32% off',\n",
       " '76% off',\n",
       " '68% off',\n",
       " '46% off',\n",
       " '58% off',\n",
       " '75% off',\n",
       " '16% off',\n",
       " '11% off',\n",
       " '66% off',\n",
       " '50% off']"
      ]
     },
     "execution_count": 258,
     "metadata": {},
     "output_type": "execute_result"
    }
   ],
   "source": [
    "for i in dis_tags3:\n",
    "    title=i.text\n",
    "    discount3.append(title)\n",
    "discount3[0:19]"
   ]
  },
  {
   "cell_type": "markdown",
   "id": "8e9a45d9",
   "metadata": {},
   "source": [
    "# NOW JOINING ALL LIST:"
   ]
  },
  {
   "cell_type": "code",
   "execution_count": 259,
   "id": "9d974c62",
   "metadata": {},
   "outputs": [],
   "source": [
    "Brands = brand1+brand2+brand3\n",
    "Description = description1+description2+description3\n",
    "Price = price1+price2+price3\n",
    "Discount = discount1+discount2+discount3"
   ]
  },
  {
   "cell_type": "code",
   "execution_count": 260,
   "id": "f2cccb85",
   "metadata": {},
   "outputs": [
    {
     "name": "stdout",
     "output_type": "stream",
     "text": [
      "120 120 120 120\n"
     ]
    }
   ],
   "source": [
    "print(len(Brands),len(Description),len(Price),len(Discount))"
   ]
  },
  {
   "cell_type": "markdown",
   "id": "45c213df",
   "metadata": {},
   "source": [
    "# CREATING DATAFRAME:-"
   ]
  },
  {
   "cell_type": "code",
   "execution_count": 261,
   "id": "8e9c2404",
   "metadata": {},
   "outputs": [],
   "source": [
    "sneakers_data = pd.DataFrame({'Brand':Brand,'Description':Description,'Price':Price,'Discount':Discount})"
   ]
  },
  {
   "cell_type": "code",
   "execution_count": 262,
   "id": "d0341f3f",
   "metadata": {},
   "outputs": [
    {
     "data": {
      "text/html": [
       "<div>\n",
       "<style scoped>\n",
       "    .dataframe tbody tr th:only-of-type {\n",
       "        vertical-align: middle;\n",
       "    }\n",
       "\n",
       "    .dataframe tbody tr th {\n",
       "        vertical-align: top;\n",
       "    }\n",
       "\n",
       "    .dataframe thead th {\n",
       "        text-align: right;\n",
       "    }\n",
       "</style>\n",
       "<table border=\"1\" class=\"dataframe\">\n",
       "  <thead>\n",
       "    <tr style=\"text-align: right;\">\n",
       "      <th></th>\n",
       "      <th>Brand</th>\n",
       "      <th>Description</th>\n",
       "      <th>Price</th>\n",
       "      <th>Discount</th>\n",
       "    </tr>\n",
       "  </thead>\n",
       "  <tbody>\n",
       "    <tr>\n",
       "      <th>0</th>\n",
       "      <td>SRPM</td>\n",
       "      <td>Modern Trendy Sneakers Shoes Sneakers For Men</td>\n",
       "      <td>₹299</td>\n",
       "      <td>76% off</td>\n",
       "    </tr>\n",
       "    <tr>\n",
       "      <th>1</th>\n",
       "      <td>Elligator</td>\n",
       "      <td>Sneakers Sneakers For Men</td>\n",
       "      <td>₹247</td>\n",
       "      <td>75% off</td>\n",
       "    </tr>\n",
       "    <tr>\n",
       "      <th>2</th>\n",
       "      <td>New Specs</td>\n",
       "      <td>Sports Running Shoes Sneakers For Men</td>\n",
       "      <td>₹299</td>\n",
       "      <td>40% off</td>\n",
       "    </tr>\n",
       "    <tr>\n",
       "      <th>3</th>\n",
       "      <td>PIRASO</td>\n",
       "      <td>Luxury Branded Fashionable Men's Casual Walkin...</td>\n",
       "      <td>₹499</td>\n",
       "      <td>37% off</td>\n",
       "    </tr>\n",
       "    <tr>\n",
       "      <th>4</th>\n",
       "      <td>kingsunglasses</td>\n",
       "      <td>White Sneaker For Men Sneakers For Men</td>\n",
       "      <td>₹479</td>\n",
       "      <td>63% off</td>\n",
       "    </tr>\n",
       "    <tr>\n",
       "      <th>...</th>\n",
       "      <td>...</td>\n",
       "      <td>...</td>\n",
       "      <td>...</td>\n",
       "      <td>...</td>\n",
       "    </tr>\n",
       "    <tr>\n",
       "      <th>115</th>\n",
       "      <td>NuVew</td>\n",
       "      <td>Smart Casuals Canvas Shoes Combo pack of 2 Sne...</td>\n",
       "      <td>₹357</td>\n",
       "      <td>64% off</td>\n",
       "    </tr>\n",
       "    <tr>\n",
       "      <th>116</th>\n",
       "      <td>Fravy</td>\n",
       "      <td>Sneakers For Men</td>\n",
       "      <td>₹349</td>\n",
       "      <td>65% off</td>\n",
       "    </tr>\n",
       "    <tr>\n",
       "      <th>117</th>\n",
       "      <td>agera</td>\n",
       "      <td>Sneakers For Men</td>\n",
       "      <td>₹599</td>\n",
       "      <td>40% off</td>\n",
       "    </tr>\n",
       "    <tr>\n",
       "      <th>118</th>\n",
       "      <td>PHENOMENAL</td>\n",
       "      <td>Combo Pack Of 2 Latest Stylish Casual Shoes fo...</td>\n",
       "      <td>₹530</td>\n",
       "      <td>78% off</td>\n",
       "    </tr>\n",
       "    <tr>\n",
       "      <th>119</th>\n",
       "      <td>AISLIN</td>\n",
       "      <td>Sneakers For Men</td>\n",
       "      <td>₹499</td>\n",
       "      <td>50% off</td>\n",
       "    </tr>\n",
       "  </tbody>\n",
       "</table>\n",
       "<p>120 rows × 4 columns</p>\n",
       "</div>"
      ],
      "text/plain": [
       "              Brand                                        Description Price  \\\n",
       "0              SRPM      Modern Trendy Sneakers Shoes Sneakers For Men  ₹299   \n",
       "1         Elligator                          Sneakers Sneakers For Men  ₹247   \n",
       "2         New Specs              Sports Running Shoes Sneakers For Men  ₹299   \n",
       "3            PIRASO  Luxury Branded Fashionable Men's Casual Walkin...  ₹499   \n",
       "4    kingsunglasses             White Sneaker For Men Sneakers For Men  ₹479   \n",
       "..              ...                                                ...   ...   \n",
       "115           NuVew  Smart Casuals Canvas Shoes Combo pack of 2 Sne...  ₹357   \n",
       "116           Fravy                                   Sneakers For Men  ₹349   \n",
       "117           agera                                   Sneakers For Men  ₹599   \n",
       "118      PHENOMENAL  Combo Pack Of 2 Latest Stylish Casual Shoes fo...  ₹530   \n",
       "119          AISLIN                                   Sneakers For Men  ₹499   \n",
       "\n",
       "    Discount  \n",
       "0    76% off  \n",
       "1    75% off  \n",
       "2    40% off  \n",
       "3    37% off  \n",
       "4    63% off  \n",
       "..       ...  \n",
       "115  64% off  \n",
       "116  65% off  \n",
       "117  40% off  \n",
       "118  78% off  \n",
       "119  50% off  \n",
       "\n",
       "[120 rows x 4 columns]"
      ]
     },
     "execution_count": 262,
     "metadata": {},
     "output_type": "execute_result"
    }
   ],
   "source": [
    "sneakers_data"
   ]
  },
  {
   "cell_type": "code",
   "execution_count": 263,
   "id": "d8b820d1",
   "metadata": {},
   "outputs": [],
   "source": [
    "#driver.close()"
   ]
  },
  {
   "cell_type": "markdown",
   "id": "07f5d8c4",
   "metadata": {},
   "source": [
    "#  scrape First 100 shoes data from myntra.com   ######"
   ]
  },
  {
   "cell_type": "code",
   "execution_count": 264,
   "id": "e0e1c74c",
   "metadata": {},
   "outputs": [
    {
     "name": "stderr",
     "output_type": "stream",
     "text": [
      "<ipython-input-264-151ce781a031>:1: DeprecationWarning: executable_path has been deprecated, please pass in a Service object\n",
      "  driver = webdriver.Chrome(r\"C:\\Users\\shaha\\Downloads\\chromedriver_win32/chromedriver.exe\")\n"
     ]
    }
   ],
   "source": [
    "driver = webdriver.Chrome(r\"C:\\Users\\shaha\\Downloads\\chromedriver_win32/chromedriver.exe\")"
   ]
  },
  {
   "cell_type": "code",
   "execution_count": 265,
   "id": "093b74ed",
   "metadata": {},
   "outputs": [],
   "source": [
    "url =(\"https://www.myntra.com/shoes \")"
   ]
  },
  {
   "cell_type": "code",
   "execution_count": 266,
   "id": "05c58db6",
   "metadata": {},
   "outputs": [],
   "source": [
    "driver.get(url)"
   ]
  },
  {
   "cell_type": "markdown",
   "id": "961e5d91",
   "metadata": {},
   "source": [
    "# checking filters:"
   ]
  },
  {
   "cell_type": "code",
   "execution_count": 267,
   "id": "c7a9a223",
   "metadata": {},
   "outputs": [
    {
     "name": "stderr",
     "output_type": "stream",
     "text": [
      "<ipython-input-267-f1ef62bb027e>:1: DeprecationWarning: find_element_by_* commands are deprecated. Please use find_element() instead\n",
      "  set_price = driver.find_element_by_xpath(\"//ul[@class='price-list']/li[2]\")\n"
     ]
    }
   ],
   "source": [
    "set_price = driver.find_element_by_xpath(\"//ul[@class='price-list']/li[2]\")\n",
    "set_price.click()"
   ]
  },
  {
   "cell_type": "markdown",
   "id": "a7bda904",
   "metadata": {},
   "source": [
    "# for color now:"
   ]
  },
  {
   "cell_type": "code",
   "execution_count": 268,
   "id": "9c2b6138",
   "metadata": {},
   "outputs": [
    {
     "name": "stderr",
     "output_type": "stream",
     "text": [
      "<ipython-input-268-53de0d443076>:1: DeprecationWarning: find_element_by_* commands are deprecated. Please use find_element() instead\n",
      "  set_color = driver.find_element_by_xpath(\"//li[@class='colour-listItem']\")\n"
     ]
    }
   ],
   "source": [
    "set_color = driver.find_element_by_xpath(\"//li[@class='colour-listItem']\")\n",
    "set_color.click()"
   ]
  },
  {
   "cell_type": "markdown",
   "id": "46bdd027",
   "metadata": {},
   "source": [
    "# now we will scrape data:"
   ]
  },
  {
   "cell_type": "code",
   "execution_count": 269,
   "id": "5d13b0cf",
   "metadata": {},
   "outputs": [],
   "source": [
    "brand = []\n",
    "short_description =[]\n",
    "price = []"
   ]
  },
  {
   "cell_type": "code",
   "execution_count": 270,
   "id": "d06d9253",
   "metadata": {},
   "outputs": [
    {
     "name": "stderr",
     "output_type": "stream",
     "text": [
      "<ipython-input-270-86f552e29eaa>:1: DeprecationWarning: find_elements_by_* commands are deprecated. Please use find_elements() instead\n",
      "  brand_tags = driver.find_elements_by_xpath(\"//h3[@class='product-brand']\")\n"
     ]
    },
    {
     "data": {
      "text/plain": [
       "[<selenium.webdriver.remote.webelement.WebElement (session=\"9f73ed834ac4ed7d040a73884fb3d5b8\", element=\"950ad429-7d0c-41d5-ab8f-b1f9445ecac4\")>,\n",
       " <selenium.webdriver.remote.webelement.WebElement (session=\"9f73ed834ac4ed7d040a73884fb3d5b8\", element=\"558017de-4453-4cb5-8ed0-c89cfaea57e9\")>,\n",
       " <selenium.webdriver.remote.webelement.WebElement (session=\"9f73ed834ac4ed7d040a73884fb3d5b8\", element=\"623a5485-7006-4e9a-8699-45965e67c66b\")>,\n",
       " <selenium.webdriver.remote.webelement.WebElement (session=\"9f73ed834ac4ed7d040a73884fb3d5b8\", element=\"dbe5d062-6ad0-4308-9417-7a14316e52ca\")>,\n",
       " <selenium.webdriver.remote.webelement.WebElement (session=\"9f73ed834ac4ed7d040a73884fb3d5b8\", element=\"68d8faae-cc1a-49f1-b91e-e0b633b8e31a\")>,\n",
       " <selenium.webdriver.remote.webelement.WebElement (session=\"9f73ed834ac4ed7d040a73884fb3d5b8\", element=\"a356ebe4-99ea-4856-bc21-bc9f0fc2f0f6\")>,\n",
       " <selenium.webdriver.remote.webelement.WebElement (session=\"9f73ed834ac4ed7d040a73884fb3d5b8\", element=\"fb14a1a4-62d0-4b33-a776-cd805c0cf82b\")>,\n",
       " <selenium.webdriver.remote.webelement.WebElement (session=\"9f73ed834ac4ed7d040a73884fb3d5b8\", element=\"60304129-e635-420c-87a1-c69833adf080\")>,\n",
       " <selenium.webdriver.remote.webelement.WebElement (session=\"9f73ed834ac4ed7d040a73884fb3d5b8\", element=\"2a62637e-369c-4bf5-afff-95a15229a50c\")>,\n",
       " <selenium.webdriver.remote.webelement.WebElement (session=\"9f73ed834ac4ed7d040a73884fb3d5b8\", element=\"2c28f97b-aecf-4dbe-856d-d4a535efe85c\")>,\n",
       " <selenium.webdriver.remote.webelement.WebElement (session=\"9f73ed834ac4ed7d040a73884fb3d5b8\", element=\"2f86f03e-050d-42bc-b3a6-26c9bd8c907e\")>,\n",
       " <selenium.webdriver.remote.webelement.WebElement (session=\"9f73ed834ac4ed7d040a73884fb3d5b8\", element=\"482b5b78-9e86-4c84-98ba-9a75f6bd6a55\")>,\n",
       " <selenium.webdriver.remote.webelement.WebElement (session=\"9f73ed834ac4ed7d040a73884fb3d5b8\", element=\"1c698c5a-e076-425c-81bb-9bd5e5f467db\")>,\n",
       " <selenium.webdriver.remote.webelement.WebElement (session=\"9f73ed834ac4ed7d040a73884fb3d5b8\", element=\"59028419-a1ef-4c18-a48e-38846414e4c2\")>,\n",
       " <selenium.webdriver.remote.webelement.WebElement (session=\"9f73ed834ac4ed7d040a73884fb3d5b8\", element=\"8d9c26aa-aa8c-46ac-9731-db2b6406f6eb\")>,\n",
       " <selenium.webdriver.remote.webelement.WebElement (session=\"9f73ed834ac4ed7d040a73884fb3d5b8\", element=\"72a54056-4fda-44f4-beea-85a232925a92\")>,\n",
       " <selenium.webdriver.remote.webelement.WebElement (session=\"9f73ed834ac4ed7d040a73884fb3d5b8\", element=\"bfbab83f-94c8-4232-ba32-c25dbd682efa\")>,\n",
       " <selenium.webdriver.remote.webelement.WebElement (session=\"9f73ed834ac4ed7d040a73884fb3d5b8\", element=\"d1154c53-8f85-45f0-85f6-3248aa044e55\")>,\n",
       " <selenium.webdriver.remote.webelement.WebElement (session=\"9f73ed834ac4ed7d040a73884fb3d5b8\", element=\"5bff7d77-7f5f-49d9-acca-f627fcdb45dc\")>,\n",
       " <selenium.webdriver.remote.webelement.WebElement (session=\"9f73ed834ac4ed7d040a73884fb3d5b8\", element=\"300acca9-998d-48f7-bd60-684bdd3dded5\")>,\n",
       " <selenium.webdriver.remote.webelement.WebElement (session=\"9f73ed834ac4ed7d040a73884fb3d5b8\", element=\"aff83d46-7d3e-4498-aadb-77b5f751bd68\")>,\n",
       " <selenium.webdriver.remote.webelement.WebElement (session=\"9f73ed834ac4ed7d040a73884fb3d5b8\", element=\"c305da6a-e75e-4a51-ad75-be7e4693c519\")>,\n",
       " <selenium.webdriver.remote.webelement.WebElement (session=\"9f73ed834ac4ed7d040a73884fb3d5b8\", element=\"8ba95eef-f3d2-4ca5-9fc9-8ba8dfc36b5e\")>,\n",
       " <selenium.webdriver.remote.webelement.WebElement (session=\"9f73ed834ac4ed7d040a73884fb3d5b8\", element=\"3f407708-d626-4b64-ace7-ddbf2404c919\")>,\n",
       " <selenium.webdriver.remote.webelement.WebElement (session=\"9f73ed834ac4ed7d040a73884fb3d5b8\", element=\"e89499ae-e3a3-4ccc-aa33-9f984ef013c8\")>,\n",
       " <selenium.webdriver.remote.webelement.WebElement (session=\"9f73ed834ac4ed7d040a73884fb3d5b8\", element=\"1caf5649-e176-4ae8-8f9d-4fb45a3e1ffb\")>,\n",
       " <selenium.webdriver.remote.webelement.WebElement (session=\"9f73ed834ac4ed7d040a73884fb3d5b8\", element=\"e3213066-c5d4-417f-80cf-6b017b8c9e6a\")>,\n",
       " <selenium.webdriver.remote.webelement.WebElement (session=\"9f73ed834ac4ed7d040a73884fb3d5b8\", element=\"86753fb0-55c0-4729-9e87-5da8340eb6c7\")>,\n",
       " <selenium.webdriver.remote.webelement.WebElement (session=\"9f73ed834ac4ed7d040a73884fb3d5b8\", element=\"174ee9a7-79a7-493d-a640-aef781e979f2\")>,\n",
       " <selenium.webdriver.remote.webelement.WebElement (session=\"9f73ed834ac4ed7d040a73884fb3d5b8\", element=\"11012a41-cc99-4e2a-a491-018338d9ac5e\")>,\n",
       " <selenium.webdriver.remote.webelement.WebElement (session=\"9f73ed834ac4ed7d040a73884fb3d5b8\", element=\"7b4855b1-6d52-4ae0-ba43-8d6da7497d0f\")>,\n",
       " <selenium.webdriver.remote.webelement.WebElement (session=\"9f73ed834ac4ed7d040a73884fb3d5b8\", element=\"471ce17e-132c-4c65-81bb-db240e31d652\")>,\n",
       " <selenium.webdriver.remote.webelement.WebElement (session=\"9f73ed834ac4ed7d040a73884fb3d5b8\", element=\"4e94bb6f-4087-4cff-bb7d-a4c43fb64b98\")>,\n",
       " <selenium.webdriver.remote.webelement.WebElement (session=\"9f73ed834ac4ed7d040a73884fb3d5b8\", element=\"cd6f7be3-247f-47dc-80ac-a090cf75fc10\")>,\n",
       " <selenium.webdriver.remote.webelement.WebElement (session=\"9f73ed834ac4ed7d040a73884fb3d5b8\", element=\"9fbfb1a1-a1c3-4578-b0df-decb2a3c0393\")>,\n",
       " <selenium.webdriver.remote.webelement.WebElement (session=\"9f73ed834ac4ed7d040a73884fb3d5b8\", element=\"b85c349e-3173-4563-a61d-f4cdc09377a5\")>,\n",
       " <selenium.webdriver.remote.webelement.WebElement (session=\"9f73ed834ac4ed7d040a73884fb3d5b8\", element=\"c3e13263-90ff-4046-89a2-4f9f8b7f1acd\")>,\n",
       " <selenium.webdriver.remote.webelement.WebElement (session=\"9f73ed834ac4ed7d040a73884fb3d5b8\", element=\"686f8519-6e00-4f5b-af28-d113bd808407\")>,\n",
       " <selenium.webdriver.remote.webelement.WebElement (session=\"9f73ed834ac4ed7d040a73884fb3d5b8\", element=\"4efae46e-a4d4-419d-9854-709f915e066c\")>,\n",
       " <selenium.webdriver.remote.webelement.WebElement (session=\"9f73ed834ac4ed7d040a73884fb3d5b8\", element=\"f097120c-8d28-4c17-bd6e-ab9693ac2984\")>,\n",
       " <selenium.webdriver.remote.webelement.WebElement (session=\"9f73ed834ac4ed7d040a73884fb3d5b8\", element=\"85d82efb-a601-4d74-8641-696ef4603232\")>,\n",
       " <selenium.webdriver.remote.webelement.WebElement (session=\"9f73ed834ac4ed7d040a73884fb3d5b8\", element=\"df2e1a33-52e3-4922-b39f-8ffe2b50747b\")>,\n",
       " <selenium.webdriver.remote.webelement.WebElement (session=\"9f73ed834ac4ed7d040a73884fb3d5b8\", element=\"4c38ead2-903a-4acd-8640-bb9ffe5ff3f8\")>,\n",
       " <selenium.webdriver.remote.webelement.WebElement (session=\"9f73ed834ac4ed7d040a73884fb3d5b8\", element=\"2617efa1-0e84-41c9-918f-1b7af3c5f147\")>,\n",
       " <selenium.webdriver.remote.webelement.WebElement (session=\"9f73ed834ac4ed7d040a73884fb3d5b8\", element=\"229d29f9-dae7-433e-94ed-569f29f51eb0\")>,\n",
       " <selenium.webdriver.remote.webelement.WebElement (session=\"9f73ed834ac4ed7d040a73884fb3d5b8\", element=\"59f58506-1b4e-47d3-b475-2ac71d1b522e\")>,\n",
       " <selenium.webdriver.remote.webelement.WebElement (session=\"9f73ed834ac4ed7d040a73884fb3d5b8\", element=\"77c4ba7a-ce69-4060-88fb-2133ff4346ce\")>,\n",
       " <selenium.webdriver.remote.webelement.WebElement (session=\"9f73ed834ac4ed7d040a73884fb3d5b8\", element=\"d3d5f1f7-0de9-4e22-b604-309c1092825e\")>,\n",
       " <selenium.webdriver.remote.webelement.WebElement (session=\"9f73ed834ac4ed7d040a73884fb3d5b8\", element=\"a813cea6-93f2-4202-80fe-7bcd70aa8539\")>,\n",
       " <selenium.webdriver.remote.webelement.WebElement (session=\"9f73ed834ac4ed7d040a73884fb3d5b8\", element=\"f1553369-1549-4983-bb8b-59de23dd4cb6\")>]"
      ]
     },
     "execution_count": 270,
     "metadata": {},
     "output_type": "execute_result"
    }
   ],
   "source": [
    "brand_tags = driver.find_elements_by_xpath(\"//h3[@class='product-brand']\")\n",
    "brand_tags"
   ]
  },
  {
   "cell_type": "code",
   "execution_count": 271,
   "id": "d146ad75",
   "metadata": {},
   "outputs": [
    {
     "data": {
      "text/plain": [
       "['ASICS',\n",
       " 'Puma',\n",
       " 'Puma',\n",
       " 'Puma',\n",
       " 'Nike',\n",
       " 'Hush Puppies',\n",
       " 'Hush Puppies',\n",
       " 'ASICS',\n",
       " 'Hush Puppies',\n",
       " 'Puma',\n",
       " 'Hush Puppies',\n",
       " 'DAVINCHI',\n",
       " 'FORCLAZ By Decathlon',\n",
       " 'Skechers',\n",
       " 'RARE RABBIT',\n",
       " 'Skechers',\n",
       " 'ASICS',\n",
       " 'Quechua By Decathlon',\n",
       " 'UNDER ARMOUR',\n",
       " 'ASICS',\n",
       " 'Puma',\n",
       " 'Saint G',\n",
       " 'Heel & Buckle London',\n",
       " 'Hush Puppies',\n",
       " 'Hush Puppies',\n",
       " 'Pavers England',\n",
       " 'Ruosh',\n",
       " 'Cole Haan',\n",
       " 'J.FONTINI',\n",
       " 'ASICS',\n",
       " 'Hush Puppies',\n",
       " 'Pavers England',\n",
       " 'DAVINCHI',\n",
       " 'Saint G',\n",
       " 'Saint G',\n",
       " 'Bugatti',\n",
       " 'Saint G',\n",
       " 'H&M',\n",
       " 'Hush Puppies',\n",
       " 'Geox',\n",
       " 'Saint G',\n",
       " 'Heel & Buckle London',\n",
       " 'Hush Puppies',\n",
       " 'Ruosh',\n",
       " 'J.FONTINI',\n",
       " 'Ruosh',\n",
       " 'J.FONTINI',\n",
       " 'Saint G',\n",
       " 'UNDER ARMOUR',\n",
       " 'Saint G']"
      ]
     },
     "execution_count": 271,
     "metadata": {},
     "output_type": "execute_result"
    }
   ],
   "source": [
    "for i in brand_tags:\n",
    "    title=i.text\n",
    "    brand.append(title)\n",
    "brand"
   ]
  },
  {
   "cell_type": "code",
   "execution_count": 272,
   "id": "db408593",
   "metadata": {},
   "outputs": [
    {
     "name": "stderr",
     "output_type": "stream",
     "text": [
      "<ipython-input-272-88926fcd060a>:1: DeprecationWarning: find_elements_by_* commands are deprecated. Please use find_elements() instead\n",
      "  descrption_tags = driver.find_elements_by_xpath(\"//h4[@class='product-product']\")\n"
     ]
    },
    {
     "data": {
      "text/plain": [
       "[<selenium.webdriver.remote.webelement.WebElement (session=\"9f73ed834ac4ed7d040a73884fb3d5b8\", element=\"23da489e-3a66-4721-81a8-9dcf94da8627\")>,\n",
       " <selenium.webdriver.remote.webelement.WebElement (session=\"9f73ed834ac4ed7d040a73884fb3d5b8\", element=\"182efdf2-1900-4448-b654-781a2b5163c0\")>,\n",
       " <selenium.webdriver.remote.webelement.WebElement (session=\"9f73ed834ac4ed7d040a73884fb3d5b8\", element=\"c472fef8-8765-44c6-bd7e-69a7d4f667a8\")>,\n",
       " <selenium.webdriver.remote.webelement.WebElement (session=\"9f73ed834ac4ed7d040a73884fb3d5b8\", element=\"7354dbe9-e2f2-4835-95b2-c747c70567ec\")>,\n",
       " <selenium.webdriver.remote.webelement.WebElement (session=\"9f73ed834ac4ed7d040a73884fb3d5b8\", element=\"d806bc02-a85c-42e5-8047-746cefc7a27a\")>,\n",
       " <selenium.webdriver.remote.webelement.WebElement (session=\"9f73ed834ac4ed7d040a73884fb3d5b8\", element=\"f326aa36-1732-4f69-abfa-72c0fb190831\")>,\n",
       " <selenium.webdriver.remote.webelement.WebElement (session=\"9f73ed834ac4ed7d040a73884fb3d5b8\", element=\"e39469ff-17a3-4f16-a971-4e426bd4e1c7\")>,\n",
       " <selenium.webdriver.remote.webelement.WebElement (session=\"9f73ed834ac4ed7d040a73884fb3d5b8\", element=\"4e678a9f-53ec-4c1f-8ca2-9fde00f7f1ce\")>,\n",
       " <selenium.webdriver.remote.webelement.WebElement (session=\"9f73ed834ac4ed7d040a73884fb3d5b8\", element=\"2fe2a06b-80ab-46cf-a3a4-b667bbbacf7f\")>,\n",
       " <selenium.webdriver.remote.webelement.WebElement (session=\"9f73ed834ac4ed7d040a73884fb3d5b8\", element=\"1b39e145-e48b-4882-b529-6deba1722dcc\")>,\n",
       " <selenium.webdriver.remote.webelement.WebElement (session=\"9f73ed834ac4ed7d040a73884fb3d5b8\", element=\"6612e83e-88aa-4262-a280-668a5da09bfa\")>,\n",
       " <selenium.webdriver.remote.webelement.WebElement (session=\"9f73ed834ac4ed7d040a73884fb3d5b8\", element=\"616cfb1a-b48f-4204-a288-2da3da6f6bbe\")>,\n",
       " <selenium.webdriver.remote.webelement.WebElement (session=\"9f73ed834ac4ed7d040a73884fb3d5b8\", element=\"151dc1f6-b153-46b1-802d-b6f003768ab4\")>,\n",
       " <selenium.webdriver.remote.webelement.WebElement (session=\"9f73ed834ac4ed7d040a73884fb3d5b8\", element=\"b7dc57f6-8049-4270-91fd-33b549acf01e\")>,\n",
       " <selenium.webdriver.remote.webelement.WebElement (session=\"9f73ed834ac4ed7d040a73884fb3d5b8\", element=\"55981711-9934-48c6-80a1-28064e35a4ee\")>,\n",
       " <selenium.webdriver.remote.webelement.WebElement (session=\"9f73ed834ac4ed7d040a73884fb3d5b8\", element=\"a55e5615-e8f9-4bff-9f4e-7f9ad173089d\")>,\n",
       " <selenium.webdriver.remote.webelement.WebElement (session=\"9f73ed834ac4ed7d040a73884fb3d5b8\", element=\"2b158c07-6e93-4053-b9f9-3c3e2099be8e\")>,\n",
       " <selenium.webdriver.remote.webelement.WebElement (session=\"9f73ed834ac4ed7d040a73884fb3d5b8\", element=\"75b8fa42-0054-4ea5-b83d-3ddf77380876\")>,\n",
       " <selenium.webdriver.remote.webelement.WebElement (session=\"9f73ed834ac4ed7d040a73884fb3d5b8\", element=\"e5074bf8-03b6-40b3-bcb3-0d89b48612f0\")>,\n",
       " <selenium.webdriver.remote.webelement.WebElement (session=\"9f73ed834ac4ed7d040a73884fb3d5b8\", element=\"5c88e9d4-0264-4067-939b-f8613609f9ec\")>,\n",
       " <selenium.webdriver.remote.webelement.WebElement (session=\"9f73ed834ac4ed7d040a73884fb3d5b8\", element=\"6007e1e9-f750-4186-afbf-447cebf5c6c0\")>,\n",
       " <selenium.webdriver.remote.webelement.WebElement (session=\"9f73ed834ac4ed7d040a73884fb3d5b8\", element=\"7991e919-2d1b-4207-837c-63472baeadd3\")>,\n",
       " <selenium.webdriver.remote.webelement.WebElement (session=\"9f73ed834ac4ed7d040a73884fb3d5b8\", element=\"3b5dc1a1-2b62-4c0f-9a2f-a41313204b01\")>,\n",
       " <selenium.webdriver.remote.webelement.WebElement (session=\"9f73ed834ac4ed7d040a73884fb3d5b8\", element=\"b062ef11-9027-4c09-894f-20699d09522e\")>,\n",
       " <selenium.webdriver.remote.webelement.WebElement (session=\"9f73ed834ac4ed7d040a73884fb3d5b8\", element=\"6c33f183-4e96-44ee-9136-0a753e90a211\")>,\n",
       " <selenium.webdriver.remote.webelement.WebElement (session=\"9f73ed834ac4ed7d040a73884fb3d5b8\", element=\"bd874e30-599d-4af7-ad95-fa211e57eae2\")>,\n",
       " <selenium.webdriver.remote.webelement.WebElement (session=\"9f73ed834ac4ed7d040a73884fb3d5b8\", element=\"72746284-9316-41bb-b35c-cf93893bbe50\")>,\n",
       " <selenium.webdriver.remote.webelement.WebElement (session=\"9f73ed834ac4ed7d040a73884fb3d5b8\", element=\"eea2b6e3-97f7-4bce-bc34-087bbbf400d0\")>,\n",
       " <selenium.webdriver.remote.webelement.WebElement (session=\"9f73ed834ac4ed7d040a73884fb3d5b8\", element=\"fb62d6c0-11b6-41a8-bfdc-bcc327ca72ce\")>,\n",
       " <selenium.webdriver.remote.webelement.WebElement (session=\"9f73ed834ac4ed7d040a73884fb3d5b8\", element=\"6d85867c-dac6-45d4-9b8a-b0eee574d3c6\")>,\n",
       " <selenium.webdriver.remote.webelement.WebElement (session=\"9f73ed834ac4ed7d040a73884fb3d5b8\", element=\"23cd7268-ea63-42d5-81d7-1f6071c43f0f\")>,\n",
       " <selenium.webdriver.remote.webelement.WebElement (session=\"9f73ed834ac4ed7d040a73884fb3d5b8\", element=\"9d1fce82-1c70-4514-bc17-fad7ec506171\")>,\n",
       " <selenium.webdriver.remote.webelement.WebElement (session=\"9f73ed834ac4ed7d040a73884fb3d5b8\", element=\"7badfdac-9dd4-41f7-8375-e14fa38ef710\")>,\n",
       " <selenium.webdriver.remote.webelement.WebElement (session=\"9f73ed834ac4ed7d040a73884fb3d5b8\", element=\"f9113105-d9d3-412b-ae0d-5d332e3d4736\")>,\n",
       " <selenium.webdriver.remote.webelement.WebElement (session=\"9f73ed834ac4ed7d040a73884fb3d5b8\", element=\"f617eef6-88a1-45c7-8a78-f23675af8c2d\")>,\n",
       " <selenium.webdriver.remote.webelement.WebElement (session=\"9f73ed834ac4ed7d040a73884fb3d5b8\", element=\"dd7a47b4-cbef-4711-8eee-a4ad61e9f650\")>,\n",
       " <selenium.webdriver.remote.webelement.WebElement (session=\"9f73ed834ac4ed7d040a73884fb3d5b8\", element=\"d97a8318-eb55-4782-a0e1-09716f99e6e8\")>,\n",
       " <selenium.webdriver.remote.webelement.WebElement (session=\"9f73ed834ac4ed7d040a73884fb3d5b8\", element=\"adc9bcfa-18c3-4ea7-a514-aea55dedf258\")>,\n",
       " <selenium.webdriver.remote.webelement.WebElement (session=\"9f73ed834ac4ed7d040a73884fb3d5b8\", element=\"1d0c638d-790b-41a8-bf24-eee502f2671c\")>,\n",
       " <selenium.webdriver.remote.webelement.WebElement (session=\"9f73ed834ac4ed7d040a73884fb3d5b8\", element=\"04d803d4-7857-474b-b17e-14b25e4cabf5\")>,\n",
       " <selenium.webdriver.remote.webelement.WebElement (session=\"9f73ed834ac4ed7d040a73884fb3d5b8\", element=\"0ee001f3-67b6-4e57-afcc-ad7ae276bf59\")>,\n",
       " <selenium.webdriver.remote.webelement.WebElement (session=\"9f73ed834ac4ed7d040a73884fb3d5b8\", element=\"7743d440-dd8e-44e2-80ac-69af0a38fcb1\")>,\n",
       " <selenium.webdriver.remote.webelement.WebElement (session=\"9f73ed834ac4ed7d040a73884fb3d5b8\", element=\"aa3f81e2-0fa8-4727-916b-969c2adf5545\")>,\n",
       " <selenium.webdriver.remote.webelement.WebElement (session=\"9f73ed834ac4ed7d040a73884fb3d5b8\", element=\"98c3639c-ff72-4aab-ac93-c3636541602b\")>,\n",
       " <selenium.webdriver.remote.webelement.WebElement (session=\"9f73ed834ac4ed7d040a73884fb3d5b8\", element=\"11fa6534-e006-4b84-aa9c-994f05ebbc33\")>,\n",
       " <selenium.webdriver.remote.webelement.WebElement (session=\"9f73ed834ac4ed7d040a73884fb3d5b8\", element=\"c38342b7-829a-4d5a-890a-bf433ca0e721\")>,\n",
       " <selenium.webdriver.remote.webelement.WebElement (session=\"9f73ed834ac4ed7d040a73884fb3d5b8\", element=\"6caf6e53-26e5-46ef-9858-9ae675845e8d\")>,\n",
       " <selenium.webdriver.remote.webelement.WebElement (session=\"9f73ed834ac4ed7d040a73884fb3d5b8\", element=\"3d8f81a1-c822-4d83-9743-846a7ba96bb0\")>,\n",
       " <selenium.webdriver.remote.webelement.WebElement (session=\"9f73ed834ac4ed7d040a73884fb3d5b8\", element=\"1cee3e67-3d07-4fae-9ecc-1a3798aec53f\")>,\n",
       " <selenium.webdriver.remote.webelement.WebElement (session=\"9f73ed834ac4ed7d040a73884fb3d5b8\", element=\"93ea3434-6042-4e65-ada7-1ecdb4a6e908\")>]"
      ]
     },
     "execution_count": 272,
     "metadata": {},
     "output_type": "execute_result"
    }
   ],
   "source": [
    "descrption_tags = driver.find_elements_by_xpath(\"//h4[@class='product-product']\")\n",
    "descrption_tags"
   ]
  },
  {
   "cell_type": "code",
   "execution_count": 273,
   "id": "5e60b6ee",
   "metadata": {},
   "outputs": [
    {
     "data": {
      "text/plain": [
       "['Men GEL-KAYANO 27 Shoes',\n",
       " 'Men Running Shoes',\n",
       " 'Men Deviate Nitro Running Shoe',\n",
       " 'Women Eternity NITRO Shoes',\n",
       " 'Men Waffle One SE Sneakers',\n",
       " 'Men Leather Slip-On Sneakers',\n",
       " 'Men Solid Leather Formal Slip-Ons',\n",
       " 'Men Black Running Sports Shoes',\n",
       " 'Men Solid Leather Formal Derbys',\n",
       " 'Men Magnify Nitro Running',\n",
       " 'Men Formal Derbys',\n",
       " 'Ustraa black',\n",
       " 'TREKKING 100 Boots',\n",
       " 'Women BILLION SUBTLE Sneakers',\n",
       " 'Men Leather Formal Slip-Ons',\n",
       " 'Men TR Ultra Sneakers',\n",
       " 'Men GT-800 Running Shoes',\n",
       " 'Men Trekking Shoes',\n",
       " 'Women Charged Vantage ClrShft',\n",
       " 'Men Running Shoes',\n",
       " 'Women Magnify Nitro Shoes',\n",
       " 'Men Mid-Top Chelsea Boots',\n",
       " 'Men Leather Loafers',\n",
       " 'Men Leather Slip-On Sneakers',\n",
       " 'Men Solid Formal Slip-Ons',\n",
       " 'Men Textured Leather Loafers',\n",
       " 'Men Leather Slip-On Shoes',\n",
       " 'Men Wingtip Oxford Sneakers',\n",
       " 'Men Textured Leather Loafers',\n",
       " 'Skycourt Sneakers',\n",
       " 'Men Solid Leather Formal Slip-Ons',\n",
       " 'Men Solid Leather Formal Debys',\n",
       " 'Men Textured Leather Formal Oxfords',\n",
       " 'Women Leather Heeled Boots',\n",
       " 'Suede Block Heeled Boots',\n",
       " 'Leather Block Heeled Boots',\n",
       " 'Women High-Top Heeled Boots',\n",
       " 'Leather Chelsea Boots',\n",
       " 'Men Solid Formal Leather Slip-Ons',\n",
       " 'Men Leather Formal Derbys',\n",
       " 'Women Leather Heeled Boots',\n",
       " 'Men Solid Leather Formal Penny Loafers',\n",
       " 'Men Leather Formal Derbys',\n",
       " 'Men Leather Slip-On Shoes',\n",
       " 'Men Leather Formal Loafers',\n",
       " 'Men Solid Leather Formal Monks',\n",
       " 'Men Solid Leather Formal Derbys',\n",
       " 'Woman Black Leather Boots',\n",
       " 'Women Charged Impulse Shft',\n",
       " 'Leather Boots with Buckles']"
      ]
     },
     "execution_count": 273,
     "metadata": {},
     "output_type": "execute_result"
    }
   ],
   "source": [
    "for i in descrption_tags:\n",
    "    title=i.text\n",
    "    short_description.append(title)\n",
    "short_description"
   ]
  },
  {
   "cell_type": "code",
   "execution_count": 274,
   "id": "553c034e",
   "metadata": {},
   "outputs": [
    {
     "name": "stderr",
     "output_type": "stream",
     "text": [
      "<ipython-input-274-9b71cd60c2be>:1: DeprecationWarning: find_elements_by_* commands are deprecated. Please use find_elements() instead\n",
      "  price_tags = driver.find_elements_by_xpath(\"//div[@class='product-price']/span[1]\")\n"
     ]
    },
    {
     "data": {
      "text/plain": [
       "[<selenium.webdriver.remote.webelement.WebElement (session=\"9f73ed834ac4ed7d040a73884fb3d5b8\", element=\"b3dc3e67-7f26-4731-a49e-95cdfbff593e\")>,\n",
       " <selenium.webdriver.remote.webelement.WebElement (session=\"9f73ed834ac4ed7d040a73884fb3d5b8\", element=\"07ae9acb-32a6-478f-8e3d-22ae66ddeab8\")>,\n",
       " <selenium.webdriver.remote.webelement.WebElement (session=\"9f73ed834ac4ed7d040a73884fb3d5b8\", element=\"bb2f8889-7d04-416c-a5fc-2c64631b2539\")>,\n",
       " <selenium.webdriver.remote.webelement.WebElement (session=\"9f73ed834ac4ed7d040a73884fb3d5b8\", element=\"be431b07-1c62-41b6-92a2-8b6b7e988e7a\")>,\n",
       " <selenium.webdriver.remote.webelement.WebElement (session=\"9f73ed834ac4ed7d040a73884fb3d5b8\", element=\"07ff87bc-f4a2-4dbc-b3ce-0bf6837d80d6\")>,\n",
       " <selenium.webdriver.remote.webelement.WebElement (session=\"9f73ed834ac4ed7d040a73884fb3d5b8\", element=\"813f5d8d-0c43-405d-b42b-c36c8c85090e\")>,\n",
       " <selenium.webdriver.remote.webelement.WebElement (session=\"9f73ed834ac4ed7d040a73884fb3d5b8\", element=\"7b192d02-9d73-44a9-ad9e-d7bb17b5dd42\")>,\n",
       " <selenium.webdriver.remote.webelement.WebElement (session=\"9f73ed834ac4ed7d040a73884fb3d5b8\", element=\"33e4d892-bd0b-4aa9-9418-b510b7ce4045\")>,\n",
       " <selenium.webdriver.remote.webelement.WebElement (session=\"9f73ed834ac4ed7d040a73884fb3d5b8\", element=\"dbc9c661-3e2a-489e-a19f-9412e97c7468\")>,\n",
       " <selenium.webdriver.remote.webelement.WebElement (session=\"9f73ed834ac4ed7d040a73884fb3d5b8\", element=\"d540b055-34d7-4108-a0f7-91ef049292fd\")>,\n",
       " <selenium.webdriver.remote.webelement.WebElement (session=\"9f73ed834ac4ed7d040a73884fb3d5b8\", element=\"a70100a6-1e7e-4c67-9475-d271578a1d34\")>,\n",
       " <selenium.webdriver.remote.webelement.WebElement (session=\"9f73ed834ac4ed7d040a73884fb3d5b8\", element=\"ac3c3c2d-2073-4541-a418-0a3b1bc61349\")>,\n",
       " <selenium.webdriver.remote.webelement.WebElement (session=\"9f73ed834ac4ed7d040a73884fb3d5b8\", element=\"6c800160-9be8-4cc4-941b-c175084f43e4\")>,\n",
       " <selenium.webdriver.remote.webelement.WebElement (session=\"9f73ed834ac4ed7d040a73884fb3d5b8\", element=\"c1302c59-0c91-4cdf-ad4c-218382dc3ac0\")>,\n",
       " <selenium.webdriver.remote.webelement.WebElement (session=\"9f73ed834ac4ed7d040a73884fb3d5b8\", element=\"65443503-962b-47ab-99c2-8f0a88fda1e9\")>,\n",
       " <selenium.webdriver.remote.webelement.WebElement (session=\"9f73ed834ac4ed7d040a73884fb3d5b8\", element=\"59215da6-690e-4678-82a1-c6ceaaaa55d4\")>,\n",
       " <selenium.webdriver.remote.webelement.WebElement (session=\"9f73ed834ac4ed7d040a73884fb3d5b8\", element=\"bf7e0d80-c250-4d9f-9ded-6e4eac05ceec\")>,\n",
       " <selenium.webdriver.remote.webelement.WebElement (session=\"9f73ed834ac4ed7d040a73884fb3d5b8\", element=\"6596e033-627e-4985-82ea-218659a19d5e\")>,\n",
       " <selenium.webdriver.remote.webelement.WebElement (session=\"9f73ed834ac4ed7d040a73884fb3d5b8\", element=\"17c9a0bf-0a59-47cd-84c3-4574c7b2fa78\")>,\n",
       " <selenium.webdriver.remote.webelement.WebElement (session=\"9f73ed834ac4ed7d040a73884fb3d5b8\", element=\"6e3039bc-ff63-4701-ad19-1334173ebc3b\")>,\n",
       " <selenium.webdriver.remote.webelement.WebElement (session=\"9f73ed834ac4ed7d040a73884fb3d5b8\", element=\"c6638cdb-d16e-4e6a-806d-cd17db33eda1\")>,\n",
       " <selenium.webdriver.remote.webelement.WebElement (session=\"9f73ed834ac4ed7d040a73884fb3d5b8\", element=\"cb1da5ab-0b58-4c68-b36a-a94d144123ed\")>,\n",
       " <selenium.webdriver.remote.webelement.WebElement (session=\"9f73ed834ac4ed7d040a73884fb3d5b8\", element=\"cfcd2fe6-eb58-4533-94d0-6d6905388cd5\")>,\n",
       " <selenium.webdriver.remote.webelement.WebElement (session=\"9f73ed834ac4ed7d040a73884fb3d5b8\", element=\"3116d86b-8639-4a50-8b2b-3cbc655ef21c\")>,\n",
       " <selenium.webdriver.remote.webelement.WebElement (session=\"9f73ed834ac4ed7d040a73884fb3d5b8\", element=\"0f277e90-41cd-44d1-8a9f-ab6e96e97e33\")>,\n",
       " <selenium.webdriver.remote.webelement.WebElement (session=\"9f73ed834ac4ed7d040a73884fb3d5b8\", element=\"06489f33-799f-42a3-b393-2db45a2d40eb\")>,\n",
       " <selenium.webdriver.remote.webelement.WebElement (session=\"9f73ed834ac4ed7d040a73884fb3d5b8\", element=\"8abd1ad4-cfc9-45fb-9370-41fba429b5cf\")>,\n",
       " <selenium.webdriver.remote.webelement.WebElement (session=\"9f73ed834ac4ed7d040a73884fb3d5b8\", element=\"1ffeb7ec-f589-4b05-a94b-e995f905bdb7\")>,\n",
       " <selenium.webdriver.remote.webelement.WebElement (session=\"9f73ed834ac4ed7d040a73884fb3d5b8\", element=\"591c7e2b-4ef3-4dbd-8c27-003d0d186c4f\")>,\n",
       " <selenium.webdriver.remote.webelement.WebElement (session=\"9f73ed834ac4ed7d040a73884fb3d5b8\", element=\"4fe8de4b-a90d-494c-879c-98dfdebe2c6a\")>,\n",
       " <selenium.webdriver.remote.webelement.WebElement (session=\"9f73ed834ac4ed7d040a73884fb3d5b8\", element=\"1e41809c-865b-478a-b7c2-0c34d8fd13fd\")>,\n",
       " <selenium.webdriver.remote.webelement.WebElement (session=\"9f73ed834ac4ed7d040a73884fb3d5b8\", element=\"b2bc2a45-9e64-46c2-b74c-1dc06ae948c9\")>,\n",
       " <selenium.webdriver.remote.webelement.WebElement (session=\"9f73ed834ac4ed7d040a73884fb3d5b8\", element=\"8443fd66-c903-4c38-8f11-3c04e620ef84\")>,\n",
       " <selenium.webdriver.remote.webelement.WebElement (session=\"9f73ed834ac4ed7d040a73884fb3d5b8\", element=\"4ea738f5-5da1-41e8-a16c-1350f6521eca\")>,\n",
       " <selenium.webdriver.remote.webelement.WebElement (session=\"9f73ed834ac4ed7d040a73884fb3d5b8\", element=\"42b5a6f1-f00b-4205-a47f-379d2280f10a\")>,\n",
       " <selenium.webdriver.remote.webelement.WebElement (session=\"9f73ed834ac4ed7d040a73884fb3d5b8\", element=\"2ce8a9b5-5c60-4c4c-b1fd-4235fa67a66f\")>,\n",
       " <selenium.webdriver.remote.webelement.WebElement (session=\"9f73ed834ac4ed7d040a73884fb3d5b8\", element=\"9ab5679b-0032-4a85-87d3-2628d2d3080f\")>,\n",
       " <selenium.webdriver.remote.webelement.WebElement (session=\"9f73ed834ac4ed7d040a73884fb3d5b8\", element=\"849e6b8b-7f14-412f-b197-e217e41ea6c6\")>,\n",
       " <selenium.webdriver.remote.webelement.WebElement (session=\"9f73ed834ac4ed7d040a73884fb3d5b8\", element=\"a231bf6e-55e4-4074-b977-a7ed45d3d562\")>,\n",
       " <selenium.webdriver.remote.webelement.WebElement (session=\"9f73ed834ac4ed7d040a73884fb3d5b8\", element=\"fd447036-7b32-4463-b3d7-0c4a2e6692ef\")>,\n",
       " <selenium.webdriver.remote.webelement.WebElement (session=\"9f73ed834ac4ed7d040a73884fb3d5b8\", element=\"81d7064e-01fd-44eb-9c88-448d382bac67\")>,\n",
       " <selenium.webdriver.remote.webelement.WebElement (session=\"9f73ed834ac4ed7d040a73884fb3d5b8\", element=\"ce971ccf-f05c-4715-9cf9-0b234a3e6644\")>,\n",
       " <selenium.webdriver.remote.webelement.WebElement (session=\"9f73ed834ac4ed7d040a73884fb3d5b8\", element=\"45673baf-0be1-40e8-a2d4-640813d51da2\")>,\n",
       " <selenium.webdriver.remote.webelement.WebElement (session=\"9f73ed834ac4ed7d040a73884fb3d5b8\", element=\"79aaed14-fedd-45de-86b6-93a102cf0e41\")>,\n",
       " <selenium.webdriver.remote.webelement.WebElement (session=\"9f73ed834ac4ed7d040a73884fb3d5b8\", element=\"758971bc-ea85-47a6-b719-325581e19373\")>,\n",
       " <selenium.webdriver.remote.webelement.WebElement (session=\"9f73ed834ac4ed7d040a73884fb3d5b8\", element=\"2d99c857-a3b6-4f77-9dd9-9434a86372e9\")>,\n",
       " <selenium.webdriver.remote.webelement.WebElement (session=\"9f73ed834ac4ed7d040a73884fb3d5b8\", element=\"8fc9a204-055a-4a3b-9ebf-c23867e7e75e\")>,\n",
       " <selenium.webdriver.remote.webelement.WebElement (session=\"9f73ed834ac4ed7d040a73884fb3d5b8\", element=\"be850731-7061-4ad4-8d91-0b7ef343899e\")>,\n",
       " <selenium.webdriver.remote.webelement.WebElement (session=\"9f73ed834ac4ed7d040a73884fb3d5b8\", element=\"5e6632ac-e3a5-47a7-8445-bae72fbbd93f\")>,\n",
       " <selenium.webdriver.remote.webelement.WebElement (session=\"9f73ed834ac4ed7d040a73884fb3d5b8\", element=\"468b4eda-dfee-45c1-9df8-9081c767019b\")>]"
      ]
     },
     "execution_count": 274,
     "metadata": {},
     "output_type": "execute_result"
    }
   ],
   "source": [
    "price_tags = driver.find_elements_by_xpath(\"//div[@class='product-price']/span[1]\")\n",
    "price_tags"
   ]
  },
  {
   "cell_type": "code",
   "execution_count": 275,
   "id": "412f6a3e",
   "metadata": {},
   "outputs": [
    {
     "data": {
      "text/plain": [
       "['Rs. 10499Rs. 14999',\n",
       " 'Rs. 6499Rs. 12999',\n",
       " 'Rs. 8249Rs. 14999',\n",
       " 'Rs. 6499Rs. 12999',\n",
       " 'Rs. 8295',\n",
       " 'Rs. 6299Rs. 6999',\n",
       " 'Rs. 8099Rs. 8999',\n",
       " 'Rs. 7999',\n",
       " 'Rs. 8999Rs. 9999',\n",
       " 'Rs. 7799Rs. 12999',\n",
       " 'Rs. 8999Rs. 9999',\n",
       " 'Rs. 8990',\n",
       " 'Rs. 6999',\n",
       " 'Rs. 6499',\n",
       " 'Rs. 6499Rs. 9999',\n",
       " 'Rs. 6499',\n",
       " 'Rs. 6999',\n",
       " 'Rs. 9999',\n",
       " 'Rs. 7999',\n",
       " 'Rs. 7999',\n",
       " 'Rs. 6499Rs. 12999',\n",
       " 'Rs. 9810Rs. 10900',\n",
       " 'Rs. 6293Rs. 8990',\n",
       " 'Rs. 7999Rs. 9999',\n",
       " 'Rs. 8999Rs. 9999',\n",
       " 'Rs. 10999',\n",
       " 'Rs. 6990',\n",
       " 'Rs. 10399Rs. 12999',\n",
       " 'Rs. 7990',\n",
       " 'Rs. 7999',\n",
       " 'Rs. 8999Rs. 9999',\n",
       " 'Rs. 8999',\n",
       " 'Rs. 8990',\n",
       " 'Rs. 11900Rs. 13900',\n",
       " 'Rs. 10350Rs. 11500',\n",
       " 'Rs. 9999',\n",
       " 'Rs. 9800Rs. 13900',\n",
       " 'Rs. 6299Rs. 6999',\n",
       " 'Rs. 8999Rs. 9999',\n",
       " 'Rs. 9999',\n",
       " 'Rs. 6900Rs. 8900',\n",
       " 'Rs. 7693Rs. 10990',\n",
       " 'Rs. 6299Rs. 6999',\n",
       " 'Rs. 6990',\n",
       " 'Rs. 6990',\n",
       " 'Rs. 6990',\n",
       " 'Rs. 6990',\n",
       " 'Rs. 11250Rs. 12500',\n",
       " 'Rs. 7499',\n",
       " 'Rs. 8500Rs. 10500']"
      ]
     },
     "execution_count": 275,
     "metadata": {},
     "output_type": "execute_result"
    }
   ],
   "source": [
    "for i in price_tags:\n",
    "    title=i.text\n",
    "    price.append(title)\n",
    "price"
   ]
  },
  {
   "cell_type": "markdown",
   "id": "9ca30127",
   "metadata": {},
   "source": [
    "# NEXT PAGE:-2"
   ]
  },
  {
   "cell_type": "code",
   "execution_count": 276,
   "id": "196772e2",
   "metadata": {},
   "outputs": [
    {
     "name": "stderr",
     "output_type": "stream",
     "text": [
      "<ipython-input-276-60af57e71be3>:1: DeprecationWarning: find_element_by_* commands are deprecated. Please use find_element() instead\n",
      "  nxt_button =  driver.find_element_by_xpath(\"//ul[@class='pagination-container']/li[12]\")\n"
     ]
    }
   ],
   "source": [
    "nxt_button =  driver.find_element_by_xpath(\"//ul[@class='pagination-container']/li[12]\")\n",
    "nxt_button.click()"
   ]
  },
  {
   "cell_type": "code",
   "execution_count": 277,
   "id": "722972d3",
   "metadata": {},
   "outputs": [],
   "source": [
    "brand1 = []\n",
    "short_description1 =[]\n",
    "price1 = []"
   ]
  },
  {
   "cell_type": "code",
   "execution_count": 278,
   "id": "d6d9f988",
   "metadata": {},
   "outputs": [
    {
     "name": "stderr",
     "output_type": "stream",
     "text": [
      "<ipython-input-278-4cf0849ce366>:1: DeprecationWarning: find_elements_by_* commands are deprecated. Please use find_elements() instead\n",
      "  brand_tags1 = driver.find_elements_by_xpath(\"//h3[@class='product-brand']\")\n"
     ]
    },
    {
     "data": {
      "text/plain": [
       "[<selenium.webdriver.remote.webelement.WebElement (session=\"9f73ed834ac4ed7d040a73884fb3d5b8\", element=\"f1553369-1549-4983-bb8b-59de23dd4cb6\")>,\n",
       " <selenium.webdriver.remote.webelement.WebElement (session=\"9f73ed834ac4ed7d040a73884fb3d5b8\", element=\"ddfb7c71-97ea-4f5b-88a0-30387cf55bfe\")>,\n",
       " <selenium.webdriver.remote.webelement.WebElement (session=\"9f73ed834ac4ed7d040a73884fb3d5b8\", element=\"154b4c84-4fd4-4b6e-82e6-9e191c531ad9\")>,\n",
       " <selenium.webdriver.remote.webelement.WebElement (session=\"9f73ed834ac4ed7d040a73884fb3d5b8\", element=\"2741dd78-cbf3-4bac-8344-1e409b99347b\")>,\n",
       " <selenium.webdriver.remote.webelement.WebElement (session=\"9f73ed834ac4ed7d040a73884fb3d5b8\", element=\"76c1979d-d1b2-4091-9464-91b8d655cf40\")>,\n",
       " <selenium.webdriver.remote.webelement.WebElement (session=\"9f73ed834ac4ed7d040a73884fb3d5b8\", element=\"b3e03b50-c545-4cf1-a795-545999187009\")>,\n",
       " <selenium.webdriver.remote.webelement.WebElement (session=\"9f73ed834ac4ed7d040a73884fb3d5b8\", element=\"1ae65e06-ffa6-4ba2-a410-e0f22cee3d9c\")>,\n",
       " <selenium.webdriver.remote.webelement.WebElement (session=\"9f73ed834ac4ed7d040a73884fb3d5b8\", element=\"01253900-e593-4e9e-bc45-144e45ba9622\")>,\n",
       " <selenium.webdriver.remote.webelement.WebElement (session=\"9f73ed834ac4ed7d040a73884fb3d5b8\", element=\"67a89c12-e63c-4108-bb73-7de0d4939f63\")>,\n",
       " <selenium.webdriver.remote.webelement.WebElement (session=\"9f73ed834ac4ed7d040a73884fb3d5b8\", element=\"9eb6ec57-0c52-4a6c-860d-1b98c14bf317\")>,\n",
       " <selenium.webdriver.remote.webelement.WebElement (session=\"9f73ed834ac4ed7d040a73884fb3d5b8\", element=\"9970554c-239e-4908-96ab-5027727bdd8d\")>,\n",
       " <selenium.webdriver.remote.webelement.WebElement (session=\"9f73ed834ac4ed7d040a73884fb3d5b8\", element=\"62fe0572-2d37-40d3-b999-af4d294c1dde\")>,\n",
       " <selenium.webdriver.remote.webelement.WebElement (session=\"9f73ed834ac4ed7d040a73884fb3d5b8\", element=\"9a706c4c-815e-4cd3-8924-dd1caef66992\")>,\n",
       " <selenium.webdriver.remote.webelement.WebElement (session=\"9f73ed834ac4ed7d040a73884fb3d5b8\", element=\"b79f742a-b8d1-4e0e-b51f-dcd22481daec\")>,\n",
       " <selenium.webdriver.remote.webelement.WebElement (session=\"9f73ed834ac4ed7d040a73884fb3d5b8\", element=\"055f2b41-77ab-4894-bcb4-f6ae5f5e7ec3\")>,\n",
       " <selenium.webdriver.remote.webelement.WebElement (session=\"9f73ed834ac4ed7d040a73884fb3d5b8\", element=\"7ee53c4a-4242-4820-86cf-9e8b8cc5f279\")>,\n",
       " <selenium.webdriver.remote.webelement.WebElement (session=\"9f73ed834ac4ed7d040a73884fb3d5b8\", element=\"95345b2b-8f1d-490f-b2c5-697fdd8f8b1b\")>,\n",
       " <selenium.webdriver.remote.webelement.WebElement (session=\"9f73ed834ac4ed7d040a73884fb3d5b8\", element=\"808d6238-24c6-4341-ba34-498b2f0b0da9\")>,\n",
       " <selenium.webdriver.remote.webelement.WebElement (session=\"9f73ed834ac4ed7d040a73884fb3d5b8\", element=\"8a9045c2-4c11-4e98-b329-d80fa9f1a1b9\")>,\n",
       " <selenium.webdriver.remote.webelement.WebElement (session=\"9f73ed834ac4ed7d040a73884fb3d5b8\", element=\"72ca9c01-323b-41ae-aec1-ee3aea630453\")>,\n",
       " <selenium.webdriver.remote.webelement.WebElement (session=\"9f73ed834ac4ed7d040a73884fb3d5b8\", element=\"894349ec-7b68-416c-9691-249492687cd6\")>,\n",
       " <selenium.webdriver.remote.webelement.WebElement (session=\"9f73ed834ac4ed7d040a73884fb3d5b8\", element=\"20f1aab0-bb7b-4e41-9d6e-ca57c646e000\")>,\n",
       " <selenium.webdriver.remote.webelement.WebElement (session=\"9f73ed834ac4ed7d040a73884fb3d5b8\", element=\"f91f6385-4bf2-4979-8cea-37ae83cba63b\")>,\n",
       " <selenium.webdriver.remote.webelement.WebElement (session=\"9f73ed834ac4ed7d040a73884fb3d5b8\", element=\"7beb1915-728f-40b8-83ac-d1334dbeec35\")>,\n",
       " <selenium.webdriver.remote.webelement.WebElement (session=\"9f73ed834ac4ed7d040a73884fb3d5b8\", element=\"0ffa2c67-6fad-4371-b6cb-e7c6de4fbf07\")>,\n",
       " <selenium.webdriver.remote.webelement.WebElement (session=\"9f73ed834ac4ed7d040a73884fb3d5b8\", element=\"acf477aa-b6c1-4c06-9e6a-30d81b75973f\")>,\n",
       " <selenium.webdriver.remote.webelement.WebElement (session=\"9f73ed834ac4ed7d040a73884fb3d5b8\", element=\"ffb0fbf9-9faf-45c7-a775-c9c73eb6c035\")>,\n",
       " <selenium.webdriver.remote.webelement.WebElement (session=\"9f73ed834ac4ed7d040a73884fb3d5b8\", element=\"07dc3fba-495f-4dfe-97e5-f243e9f45349\")>,\n",
       " <selenium.webdriver.remote.webelement.WebElement (session=\"9f73ed834ac4ed7d040a73884fb3d5b8\", element=\"ceb71dfa-b66d-421a-b74c-b244a17582ed\")>,\n",
       " <selenium.webdriver.remote.webelement.WebElement (session=\"9f73ed834ac4ed7d040a73884fb3d5b8\", element=\"95ea8ac5-0622-43d4-8a8e-2415ec87dcdd\")>,\n",
       " <selenium.webdriver.remote.webelement.WebElement (session=\"9f73ed834ac4ed7d040a73884fb3d5b8\", element=\"d522e22f-bb31-4539-b088-caa09c2b68ef\")>,\n",
       " <selenium.webdriver.remote.webelement.WebElement (session=\"9f73ed834ac4ed7d040a73884fb3d5b8\", element=\"d887ba4d-e04a-420a-a7e7-dc174d86cfae\")>,\n",
       " <selenium.webdriver.remote.webelement.WebElement (session=\"9f73ed834ac4ed7d040a73884fb3d5b8\", element=\"38acbf64-b959-462d-9a2c-842e07daceab\")>,\n",
       " <selenium.webdriver.remote.webelement.WebElement (session=\"9f73ed834ac4ed7d040a73884fb3d5b8\", element=\"89070c41-b878-471e-843f-78ed20ff8006\")>,\n",
       " <selenium.webdriver.remote.webelement.WebElement (session=\"9f73ed834ac4ed7d040a73884fb3d5b8\", element=\"67eb27f9-9dec-44ed-806b-f945ae473191\")>,\n",
       " <selenium.webdriver.remote.webelement.WebElement (session=\"9f73ed834ac4ed7d040a73884fb3d5b8\", element=\"3ab18f8b-aca1-4133-bc75-f8f553e0214a\")>,\n",
       " <selenium.webdriver.remote.webelement.WebElement (session=\"9f73ed834ac4ed7d040a73884fb3d5b8\", element=\"8e9173ec-078d-467d-a63b-ef1504902958\")>,\n",
       " <selenium.webdriver.remote.webelement.WebElement (session=\"9f73ed834ac4ed7d040a73884fb3d5b8\", element=\"2251acfa-5290-43be-a7a3-f7f2ae574bd9\")>,\n",
       " <selenium.webdriver.remote.webelement.WebElement (session=\"9f73ed834ac4ed7d040a73884fb3d5b8\", element=\"ea31d67a-7e9c-4922-9cdd-5222f91d134d\")>,\n",
       " <selenium.webdriver.remote.webelement.WebElement (session=\"9f73ed834ac4ed7d040a73884fb3d5b8\", element=\"5a805786-bdda-4a4e-866d-fb9567bbd49a\")>,\n",
       " <selenium.webdriver.remote.webelement.WebElement (session=\"9f73ed834ac4ed7d040a73884fb3d5b8\", element=\"d3f66aa2-a076-48f9-89a7-e50af488b83d\")>,\n",
       " <selenium.webdriver.remote.webelement.WebElement (session=\"9f73ed834ac4ed7d040a73884fb3d5b8\", element=\"5a802663-541f-4389-9c63-8bd0f6e20229\")>,\n",
       " <selenium.webdriver.remote.webelement.WebElement (session=\"9f73ed834ac4ed7d040a73884fb3d5b8\", element=\"19752c11-43b2-47a3-af98-e74192bfe8c7\")>,\n",
       " <selenium.webdriver.remote.webelement.WebElement (session=\"9f73ed834ac4ed7d040a73884fb3d5b8\", element=\"0da6754c-4e18-4075-9bab-e818d33caad5\")>,\n",
       " <selenium.webdriver.remote.webelement.WebElement (session=\"9f73ed834ac4ed7d040a73884fb3d5b8\", element=\"21b92740-1d46-47ac-afea-27924f5ae5e1\")>,\n",
       " <selenium.webdriver.remote.webelement.WebElement (session=\"9f73ed834ac4ed7d040a73884fb3d5b8\", element=\"fcd30fc4-b8cc-42fe-b51f-14fc8e5ad411\")>,\n",
       " <selenium.webdriver.remote.webelement.WebElement (session=\"9f73ed834ac4ed7d040a73884fb3d5b8\", element=\"4f808078-d266-4c75-bd32-10aea65ec66e\")>,\n",
       " <selenium.webdriver.remote.webelement.WebElement (session=\"9f73ed834ac4ed7d040a73884fb3d5b8\", element=\"57aa3a29-3ac2-4da6-a61e-a958ba68aece\")>,\n",
       " <selenium.webdriver.remote.webelement.WebElement (session=\"9f73ed834ac4ed7d040a73884fb3d5b8\", element=\"827dffd4-658c-4c2a-9931-ecb11747555a\")>,\n",
       " <selenium.webdriver.remote.webelement.WebElement (session=\"9f73ed834ac4ed7d040a73884fb3d5b8\", element=\"53be49b8-02bd-4f56-ae1f-9e0562af7b00\")>]"
      ]
     },
     "execution_count": 278,
     "metadata": {},
     "output_type": "execute_result"
    }
   ],
   "source": [
    "brand_tags1 = driver.find_elements_by_xpath(\"//h3[@class='product-brand']\")\n",
    "brand_tags1"
   ]
  },
  {
   "cell_type": "code",
   "execution_count": 279,
   "id": "7d8b55c1",
   "metadata": {},
   "outputs": [
    {
     "data": {
      "text/plain": [
       "['Saint G',\n",
       " 'Columbia',\n",
       " 'Heel & Buckle London',\n",
       " 'Xtep',\n",
       " 'Bugatti',\n",
       " 'Cole Haan',\n",
       " 'Onitsuka Tiger',\n",
       " 'Bugatti',\n",
       " 'Cole Haan',\n",
       " 'fitflop',\n",
       " 'J.FONTINI',\n",
       " 'H&M',\n",
       " 'Hush Puppies',\n",
       " 'MANGO',\n",
       " 'J.FONTINI',\n",
       " 'UNDER ARMOUR',\n",
       " 'Xtep',\n",
       " 'Xtep',\n",
       " 'Geox',\n",
       " 'Xtep',\n",
       " 'Ruosh',\n",
       " 'Xtep',\n",
       " 'Xtep',\n",
       " 'Hush Puppies',\n",
       " 'RARE RABBIT',\n",
       " 'RARE RABBIT',\n",
       " 'J.FONTINI',\n",
       " 'Geox',\n",
       " 'Ruosh',\n",
       " 'Ruosh',\n",
       " 'Florsheim',\n",
       " 'Geox',\n",
       " 'Puma',\n",
       " 'ASICS',\n",
       " 'Pavers England',\n",
       " 'DAVINCHI',\n",
       " 'DAVINCHI',\n",
       " 'DAVINCHI',\n",
       " 'ASICS',\n",
       " 'Saint G',\n",
       " 'J.FONTINI',\n",
       " 'DAVINCHI',\n",
       " 'Saint G',\n",
       " 'Cole Haan',\n",
       " 'Geox',\n",
       " 'Geox',\n",
       " 'Saint G',\n",
       " 'DAVINCHI',\n",
       " 'Geox',\n",
       " 'DAVINCHI']"
      ]
     },
     "execution_count": 279,
     "metadata": {},
     "output_type": "execute_result"
    }
   ],
   "source": [
    "for i in brand_tags1:\n",
    "    title=i.text\n",
    "    brand1.append(title)\n",
    "brand1"
   ]
  },
  {
   "cell_type": "code",
   "execution_count": 280,
   "id": "7ae7fc1e",
   "metadata": {},
   "outputs": [
    {
     "name": "stderr",
     "output_type": "stream",
     "text": [
      "<ipython-input-280-15a6facb4f3b>:1: DeprecationWarning: find_elements_by_* commands are deprecated. Please use find_elements() instead\n",
      "  descrption_tags1 = driver.find_elements_by_xpath(\"//h4[@class='product-product']\")\n"
     ]
    },
    {
     "data": {
      "text/plain": [
       "[<selenium.webdriver.remote.webelement.WebElement (session=\"9f73ed834ac4ed7d040a73884fb3d5b8\", element=\"93ea3434-6042-4e65-ada7-1ecdb4a6e908\")>,\n",
       " <selenium.webdriver.remote.webelement.WebElement (session=\"9f73ed834ac4ed7d040a73884fb3d5b8\", element=\"34bcac2a-bea4-432b-9717-0b59ae9b4cce\")>,\n",
       " <selenium.webdriver.remote.webelement.WebElement (session=\"9f73ed834ac4ed7d040a73884fb3d5b8\", element=\"e35a5e9b-5a6b-4738-ae86-e1ff26430e89\")>,\n",
       " <selenium.webdriver.remote.webelement.WebElement (session=\"9f73ed834ac4ed7d040a73884fb3d5b8\", element=\"80a34674-e28f-4d80-9c06-93c555d443d5\")>,\n",
       " <selenium.webdriver.remote.webelement.WebElement (session=\"9f73ed834ac4ed7d040a73884fb3d5b8\", element=\"45e3dfa0-581a-4a28-8ca2-df15cf47dbd1\")>,\n",
       " <selenium.webdriver.remote.webelement.WebElement (session=\"9f73ed834ac4ed7d040a73884fb3d5b8\", element=\"d63c4e57-dc2b-4651-9820-34c181b900c2\")>,\n",
       " <selenium.webdriver.remote.webelement.WebElement (session=\"9f73ed834ac4ed7d040a73884fb3d5b8\", element=\"d65fbe4a-87e6-41a3-9cf0-94344d7bf61f\")>,\n",
       " <selenium.webdriver.remote.webelement.WebElement (session=\"9f73ed834ac4ed7d040a73884fb3d5b8\", element=\"1ea41e00-90f6-4245-a2a1-9b9c828619b8\")>,\n",
       " <selenium.webdriver.remote.webelement.WebElement (session=\"9f73ed834ac4ed7d040a73884fb3d5b8\", element=\"f3762dc5-2e7a-4472-965d-6b71f38a50ef\")>,\n",
       " <selenium.webdriver.remote.webelement.WebElement (session=\"9f73ed834ac4ed7d040a73884fb3d5b8\", element=\"da7649df-91b9-448c-b8bb-e6313232f53b\")>,\n",
       " <selenium.webdriver.remote.webelement.WebElement (session=\"9f73ed834ac4ed7d040a73884fb3d5b8\", element=\"2302d086-6698-4772-9840-97442cc15b15\")>,\n",
       " <selenium.webdriver.remote.webelement.WebElement (session=\"9f73ed834ac4ed7d040a73884fb3d5b8\", element=\"142c48bd-d039-4289-aa1d-7eb2b1d83bc4\")>,\n",
       " <selenium.webdriver.remote.webelement.WebElement (session=\"9f73ed834ac4ed7d040a73884fb3d5b8\", element=\"7b58cfaa-08b6-452e-890e-fbaa7e4304ea\")>,\n",
       " <selenium.webdriver.remote.webelement.WebElement (session=\"9f73ed834ac4ed7d040a73884fb3d5b8\", element=\"225e125c-2db4-40a1-bc4e-490cb6722bb5\")>,\n",
       " <selenium.webdriver.remote.webelement.WebElement (session=\"9f73ed834ac4ed7d040a73884fb3d5b8\", element=\"6ee375d2-810e-473f-9db6-7581360f9a8d\")>,\n",
       " <selenium.webdriver.remote.webelement.WebElement (session=\"9f73ed834ac4ed7d040a73884fb3d5b8\", element=\"6ea266c3-3e39-410a-ad20-42273fbe682d\")>,\n",
       " <selenium.webdriver.remote.webelement.WebElement (session=\"9f73ed834ac4ed7d040a73884fb3d5b8\", element=\"37569401-cbbc-428f-80e2-c5b552e98688\")>,\n",
       " <selenium.webdriver.remote.webelement.WebElement (session=\"9f73ed834ac4ed7d040a73884fb3d5b8\", element=\"f5fa4863-2862-4f4d-a101-26bfa52a27fe\")>,\n",
       " <selenium.webdriver.remote.webelement.WebElement (session=\"9f73ed834ac4ed7d040a73884fb3d5b8\", element=\"82747fac-dc24-457d-8af3-6d3d774aaae8\")>,\n",
       " <selenium.webdriver.remote.webelement.WebElement (session=\"9f73ed834ac4ed7d040a73884fb3d5b8\", element=\"c3492136-7f1e-491d-a8d6-2fe104d4261c\")>,\n",
       " <selenium.webdriver.remote.webelement.WebElement (session=\"9f73ed834ac4ed7d040a73884fb3d5b8\", element=\"db9b1953-56fd-4cb6-9037-8688c5c40288\")>,\n",
       " <selenium.webdriver.remote.webelement.WebElement (session=\"9f73ed834ac4ed7d040a73884fb3d5b8\", element=\"782d8f0c-ef0d-4a44-a7f8-630f688fb412\")>,\n",
       " <selenium.webdriver.remote.webelement.WebElement (session=\"9f73ed834ac4ed7d040a73884fb3d5b8\", element=\"e12b632d-641a-436a-816c-d897c20976e0\")>,\n",
       " <selenium.webdriver.remote.webelement.WebElement (session=\"9f73ed834ac4ed7d040a73884fb3d5b8\", element=\"ac61baf2-1124-4e51-b1e5-4fd3d2a08905\")>,\n",
       " <selenium.webdriver.remote.webelement.WebElement (session=\"9f73ed834ac4ed7d040a73884fb3d5b8\", element=\"92ba1a0c-98fb-46a4-82e3-166ba0f377f9\")>,\n",
       " <selenium.webdriver.remote.webelement.WebElement (session=\"9f73ed834ac4ed7d040a73884fb3d5b8\", element=\"24e701f5-e7d9-4861-8ce0-4deb4d9d5505\")>,\n",
       " <selenium.webdriver.remote.webelement.WebElement (session=\"9f73ed834ac4ed7d040a73884fb3d5b8\", element=\"85511150-92b5-45a1-ae53-6d8ac97130b6\")>,\n",
       " <selenium.webdriver.remote.webelement.WebElement (session=\"9f73ed834ac4ed7d040a73884fb3d5b8\", element=\"da50dc6c-3c92-49ca-8d6b-5c312c34fa2b\")>,\n",
       " <selenium.webdriver.remote.webelement.WebElement (session=\"9f73ed834ac4ed7d040a73884fb3d5b8\", element=\"b0ea5a84-9005-492e-a5a0-000f2b7b49e6\")>,\n",
       " <selenium.webdriver.remote.webelement.WebElement (session=\"9f73ed834ac4ed7d040a73884fb3d5b8\", element=\"00674103-ad3a-4b8e-acea-809153859387\")>,\n",
       " <selenium.webdriver.remote.webelement.WebElement (session=\"9f73ed834ac4ed7d040a73884fb3d5b8\", element=\"3dee4f56-6ec6-4908-9173-5a4819f6703a\")>,\n",
       " <selenium.webdriver.remote.webelement.WebElement (session=\"9f73ed834ac4ed7d040a73884fb3d5b8\", element=\"7c304f6f-eaaf-48d6-a975-deb25e19b3c7\")>,\n",
       " <selenium.webdriver.remote.webelement.WebElement (session=\"9f73ed834ac4ed7d040a73884fb3d5b8\", element=\"a2bef5e6-44f0-4161-a78c-a5e01d54e495\")>,\n",
       " <selenium.webdriver.remote.webelement.WebElement (session=\"9f73ed834ac4ed7d040a73884fb3d5b8\", element=\"daaab7f8-06e6-41a2-b0dd-e4580355e6b1\")>,\n",
       " <selenium.webdriver.remote.webelement.WebElement (session=\"9f73ed834ac4ed7d040a73884fb3d5b8\", element=\"57256aba-ac98-4b91-9de7-398539e4c2b7\")>,\n",
       " <selenium.webdriver.remote.webelement.WebElement (session=\"9f73ed834ac4ed7d040a73884fb3d5b8\", element=\"cbbc8a6e-4e7e-433f-a186-6bc2ec0fddc1\")>,\n",
       " <selenium.webdriver.remote.webelement.WebElement (session=\"9f73ed834ac4ed7d040a73884fb3d5b8\", element=\"e1d3c624-f289-4dfe-a011-6ee3e9c45937\")>,\n",
       " <selenium.webdriver.remote.webelement.WebElement (session=\"9f73ed834ac4ed7d040a73884fb3d5b8\", element=\"f9146c75-7356-42d3-9922-201317a4a575\")>,\n",
       " <selenium.webdriver.remote.webelement.WebElement (session=\"9f73ed834ac4ed7d040a73884fb3d5b8\", element=\"31b0a970-3151-4b5f-a0e5-9c8177e66b42\")>,\n",
       " <selenium.webdriver.remote.webelement.WebElement (session=\"9f73ed834ac4ed7d040a73884fb3d5b8\", element=\"e622bdd5-e996-4426-b911-f4e17c12f83d\")>,\n",
       " <selenium.webdriver.remote.webelement.WebElement (session=\"9f73ed834ac4ed7d040a73884fb3d5b8\", element=\"a9574cbd-38c5-4130-9098-8097b0ec4aac\")>,\n",
       " <selenium.webdriver.remote.webelement.WebElement (session=\"9f73ed834ac4ed7d040a73884fb3d5b8\", element=\"be2a1472-3c29-4b01-a473-2685a785a2e2\")>,\n",
       " <selenium.webdriver.remote.webelement.WebElement (session=\"9f73ed834ac4ed7d040a73884fb3d5b8\", element=\"cd1779b9-ce27-4104-94bd-3f034d3dfc2d\")>,\n",
       " <selenium.webdriver.remote.webelement.WebElement (session=\"9f73ed834ac4ed7d040a73884fb3d5b8\", element=\"c27241b7-761a-439e-b8b8-154760e72db0\")>,\n",
       " <selenium.webdriver.remote.webelement.WebElement (session=\"9f73ed834ac4ed7d040a73884fb3d5b8\", element=\"592f8790-6974-4df2-9fe2-c7bde4b654df\")>,\n",
       " <selenium.webdriver.remote.webelement.WebElement (session=\"9f73ed834ac4ed7d040a73884fb3d5b8\", element=\"1acfa156-6b1e-4bfb-9fff-6b0a59a84871\")>,\n",
       " <selenium.webdriver.remote.webelement.WebElement (session=\"9f73ed834ac4ed7d040a73884fb3d5b8\", element=\"1ea9c756-e0c4-47b3-9bda-4fd25741d599\")>,\n",
       " <selenium.webdriver.remote.webelement.WebElement (session=\"9f73ed834ac4ed7d040a73884fb3d5b8\", element=\"dd595c23-f80a-4c08-80b4-5520f4a98d36\")>,\n",
       " <selenium.webdriver.remote.webelement.WebElement (session=\"9f73ed834ac4ed7d040a73884fb3d5b8\", element=\"a8fa59d8-dfa1-44e5-ae05-4527a4c43f1a\")>,\n",
       " <selenium.webdriver.remote.webelement.WebElement (session=\"9f73ed834ac4ed7d040a73884fb3d5b8\", element=\"3e5c7297-19ef-4cef-8e5f-f601220ab92e\")>]"
      ]
     },
     "execution_count": 280,
     "metadata": {},
     "output_type": "execute_result"
    }
   ],
   "source": [
    "descrption_tags1 = driver.find_elements_by_xpath(\"//h4[@class='product-product']\")\n",
    "descrption_tags1"
   ]
  },
  {
   "cell_type": "code",
   "execution_count": 281,
   "id": "ac90c14d",
   "metadata": {},
   "outputs": [
    {
     "data": {
      "text/plain": [
       "['Leather Boots with Buckles',\n",
       " 'PEAKFREAK OUTDRY Trekking Shoe',\n",
       " 'Leather Block Gladiators',\n",
       " 'Women Running Shoes',\n",
       " 'Men Black Walking Shoes',\n",
       " 'Men GENERATION ZEROGRAND STITCHLITE',\n",
       " 'Women Perforations Sneakers',\n",
       " 'Men Running Shoes',\n",
       " 'Women Solid Leather Ballerinas',\n",
       " 'Women Textured Slip-On Sneakers',\n",
       " 'Men Textured Leather Loafers',\n",
       " 'Chunky Leather Chelsea Boots',\n",
       " 'Men Leather Derbys',\n",
       " 'Women Mid Top Chunky Flat Boot',\n",
       " 'Men Solid Loafers',\n",
       " 'Women Charged Breathe CLR SFT',\n",
       " 'Men Running Shoes',\n",
       " 'Men Running Shoes',\n",
       " 'Men Leather Driving Shoes',\n",
       " 'Men Running Shoes',\n",
       " 'Men Leather Slip-On Shoes',\n",
       " 'Men Running Shoes',\n",
       " 'Men Running Shoes',\n",
       " 'Men Perforations Leather Derbys',\n",
       " 'Men Textured Leather Loafers',\n",
       " 'Men Leather Flat Boots',\n",
       " 'Men Black Leather Loafers',\n",
       " 'Men Leather Formal Derbys',\n",
       " 'Men Solid Leather Formal Slip-Ons',\n",
       " 'Men Solid Leather Formal Monks',\n",
       " 'Men Solid Leather Formal Derbys',\n",
       " 'Women Solid Leather Pumps',\n",
       " 'Unisex Running Shoes',\n",
       " 'Men Colourblocked PU Sneakers',\n",
       " 'Men Leather Driving Shoes',\n",
       " 'Solid Leather Formal Shoes',\n",
       " 'Solid Slip On Shoes',\n",
       " 'Men Formal Leather Slip-Ons',\n",
       " 'Men Black Running Shoes',\n",
       " 'Women Leather Sneakers',\n",
       " 'Men Textured Leather Formal Loafers',\n",
       " 'Men Solid Leather Formal Derbys',\n",
       " 'Leather Block Peep Toes',\n",
       " 'Women Sneakers',\n",
       " 'Women Leather Heeled Loafers',\n",
       " 'Women Solid Leather Ballerinas',\n",
       " 'Leather Block Sandals',\n",
       " 'Men Textured Formal Leather Oxfords',\n",
       " 'Women Leather Boat Shoes',\n",
       " 'Men Textured Formal Leather Loafers']"
      ]
     },
     "execution_count": 281,
     "metadata": {},
     "output_type": "execute_result"
    }
   ],
   "source": [
    "for i in descrption_tags1:\n",
    "    title=i.text\n",
    "    short_description1.append(title)\n",
    "short_description1"
   ]
  },
  {
   "cell_type": "code",
   "execution_count": 282,
   "id": "6bcfd944",
   "metadata": {},
   "outputs": [
    {
     "name": "stderr",
     "output_type": "stream",
     "text": [
      "<ipython-input-282-b0ff3fefbe8d>:1: DeprecationWarning: find_elements_by_* commands are deprecated. Please use find_elements() instead\n",
      "  price_tags1 = driver.find_elements_by_xpath(\"//div[@class='product-price']/span[1]\")\n"
     ]
    },
    {
     "data": {
      "text/plain": [
       "[<selenium.webdriver.remote.webelement.WebElement (session=\"9f73ed834ac4ed7d040a73884fb3d5b8\", element=\"468b4eda-dfee-45c1-9df8-9081c767019b\")>,\n",
       " <selenium.webdriver.remote.webelement.WebElement (session=\"9f73ed834ac4ed7d040a73884fb3d5b8\", element=\"7a4be502-fcc9-4f71-9a00-c002dc10d70f\")>,\n",
       " <selenium.webdriver.remote.webelement.WebElement (session=\"9f73ed834ac4ed7d040a73884fb3d5b8\", element=\"df930ec8-7f76-424c-b3d5-7a63c5e32928\")>,\n",
       " <selenium.webdriver.remote.webelement.WebElement (session=\"9f73ed834ac4ed7d040a73884fb3d5b8\", element=\"3ff27abc-be08-4a18-8fd8-37ffcd17eaef\")>,\n",
       " <selenium.webdriver.remote.webelement.WebElement (session=\"9f73ed834ac4ed7d040a73884fb3d5b8\", element=\"16db2a0a-0423-4498-a9cf-c9dfb3be5828\")>,\n",
       " <selenium.webdriver.remote.webelement.WebElement (session=\"9f73ed834ac4ed7d040a73884fb3d5b8\", element=\"882a8715-dee4-45f2-91a2-81fa64d12994\")>,\n",
       " <selenium.webdriver.remote.webelement.WebElement (session=\"9f73ed834ac4ed7d040a73884fb3d5b8\", element=\"db180fce-c728-4ed9-92bb-58ef548a2a9a\")>,\n",
       " <selenium.webdriver.remote.webelement.WebElement (session=\"9f73ed834ac4ed7d040a73884fb3d5b8\", element=\"544663c7-518e-4109-b451-296fe690eec5\")>,\n",
       " <selenium.webdriver.remote.webelement.WebElement (session=\"9f73ed834ac4ed7d040a73884fb3d5b8\", element=\"1cececf3-4668-487f-8cca-1272326c1548\")>,\n",
       " <selenium.webdriver.remote.webelement.WebElement (session=\"9f73ed834ac4ed7d040a73884fb3d5b8\", element=\"abf94040-a03f-48c2-b8d2-152d3c92d26d\")>,\n",
       " <selenium.webdriver.remote.webelement.WebElement (session=\"9f73ed834ac4ed7d040a73884fb3d5b8\", element=\"8055f97d-7824-4fcb-99cc-a527c1f7fe90\")>,\n",
       " <selenium.webdriver.remote.webelement.WebElement (session=\"9f73ed834ac4ed7d040a73884fb3d5b8\", element=\"8198c247-ce91-430b-a7f5-fa5520106c53\")>,\n",
       " <selenium.webdriver.remote.webelement.WebElement (session=\"9f73ed834ac4ed7d040a73884fb3d5b8\", element=\"c45edf04-0f88-42cb-a0f3-dc0f921d13c6\")>,\n",
       " <selenium.webdriver.remote.webelement.WebElement (session=\"9f73ed834ac4ed7d040a73884fb3d5b8\", element=\"f684dae6-19a4-45c4-804c-f42451f978db\")>,\n",
       " <selenium.webdriver.remote.webelement.WebElement (session=\"9f73ed834ac4ed7d040a73884fb3d5b8\", element=\"1057ee9d-3b81-4e18-9fac-372453678cf6\")>,\n",
       " <selenium.webdriver.remote.webelement.WebElement (session=\"9f73ed834ac4ed7d040a73884fb3d5b8\", element=\"5e9e981f-f153-429f-9869-7eaa02510584\")>,\n",
       " <selenium.webdriver.remote.webelement.WebElement (session=\"9f73ed834ac4ed7d040a73884fb3d5b8\", element=\"e4fc0fd3-dd77-4d24-b3d8-0852b50a3471\")>,\n",
       " <selenium.webdriver.remote.webelement.WebElement (session=\"9f73ed834ac4ed7d040a73884fb3d5b8\", element=\"847e694e-1556-4c9d-97be-1b13ae024582\")>,\n",
       " <selenium.webdriver.remote.webelement.WebElement (session=\"9f73ed834ac4ed7d040a73884fb3d5b8\", element=\"9f11c68f-3394-4054-89b4-01f2d3be6a0d\")>,\n",
       " <selenium.webdriver.remote.webelement.WebElement (session=\"9f73ed834ac4ed7d040a73884fb3d5b8\", element=\"291588bc-bc7a-487e-a67d-95c72138cee7\")>,\n",
       " <selenium.webdriver.remote.webelement.WebElement (session=\"9f73ed834ac4ed7d040a73884fb3d5b8\", element=\"6d0b753e-f780-4a42-addb-ec3155f9b503\")>,\n",
       " <selenium.webdriver.remote.webelement.WebElement (session=\"9f73ed834ac4ed7d040a73884fb3d5b8\", element=\"2bfd7fde-2e2a-490b-a3d4-110634c2aca4\")>,\n",
       " <selenium.webdriver.remote.webelement.WebElement (session=\"9f73ed834ac4ed7d040a73884fb3d5b8\", element=\"14ef6660-74f4-4512-81b5-ed8d5e330700\")>,\n",
       " <selenium.webdriver.remote.webelement.WebElement (session=\"9f73ed834ac4ed7d040a73884fb3d5b8\", element=\"29a337d0-d5a9-4dc9-8813-012dca206221\")>,\n",
       " <selenium.webdriver.remote.webelement.WebElement (session=\"9f73ed834ac4ed7d040a73884fb3d5b8\", element=\"76131c34-5225-486e-b4ec-c08d765adae6\")>,\n",
       " <selenium.webdriver.remote.webelement.WebElement (session=\"9f73ed834ac4ed7d040a73884fb3d5b8\", element=\"a2d55bdd-6880-46ff-afe9-c390519d5bde\")>,\n",
       " <selenium.webdriver.remote.webelement.WebElement (session=\"9f73ed834ac4ed7d040a73884fb3d5b8\", element=\"c2b0e0f3-148b-4194-b298-195b3098f390\")>,\n",
       " <selenium.webdriver.remote.webelement.WebElement (session=\"9f73ed834ac4ed7d040a73884fb3d5b8\", element=\"f72b2a48-86e3-4b34-9cf5-fa921a6e755f\")>,\n",
       " <selenium.webdriver.remote.webelement.WebElement (session=\"9f73ed834ac4ed7d040a73884fb3d5b8\", element=\"8989e026-9df8-4ee2-b130-bd1ae13f37e6\")>,\n",
       " <selenium.webdriver.remote.webelement.WebElement (session=\"9f73ed834ac4ed7d040a73884fb3d5b8\", element=\"0a01a6ea-b18d-43ad-b039-96256f056608\")>,\n",
       " <selenium.webdriver.remote.webelement.WebElement (session=\"9f73ed834ac4ed7d040a73884fb3d5b8\", element=\"dde05a1f-0896-47b4-9c2d-a14d40853289\")>,\n",
       " <selenium.webdriver.remote.webelement.WebElement (session=\"9f73ed834ac4ed7d040a73884fb3d5b8\", element=\"29b6f3a8-6dbe-4534-b32d-20cc5c23357f\")>,\n",
       " <selenium.webdriver.remote.webelement.WebElement (session=\"9f73ed834ac4ed7d040a73884fb3d5b8\", element=\"c626ee7b-51b0-4b40-b89d-b9fdebca4d1b\")>,\n",
       " <selenium.webdriver.remote.webelement.WebElement (session=\"9f73ed834ac4ed7d040a73884fb3d5b8\", element=\"13953216-a36f-43af-96db-fa213ae07c20\")>,\n",
       " <selenium.webdriver.remote.webelement.WebElement (session=\"9f73ed834ac4ed7d040a73884fb3d5b8\", element=\"4bb6c683-510f-490a-8e49-26a2ad11063f\")>,\n",
       " <selenium.webdriver.remote.webelement.WebElement (session=\"9f73ed834ac4ed7d040a73884fb3d5b8\", element=\"bad81cee-df0a-4505-9046-4e532bd8a19f\")>,\n",
       " <selenium.webdriver.remote.webelement.WebElement (session=\"9f73ed834ac4ed7d040a73884fb3d5b8\", element=\"c70d81eb-2d61-4e13-89ca-84d9afea2d4b\")>,\n",
       " <selenium.webdriver.remote.webelement.WebElement (session=\"9f73ed834ac4ed7d040a73884fb3d5b8\", element=\"2dfd28a7-74bc-4a1b-8a86-a4eec6ccdf75\")>,\n",
       " <selenium.webdriver.remote.webelement.WebElement (session=\"9f73ed834ac4ed7d040a73884fb3d5b8\", element=\"b35b336e-4041-4d95-b28d-a90652a69dee\")>,\n",
       " <selenium.webdriver.remote.webelement.WebElement (session=\"9f73ed834ac4ed7d040a73884fb3d5b8\", element=\"14eea519-4440-4a8d-b945-b1d726fc6c3c\")>,\n",
       " <selenium.webdriver.remote.webelement.WebElement (session=\"9f73ed834ac4ed7d040a73884fb3d5b8\", element=\"d2a1dd90-b31c-4c87-8c05-2b0cc201e0cb\")>,\n",
       " <selenium.webdriver.remote.webelement.WebElement (session=\"9f73ed834ac4ed7d040a73884fb3d5b8\", element=\"51dd33c0-9716-42b7-9bfd-8b575b3990f3\")>,\n",
       " <selenium.webdriver.remote.webelement.WebElement (session=\"9f73ed834ac4ed7d040a73884fb3d5b8\", element=\"c6618499-92f0-4b8c-9198-12c3066f020e\")>,\n",
       " <selenium.webdriver.remote.webelement.WebElement (session=\"9f73ed834ac4ed7d040a73884fb3d5b8\", element=\"7da17a32-7ce3-45c5-afaf-995222cbae3b\")>,\n",
       " <selenium.webdriver.remote.webelement.WebElement (session=\"9f73ed834ac4ed7d040a73884fb3d5b8\", element=\"0ecafba9-7b21-4a73-b759-7bf752690119\")>,\n",
       " <selenium.webdriver.remote.webelement.WebElement (session=\"9f73ed834ac4ed7d040a73884fb3d5b8\", element=\"7c30b067-4593-42c1-973d-9a1f6e2e3513\")>,\n",
       " <selenium.webdriver.remote.webelement.WebElement (session=\"9f73ed834ac4ed7d040a73884fb3d5b8\", element=\"7c778d7f-9bfe-4b47-96f9-1bad51faa4fc\")>,\n",
       " <selenium.webdriver.remote.webelement.WebElement (session=\"9f73ed834ac4ed7d040a73884fb3d5b8\", element=\"95c59a25-644c-4228-88a4-22a8b489db47\")>,\n",
       " <selenium.webdriver.remote.webelement.WebElement (session=\"9f73ed834ac4ed7d040a73884fb3d5b8\", element=\"b32134ed-cdc6-40f9-8d09-0b8193b03da8\")>,\n",
       " <selenium.webdriver.remote.webelement.WebElement (session=\"9f73ed834ac4ed7d040a73884fb3d5b8\", element=\"ab73d8e7-c3db-4ad9-bcbe-028ed5ecb4b4\")>]"
      ]
     },
     "execution_count": 282,
     "metadata": {},
     "output_type": "execute_result"
    }
   ],
   "source": [
    "price_tags1 = driver.find_elements_by_xpath(\"//div[@class='product-price']/span[1]\")\n",
    "price_tags1"
   ]
  },
  {
   "cell_type": "code",
   "execution_count": 283,
   "id": "ffd172a6",
   "metadata": {},
   "outputs": [
    {
     "data": {
      "text/plain": [
       "['Rs. 8500Rs. 10500',\n",
       " 'Rs. 9999',\n",
       " 'Rs. 6990',\n",
       " 'Rs. 6599',\n",
       " 'Rs. 8999',\n",
       " 'Rs. 8399Rs. 11999',\n",
       " 'Rs. 8999',\n",
       " 'Rs. 9999',\n",
       " 'Rs. 8399Rs. 13999',\n",
       " 'Rs. 7999',\n",
       " 'Rs. 7990',\n",
       " 'Rs. 6299Rs. 6999',\n",
       " 'Rs. 7199Rs. 7999',\n",
       " 'Rs. 6791Rs. 7990',\n",
       " 'Rs. 8990',\n",
       " 'Rs. 7999',\n",
       " 'Rs. 6999',\n",
       " 'Rs. 6999',\n",
       " 'Rs. 9999',\n",
       " 'Rs. 6999',\n",
       " 'Rs. 6990',\n",
       " 'Rs. 6599',\n",
       " 'Rs. 7699',\n",
       " 'Rs. 6299Rs. 6999',\n",
       " 'Rs. 7149Rs. 10999',\n",
       " 'Rs. 7999Rs. 9999',\n",
       " 'Rs. 8490',\n",
       " 'Rs. 11490',\n",
       " 'Rs. 6990',\n",
       " 'Rs. 8990',\n",
       " 'Rs. 6995',\n",
       " 'Rs. 7999',\n",
       " 'Rs. 7999Rs. 9999',\n",
       " 'Rs. 8999Rs. 9999',\n",
       " 'Rs. 7499',\n",
       " 'Rs. 7990',\n",
       " 'Rs. 7990',\n",
       " 'Rs. 8990',\n",
       " 'Rs. 8999Rs. 9999',\n",
       " 'Rs. 7110Rs. 7900',\n",
       " 'Rs. 8990',\n",
       " 'Rs. 8990',\n",
       " 'Rs. 9450Rs. 10500',\n",
       " 'Rs. 6499Rs. 12999',\n",
       " 'Rs. 8999',\n",
       " 'Rs. 8999',\n",
       " 'Rs. 9850Rs. 10900',\n",
       " 'Rs. 7990',\n",
       " 'Rs. 8990',\n",
       " 'Rs. 8990']"
      ]
     },
     "execution_count": 283,
     "metadata": {},
     "output_type": "execute_result"
    }
   ],
   "source": [
    "for i in price_tags1:\n",
    "    title=i.text\n",
    "    price1.append(title)\n",
    "price1"
   ]
  },
  {
   "cell_type": "markdown",
   "id": "9202af3d",
   "metadata": {},
   "source": [
    "# JOINING ALL LIST:"
   ]
  },
  {
   "cell_type": "code",
   "execution_count": 284,
   "id": "15e2e2ef",
   "metadata": {},
   "outputs": [],
   "source": [
    "Brand = brand+brand1\n",
    "Short_Description = short_description+short_description1\n",
    "Price = price+price1"
   ]
  },
  {
   "cell_type": "code",
   "execution_count": 285,
   "id": "e107876c",
   "metadata": {},
   "outputs": [
    {
     "name": "stdout",
     "output_type": "stream",
     "text": [
      "100 100 100\n"
     ]
    }
   ],
   "source": [
    "print(len(Brand),len(Short_Description),len(Price))"
   ]
  },
  {
   "cell_type": "code",
   "execution_count": 286,
   "id": "a3c73302",
   "metadata": {},
   "outputs": [],
   "source": [
    "#creating dataframe\n",
    "myntra_data = pd.DataFrame({'Brand':Brand,'Short_Description':Short_Description,'Price':Price})"
   ]
  },
  {
   "cell_type": "code",
   "execution_count": 288,
   "id": "8f7866a2",
   "metadata": {},
   "outputs": [
    {
     "data": {
      "text/html": [
       "<div>\n",
       "<style scoped>\n",
       "    .dataframe tbody tr th:only-of-type {\n",
       "        vertical-align: middle;\n",
       "    }\n",
       "\n",
       "    .dataframe tbody tr th {\n",
       "        vertical-align: top;\n",
       "    }\n",
       "\n",
       "    .dataframe thead th {\n",
       "        text-align: right;\n",
       "    }\n",
       "</style>\n",
       "<table border=\"1\" class=\"dataframe\">\n",
       "  <thead>\n",
       "    <tr style=\"text-align: right;\">\n",
       "      <th></th>\n",
       "      <th>Brand</th>\n",
       "      <th>Short_Description</th>\n",
       "      <th>Price</th>\n",
       "    </tr>\n",
       "  </thead>\n",
       "  <tbody>\n",
       "    <tr>\n",
       "      <th>0</th>\n",
       "      <td>ASICS</td>\n",
       "      <td>Men GEL-KAYANO 27 Shoes</td>\n",
       "      <td>Rs. 10499Rs. 14999</td>\n",
       "    </tr>\n",
       "    <tr>\n",
       "      <th>1</th>\n",
       "      <td>Puma</td>\n",
       "      <td>Men Running Shoes</td>\n",
       "      <td>Rs. 6499Rs. 12999</td>\n",
       "    </tr>\n",
       "    <tr>\n",
       "      <th>2</th>\n",
       "      <td>Puma</td>\n",
       "      <td>Men Deviate Nitro Running Shoe</td>\n",
       "      <td>Rs. 8249Rs. 14999</td>\n",
       "    </tr>\n",
       "    <tr>\n",
       "      <th>3</th>\n",
       "      <td>Puma</td>\n",
       "      <td>Women Eternity NITRO Shoes</td>\n",
       "      <td>Rs. 6499Rs. 12999</td>\n",
       "    </tr>\n",
       "    <tr>\n",
       "      <th>4</th>\n",
       "      <td>Nike</td>\n",
       "      <td>Men Waffle One SE Sneakers</td>\n",
       "      <td>Rs. 8295</td>\n",
       "    </tr>\n",
       "  </tbody>\n",
       "</table>\n",
       "</div>"
      ],
      "text/plain": [
       "   Brand               Short_Description               Price\n",
       "0  ASICS         Men GEL-KAYANO 27 Shoes  Rs. 10499Rs. 14999\n",
       "1   Puma               Men Running Shoes   Rs. 6499Rs. 12999\n",
       "2   Puma  Men Deviate Nitro Running Shoe   Rs. 8249Rs. 14999\n",
       "3   Puma      Women Eternity NITRO Shoes   Rs. 6499Rs. 12999\n",
       "4   Nike      Men Waffle One SE Sneakers            Rs. 8295"
      ]
     },
     "execution_count": 288,
     "metadata": {},
     "output_type": "execute_result"
    }
   ],
   "source": [
    "myntra_data.head()"
   ]
  },
  {
   "cell_type": "code",
   "execution_count": 376,
   "id": "92fff4f2",
   "metadata": {},
   "outputs": [],
   "source": [
    "#driver.close()"
   ]
  },
  {
   "cell_type": "markdown",
   "id": "c7a11844",
   "metadata": {},
   "source": [
    "# Scrape first 10 laptops data from Amazon.com:"
   ]
  },
  {
   "cell_type": "code",
   "execution_count": 377,
   "id": "00d86e6d",
   "metadata": {},
   "outputs": [
    {
     "name": "stderr",
     "output_type": "stream",
     "text": [
      "<ipython-input-377-151ce781a031>:1: DeprecationWarning: executable_path has been deprecated, please pass in a Service object\n",
      "  driver = webdriver.Chrome(r\"C:\\Users\\shaha\\Downloads\\chromedriver_win32/chromedriver.exe\")\n"
     ]
    }
   ],
   "source": [
    "driver = webdriver.Chrome(r\"C:\\Users\\shaha\\Downloads\\chromedriver_win32/chromedriver.exe\")"
   ]
  },
  {
   "cell_type": "code",
   "execution_count": 378,
   "id": "038d5681",
   "metadata": {},
   "outputs": [],
   "source": [
    "driver.get(\"https://www.amazon.in/\")"
   ]
  },
  {
   "cell_type": "code",
   "execution_count": 379,
   "id": "b2ccfd92",
   "metadata": {},
   "outputs": [
    {
     "name": "stderr",
     "output_type": "stream",
     "text": [
      "<ipython-input-379-212d6852c3e7>:2: DeprecationWarning: find_element_by_* commands are deprecated. Please use find_element() instead\n",
      "  search = driver.find_element_by_id('twotabsearchtextbox')\n"
     ]
    }
   ],
   "source": [
    "#searching\n",
    "search = driver.find_element_by_id('twotabsearchtextbox')\n",
    "search.send_keys(\"Laptop\")"
   ]
  },
  {
   "cell_type": "code",
   "execution_count": 380,
   "id": "6cbe93c4",
   "metadata": {},
   "outputs": [
    {
     "name": "stderr",
     "output_type": "stream",
     "text": [
      "<ipython-input-380-a70643a383db>:1: DeprecationWarning: find_element_by_* commands are deprecated. Please use find_element() instead\n",
      "  search_btn = driver.find_element_by_xpath(\"//div[@class='nav-search-submit nav-sprite']\")\n"
     ]
    }
   ],
   "source": [
    "search_btn = driver.find_element_by_xpath(\"//div[@class='nav-search-submit nav-sprite']\")\n",
    "search_btn.click()"
   ]
  },
  {
   "cell_type": "markdown",
   "id": "50a9df1e",
   "metadata": {},
   "source": [
    "# Applying filters:"
   ]
  },
  {
   "cell_type": "code",
   "execution_count": 382,
   "id": "9584b8df",
   "metadata": {},
   "outputs": [
    {
     "name": "stderr",
     "output_type": "stream",
     "text": [
      "<ipython-input-382-ec8c9a8db66d>:1: DeprecationWarning: find_element_by_* commands are deprecated. Please use find_element() instead\n",
      "  apply_filter = driver.find_element_by_xpath(\"//ul[@class='a-unordered-list a-nostyle a-vertical a-spacing-medium']/li[13]\")\n"
     ]
    }
   ],
   "source": [
    "apply_filter = driver.find_element_by_xpath(\"//ul[@class='a-unordered-list a-nostyle a-vertical a-spacing-medium']/li[13]\")\n",
    "apply_filter.click()"
   ]
  },
  {
   "cell_type": "code",
   "execution_count": 383,
   "id": "51ad9004",
   "metadata": {},
   "outputs": [],
   "source": [
    "#making empty list\n",
    "Title = []\n",
    "Rating = []\n",
    "Price = []"
   ]
  },
  {
   "cell_type": "code",
   "execution_count": 384,
   "id": "8d5e2011",
   "metadata": {},
   "outputs": [
    {
     "name": "stderr",
     "output_type": "stream",
     "text": [
      "<ipython-input-384-ed824a1e92d5>:1: DeprecationWarning: find_elements_by_* commands are deprecated. Please use find_elements() instead\n",
      "  title_tags = driver.find_elements_by_xpath(\"//h2[@class='a-size-mini a-spacing-none a-color-base s-line-clamp-2']\")\n"
     ]
    },
    {
     "data": {
      "text/plain": [
       "[<selenium.webdriver.remote.webelement.WebElement (session=\"58d33fac2d3a12523ffedc71c2c8be1e\", element=\"9e52d4f8-0a8f-4995-8110-e03a82b3964d\")>,\n",
       " <selenium.webdriver.remote.webelement.WebElement (session=\"58d33fac2d3a12523ffedc71c2c8be1e\", element=\"f906e731-afd3-4e9d-930e-e169e7a4461c\")>,\n",
       " <selenium.webdriver.remote.webelement.WebElement (session=\"58d33fac2d3a12523ffedc71c2c8be1e\", element=\"251edc88-993a-455a-8ce2-416bb6483aad\")>,\n",
       " <selenium.webdriver.remote.webelement.WebElement (session=\"58d33fac2d3a12523ffedc71c2c8be1e\", element=\"91e9fd8b-89a0-4888-90d1-0f09d7760609\")>,\n",
       " <selenium.webdriver.remote.webelement.WebElement (session=\"58d33fac2d3a12523ffedc71c2c8be1e\", element=\"40b47604-29e0-4bff-b7df-3cf1da3cdfdf\")>,\n",
       " <selenium.webdriver.remote.webelement.WebElement (session=\"58d33fac2d3a12523ffedc71c2c8be1e\", element=\"fff36f3e-4574-4d47-8ae1-fab68b419b1d\")>,\n",
       " <selenium.webdriver.remote.webelement.WebElement (session=\"58d33fac2d3a12523ffedc71c2c8be1e\", element=\"4966d196-256e-48f9-b6b7-fc6e76a44e8e\")>,\n",
       " <selenium.webdriver.remote.webelement.WebElement (session=\"58d33fac2d3a12523ffedc71c2c8be1e\", element=\"ba93d025-f938-4804-a767-9c749b08e6b2\")>,\n",
       " <selenium.webdriver.remote.webelement.WebElement (session=\"58d33fac2d3a12523ffedc71c2c8be1e\", element=\"5be0922b-cb2f-40ac-b60d-53c4c04f9fe0\")>,\n",
       " <selenium.webdriver.remote.webelement.WebElement (session=\"58d33fac2d3a12523ffedc71c2c8be1e\", element=\"2c3a82fd-4fc7-419b-ab2d-aa4ec3abab3d\")>]"
      ]
     },
     "execution_count": 384,
     "metadata": {},
     "output_type": "execute_result"
    }
   ],
   "source": [
    "title_tags = driver.find_elements_by_xpath(\"//h2[@class='a-size-mini a-spacing-none a-color-base s-line-clamp-2']\")\n",
    "title_tags[0:10]"
   ]
  },
  {
   "cell_type": "code",
   "execution_count": 385,
   "id": "98cfcd7d",
   "metadata": {},
   "outputs": [
    {
     "data": {
      "text/plain": [
       "['Acer Nitro 5 AN515-57 Gaming Laptop | Intel Core i7-11800H |NVIDIA GeForce RTX 3050 Laptop Graphics |15.6\" FHD 144Hz IPS Display |8GB DDR4 | 256GB SSD+1TB HDD | Killer Wi-Fi 6 | RGB Backlit Keyboard',\n",
       " 'LG Gram 16 Ultra-Light Intel Evo 11th Gen Core i7,16 GB RAM, 512 GB SSD, Win-10, Iris Xe Graphics, 16-inches (40.64 cms), Thunderbolt 4, USC -C x 2 (with Power), 1.19 kg, 3 Yr Warranty (16Z90P, Black)',\n",
       " 'HP Pavilion (2021) Intel 11th Gen Core i7 14 inches FHD Screen Thin & Light Laptop, 16 GB RAM, 1TB SSD, Iris Xe Graphics, Windows 10, MS Office, Backlit Keyboard, 1.41kg (14-dv0058TU)',\n",
       " 'Mi Notebook Horizon Edition 14 Intel Core i7-10510U 10th Gen Thin and Light Laptop(8GB/512GB SSD/Windows 10/Nvidia MX350 2GB Graphics/Grey/1.35Kg)(Without Webcam) XMA1904-AF',\n",
       " 'Mi Notebook Pro QHD+ IPS Anti Glare Display Intel Core i7-11370H 11th Gen 14-inch(35.56 cms) Thin and Light Laptop (16GB/512GB SSD/Iris Xe Graphics/Win 10/Backlit KB/Fingerprint Sensor/1.4 Kg)',\n",
       " 'Lenovo IdeaPad Gaming 3 11th Gen Intel Core i7-11370H 15.6\" (39.63cm) FHD IPS Gaming Laptop (8GB/512GB SSD/Windows 10/NVIDIA RTX 3050 4GB/120Hz Refresh Display/Shadow Black/2.25Kg), 82K1004EIN',\n",
       " 'Dell 15 (2021) i7-11800H Gaming Laptop, 16GB, 512GB SSD, Win 10 + MS Office, NVIDIA RTX 3050 Ti 4GB, 15.6\" (39.61 cms) FHD, Backlit KB Orange, Dark Shadow Grey (G15 5511, D560546WIN9B)',\n",
       " 'Lenovo Legion 5 11th Gen Intel Core i7 15.6\"(39.62cm) FHD IPS Gaming Laptop (16GB/512GB SSD/NVIDIA RTX 3050 4GB/120Hz Refresh Rate/Windows 10/MS Office/Backlit Keyboard/Phantom Blue/2.4Kg), 82JK007WIN',\n",
       " 'ASUS TUF Dash F15 (2021) 15.6-inch (39.62 cms) FHD 144Hz, Intel Core i7-11370H 11th Gen, RTX 3060 6GB Graphics, Gaming Laptop (16GB/512GB SSD/Office 2019/Windows 10/Gray/2 Kg), FX516PM-HN175TS',\n",
       " 'ASUS TUF Dash F15 (2021), 15.6-inch (39.62 cms) FHD 144Hz, Intel Core i7-11370H 11th Gen, RTX 3050 4GB Graphics Gaming Laptop (16GB RAM/512GB SSD/Windows 10/Gray/2 kg), FX516PC-HN063T']"
      ]
     },
     "execution_count": 385,
     "metadata": {},
     "output_type": "execute_result"
    }
   ],
   "source": [
    "for i in title_tags:\n",
    "    title=i.text\n",
    "    Title.append(title)\n",
    "Title[0:10]"
   ]
  },
  {
   "cell_type": "code",
   "execution_count": 386,
   "id": "c6da80ae",
   "metadata": {},
   "outputs": [
    {
     "name": "stderr",
     "output_type": "stream",
     "text": [
      "<ipython-input-386-6d25d2f249ca>:1: DeprecationWarning: find_elements_by_* commands are deprecated. Please use find_elements() instead\n",
      "  rating_tags = driver.find_elements_by_xpath(\"//span[@class='a-size-base']\")\n"
     ]
    },
    {
     "data": {
      "text/plain": [
       "[<selenium.webdriver.remote.webelement.WebElement (session=\"58d33fac2d3a12523ffedc71c2c8be1e\", element=\"1d21961b-ad3e-48e2-a317-581ce63557d9\")>,\n",
       " <selenium.webdriver.remote.webelement.WebElement (session=\"58d33fac2d3a12523ffedc71c2c8be1e\", element=\"9a4f73e6-d0f3-41b7-a1cb-741e5ac269cc\")>,\n",
       " <selenium.webdriver.remote.webelement.WebElement (session=\"58d33fac2d3a12523ffedc71c2c8be1e\", element=\"b46ded35-2b7a-4c74-b9b4-542766cb5c0e\")>,\n",
       " <selenium.webdriver.remote.webelement.WebElement (session=\"58d33fac2d3a12523ffedc71c2c8be1e\", element=\"0a0fcf50-2342-4ea7-b7ab-181961ea7e84\")>,\n",
       " <selenium.webdriver.remote.webelement.WebElement (session=\"58d33fac2d3a12523ffedc71c2c8be1e\", element=\"747034ec-a512-4543-865d-e2aea432e71d\")>,\n",
       " <selenium.webdriver.remote.webelement.WebElement (session=\"58d33fac2d3a12523ffedc71c2c8be1e\", element=\"d1b1dcfe-bd68-45b7-846b-0ed5e541596b\")>,\n",
       " <selenium.webdriver.remote.webelement.WebElement (session=\"58d33fac2d3a12523ffedc71c2c8be1e\", element=\"7b4bc19f-a463-4dd4-9cbd-6a82bd7d1144\")>,\n",
       " <selenium.webdriver.remote.webelement.WebElement (session=\"58d33fac2d3a12523ffedc71c2c8be1e\", element=\"b1707213-6030-4fdc-ba40-d086b8c73a09\")>,\n",
       " <selenium.webdriver.remote.webelement.WebElement (session=\"58d33fac2d3a12523ffedc71c2c8be1e\", element=\"9451a6b7-f955-4cce-8a07-dc9a2679a0ad\")>,\n",
       " <selenium.webdriver.remote.webelement.WebElement (session=\"58d33fac2d3a12523ffedc71c2c8be1e\", element=\"f8120ba6-d9bc-4cf9-b218-bdbf61e5b6d5\")>]"
      ]
     },
     "execution_count": 386,
     "metadata": {},
     "output_type": "execute_result"
    }
   ],
   "source": [
    "rating_tags = driver.find_elements_by_xpath(\"//span[@class='a-size-base']\")\n",
    "rating_tags[0:10]"
   ]
  },
  {
   "cell_type": "code",
   "execution_count": 387,
   "id": "c4bcdd6e",
   "metadata": {},
   "outputs": [
    {
     "data": {
      "text/plain": [
       "['120', '39', '512', '963', '588', '5', '8', '176', '27', '186']"
      ]
     },
     "execution_count": 387,
     "metadata": {},
     "output_type": "execute_result"
    }
   ],
   "source": [
    "for i in rating_tags:\n",
    "    title=i.text\n",
    "    Rating.append(title)\n",
    "Rating[0:10]"
   ]
  },
  {
   "cell_type": "code",
   "execution_count": 388,
   "id": "8703534f",
   "metadata": {},
   "outputs": [
    {
     "name": "stderr",
     "output_type": "stream",
     "text": [
      "<ipython-input-388-f8676fb16122>:1: DeprecationWarning: find_elements_by_* commands are deprecated. Please use find_elements() instead\n",
      "  price_tags = driver.find_elements_by_xpath(\"//span[@class='a-price-whole']\")\n"
     ]
    },
    {
     "data": {
      "text/plain": [
       "[<selenium.webdriver.remote.webelement.WebElement (session=\"58d33fac2d3a12523ffedc71c2c8be1e\", element=\"455a5e2c-2b0e-43a6-9165-c7b3bf050faa\")>,\n",
       " <selenium.webdriver.remote.webelement.WebElement (session=\"58d33fac2d3a12523ffedc71c2c8be1e\", element=\"05b91260-69e7-4f1b-b5ed-dce22f1b2cb6\")>,\n",
       " <selenium.webdriver.remote.webelement.WebElement (session=\"58d33fac2d3a12523ffedc71c2c8be1e\", element=\"4bcedb68-d2f6-4de4-8778-555c00d0780c\")>,\n",
       " <selenium.webdriver.remote.webelement.WebElement (session=\"58d33fac2d3a12523ffedc71c2c8be1e\", element=\"02a2f4fb-6b65-412f-b462-a4dbfab54f0e\")>,\n",
       " <selenium.webdriver.remote.webelement.WebElement (session=\"58d33fac2d3a12523ffedc71c2c8be1e\", element=\"36c5f961-6044-4e64-bfc1-adac7ab1569b\")>,\n",
       " <selenium.webdriver.remote.webelement.WebElement (session=\"58d33fac2d3a12523ffedc71c2c8be1e\", element=\"d22f7a4c-dd2b-400d-aab0-09b5486a13b2\")>,\n",
       " <selenium.webdriver.remote.webelement.WebElement (session=\"58d33fac2d3a12523ffedc71c2c8be1e\", element=\"1b27f7b3-ddcb-4b16-9db4-217dee83d526\")>,\n",
       " <selenium.webdriver.remote.webelement.WebElement (session=\"58d33fac2d3a12523ffedc71c2c8be1e\", element=\"04c1486d-5e9e-4692-b3b8-1434d39e8437\")>,\n",
       " <selenium.webdriver.remote.webelement.WebElement (session=\"58d33fac2d3a12523ffedc71c2c8be1e\", element=\"adbf95ae-0087-4349-b1b6-c5bdff78bc5f\")>,\n",
       " <selenium.webdriver.remote.webelement.WebElement (session=\"58d33fac2d3a12523ffedc71c2c8be1e\", element=\"791411c3-9a4a-4aa5-9800-b86a3c5d4efe\")>]"
      ]
     },
     "execution_count": 388,
     "metadata": {},
     "output_type": "execute_result"
    }
   ],
   "source": [
    "price_tags = driver.find_elements_by_xpath(\"//span[@class='a-price-whole']\")\n",
    "price_tags[0:10]"
   ]
  },
  {
   "cell_type": "code",
   "execution_count": 389,
   "id": "94887de2",
   "metadata": {},
   "outputs": [
    {
     "data": {
      "text/plain": [
       "['88,990',\n",
       " '94,499',\n",
       " '84,990',\n",
       " '52,999',\n",
       " '73,999',\n",
       " '82,990',\n",
       " '1,05,703',\n",
       " '1,00,990',\n",
       " '1,09,990',\n",
       " '89,990']"
      ]
     },
     "execution_count": 389,
     "metadata": {},
     "output_type": "execute_result"
    }
   ],
   "source": [
    "for i in price_tags:\n",
    "    title=i.text\n",
    "    Price.append(title)\n",
    "Price[0:10]"
   ]
  },
  {
   "cell_type": "code",
   "execution_count": 394,
   "id": "510d294f",
   "metadata": {},
   "outputs": [
    {
     "name": "stdout",
     "output_type": "stream",
     "text": [
      "30 30 30\n"
     ]
    }
   ],
   "source": [
    "print(len(Title),len(RATING),len(Price))"
   ]
  },
  {
   "cell_type": "code",
   "execution_count": 395,
   "id": "6303218b",
   "metadata": {},
   "outputs": [],
   "source": [
    "#creating dataframe\n",
    "data = pd.DataFrame({'Title':Title,'RATING':RATING,'Price':Price})"
   ]
  },
  {
   "cell_type": "code",
   "execution_count": 396,
   "id": "967d27d9",
   "metadata": {},
   "outputs": [
    {
     "data": {
      "text/html": [
       "<div>\n",
       "<style scoped>\n",
       "    .dataframe tbody tr th:only-of-type {\n",
       "        vertical-align: middle;\n",
       "    }\n",
       "\n",
       "    .dataframe tbody tr th {\n",
       "        vertical-align: top;\n",
       "    }\n",
       "\n",
       "    .dataframe thead th {\n",
       "        text-align: right;\n",
       "    }\n",
       "</style>\n",
       "<table border=\"1\" class=\"dataframe\">\n",
       "  <thead>\n",
       "    <tr style=\"text-align: right;\">\n",
       "      <th></th>\n",
       "      <th>Title</th>\n",
       "      <th>RATING</th>\n",
       "      <th>Price</th>\n",
       "    </tr>\n",
       "  </thead>\n",
       "  <tbody>\n",
       "    <tr>\n",
       "      <th>0</th>\n",
       "      <td>Acer Nitro 5 AN515-57 Gaming Laptop | Intel Co...</td>\n",
       "      <td>120</td>\n",
       "      <td>88,990</td>\n",
       "    </tr>\n",
       "    <tr>\n",
       "      <th>1</th>\n",
       "      <td>LG Gram 16 Ultra-Light Intel Evo 11th Gen Core...</td>\n",
       "      <td>39</td>\n",
       "      <td>94,499</td>\n",
       "    </tr>\n",
       "    <tr>\n",
       "      <th>2</th>\n",
       "      <td>HP Pavilion (2021) Intel 11th Gen Core i7 14 i...</td>\n",
       "      <td>512</td>\n",
       "      <td>84,990</td>\n",
       "    </tr>\n",
       "    <tr>\n",
       "      <th>3</th>\n",
       "      <td>Mi Notebook Horizon Edition 14 Intel Core i7-1...</td>\n",
       "      <td>963</td>\n",
       "      <td>52,999</td>\n",
       "    </tr>\n",
       "    <tr>\n",
       "      <th>4</th>\n",
       "      <td>Mi Notebook Pro QHD+ IPS Anti Glare Display In...</td>\n",
       "      <td>588</td>\n",
       "      <td>73,999</td>\n",
       "    </tr>\n",
       "  </tbody>\n",
       "</table>\n",
       "</div>"
      ],
      "text/plain": [
       "                                               Title RATING   Price\n",
       "0  Acer Nitro 5 AN515-57 Gaming Laptop | Intel Co...    120  88,990\n",
       "1  LG Gram 16 Ultra-Light Intel Evo 11th Gen Core...     39  94,499\n",
       "2  HP Pavilion (2021) Intel 11th Gen Core i7 14 i...    512  84,990\n",
       "3  Mi Notebook Horizon Edition 14 Intel Core i7-1...    963  52,999\n",
       "4  Mi Notebook Pro QHD+ IPS Anti Glare Display In...    588  73,999"
      ]
     },
     "execution_count": 396,
     "metadata": {},
     "output_type": "execute_result"
    }
   ],
   "source": [
    "data.head()"
   ]
  },
  {
   "cell_type": "code",
   "execution_count": 411,
   "id": "43deea80",
   "metadata": {},
   "outputs": [],
   "source": [
    "#driver.close()"
   ]
  },
  {
   "cell_type": "markdown",
   "id": "6a0bbf8b",
   "metadata": {},
   "source": [
    "# Python program to scrape data for first 10 job results for Data Scientist Designation in Noida from AMBITIONBOX.COM:"
   ]
  },
  {
   "cell_type": "code",
   "execution_count": 412,
   "id": "da12f600",
   "metadata": {},
   "outputs": [
    {
     "name": "stderr",
     "output_type": "stream",
     "text": [
      "<ipython-input-412-151ce781a031>:1: DeprecationWarning: executable_path has been deprecated, please pass in a Service object\n",
      "  driver = webdriver.Chrome(r\"C:\\Users\\shaha\\Downloads\\chromedriver_win32/chromedriver.exe\")\n"
     ]
    }
   ],
   "source": [
    "driver = webdriver.Chrome(r\"C:\\Users\\shaha\\Downloads\\chromedriver_win32/chromedriver.exe\")"
   ]
  },
  {
   "cell_type": "code",
   "execution_count": 413,
   "id": "c18bc082",
   "metadata": {},
   "outputs": [],
   "source": [
    "driver.get(\" https://www.ambitionbox.com/\")"
   ]
  },
  {
   "cell_type": "code",
   "execution_count": 414,
   "id": "14a07001",
   "metadata": {},
   "outputs": [
    {
     "name": "stderr",
     "output_type": "stream",
     "text": [
      "<ipython-input-414-e597d7c17f54>:2: DeprecationWarning: find_element_by_* commands are deprecated. Please use find_element() instead\n",
      "  job = driver.find_element_by_xpath(\"//a[@class='link jobs']\")\n"
     ]
    }
   ],
   "source": [
    "#clicking on job option\n",
    "job = driver.find_element_by_xpath(\"//a[@class='link jobs']\")\n",
    "job.click()"
   ]
  },
  {
   "cell_type": "code",
   "execution_count": 415,
   "id": "0a54ca83",
   "metadata": {},
   "outputs": [
    {
     "name": "stderr",
     "output_type": "stream",
     "text": [
      "<ipython-input-415-c56113935120>:2: DeprecationWarning: find_element_by_* commands are deprecated. Please use find_element() instead\n",
      "  search = driver.find_element_by_xpath(\"//input[@title='Enter Designation, Company or a Skill']\")\n"
     ]
    }
   ],
   "source": [
    "#now searching data scientist\n",
    "search = driver.find_element_by_xpath(\"//input[@title='Enter Designation, Company or a Skill']\")\n",
    "search.send_keys(\"Data Scientist\")"
   ]
  },
  {
   "cell_type": "code",
   "execution_count": 416,
   "id": "cc01c758",
   "metadata": {},
   "outputs": [
    {
     "name": "stderr",
     "output_type": "stream",
     "text": [
      "<ipython-input-416-a54c22ad6209>:1: DeprecationWarning: find_element_by_* commands are deprecated. Please use find_element() instead\n",
      "  search_btn = driver.find_element_by_xpath(\"//button[@class='ab_btn search-btn round']\")\n"
     ]
    }
   ],
   "source": [
    "search_btn = driver.find_element_by_xpath(\"//button[@class='ab_btn search-btn round']\")\n",
    "search_btn.click()"
   ]
  },
  {
   "cell_type": "markdown",
   "id": "d7eaa96e",
   "metadata": {},
   "source": [
    "#clicking on location option:"
   ]
  },
  {
   "cell_type": "code",
   "execution_count": 417,
   "id": "efc13b58",
   "metadata": {},
   "outputs": [
    {
     "name": "stderr",
     "output_type": "stream",
     "text": [
      "<ipython-input-417-fcd646f7ca1b>:1: DeprecationWarning: find_element_by_* commands are deprecated. Please use find_element() instead\n",
      "  location = driver.find_element_by_xpath(\"//div[@title='Location']\")\n"
     ]
    }
   ],
   "source": [
    "location = driver.find_element_by_xpath(\"//div[@title='Location']\")\n",
    "location.click()"
   ]
  },
  {
   "cell_type": "markdown",
   "id": "317461aa",
   "metadata": {},
   "source": [
    "searching noida location:"
   ]
  },
  {
   "cell_type": "code",
   "execution_count": 418,
   "id": "64b7bae5",
   "metadata": {},
   "outputs": [
    {
     "name": "stderr",
     "output_type": "stream",
     "text": [
      "<ipython-input-418-62a86b3323b2>:1: DeprecationWarning: find_element_by_* commands are deprecated. Please use find_element() instead\n",
      "  srch_loc = driver.find_element_by_xpath(\"//input[@placeholder='Search locations']\")\n"
     ]
    }
   ],
   "source": [
    "srch_loc = driver.find_element_by_xpath(\"//input[@placeholder='Search locations']\")\n",
    "srch_loc.send_keys('Noida')"
   ]
  },
  {
   "cell_type": "markdown",
   "id": "84177b03",
   "metadata": {},
   "source": [
    "Selecting Noida location nw:"
   ]
  },
  {
   "cell_type": "code",
   "execution_count": 419,
   "id": "369189c7",
   "metadata": {},
   "outputs": [
    {
     "name": "stderr",
     "output_type": "stream",
     "text": [
      "<ipython-input-419-46cd0fe2cf7d>:1: DeprecationWarning: find_element_by_* commands are deprecated. Please use find_element() instead\n",
      "  select_loc = driver.find_element_by_xpath(\"//label[@for='location_Noida']\")\n"
     ]
    }
   ],
   "source": [
    "select_loc = driver.find_element_by_xpath(\"//label[@for='location_Noida']\")\n",
    "select_loc.click()"
   ]
  },
  {
   "cell_type": "code",
   "execution_count": 420,
   "id": "d0b8abc3",
   "metadata": {},
   "outputs": [],
   "source": [
    "#making empty list\n",
    "Company =[]\n",
    "Posted =[]\n",
    "Rating = []"
   ]
  },
  {
   "cell_type": "code",
   "execution_count": 421,
   "id": "a5829c78",
   "metadata": {},
   "outputs": [
    {
     "name": "stderr",
     "output_type": "stream",
     "text": [
      "<ipython-input-421-de8326868f3c>:2: DeprecationWarning: find_elements_by_* commands are deprecated. Please use find_elements() instead\n",
      "  company_tags = driver.find_elements_by_xpath(\"//p[@class='company body-medium']\")\n"
     ]
    },
    {
     "data": {
      "text/plain": [
       "[<selenium.webdriver.remote.webelement.WebElement (session=\"ae6dc5ec5c166b8af6083c4692544307\", element=\"14876ace-57a3-475c-9e32-fb60722d5d06\")>,\n",
       " <selenium.webdriver.remote.webelement.WebElement (session=\"ae6dc5ec5c166b8af6083c4692544307\", element=\"24ecd208-597c-491a-ac61-77ea6f801b83\")>,\n",
       " <selenium.webdriver.remote.webelement.WebElement (session=\"ae6dc5ec5c166b8af6083c4692544307\", element=\"3abd5c4c-2a75-4b7b-a392-43760745e8f6\")>,\n",
       " <selenium.webdriver.remote.webelement.WebElement (session=\"ae6dc5ec5c166b8af6083c4692544307\", element=\"444c48db-1364-45d2-bc00-95764df6fc7b\")>,\n",
       " <selenium.webdriver.remote.webelement.WebElement (session=\"ae6dc5ec5c166b8af6083c4692544307\", element=\"1d640073-0099-4d2e-9f46-baf7020ee56f\")>,\n",
       " <selenium.webdriver.remote.webelement.WebElement (session=\"ae6dc5ec5c166b8af6083c4692544307\", element=\"4f8cf49a-37e6-4b19-a735-200e0929750a\")>,\n",
       " <selenium.webdriver.remote.webelement.WebElement (session=\"ae6dc5ec5c166b8af6083c4692544307\", element=\"f9e3c2aa-7f21-474a-b2d1-5a9280ce1cb3\")>,\n",
       " <selenium.webdriver.remote.webelement.WebElement (session=\"ae6dc5ec5c166b8af6083c4692544307\", element=\"028cfee4-75ff-4023-9f1e-d549bae5a399\")>,\n",
       " <selenium.webdriver.remote.webelement.WebElement (session=\"ae6dc5ec5c166b8af6083c4692544307\", element=\"23514c96-db9d-412e-bd83-e2c42f44ccc3\")>,\n",
       " <selenium.webdriver.remote.webelement.WebElement (session=\"ae6dc5ec5c166b8af6083c4692544307\", element=\"98d2a09c-ab9a-4933-945e-634eb5dec57d\")>]"
      ]
     },
     "execution_count": 421,
     "metadata": {},
     "output_type": "execute_result"
    }
   ],
   "source": [
    "#now we will scrape data for company name\n",
    "company_tags = driver.find_elements_by_xpath(\"//p[@class='company body-medium']\")\n",
    "company_tags[0:10]"
   ]
  },
  {
   "cell_type": "code",
   "execution_count": 422,
   "id": "b57a3b98",
   "metadata": {},
   "outputs": [
    {
     "data": {
      "text/plain": [
       "['LG Electronics India Pvt. Ltd.',\n",
       " 'GENPACT India Private Limited',\n",
       " 'GENPACT India Private Limited',\n",
       " 'NTT Data Business Solutions Pvt Ltd',\n",
       " 'GENPACT India Private Limited',\n",
       " 'Paytm',\n",
       " 'GI Group',\n",
       " 'GI Group',\n",
       " 'GI Group',\n",
       " 'Steria India Ltd']"
      ]
     },
     "execution_count": 422,
     "metadata": {},
     "output_type": "execute_result"
    }
   ],
   "source": [
    "for i in company_tags:\n",
    "    title=i.text\n",
    "    Company.append(title)\n",
    "Company"
   ]
  },
  {
   "cell_type": "code",
   "execution_count": 424,
   "id": "b3f3f291",
   "metadata": {},
   "outputs": [
    {
     "name": "stderr",
     "output_type": "stream",
     "text": [
      "<ipython-input-424-a471a736f095>:1: DeprecationWarning: find_elements_by_* commands are deprecated. Please use find_elements() instead\n",
      "  days_tags = driver.find_elements_by_xpath(\"//div[@class='other-info']/span[1]\")\n"
     ]
    },
    {
     "data": {
      "text/plain": [
       "[<selenium.webdriver.remote.webelement.WebElement (session=\"ae6dc5ec5c166b8af6083c4692544307\", element=\"646e96ce-1efd-4bce-9f6b-fa5f4dfbfaf0\")>,\n",
       " <selenium.webdriver.remote.webelement.WebElement (session=\"ae6dc5ec5c166b8af6083c4692544307\", element=\"55e33adf-4afb-42f9-b2b1-020c61684f0e\")>,\n",
       " <selenium.webdriver.remote.webelement.WebElement (session=\"ae6dc5ec5c166b8af6083c4692544307\", element=\"b5e238e4-429d-46de-aa39-f10be2224e3e\")>,\n",
       " <selenium.webdriver.remote.webelement.WebElement (session=\"ae6dc5ec5c166b8af6083c4692544307\", element=\"24845027-7c7a-4bc2-a1dc-86e5ac3e67e0\")>,\n",
       " <selenium.webdriver.remote.webelement.WebElement (session=\"ae6dc5ec5c166b8af6083c4692544307\", element=\"fd1d83f6-a453-4dcf-9fd5-3c9152ced758\")>,\n",
       " <selenium.webdriver.remote.webelement.WebElement (session=\"ae6dc5ec5c166b8af6083c4692544307\", element=\"c2b49aed-703a-4226-b5b4-79787f988b4d\")>,\n",
       " <selenium.webdriver.remote.webelement.WebElement (session=\"ae6dc5ec5c166b8af6083c4692544307\", element=\"491b7dd7-6489-4dd0-b03e-6b0f7ab96f7d\")>,\n",
       " <selenium.webdriver.remote.webelement.WebElement (session=\"ae6dc5ec5c166b8af6083c4692544307\", element=\"d2e8b6d0-40f0-4c0c-a1bc-51ab7cfd1375\")>,\n",
       " <selenium.webdriver.remote.webelement.WebElement (session=\"ae6dc5ec5c166b8af6083c4692544307\", element=\"2857caf5-6fff-4faa-a57a-9461b13768af\")>,\n",
       " <selenium.webdriver.remote.webelement.WebElement (session=\"ae6dc5ec5c166b8af6083c4692544307\", element=\"7c3c8a8b-000d-436b-9cd4-c10890849650\")>]"
      ]
     },
     "execution_count": 424,
     "metadata": {},
     "output_type": "execute_result"
    }
   ],
   "source": [
    "days_tags = driver.find_elements_by_xpath(\"//div[@class='other-info']/span[1]\")\n",
    "days_tags[0:10]"
   ]
  },
  {
   "cell_type": "code",
   "execution_count": 425,
   "id": "0e7273dd",
   "metadata": {},
   "outputs": [
    {
     "data": {
      "text/plain": [
       "['8d ago',\n",
       " '15d ago',\n",
       " '15d ago',\n",
       " '16d ago',\n",
       " '17d ago',\n",
       " '2d ago',\n",
       " '1d ago',\n",
       " '1d ago',\n",
       " '1d ago',\n",
       " '1mon ago']"
      ]
     },
     "execution_count": 425,
     "metadata": {},
     "output_type": "execute_result"
    }
   ],
   "source": [
    "for i in days_tags:\n",
    "    title=i.text\n",
    "    Posted.append(title)\n",
    "Posted[0:20]"
   ]
  },
  {
   "cell_type": "code",
   "execution_count": 426,
   "id": "87427edf",
   "metadata": {},
   "outputs": [
    {
     "name": "stderr",
     "output_type": "stream",
     "text": [
      "<ipython-input-426-05fa83814996>:1: DeprecationWarning: find_elements_by_* commands are deprecated. Please use find_elements() instead\n",
      "  rating_tags = driver.find_elements_by_xpath(\"//span[@class='body-small']\")\n"
     ]
    },
    {
     "data": {
      "text/plain": [
       "[<selenium.webdriver.remote.webelement.WebElement (session=\"ae6dc5ec5c166b8af6083c4692544307\", element=\"701b5ecd-999f-4654-9096-acfb7cc18658\")>,\n",
       " <selenium.webdriver.remote.webelement.WebElement (session=\"ae6dc5ec5c166b8af6083c4692544307\", element=\"af6de5fa-7cf4-460d-9bfe-e6d803c9f868\")>,\n",
       " <selenium.webdriver.remote.webelement.WebElement (session=\"ae6dc5ec5c166b8af6083c4692544307\", element=\"ab6b01ed-a191-4f4d-8078-0b85cd2856ce\")>,\n",
       " <selenium.webdriver.remote.webelement.WebElement (session=\"ae6dc5ec5c166b8af6083c4692544307\", element=\"513a5981-46ef-4dc0-a0a8-12c8ac5c0815\")>,\n",
       " <selenium.webdriver.remote.webelement.WebElement (session=\"ae6dc5ec5c166b8af6083c4692544307\", element=\"31992d7b-3742-4446-a4b1-820a4ca83d84\")>,\n",
       " <selenium.webdriver.remote.webelement.WebElement (session=\"ae6dc5ec5c166b8af6083c4692544307\", element=\"27e16e2a-b09e-48a2-9ba6-a9499ec5450d\")>,\n",
       " <selenium.webdriver.remote.webelement.WebElement (session=\"ae6dc5ec5c166b8af6083c4692544307\", element=\"5a30449a-ebe9-43ce-a525-0b743ca08dc5\")>,\n",
       " <selenium.webdriver.remote.webelement.WebElement (session=\"ae6dc5ec5c166b8af6083c4692544307\", element=\"8f3a3714-4feb-426a-9e51-437513b05a12\")>,\n",
       " <selenium.webdriver.remote.webelement.WebElement (session=\"ae6dc5ec5c166b8af6083c4692544307\", element=\"60bf7b2d-5e16-47c8-ba4f-f50eef0bb86b\")>,\n",
       " <selenium.webdriver.remote.webelement.WebElement (session=\"ae6dc5ec5c166b8af6083c4692544307\", element=\"84510fc8-d354-484c-a231-2fef3d94c7b3\")>]"
      ]
     },
     "execution_count": 426,
     "metadata": {},
     "output_type": "execute_result"
    }
   ],
   "source": [
    "rating_tags = driver.find_elements_by_xpath(\"//span[@class='body-small']\")\n",
    "rating_tags[0:10]"
   ]
  },
  {
   "cell_type": "code",
   "execution_count": 427,
   "id": "65ffcfac",
   "metadata": {},
   "outputs": [
    {
     "data": {
      "text/plain": [
       "['4.1', '4.0', '4.0', '3.8', '4.0', '3.7', '4.0', '4.0', '4.0', '4.1']"
      ]
     },
     "execution_count": 427,
     "metadata": {},
     "output_type": "execute_result"
    }
   ],
   "source": [
    "for i in rating_tags:\n",
    "    title=i.text\n",
    "    Rating.append(title)\n",
    "Rating"
   ]
  },
  {
   "cell_type": "code",
   "execution_count": 428,
   "id": "e770080b",
   "metadata": {},
   "outputs": [
    {
     "name": "stdout",
     "output_type": "stream",
     "text": [
      "10 10 10\n"
     ]
    }
   ],
   "source": [
    "print(len(Company),len(Posted),len(Rating))"
   ]
  },
  {
   "cell_type": "code",
   "execution_count": 429,
   "id": "db98fb19",
   "metadata": {},
   "outputs": [],
   "source": [
    "#creating datframe now\n",
    "data = pd.DataFrame({'Company':Company,'Posted':Posted,'Rating':Rating})"
   ]
  },
  {
   "cell_type": "code",
   "execution_count": 430,
   "id": "5e64b8ff",
   "metadata": {},
   "outputs": [
    {
     "data": {
      "text/html": [
       "<div>\n",
       "<style scoped>\n",
       "    .dataframe tbody tr th:only-of-type {\n",
       "        vertical-align: middle;\n",
       "    }\n",
       "\n",
       "    .dataframe tbody tr th {\n",
       "        vertical-align: top;\n",
       "    }\n",
       "\n",
       "    .dataframe thead th {\n",
       "        text-align: right;\n",
       "    }\n",
       "</style>\n",
       "<table border=\"1\" class=\"dataframe\">\n",
       "  <thead>\n",
       "    <tr style=\"text-align: right;\">\n",
       "      <th></th>\n",
       "      <th>Company</th>\n",
       "      <th>Posted</th>\n",
       "      <th>Rating</th>\n",
       "    </tr>\n",
       "  </thead>\n",
       "  <tbody>\n",
       "    <tr>\n",
       "      <th>0</th>\n",
       "      <td>LG Electronics India Pvt. Ltd.</td>\n",
       "      <td>8d ago</td>\n",
       "      <td>4.1</td>\n",
       "    </tr>\n",
       "    <tr>\n",
       "      <th>1</th>\n",
       "      <td>GENPACT India Private Limited</td>\n",
       "      <td>15d ago</td>\n",
       "      <td>4.0</td>\n",
       "    </tr>\n",
       "    <tr>\n",
       "      <th>2</th>\n",
       "      <td>GENPACT India Private Limited</td>\n",
       "      <td>15d ago</td>\n",
       "      <td>4.0</td>\n",
       "    </tr>\n",
       "    <tr>\n",
       "      <th>3</th>\n",
       "      <td>NTT Data Business Solutions Pvt Ltd</td>\n",
       "      <td>16d ago</td>\n",
       "      <td>3.8</td>\n",
       "    </tr>\n",
       "    <tr>\n",
       "      <th>4</th>\n",
       "      <td>GENPACT India Private Limited</td>\n",
       "      <td>17d ago</td>\n",
       "      <td>4.0</td>\n",
       "    </tr>\n",
       "    <tr>\n",
       "      <th>5</th>\n",
       "      <td>Paytm</td>\n",
       "      <td>2d ago</td>\n",
       "      <td>3.7</td>\n",
       "    </tr>\n",
       "    <tr>\n",
       "      <th>6</th>\n",
       "      <td>GI Group</td>\n",
       "      <td>1d ago</td>\n",
       "      <td>4.0</td>\n",
       "    </tr>\n",
       "    <tr>\n",
       "      <th>7</th>\n",
       "      <td>GI Group</td>\n",
       "      <td>1d ago</td>\n",
       "      <td>4.0</td>\n",
       "    </tr>\n",
       "    <tr>\n",
       "      <th>8</th>\n",
       "      <td>GI Group</td>\n",
       "      <td>1d ago</td>\n",
       "      <td>4.0</td>\n",
       "    </tr>\n",
       "    <tr>\n",
       "      <th>9</th>\n",
       "      <td>Steria India Ltd</td>\n",
       "      <td>1mon ago</td>\n",
       "      <td>4.1</td>\n",
       "    </tr>\n",
       "  </tbody>\n",
       "</table>\n",
       "</div>"
      ],
      "text/plain": [
       "                               Company    Posted Rating\n",
       "0       LG Electronics India Pvt. Ltd.    8d ago    4.1\n",
       "1        GENPACT India Private Limited   15d ago    4.0\n",
       "2        GENPACT India Private Limited   15d ago    4.0\n",
       "3  NTT Data Business Solutions Pvt Ltd   16d ago    3.8\n",
       "4        GENPACT India Private Limited   17d ago    4.0\n",
       "5                                Paytm    2d ago    3.7\n",
       "6                             GI Group    1d ago    4.0\n",
       "7                             GI Group    1d ago    4.0\n",
       "8                             GI Group    1d ago    4.0\n",
       "9                     Steria India Ltd  1mon ago    4.1"
      ]
     },
     "execution_count": 430,
     "metadata": {},
     "output_type": "execute_result"
    }
   ],
   "source": [
    "data"
   ]
  },
  {
   "cell_type": "code",
   "execution_count": 431,
   "id": "a4af2de9",
   "metadata": {},
   "outputs": [],
   "source": [
    "#driver.close()"
   ]
  },
  {
   "cell_type": "markdown",
   "id": "5bc82370",
   "metadata": {},
   "source": [
    "# Python program to scrape the salary data for Data Scientist designation from AMBITIONBOX.COM"
   ]
  },
  {
   "cell_type": "code",
   "execution_count": 432,
   "id": "9bd5f600",
   "metadata": {},
   "outputs": [
    {
     "name": "stderr",
     "output_type": "stream",
     "text": [
      "<ipython-input-432-151ce781a031>:1: DeprecationWarning: executable_path has been deprecated, please pass in a Service object\n",
      "  driver = webdriver.Chrome(r\"C:\\Users\\shaha\\Downloads\\chromedriver_win32/chromedriver.exe\")\n"
     ]
    }
   ],
   "source": [
    "driver = webdriver.Chrome(r\"C:\\Users\\shaha\\Downloads\\chromedriver_win32/chromedriver.exe\")"
   ]
  },
  {
   "cell_type": "code",
   "execution_count": 433,
   "id": "242b0342",
   "metadata": {},
   "outputs": [],
   "source": [
    "driver.get(\"https://www.ambitionbox.com/\")"
   ]
  },
  {
   "cell_type": "code",
   "execution_count": 434,
   "id": "0d388558",
   "metadata": {},
   "outputs": [
    {
     "name": "stderr",
     "output_type": "stream",
     "text": [
      "<ipython-input-434-e1b41931a423>:2: DeprecationWarning: find_element_by_* commands are deprecated. Please use find_element() instead\n",
      "  salary = driver.find_element_by_xpath(\"//a[@class='link salaries']\")\n"
     ]
    }
   ],
   "source": [
    "#clicking on salary option\n",
    "salary = driver.find_element_by_xpath(\"//a[@class='link salaries']\")\n",
    "salary.click()"
   ]
  },
  {
   "cell_type": "markdown",
   "id": "46d3e883",
   "metadata": {},
   "source": [
    "#now searching data scientist"
   ]
  },
  {
   "cell_type": "code",
   "execution_count": 435,
   "id": "4e5e2425",
   "metadata": {},
   "outputs": [
    {
     "name": "stderr",
     "output_type": "stream",
     "text": [
      "<ipython-input-435-158d7bd22ad8>:1: DeprecationWarning: find_element_by_* commands are deprecated. Please use find_element() instead\n",
      "  search_1 = driver.find_element_by_xpath(\"//input[@title='Enter a Company or Designation']\")\n"
     ]
    }
   ],
   "source": [
    "search_1 = driver.find_element_by_xpath(\"//input[@title='Enter a Company or Designation']\")\n",
    "search_1.send_keys(\"Data Scientist\")"
   ]
  },
  {
   "cell_type": "code",
   "execution_count": 436,
   "id": "9688d0bf",
   "metadata": {},
   "outputs": [
    {
     "name": "stderr",
     "output_type": "stream",
     "text": [
      "<ipython-input-436-0512674aa45d>:1: DeprecationWarning: find_element_by_* commands are deprecated. Please use find_element() instead\n",
      "  search_button = driver.find_element_by_xpath(\"//button[@class='ab_btn search-btn round']\")\n"
     ]
    }
   ],
   "source": [
    "search_button = driver.find_element_by_xpath(\"//button[@class='ab_btn search-btn round']\")\n",
    "search_button.click()"
   ]
  },
  {
   "cell_type": "code",
   "execution_count": 437,
   "id": "27aa2a9a",
   "metadata": {},
   "outputs": [],
   "source": [
    "#now we will scrape data,making empty list first\n",
    "COMPANY_NAME =[]\n",
    "TOTAL_SALARIES = []\n",
    "EXPERIENCE = []\n",
    "MINIMUM_SALARY = []\n",
    "AVERAGE_SALARY = []\n",
    "MAXIMUM_SALARY = []"
   ]
  },
  {
   "cell_type": "code",
   "execution_count": 438,
   "id": "4bd320cd",
   "metadata": {},
   "outputs": [
    {
     "name": "stderr",
     "output_type": "stream",
     "text": [
      "<ipython-input-438-dde130bb6046>:1: DeprecationWarning: find_elements_by_* commands are deprecated. Please use find_elements() instead\n",
      "  company_tag = driver.find_elements_by_xpath(\"//div[@class='name']/a\")\n"
     ]
    },
    {
     "data": {
      "text/plain": [
       "[<selenium.webdriver.remote.webelement.WebElement (session=\"f34e84da14d763fc66a66a4be5133586\", element=\"aff307c0-89e1-485a-8a70-c9fdc0933ae2\")>,\n",
       " <selenium.webdriver.remote.webelement.WebElement (session=\"f34e84da14d763fc66a66a4be5133586\", element=\"d172fbf1-0f08-43f4-9285-1198bf451e13\")>,\n",
       " <selenium.webdriver.remote.webelement.WebElement (session=\"f34e84da14d763fc66a66a4be5133586\", element=\"3765d27d-77dd-4798-a779-b5f3e184e69c\")>,\n",
       " <selenium.webdriver.remote.webelement.WebElement (session=\"f34e84da14d763fc66a66a4be5133586\", element=\"e609f195-e885-40fa-bf75-dda10eddf4c0\")>,\n",
       " <selenium.webdriver.remote.webelement.WebElement (session=\"f34e84da14d763fc66a66a4be5133586\", element=\"9ed1364d-1e93-44e9-a2f4-cd0d29131a7b\")>,\n",
       " <selenium.webdriver.remote.webelement.WebElement (session=\"f34e84da14d763fc66a66a4be5133586\", element=\"4036b9a1-895b-49aa-9159-a257217f4b52\")>,\n",
       " <selenium.webdriver.remote.webelement.WebElement (session=\"f34e84da14d763fc66a66a4be5133586\", element=\"bbfa2198-4258-43e2-beb2-24797e74b57a\")>,\n",
       " <selenium.webdriver.remote.webelement.WebElement (session=\"f34e84da14d763fc66a66a4be5133586\", element=\"e3ec4fd5-29ba-42a1-95a3-20517156ccbf\")>,\n",
       " <selenium.webdriver.remote.webelement.WebElement (session=\"f34e84da14d763fc66a66a4be5133586\", element=\"d2dd186c-1548-4a88-804b-f0388fbb5458\")>,\n",
       " <selenium.webdriver.remote.webelement.WebElement (session=\"f34e84da14d763fc66a66a4be5133586\", element=\"8534012a-4c29-4602-8c8c-22830220b1ac\")>]"
      ]
     },
     "execution_count": 438,
     "metadata": {},
     "output_type": "execute_result"
    }
   ],
   "source": [
    "company_tag = driver.find_elements_by_xpath(\"//div[@class='name']/a\")\n",
    "company_tag[0:10]"
   ]
  },
  {
   "cell_type": "code",
   "execution_count": 439,
   "id": "d6d952e4",
   "metadata": {},
   "outputs": [
    {
     "data": {
      "text/plain": [
       "['Tekion',\n",
       " 'Microsoft Corporation',\n",
       " 'Goldman Sachs',\n",
       " 'Flipkart',\n",
       " 'Amazon',\n",
       " 'Arcesium',\n",
       " 'Servicenow Software Development India',\n",
       " 'ServiceNow',\n",
       " 'Walmart',\n",
       " 'PayPal']"
      ]
     },
     "execution_count": 439,
     "metadata": {},
     "output_type": "execute_result"
    }
   ],
   "source": [
    "for i in company_tag:\n",
    "    title=i.text\n",
    "    COMPANY_NAME.append(title)\n",
    "COMPANY_NAME[0:10]"
   ]
  },
  {
   "cell_type": "code",
   "execution_count": 440,
   "id": "0c4499a2",
   "metadata": {},
   "outputs": [
    {
     "name": "stderr",
     "output_type": "stream",
     "text": [
      "<ipython-input-440-4466e23fc237>:1: DeprecationWarning: find_elements_by_* commands are deprecated. Please use find_elements() instead\n",
      "  salary_tag = driver.find_elements_by_xpath(\"//div[@class='name']/span[1]\")\n"
     ]
    },
    {
     "data": {
      "text/plain": [
       "[<selenium.webdriver.remote.webelement.WebElement (session=\"f34e84da14d763fc66a66a4be5133586\", element=\"ed105223-f74f-4a28-9dff-03745bbbf734\")>,\n",
       " <selenium.webdriver.remote.webelement.WebElement (session=\"f34e84da14d763fc66a66a4be5133586\", element=\"84d17574-9bad-4a4c-abb5-d33f2d2b8e6e\")>,\n",
       " <selenium.webdriver.remote.webelement.WebElement (session=\"f34e84da14d763fc66a66a4be5133586\", element=\"a9f13f75-91e9-4016-b4be-e82005e1723f\")>,\n",
       " <selenium.webdriver.remote.webelement.WebElement (session=\"f34e84da14d763fc66a66a4be5133586\", element=\"1e461363-b05d-4de3-b18a-049c3aa79d44\")>,\n",
       " <selenium.webdriver.remote.webelement.WebElement (session=\"f34e84da14d763fc66a66a4be5133586\", element=\"b9f5ea26-dca7-444e-a329-5d45fdc691c0\")>,\n",
       " <selenium.webdriver.remote.webelement.WebElement (session=\"f34e84da14d763fc66a66a4be5133586\", element=\"758d6567-1129-40e5-ba29-c67244690e12\")>,\n",
       " <selenium.webdriver.remote.webelement.WebElement (session=\"f34e84da14d763fc66a66a4be5133586\", element=\"df1c2084-e862-4303-978e-dc974e534080\")>,\n",
       " <selenium.webdriver.remote.webelement.WebElement (session=\"f34e84da14d763fc66a66a4be5133586\", element=\"f92d4cd9-0aeb-4f25-95bb-5d0666588fd0\")>,\n",
       " <selenium.webdriver.remote.webelement.WebElement (session=\"f34e84da14d763fc66a66a4be5133586\", element=\"dea777ce-56b2-4643-9fef-4d9b6f2f7374\")>,\n",
       " <selenium.webdriver.remote.webelement.WebElement (session=\"f34e84da14d763fc66a66a4be5133586\", element=\"50f140c2-a0a3-48b2-9d14-57ae3fd3668b\")>]"
      ]
     },
     "execution_count": 440,
     "metadata": {},
     "output_type": "execute_result"
    }
   ],
   "source": [
    "salary_tag = driver.find_elements_by_xpath(\"//div[@class='name']/span[1]\")\n",
    "salary_tag[0:10]"
   ]
  },
  {
   "cell_type": "code",
   "execution_count": 441,
   "id": "81f39287",
   "metadata": {},
   "outputs": [
    {
     "data": {
      "text/plain": [
       "['based on 10 salaries',\n",
       " 'based on 218 salaries',\n",
       " 'based on 11 salaries',\n",
       " 'based on 53 salaries',\n",
       " 'based on 80 salaries',\n",
       " 'based on 35 salaries',\n",
       " 'based on 27 salaries',\n",
       " 'based on 15 salaries',\n",
       " 'based on 77 salaries',\n",
       " 'based on 12 salaries']"
      ]
     },
     "execution_count": 441,
     "metadata": {},
     "output_type": "execute_result"
    }
   ],
   "source": [
    "for i in salary_tag:\n",
    "    title=i.text\n",
    "    TOTAL_SALARIES.append(title)\n",
    "TOTAL_SALARIES[0:10]"
   ]
  },
  {
   "cell_type": "code",
   "execution_count": 442,
   "id": "08e02e91",
   "metadata": {},
   "outputs": [
    {
     "name": "stderr",
     "output_type": "stream",
     "text": [
      "<ipython-input-442-9356625794ab>:1: DeprecationWarning: find_elements_by_* commands are deprecated. Please use find_elements() instead\n",
      "  minsal_tag = driver.find_elements_by_xpath(\"//div[@class='salary-values']/div[1]\")\n"
     ]
    },
    {
     "data": {
      "text/plain": [
       "[<selenium.webdriver.remote.webelement.WebElement (session=\"f34e84da14d763fc66a66a4be5133586\", element=\"e69b35c2-d676-4bb8-bd8a-9e996db1870b\")>,\n",
       " <selenium.webdriver.remote.webelement.WebElement (session=\"f34e84da14d763fc66a66a4be5133586\", element=\"f13b11be-5d46-437a-bc79-14886e47ac3e\")>,\n",
       " <selenium.webdriver.remote.webelement.WebElement (session=\"f34e84da14d763fc66a66a4be5133586\", element=\"b46c36ca-ff59-4806-b852-5092451cafab\")>,\n",
       " <selenium.webdriver.remote.webelement.WebElement (session=\"f34e84da14d763fc66a66a4be5133586\", element=\"147d4a56-0712-4d63-be97-4e5b5939d9a5\")>,\n",
       " <selenium.webdriver.remote.webelement.WebElement (session=\"f34e84da14d763fc66a66a4be5133586\", element=\"a50b5dc8-5bf7-4bb5-aef1-6269dc1eb345\")>,\n",
       " <selenium.webdriver.remote.webelement.WebElement (session=\"f34e84da14d763fc66a66a4be5133586\", element=\"7d36f702-21ad-403a-b9c7-2f54ed7b37ee\")>,\n",
       " <selenium.webdriver.remote.webelement.WebElement (session=\"f34e84da14d763fc66a66a4be5133586\", element=\"6c06a0af-7e22-428c-8eed-c40f64948087\")>,\n",
       " <selenium.webdriver.remote.webelement.WebElement (session=\"f34e84da14d763fc66a66a4be5133586\", element=\"ca8d135c-74ca-4286-9c0c-fdb2987ab05b\")>,\n",
       " <selenium.webdriver.remote.webelement.WebElement (session=\"f34e84da14d763fc66a66a4be5133586\", element=\"8fec214f-4057-4874-abd3-5c762fa61ba3\")>,\n",
       " <selenium.webdriver.remote.webelement.WebElement (session=\"f34e84da14d763fc66a66a4be5133586\", element=\"106c0d97-aa9f-4b22-855b-d9ca2266cb08\")>]"
      ]
     },
     "execution_count": 442,
     "metadata": {},
     "output_type": "execute_result"
    }
   ],
   "source": [
    "minsal_tag = driver.find_elements_by_xpath(\"//div[@class='salary-values']/div[1]\")\n",
    "minsal_tag[0:10]"
   ]
  },
  {
   "cell_type": "code",
   "execution_count": 443,
   "id": "88ba9f9e",
   "metadata": {},
   "outputs": [
    {
     "data": {
      "text/plain": [
       "['₹ 14.0L',\n",
       " '₹ 12.0L',\n",
       " '₹ 16.0L',\n",
       " '₹ 7.0L',\n",
       " '₹ 8.0L',\n",
       " '₹ 12.0L',\n",
       " '₹ 12.0L',\n",
       " '₹ 12.7L',\n",
       " '₹ 10.0L',\n",
       " '₹ 12.0L']"
      ]
     },
     "execution_count": 443,
     "metadata": {},
     "output_type": "execute_result"
    }
   ],
   "source": [
    "for i in minsal_tag:\n",
    "    title=i.text\n",
    "    MINIMUM_SALARY.append(title)\n",
    "MINIMUM_SALARY[0:10]"
   ]
  },
  {
   "cell_type": "code",
   "execution_count": 444,
   "id": "495e5cd3",
   "metadata": {},
   "outputs": [
    {
     "name": "stderr",
     "output_type": "stream",
     "text": [
      "<ipython-input-444-0fa85546a7b5>:1: DeprecationWarning: find_elements_by_* commands are deprecated. Please use find_elements() instead\n",
      "  avrgsal_tag = driver.find_elements_by_xpath(\"//p[@class='averageCtc']\")\n"
     ]
    },
    {
     "data": {
      "text/plain": [
       "[<selenium.webdriver.remote.webelement.WebElement (session=\"f34e84da14d763fc66a66a4be5133586\", element=\"20a418d7-01ba-4c27-b890-6300943720fe\")>,\n",
       " <selenium.webdriver.remote.webelement.WebElement (session=\"f34e84da14d763fc66a66a4be5133586\", element=\"1274f8bd-a30e-4308-8a9c-b89865d76cd1\")>,\n",
       " <selenium.webdriver.remote.webelement.WebElement (session=\"f34e84da14d763fc66a66a4be5133586\", element=\"eb778fcc-035a-47dc-9df6-1f3beedaa92d\")>,\n",
       " <selenium.webdriver.remote.webelement.WebElement (session=\"f34e84da14d763fc66a66a4be5133586\", element=\"18d3c9bd-af4e-464d-904c-b96c13cc39db\")>,\n",
       " <selenium.webdriver.remote.webelement.WebElement (session=\"f34e84da14d763fc66a66a4be5133586\", element=\"2c085a54-4c1f-4b9b-91ef-02ad910d7704\")>,\n",
       " <selenium.webdriver.remote.webelement.WebElement (session=\"f34e84da14d763fc66a66a4be5133586\", element=\"704c25e9-0fe7-4469-8599-cc706b72191c\")>,\n",
       " <selenium.webdriver.remote.webelement.WebElement (session=\"f34e84da14d763fc66a66a4be5133586\", element=\"6b4e165c-7a99-4f06-beb8-a37b167177fe\")>,\n",
       " <selenium.webdriver.remote.webelement.WebElement (session=\"f34e84da14d763fc66a66a4be5133586\", element=\"6dd6fb42-a68c-4cea-8ff5-c41a3e0a8424\")>,\n",
       " <selenium.webdriver.remote.webelement.WebElement (session=\"f34e84da14d763fc66a66a4be5133586\", element=\"8acb7ae3-9bc3-44e9-b186-22cd3cc5818c\")>,\n",
       " <selenium.webdriver.remote.webelement.WebElement (session=\"f34e84da14d763fc66a66a4be5133586\", element=\"0da3e52c-3c3e-4ab0-82ee-b8df28f09eba\")>]"
      ]
     },
     "execution_count": 444,
     "metadata": {},
     "output_type": "execute_result"
    }
   ],
   "source": [
    "avrgsal_tag = driver.find_elements_by_xpath(\"//p[@class='averageCtc']\")\n",
    "avrgsal_tag[0:10]"
   ]
  },
  {
   "cell_type": "code",
   "execution_count": 445,
   "id": "7ea86323",
   "metadata": {},
   "outputs": [
    {
     "data": {
      "text/plain": [
       "['₹ 23.3L',\n",
       " '₹ 22.4L',\n",
       " '₹ 21.9L',\n",
       " '₹ 20.6L',\n",
       " '₹ 19.1L',\n",
       " '₹ 18.4L',\n",
       " '₹ 18.2L',\n",
       " '₹ 18.2L',\n",
       " '₹ 17.9L',\n",
       " '₹ 17.6L']"
      ]
     },
     "execution_count": 445,
     "metadata": {},
     "output_type": "execute_result"
    }
   ],
   "source": [
    "for i in avrgsal_tag:\n",
    "    title=i.text\n",
    "    AVERAGE_SALARY.append(title)\n",
    "AVERAGE_SALARY[0:10]"
   ]
  },
  {
   "cell_type": "code",
   "execution_count": 446,
   "id": "9236f921",
   "metadata": {},
   "outputs": [
    {
     "name": "stderr",
     "output_type": "stream",
     "text": [
      "<ipython-input-446-2a0618fc2205>:1: DeprecationWarning: find_elements_by_* commands are deprecated. Please use find_elements() instead\n",
      "  maxsal_tag = driver.find_elements_by_xpath(\"//div[@class='salary-values']/div[2]\")\n"
     ]
    },
    {
     "data": {
      "text/plain": [
       "[<selenium.webdriver.remote.webelement.WebElement (session=\"f34e84da14d763fc66a66a4be5133586\", element=\"e7d56162-e3b1-48c0-a119-4feb7db9723e\")>,\n",
       " <selenium.webdriver.remote.webelement.WebElement (session=\"f34e84da14d763fc66a66a4be5133586\", element=\"58edc79d-5e85-4eb7-9abc-e365db5284d1\")>,\n",
       " <selenium.webdriver.remote.webelement.WebElement (session=\"f34e84da14d763fc66a66a4be5133586\", element=\"a52e7600-657b-4f9b-8894-6d950951fa20\")>,\n",
       " <selenium.webdriver.remote.webelement.WebElement (session=\"f34e84da14d763fc66a66a4be5133586\", element=\"5cea0f74-ae57-4490-ba78-7f84c579b6ae\")>,\n",
       " <selenium.webdriver.remote.webelement.WebElement (session=\"f34e84da14d763fc66a66a4be5133586\", element=\"4497ab80-0ea6-406e-b3ee-4eb45230f8f1\")>,\n",
       " <selenium.webdriver.remote.webelement.WebElement (session=\"f34e84da14d763fc66a66a4be5133586\", element=\"8f754e89-7699-49f4-92a7-a87b6e3ee03f\")>,\n",
       " <selenium.webdriver.remote.webelement.WebElement (session=\"f34e84da14d763fc66a66a4be5133586\", element=\"5b733a77-8ebd-4ebd-ab45-16e360a3ee72\")>,\n",
       " <selenium.webdriver.remote.webelement.WebElement (session=\"f34e84da14d763fc66a66a4be5133586\", element=\"178333ec-f472-4d24-84aa-71130d76ed1f\")>,\n",
       " <selenium.webdriver.remote.webelement.WebElement (session=\"f34e84da14d763fc66a66a4be5133586\", element=\"288de3cb-c93b-4413-99b4-35af671b4a58\")>,\n",
       " <selenium.webdriver.remote.webelement.WebElement (session=\"f34e84da14d763fc66a66a4be5133586\", element=\"3372d652-b85d-41e5-b970-304791cd2d69\")>]"
      ]
     },
     "execution_count": 446,
     "metadata": {},
     "output_type": "execute_result"
    }
   ],
   "source": [
    "maxsal_tag = driver.find_elements_by_xpath(\"//div[@class='salary-values']/div[2]\")\n",
    "maxsal_tag[0:10]"
   ]
  },
  {
   "cell_type": "code",
   "execution_count": 447,
   "id": "dec13d82",
   "metadata": {},
   "outputs": [
    {
     "data": {
      "text/plain": [
       "['₹ 32.0L',\n",
       " '₹ 45.0L',\n",
       " '₹ 30.0L',\n",
       " '₹ 30.0L',\n",
       " '₹ 40.0L',\n",
       " '₹ 30.0L',\n",
       " '₹ 25.0L',\n",
       " '₹ 23.0L',\n",
       " '₹ 32.0L',\n",
       " '₹ 23.0L']"
      ]
     },
     "execution_count": 447,
     "metadata": {},
     "output_type": "execute_result"
    }
   ],
   "source": [
    "for i in maxsal_tag:\n",
    "    title=i.text\n",
    "    MAXIMUM_SALARY.append(title)\n",
    "MAXIMUM_SALARY[0:10]"
   ]
  },
  {
   "cell_type": "code",
   "execution_count": 448,
   "id": "d6d0be96",
   "metadata": {},
   "outputs": [
    {
     "name": "stderr",
     "output_type": "stream",
     "text": [
      "<ipython-input-448-8b4294465230>:1: DeprecationWarning: find_elements_by_* commands are deprecated. Please use find_elements() instead\n",
      "  exp_tag = driver.find_elements_by_xpath(\"//div[@class='company-info']/div[2]\")\n"
     ]
    },
    {
     "data": {
      "text/plain": [
       "[<selenium.webdriver.remote.webelement.WebElement (session=\"f34e84da14d763fc66a66a4be5133586\", element=\"3e14e908-5a35-4139-b626-203079770555\")>,\n",
       " <selenium.webdriver.remote.webelement.WebElement (session=\"f34e84da14d763fc66a66a4be5133586\", element=\"5bc55aff-4389-46cc-b5dc-9276ebb5ec8d\")>,\n",
       " <selenium.webdriver.remote.webelement.WebElement (session=\"f34e84da14d763fc66a66a4be5133586\", element=\"facf4759-793d-4989-8a6e-2d6f64ada84e\")>,\n",
       " <selenium.webdriver.remote.webelement.WebElement (session=\"f34e84da14d763fc66a66a4be5133586\", element=\"362bb852-c807-4ee9-940d-5e0c8be4b113\")>,\n",
       " <selenium.webdriver.remote.webelement.WebElement (session=\"f34e84da14d763fc66a66a4be5133586\", element=\"d4331550-b660-4acb-95ee-9ad269ce960b\")>,\n",
       " <selenium.webdriver.remote.webelement.WebElement (session=\"f34e84da14d763fc66a66a4be5133586\", element=\"3ef07aea-d411-4245-a8f8-2b34c76a58ec\")>,\n",
       " <selenium.webdriver.remote.webelement.WebElement (session=\"f34e84da14d763fc66a66a4be5133586\", element=\"3ac6f4e2-1968-4532-9c7e-9935169f27f1\")>,\n",
       " <selenium.webdriver.remote.webelement.WebElement (session=\"f34e84da14d763fc66a66a4be5133586\", element=\"9adf7b63-723a-44ec-85e0-d9442231d980\")>,\n",
       " <selenium.webdriver.remote.webelement.WebElement (session=\"f34e84da14d763fc66a66a4be5133586\", element=\"e04cea4a-76cf-4c61-8da0-9195749c0a75\")>,\n",
       " <selenium.webdriver.remote.webelement.WebElement (session=\"f34e84da14d763fc66a66a4be5133586\", element=\"cef08b52-e4e4-4e7c-bea6-e05607dc0ec7\")>]"
      ]
     },
     "execution_count": 448,
     "metadata": {},
     "output_type": "execute_result"
    }
   ],
   "source": [
    "exp_tag = driver.find_elements_by_xpath(\"//div[@class='company-info']/div[2]\")\n",
    "exp_tag[0:10]"
   ]
  },
  {
   "cell_type": "code",
   "execution_count": 449,
   "id": "c1e37117",
   "metadata": {},
   "outputs": [
    {
     "data": {
      "text/plain": [
       "['Software Engineer\\n . \\n4 yrs exp',\n",
       " 'Software Engineer\\n . \\n1-4 yrs exp',\n",
       " 'Software Engineer\\n . \\n2 yrs exp',\n",
       " 'Software Engineer\\n . \\n1-4 yrs exp',\n",
       " 'Software Engineer\\n . \\n1-4 yrs exp',\n",
       " 'Software Engineer\\n . \\n1 yr exp',\n",
       " 'Software Engineer\\n . \\n2-3 yrs exp',\n",
       " 'Software Engineer\\n . \\n3 yrs exp',\n",
       " 'Software Engineer\\n . \\n1-4 yrs exp',\n",
       " 'Software Engineer\\n . \\n1 yr exp']"
      ]
     },
     "execution_count": 449,
     "metadata": {},
     "output_type": "execute_result"
    }
   ],
   "source": [
    "for i in exp_tag:\n",
    "    title=i.text\n",
    "    EXPERIENCE.append(title)\n",
    "EXPERIENCE[0:10]"
   ]
  },
  {
   "cell_type": "code",
   "execution_count": 450,
   "id": "c7474e63",
   "metadata": {},
   "outputs": [
    {
     "name": "stdout",
     "output_type": "stream",
     "text": [
      "10 10 10 10 10 10\n"
     ]
    }
   ],
   "source": [
    "print(len(COMPANY_NAME),len(TOTAL_SALARIES),len(MINIMUM_SALARY),len(AVERAGE_SALARY),len(MAXIMUM_SALARY),len(EXPERIENCE))"
   ]
  },
  {
   "cell_type": "markdown",
   "id": "87b1da76",
   "metadata": {},
   "source": [
    "# CREATING DATAFRAME:"
   ]
  },
  {
   "cell_type": "code",
   "execution_count": 451,
   "id": "4be642d2",
   "metadata": {},
   "outputs": [],
   "source": [
    "AB_data = pd.DataFrame({'COMPANY_NAME':COMPANY_NAME,'TOTAL_SALARIES':TOTAL_SALARIES,'MINIMUM_SALARY':MINIMUM_SALARY,'AVERAGE_SALARY':AVERAGE_SALARY,'MAXIMUM_SALARY':MAXIMUM_SALARY,'EXPERIENCE':EXPERIENCE})"
   ]
  },
  {
   "cell_type": "code",
   "execution_count": 452,
   "id": "5c26181d",
   "metadata": {},
   "outputs": [
    {
     "data": {
      "text/html": [
       "<div>\n",
       "<style scoped>\n",
       "    .dataframe tbody tr th:only-of-type {\n",
       "        vertical-align: middle;\n",
       "    }\n",
       "\n",
       "    .dataframe tbody tr th {\n",
       "        vertical-align: top;\n",
       "    }\n",
       "\n",
       "    .dataframe thead th {\n",
       "        text-align: right;\n",
       "    }\n",
       "</style>\n",
       "<table border=\"1\" class=\"dataframe\">\n",
       "  <thead>\n",
       "    <tr style=\"text-align: right;\">\n",
       "      <th></th>\n",
       "      <th>COMPANY_NAME</th>\n",
       "      <th>TOTAL_SALARIES</th>\n",
       "      <th>MINIMUM_SALARY</th>\n",
       "      <th>AVERAGE_SALARY</th>\n",
       "      <th>MAXIMUM_SALARY</th>\n",
       "      <th>EXPERIENCE</th>\n",
       "    </tr>\n",
       "  </thead>\n",
       "  <tbody>\n",
       "    <tr>\n",
       "      <th>0</th>\n",
       "      <td>Tekion</td>\n",
       "      <td>based on 10 salaries</td>\n",
       "      <td>₹ 14.0L</td>\n",
       "      <td>₹ 23.3L</td>\n",
       "      <td>₹ 32.0L</td>\n",
       "      <td>Software Engineer\\n . \\n4 yrs exp</td>\n",
       "    </tr>\n",
       "    <tr>\n",
       "      <th>1</th>\n",
       "      <td>Microsoft Corporation</td>\n",
       "      <td>based on 218 salaries</td>\n",
       "      <td>₹ 12.0L</td>\n",
       "      <td>₹ 22.4L</td>\n",
       "      <td>₹ 45.0L</td>\n",
       "      <td>Software Engineer\\n . \\n1-4 yrs exp</td>\n",
       "    </tr>\n",
       "    <tr>\n",
       "      <th>2</th>\n",
       "      <td>Goldman Sachs</td>\n",
       "      <td>based on 11 salaries</td>\n",
       "      <td>₹ 16.0L</td>\n",
       "      <td>₹ 21.9L</td>\n",
       "      <td>₹ 30.0L</td>\n",
       "      <td>Software Engineer\\n . \\n2 yrs exp</td>\n",
       "    </tr>\n",
       "    <tr>\n",
       "      <th>3</th>\n",
       "      <td>Flipkart</td>\n",
       "      <td>based on 53 salaries</td>\n",
       "      <td>₹ 7.0L</td>\n",
       "      <td>₹ 20.6L</td>\n",
       "      <td>₹ 30.0L</td>\n",
       "      <td>Software Engineer\\n . \\n1-4 yrs exp</td>\n",
       "    </tr>\n",
       "    <tr>\n",
       "      <th>4</th>\n",
       "      <td>Amazon</td>\n",
       "      <td>based on 80 salaries</td>\n",
       "      <td>₹ 8.0L</td>\n",
       "      <td>₹ 19.1L</td>\n",
       "      <td>₹ 40.0L</td>\n",
       "      <td>Software Engineer\\n . \\n1-4 yrs exp</td>\n",
       "    </tr>\n",
       "    <tr>\n",
       "      <th>5</th>\n",
       "      <td>Arcesium</td>\n",
       "      <td>based on 35 salaries</td>\n",
       "      <td>₹ 12.0L</td>\n",
       "      <td>₹ 18.4L</td>\n",
       "      <td>₹ 30.0L</td>\n",
       "      <td>Software Engineer\\n . \\n1 yr exp</td>\n",
       "    </tr>\n",
       "    <tr>\n",
       "      <th>6</th>\n",
       "      <td>Servicenow Software Development India</td>\n",
       "      <td>based on 27 salaries</td>\n",
       "      <td>₹ 12.0L</td>\n",
       "      <td>₹ 18.2L</td>\n",
       "      <td>₹ 25.0L</td>\n",
       "      <td>Software Engineer\\n . \\n2-3 yrs exp</td>\n",
       "    </tr>\n",
       "    <tr>\n",
       "      <th>7</th>\n",
       "      <td>ServiceNow</td>\n",
       "      <td>based on 15 salaries</td>\n",
       "      <td>₹ 12.7L</td>\n",
       "      <td>₹ 18.2L</td>\n",
       "      <td>₹ 23.0L</td>\n",
       "      <td>Software Engineer\\n . \\n3 yrs exp</td>\n",
       "    </tr>\n",
       "    <tr>\n",
       "      <th>8</th>\n",
       "      <td>Walmart</td>\n",
       "      <td>based on 77 salaries</td>\n",
       "      <td>₹ 10.0L</td>\n",
       "      <td>₹ 17.9L</td>\n",
       "      <td>₹ 32.0L</td>\n",
       "      <td>Software Engineer\\n . \\n1-4 yrs exp</td>\n",
       "    </tr>\n",
       "    <tr>\n",
       "      <th>9</th>\n",
       "      <td>PayPal</td>\n",
       "      <td>based on 12 salaries</td>\n",
       "      <td>₹ 12.0L</td>\n",
       "      <td>₹ 17.6L</td>\n",
       "      <td>₹ 23.0L</td>\n",
       "      <td>Software Engineer\\n . \\n1 yr exp</td>\n",
       "    </tr>\n",
       "  </tbody>\n",
       "</table>\n",
       "</div>"
      ],
      "text/plain": [
       "                            COMPANY_NAME         TOTAL_SALARIES  \\\n",
       "0                                 Tekion   based on 10 salaries   \n",
       "1                  Microsoft Corporation  based on 218 salaries   \n",
       "2                          Goldman Sachs   based on 11 salaries   \n",
       "3                               Flipkart   based on 53 salaries   \n",
       "4                                 Amazon   based on 80 salaries   \n",
       "5                               Arcesium   based on 35 salaries   \n",
       "6  Servicenow Software Development India   based on 27 salaries   \n",
       "7                             ServiceNow   based on 15 salaries   \n",
       "8                                Walmart   based on 77 salaries   \n",
       "9                                 PayPal   based on 12 salaries   \n",
       "\n",
       "  MINIMUM_SALARY AVERAGE_SALARY MAXIMUM_SALARY  \\\n",
       "0        ₹ 14.0L        ₹ 23.3L        ₹ 32.0L   \n",
       "1        ₹ 12.0L        ₹ 22.4L        ₹ 45.0L   \n",
       "2        ₹ 16.0L        ₹ 21.9L        ₹ 30.0L   \n",
       "3         ₹ 7.0L        ₹ 20.6L        ₹ 30.0L   \n",
       "4         ₹ 8.0L        ₹ 19.1L        ₹ 40.0L   \n",
       "5        ₹ 12.0L        ₹ 18.4L        ₹ 30.0L   \n",
       "6        ₹ 12.0L        ₹ 18.2L        ₹ 25.0L   \n",
       "7        ₹ 12.7L        ₹ 18.2L        ₹ 23.0L   \n",
       "8        ₹ 10.0L        ₹ 17.9L        ₹ 32.0L   \n",
       "9        ₹ 12.0L        ₹ 17.6L        ₹ 23.0L   \n",
       "\n",
       "                            EXPERIENCE  \n",
       "0    Software Engineer\\n . \\n4 yrs exp  \n",
       "1  Software Engineer\\n . \\n1-4 yrs exp  \n",
       "2    Software Engineer\\n . \\n2 yrs exp  \n",
       "3  Software Engineer\\n . \\n1-4 yrs exp  \n",
       "4  Software Engineer\\n . \\n1-4 yrs exp  \n",
       "5     Software Engineer\\n . \\n1 yr exp  \n",
       "6  Software Engineer\\n . \\n2-3 yrs exp  \n",
       "7    Software Engineer\\n . \\n3 yrs exp  \n",
       "8  Software Engineer\\n . \\n1-4 yrs exp  \n",
       "9     Software Engineer\\n . \\n1 yr exp  "
      ]
     },
     "execution_count": 452,
     "metadata": {},
     "output_type": "execute_result"
    }
   ],
   "source": [
    "AB_data"
   ]
  },
  {
   "cell_type": "markdown",
   "id": "4e6de29d",
   "metadata": {},
   "source": [
    "#### DONE WITH ALL QUESTIONS"
   ]
  },
  {
   "cell_type": "markdown",
   "id": "01a2972f",
   "metadata": {},
   "source": [
    "# THANK YOU!!!"
   ]
  },
  {
   "cell_type": "code",
   "execution_count": null,
   "id": "3bcb6057",
   "metadata": {},
   "outputs": [],
   "source": []
  }
 ],
 "metadata": {
  "kernelspec": {
   "display_name": "Python 3",
   "language": "python",
   "name": "python3"
  },
  "language_info": {
   "codemirror_mode": {
    "name": "ipython",
    "version": 3
   },
   "file_extension": ".py",
   "mimetype": "text/x-python",
   "name": "python",
   "nbconvert_exporter": "python",
   "pygments_lexer": "ipython3",
   "version": "3.8.8"
  }
 },
 "nbformat": 4,
 "nbformat_minor": 5
}
